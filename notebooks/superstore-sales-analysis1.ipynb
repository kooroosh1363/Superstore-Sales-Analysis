{
 "cells": [
  {
   "cell_type": "markdown",
   "metadata": {},
   "source": [
    "## 📦 Load and Preview the Dataset\n",
    "\n",
    "In this section, we load the Superstore dataset and check its structure to understand the data types, column names, and initial values.\n"
   ]
  },
  {
   "cell_type": "code",
   "execution_count": 1,
   "metadata": {
    "_cell_guid": "85ea9fb3-8fc4-45b0-af84-ea0625127320",
    "_uuid": "71c85844-b5d1-4925-862d-3d9e324c0494",
    "collapsed": false,
    "execution": {
     "iopub.execute_input": "2025-07-16T00:11:56.991967Z",
     "iopub.status.busy": "2025-07-16T00:11:56.991643Z",
     "iopub.status.idle": "2025-07-16T00:11:59.547317Z",
     "shell.execute_reply": "2025-07-16T00:11:59.546209Z",
     "shell.execute_reply.started": "2025-07-16T00:11:56.991934Z"
    },
    "jupyter": {
     "outputs_hidden": false
    },
    "trusted": true
   },
   "outputs": [
    {
     "data": {
      "text/html": [
       "<div>\n",
       "<style scoped>\n",
       "    .dataframe tbody tr th:only-of-type {\n",
       "        vertical-align: middle;\n",
       "    }\n",
       "\n",
       "    .dataframe tbody tr th {\n",
       "        vertical-align: top;\n",
       "    }\n",
       "\n",
       "    .dataframe thead th {\n",
       "        text-align: right;\n",
       "    }\n",
       "</style>\n",
       "<table border=\"1\" class=\"dataframe\">\n",
       "  <thead>\n",
       "    <tr style=\"text-align: right;\">\n",
       "      <th></th>\n",
       "      <th>Row ID</th>\n",
       "      <th>Order ID</th>\n",
       "      <th>Order Date</th>\n",
       "      <th>Ship Date</th>\n",
       "      <th>Ship Mode</th>\n",
       "      <th>Customer ID</th>\n",
       "      <th>Customer Name</th>\n",
       "      <th>Segment</th>\n",
       "      <th>Country</th>\n",
       "      <th>City</th>\n",
       "      <th>...</th>\n",
       "      <th>Postal Code</th>\n",
       "      <th>Region</th>\n",
       "      <th>Product ID</th>\n",
       "      <th>Category</th>\n",
       "      <th>Sub-Category</th>\n",
       "      <th>Product Name</th>\n",
       "      <th>Sales</th>\n",
       "      <th>Quantity</th>\n",
       "      <th>Discount</th>\n",
       "      <th>Profit</th>\n",
       "    </tr>\n",
       "  </thead>\n",
       "  <tbody>\n",
       "    <tr>\n",
       "      <th>0</th>\n",
       "      <td>1</td>\n",
       "      <td>CA-2016-152156</td>\n",
       "      <td>11/8/2016</td>\n",
       "      <td>11/11/2016</td>\n",
       "      <td>Second Class</td>\n",
       "      <td>CG-12520</td>\n",
       "      <td>Claire Gute</td>\n",
       "      <td>Consumer</td>\n",
       "      <td>United States</td>\n",
       "      <td>Henderson</td>\n",
       "      <td>...</td>\n",
       "      <td>42420</td>\n",
       "      <td>South</td>\n",
       "      <td>FUR-BO-10001798</td>\n",
       "      <td>Furniture</td>\n",
       "      <td>Bookcases</td>\n",
       "      <td>Bush Somerset Collection Bookcase</td>\n",
       "      <td>261.9600</td>\n",
       "      <td>2</td>\n",
       "      <td>0.00</td>\n",
       "      <td>41.9136</td>\n",
       "    </tr>\n",
       "    <tr>\n",
       "      <th>1</th>\n",
       "      <td>2</td>\n",
       "      <td>CA-2016-152156</td>\n",
       "      <td>11/8/2016</td>\n",
       "      <td>11/11/2016</td>\n",
       "      <td>Second Class</td>\n",
       "      <td>CG-12520</td>\n",
       "      <td>Claire Gute</td>\n",
       "      <td>Consumer</td>\n",
       "      <td>United States</td>\n",
       "      <td>Henderson</td>\n",
       "      <td>...</td>\n",
       "      <td>42420</td>\n",
       "      <td>South</td>\n",
       "      <td>FUR-CH-10000454</td>\n",
       "      <td>Furniture</td>\n",
       "      <td>Chairs</td>\n",
       "      <td>Hon Deluxe Fabric Upholstered Stacking Chairs,...</td>\n",
       "      <td>731.9400</td>\n",
       "      <td>3</td>\n",
       "      <td>0.00</td>\n",
       "      <td>219.5820</td>\n",
       "    </tr>\n",
       "    <tr>\n",
       "      <th>2</th>\n",
       "      <td>3</td>\n",
       "      <td>CA-2016-138688</td>\n",
       "      <td>6/12/2016</td>\n",
       "      <td>6/16/2016</td>\n",
       "      <td>Second Class</td>\n",
       "      <td>DV-13045</td>\n",
       "      <td>Darrin Van Huff</td>\n",
       "      <td>Corporate</td>\n",
       "      <td>United States</td>\n",
       "      <td>Los Angeles</td>\n",
       "      <td>...</td>\n",
       "      <td>90036</td>\n",
       "      <td>West</td>\n",
       "      <td>OFF-LA-10000240</td>\n",
       "      <td>Office Supplies</td>\n",
       "      <td>Labels</td>\n",
       "      <td>Self-Adhesive Address Labels for Typewriters b...</td>\n",
       "      <td>14.6200</td>\n",
       "      <td>2</td>\n",
       "      <td>0.00</td>\n",
       "      <td>6.8714</td>\n",
       "    </tr>\n",
       "    <tr>\n",
       "      <th>3</th>\n",
       "      <td>4</td>\n",
       "      <td>US-2015-108966</td>\n",
       "      <td>10/11/2015</td>\n",
       "      <td>10/18/2015</td>\n",
       "      <td>Standard Class</td>\n",
       "      <td>SO-20335</td>\n",
       "      <td>Sean O'Donnell</td>\n",
       "      <td>Consumer</td>\n",
       "      <td>United States</td>\n",
       "      <td>Fort Lauderdale</td>\n",
       "      <td>...</td>\n",
       "      <td>33311</td>\n",
       "      <td>South</td>\n",
       "      <td>FUR-TA-10000577</td>\n",
       "      <td>Furniture</td>\n",
       "      <td>Tables</td>\n",
       "      <td>Bretford CR4500 Series Slim Rectangular Table</td>\n",
       "      <td>957.5775</td>\n",
       "      <td>5</td>\n",
       "      <td>0.45</td>\n",
       "      <td>-383.0310</td>\n",
       "    </tr>\n",
       "    <tr>\n",
       "      <th>4</th>\n",
       "      <td>5</td>\n",
       "      <td>US-2015-108966</td>\n",
       "      <td>10/11/2015</td>\n",
       "      <td>10/18/2015</td>\n",
       "      <td>Standard Class</td>\n",
       "      <td>SO-20335</td>\n",
       "      <td>Sean O'Donnell</td>\n",
       "      <td>Consumer</td>\n",
       "      <td>United States</td>\n",
       "      <td>Fort Lauderdale</td>\n",
       "      <td>...</td>\n",
       "      <td>33311</td>\n",
       "      <td>South</td>\n",
       "      <td>OFF-ST-10000760</td>\n",
       "      <td>Office Supplies</td>\n",
       "      <td>Storage</td>\n",
       "      <td>Eldon Fold 'N Roll Cart System</td>\n",
       "      <td>22.3680</td>\n",
       "      <td>2</td>\n",
       "      <td>0.20</td>\n",
       "      <td>2.5164</td>\n",
       "    </tr>\n",
       "  </tbody>\n",
       "</table>\n",
       "<p>5 rows × 21 columns</p>\n",
       "</div>"
      ],
      "text/plain": [
       "   Row ID        Order ID  Order Date   Ship Date       Ship Mode Customer ID  \\\n",
       "0       1  CA-2016-152156   11/8/2016  11/11/2016    Second Class    CG-12520   \n",
       "1       2  CA-2016-152156   11/8/2016  11/11/2016    Second Class    CG-12520   \n",
       "2       3  CA-2016-138688   6/12/2016   6/16/2016    Second Class    DV-13045   \n",
       "3       4  US-2015-108966  10/11/2015  10/18/2015  Standard Class    SO-20335   \n",
       "4       5  US-2015-108966  10/11/2015  10/18/2015  Standard Class    SO-20335   \n",
       "\n",
       "     Customer Name    Segment        Country             City  ...  \\\n",
       "0      Claire Gute   Consumer  United States        Henderson  ...   \n",
       "1      Claire Gute   Consumer  United States        Henderson  ...   \n",
       "2  Darrin Van Huff  Corporate  United States      Los Angeles  ...   \n",
       "3   Sean O'Donnell   Consumer  United States  Fort Lauderdale  ...   \n",
       "4   Sean O'Donnell   Consumer  United States  Fort Lauderdale  ...   \n",
       "\n",
       "  Postal Code  Region       Product ID         Category Sub-Category  \\\n",
       "0       42420   South  FUR-BO-10001798        Furniture    Bookcases   \n",
       "1       42420   South  FUR-CH-10000454        Furniture       Chairs   \n",
       "2       90036    West  OFF-LA-10000240  Office Supplies       Labels   \n",
       "3       33311   South  FUR-TA-10000577        Furniture       Tables   \n",
       "4       33311   South  OFF-ST-10000760  Office Supplies      Storage   \n",
       "\n",
       "                                        Product Name     Sales  Quantity  \\\n",
       "0                  Bush Somerset Collection Bookcase  261.9600         2   \n",
       "1  Hon Deluxe Fabric Upholstered Stacking Chairs,...  731.9400         3   \n",
       "2  Self-Adhesive Address Labels for Typewriters b...   14.6200         2   \n",
       "3      Bretford CR4500 Series Slim Rectangular Table  957.5775         5   \n",
       "4                     Eldon Fold 'N Roll Cart System   22.3680         2   \n",
       "\n",
       "   Discount    Profit  \n",
       "0      0.00   41.9136  \n",
       "1      0.00  219.5820  \n",
       "2      0.00    6.8714  \n",
       "3      0.45 -383.0310  \n",
       "4      0.20    2.5164  \n",
       "\n",
       "[5 rows x 21 columns]"
      ]
     },
     "execution_count": 1,
     "metadata": {},
     "output_type": "execute_result"
    }
   ],
   "source": [
    "# Import necessary library\n",
    "import pandas as pd\n",
    "\n",
    "# Load the dataset with correct encoding\n",
    "df = pd.read_csv('../data/superstore.csv', encoding='latin1')\n",
    "\n",
    "# Display first few rows\n",
    "df.head()\n"
   ]
  },
  {
   "cell_type": "markdown",
   "metadata": {},
   "source": [
    "## 🧹 Data Cleaning and Feature Engineering\n",
    "\n",
    "We will now clean the dataset by:\n",
    "- Converting date columns to datetime format\n",
    "- Removing missing or irrelevant records\n",
    "- Creating new columns for Year and Month for time-based analysis"
   ]
  },
  {
   "cell_type": "code",
   "execution_count": 2,
   "metadata": {
    "execution": {
     "iopub.execute_input": "2025-07-16T00:11:59.549718Z",
     "iopub.status.busy": "2025-07-16T00:11:59.549386Z",
     "iopub.status.idle": "2025-07-16T00:11:59.596033Z",
     "shell.execute_reply": "2025-07-16T00:11:59.595051Z",
     "shell.execute_reply.started": "2025-07-16T00:11:59.549694Z"
    },
    "trusted": true
   },
   "outputs": [],
   "source": [
    "# Convert 'Order Date' and 'Ship Date' to datetime\n",
    "df['Order Date'] = pd.to_datetime(df['Order Date'])\n",
    "df['Ship Date'] = pd.to_datetime(df['Ship Date'])\n",
    "\n",
    "# Drop any rows where critical data is missing (Sales, Profit)\n",
    "df.dropna(subset=['Sales', 'Profit', 'Order Date'], inplace=True)\n",
    "\n",
    "# Create new time-based features\n",
    "df['Order Year'] = df['Order Date'].dt.year\n",
    "df['Order Month'] = df['Order Date'].dt.to_period('M')  # For time series grouping"
   ]
  },
  {
   "cell_type": "markdown",
   "metadata": {},
   "source": [
    "## 📈 Monthly Sales Trends\n",
    "\n",
    "Let’s visualize the monthly sales to identify trends over time.  \n",
    "This helps us see seasonal patterns and overall business growth."
   ]
  },
  {
   "cell_type": "code",
   "execution_count": 3,
   "metadata": {
    "execution": {
     "iopub.execute_input": "2025-07-16T00:11:59.597456Z",
     "iopub.status.busy": "2025-07-16T00:11:59.597113Z",
     "iopub.status.idle": "2025-07-16T00:12:02.978723Z",
     "shell.execute_reply": "2025-07-16T00:12:02.977532Z",
     "shell.execute_reply.started": "2025-07-16T00:11:59.597421Z"
    },
    "trusted": true
   },
   "outputs": [
    {
     "data": {
      "application/vnd.plotly.v1+json": {
       "config": {
        "plotlyServerURL": "https://plot.ly"
       },
       "data": [
        {
         "hovertemplate": "Month=%{x}<br>Total Sales=%{y}<extra></extra>",
         "legendgroup": "",
         "line": {
          "color": "#636efa",
          "dash": "solid"
         },
         "marker": {
          "symbol": "circle"
         },
         "mode": "lines",
         "name": "",
         "orientation": "v",
         "showlegend": false,
         "type": "scatter",
         "x": [
          "2014-01-01T00:00:00.000000000",
          "2014-02-01T00:00:00.000000000",
          "2014-03-01T00:00:00.000000000",
          "2014-04-01T00:00:00.000000000",
          "2014-05-01T00:00:00.000000000",
          "2014-06-01T00:00:00.000000000",
          "2014-07-01T00:00:00.000000000",
          "2014-08-01T00:00:00.000000000",
          "2014-09-01T00:00:00.000000000",
          "2014-10-01T00:00:00.000000000",
          "2014-11-01T00:00:00.000000000",
          "2014-12-01T00:00:00.000000000",
          "2015-01-01T00:00:00.000000000",
          "2015-02-01T00:00:00.000000000",
          "2015-03-01T00:00:00.000000000",
          "2015-04-01T00:00:00.000000000",
          "2015-05-01T00:00:00.000000000",
          "2015-06-01T00:00:00.000000000",
          "2015-07-01T00:00:00.000000000",
          "2015-08-01T00:00:00.000000000",
          "2015-09-01T00:00:00.000000000",
          "2015-10-01T00:00:00.000000000",
          "2015-11-01T00:00:00.000000000",
          "2015-12-01T00:00:00.000000000",
          "2016-01-01T00:00:00.000000000",
          "2016-02-01T00:00:00.000000000",
          "2016-03-01T00:00:00.000000000",
          "2016-04-01T00:00:00.000000000",
          "2016-05-01T00:00:00.000000000",
          "2016-06-01T00:00:00.000000000",
          "2016-07-01T00:00:00.000000000",
          "2016-08-01T00:00:00.000000000",
          "2016-09-01T00:00:00.000000000",
          "2016-10-01T00:00:00.000000000",
          "2016-11-01T00:00:00.000000000",
          "2016-12-01T00:00:00.000000000",
          "2017-01-01T00:00:00.000000000",
          "2017-02-01T00:00:00.000000000",
          "2017-03-01T00:00:00.000000000",
          "2017-04-01T00:00:00.000000000",
          "2017-05-01T00:00:00.000000000",
          "2017-06-01T00:00:00.000000000",
          "2017-07-01T00:00:00.000000000",
          "2017-08-01T00:00:00.000000000",
          "2017-09-01T00:00:00.000000000",
          "2017-10-01T00:00:00.000000000",
          "2017-11-01T00:00:00.000000000",
          "2017-12-01T00:00:00.000000000"
         ],
         "xaxis": "x",
         "y": {
          "bdata": "9ihcj3LOy0AIrBxa5KexQDVeuklgMetASOF6FNah20B9PzVeEhjXQF+YTBVk5OBAarx0k0yT4ECLbOf7XUHbQPd14JwV9/NA1XjpJlm33kBRa5p3SzLzQHNoke2Z+vBA5WGh1oS/0UBU46WbtFfHQNNNYhDI6OJAJzEIrGay4EAtsp3v62zdQJzEILBSN9hAzczMzFQX3ED35GGhSgTiQDeJQWB9iu9Ad76fGjur3kB1kxgESYzyQKvP1VZ4SvJAlUOLbJ8b0kCPwvUotHDWQAAAAAB8QOlAku18P8Hr4kDwp8ZLd9PrQAIrhxYRs+NAQmDl0L4r40C5/If012LeQNuK/WUg7PFAcT0K1/ck7UBos+pzP2PzQJzEILBwrvdAF9nO92t45UBSJ6CJSNPTQME5I0oLv+xA7C+7JzHV4UCBJsKGo5zlQNc07zi33ulAZDvfTw0a5kDb+X5qHNLuQFCNl26qc/VA+1xtxQ798kAzMzMz/er8QF8HzhlVd/RA",
          "dtype": "f8"
         },
         "yaxis": "y"
        }
       ],
       "layout": {
        "legend": {
         "tracegroupgap": 0
        },
        "template": {
         "data": {
          "bar": [
           {
            "error_x": {
             "color": "#2a3f5f"
            },
            "error_y": {
             "color": "#2a3f5f"
            },
            "marker": {
             "line": {
              "color": "#E5ECF6",
              "width": 0.5
             },
             "pattern": {
              "fillmode": "overlay",
              "size": 10,
              "solidity": 0.2
             }
            },
            "type": "bar"
           }
          ],
          "barpolar": [
           {
            "marker": {
             "line": {
              "color": "#E5ECF6",
              "width": 0.5
             },
             "pattern": {
              "fillmode": "overlay",
              "size": 10,
              "solidity": 0.2
             }
            },
            "type": "barpolar"
           }
          ],
          "carpet": [
           {
            "aaxis": {
             "endlinecolor": "#2a3f5f",
             "gridcolor": "white",
             "linecolor": "white",
             "minorgridcolor": "white",
             "startlinecolor": "#2a3f5f"
            },
            "baxis": {
             "endlinecolor": "#2a3f5f",
             "gridcolor": "white",
             "linecolor": "white",
             "minorgridcolor": "white",
             "startlinecolor": "#2a3f5f"
            },
            "type": "carpet"
           }
          ],
          "choropleth": [
           {
            "colorbar": {
             "outlinewidth": 0,
             "ticks": ""
            },
            "type": "choropleth"
           }
          ],
          "contour": [
           {
            "colorbar": {
             "outlinewidth": 0,
             "ticks": ""
            },
            "colorscale": [
             [
              0,
              "#0d0887"
             ],
             [
              0.1111111111111111,
              "#46039f"
             ],
             [
              0.2222222222222222,
              "#7201a8"
             ],
             [
              0.3333333333333333,
              "#9c179e"
             ],
             [
              0.4444444444444444,
              "#bd3786"
             ],
             [
              0.5555555555555556,
              "#d8576b"
             ],
             [
              0.6666666666666666,
              "#ed7953"
             ],
             [
              0.7777777777777778,
              "#fb9f3a"
             ],
             [
              0.8888888888888888,
              "#fdca26"
             ],
             [
              1,
              "#f0f921"
             ]
            ],
            "type": "contour"
           }
          ],
          "contourcarpet": [
           {
            "colorbar": {
             "outlinewidth": 0,
             "ticks": ""
            },
            "type": "contourcarpet"
           }
          ],
          "heatmap": [
           {
            "colorbar": {
             "outlinewidth": 0,
             "ticks": ""
            },
            "colorscale": [
             [
              0,
              "#0d0887"
             ],
             [
              0.1111111111111111,
              "#46039f"
             ],
             [
              0.2222222222222222,
              "#7201a8"
             ],
             [
              0.3333333333333333,
              "#9c179e"
             ],
             [
              0.4444444444444444,
              "#bd3786"
             ],
             [
              0.5555555555555556,
              "#d8576b"
             ],
             [
              0.6666666666666666,
              "#ed7953"
             ],
             [
              0.7777777777777778,
              "#fb9f3a"
             ],
             [
              0.8888888888888888,
              "#fdca26"
             ],
             [
              1,
              "#f0f921"
             ]
            ],
            "type": "heatmap"
           }
          ],
          "histogram": [
           {
            "marker": {
             "pattern": {
              "fillmode": "overlay",
              "size": 10,
              "solidity": 0.2
             }
            },
            "type": "histogram"
           }
          ],
          "histogram2d": [
           {
            "colorbar": {
             "outlinewidth": 0,
             "ticks": ""
            },
            "colorscale": [
             [
              0,
              "#0d0887"
             ],
             [
              0.1111111111111111,
              "#46039f"
             ],
             [
              0.2222222222222222,
              "#7201a8"
             ],
             [
              0.3333333333333333,
              "#9c179e"
             ],
             [
              0.4444444444444444,
              "#bd3786"
             ],
             [
              0.5555555555555556,
              "#d8576b"
             ],
             [
              0.6666666666666666,
              "#ed7953"
             ],
             [
              0.7777777777777778,
              "#fb9f3a"
             ],
             [
              0.8888888888888888,
              "#fdca26"
             ],
             [
              1,
              "#f0f921"
             ]
            ],
            "type": "histogram2d"
           }
          ],
          "histogram2dcontour": [
           {
            "colorbar": {
             "outlinewidth": 0,
             "ticks": ""
            },
            "colorscale": [
             [
              0,
              "#0d0887"
             ],
             [
              0.1111111111111111,
              "#46039f"
             ],
             [
              0.2222222222222222,
              "#7201a8"
             ],
             [
              0.3333333333333333,
              "#9c179e"
             ],
             [
              0.4444444444444444,
              "#bd3786"
             ],
             [
              0.5555555555555556,
              "#d8576b"
             ],
             [
              0.6666666666666666,
              "#ed7953"
             ],
             [
              0.7777777777777778,
              "#fb9f3a"
             ],
             [
              0.8888888888888888,
              "#fdca26"
             ],
             [
              1,
              "#f0f921"
             ]
            ],
            "type": "histogram2dcontour"
           }
          ],
          "mesh3d": [
           {
            "colorbar": {
             "outlinewidth": 0,
             "ticks": ""
            },
            "type": "mesh3d"
           }
          ],
          "parcoords": [
           {
            "line": {
             "colorbar": {
              "outlinewidth": 0,
              "ticks": ""
             }
            },
            "type": "parcoords"
           }
          ],
          "pie": [
           {
            "automargin": true,
            "type": "pie"
           }
          ],
          "scatter": [
           {
            "fillpattern": {
             "fillmode": "overlay",
             "size": 10,
             "solidity": 0.2
            },
            "type": "scatter"
           }
          ],
          "scatter3d": [
           {
            "line": {
             "colorbar": {
              "outlinewidth": 0,
              "ticks": ""
             }
            },
            "marker": {
             "colorbar": {
              "outlinewidth": 0,
              "ticks": ""
             }
            },
            "type": "scatter3d"
           }
          ],
          "scattercarpet": [
           {
            "marker": {
             "colorbar": {
              "outlinewidth": 0,
              "ticks": ""
             }
            },
            "type": "scattercarpet"
           }
          ],
          "scattergeo": [
           {
            "marker": {
             "colorbar": {
              "outlinewidth": 0,
              "ticks": ""
             }
            },
            "type": "scattergeo"
           }
          ],
          "scattergl": [
           {
            "marker": {
             "colorbar": {
              "outlinewidth": 0,
              "ticks": ""
             }
            },
            "type": "scattergl"
           }
          ],
          "scattermap": [
           {
            "marker": {
             "colorbar": {
              "outlinewidth": 0,
              "ticks": ""
             }
            },
            "type": "scattermap"
           }
          ],
          "scattermapbox": [
           {
            "marker": {
             "colorbar": {
              "outlinewidth": 0,
              "ticks": ""
             }
            },
            "type": "scattermapbox"
           }
          ],
          "scatterpolar": [
           {
            "marker": {
             "colorbar": {
              "outlinewidth": 0,
              "ticks": ""
             }
            },
            "type": "scatterpolar"
           }
          ],
          "scatterpolargl": [
           {
            "marker": {
             "colorbar": {
              "outlinewidth": 0,
              "ticks": ""
             }
            },
            "type": "scatterpolargl"
           }
          ],
          "scatterternary": [
           {
            "marker": {
             "colorbar": {
              "outlinewidth": 0,
              "ticks": ""
             }
            },
            "type": "scatterternary"
           }
          ],
          "surface": [
           {
            "colorbar": {
             "outlinewidth": 0,
             "ticks": ""
            },
            "colorscale": [
             [
              0,
              "#0d0887"
             ],
             [
              0.1111111111111111,
              "#46039f"
             ],
             [
              0.2222222222222222,
              "#7201a8"
             ],
             [
              0.3333333333333333,
              "#9c179e"
             ],
             [
              0.4444444444444444,
              "#bd3786"
             ],
             [
              0.5555555555555556,
              "#d8576b"
             ],
             [
              0.6666666666666666,
              "#ed7953"
             ],
             [
              0.7777777777777778,
              "#fb9f3a"
             ],
             [
              0.8888888888888888,
              "#fdca26"
             ],
             [
              1,
              "#f0f921"
             ]
            ],
            "type": "surface"
           }
          ],
          "table": [
           {
            "cells": {
             "fill": {
              "color": "#EBF0F8"
             },
             "line": {
              "color": "white"
             }
            },
            "header": {
             "fill": {
              "color": "#C8D4E3"
             },
             "line": {
              "color": "white"
             }
            },
            "type": "table"
           }
          ]
         },
         "layout": {
          "annotationdefaults": {
           "arrowcolor": "#2a3f5f",
           "arrowhead": 0,
           "arrowwidth": 1
          },
          "autotypenumbers": "strict",
          "coloraxis": {
           "colorbar": {
            "outlinewidth": 0,
            "ticks": ""
           }
          },
          "colorscale": {
           "diverging": [
            [
             0,
             "#8e0152"
            ],
            [
             0.1,
             "#c51b7d"
            ],
            [
             0.2,
             "#de77ae"
            ],
            [
             0.3,
             "#f1b6da"
            ],
            [
             0.4,
             "#fde0ef"
            ],
            [
             0.5,
             "#f7f7f7"
            ],
            [
             0.6,
             "#e6f5d0"
            ],
            [
             0.7,
             "#b8e186"
            ],
            [
             0.8,
             "#7fbc41"
            ],
            [
             0.9,
             "#4d9221"
            ],
            [
             1,
             "#276419"
            ]
           ],
           "sequential": [
            [
             0,
             "#0d0887"
            ],
            [
             0.1111111111111111,
             "#46039f"
            ],
            [
             0.2222222222222222,
             "#7201a8"
            ],
            [
             0.3333333333333333,
             "#9c179e"
            ],
            [
             0.4444444444444444,
             "#bd3786"
            ],
            [
             0.5555555555555556,
             "#d8576b"
            ],
            [
             0.6666666666666666,
             "#ed7953"
            ],
            [
             0.7777777777777778,
             "#fb9f3a"
            ],
            [
             0.8888888888888888,
             "#fdca26"
            ],
            [
             1,
             "#f0f921"
            ]
           ],
           "sequentialminus": [
            [
             0,
             "#0d0887"
            ],
            [
             0.1111111111111111,
             "#46039f"
            ],
            [
             0.2222222222222222,
             "#7201a8"
            ],
            [
             0.3333333333333333,
             "#9c179e"
            ],
            [
             0.4444444444444444,
             "#bd3786"
            ],
            [
             0.5555555555555556,
             "#d8576b"
            ],
            [
             0.6666666666666666,
             "#ed7953"
            ],
            [
             0.7777777777777778,
             "#fb9f3a"
            ],
            [
             0.8888888888888888,
             "#fdca26"
            ],
            [
             1,
             "#f0f921"
            ]
           ]
          },
          "colorway": [
           "#636efa",
           "#EF553B",
           "#00cc96",
           "#ab63fa",
           "#FFA15A",
           "#19d3f3",
           "#FF6692",
           "#B6E880",
           "#FF97FF",
           "#FECB52"
          ],
          "font": {
           "color": "#2a3f5f"
          },
          "geo": {
           "bgcolor": "white",
           "lakecolor": "white",
           "landcolor": "#E5ECF6",
           "showlakes": true,
           "showland": true,
           "subunitcolor": "white"
          },
          "hoverlabel": {
           "align": "left"
          },
          "hovermode": "closest",
          "mapbox": {
           "style": "light"
          },
          "paper_bgcolor": "white",
          "plot_bgcolor": "#E5ECF6",
          "polar": {
           "angularaxis": {
            "gridcolor": "white",
            "linecolor": "white",
            "ticks": ""
           },
           "bgcolor": "#E5ECF6",
           "radialaxis": {
            "gridcolor": "white",
            "linecolor": "white",
            "ticks": ""
           }
          },
          "scene": {
           "xaxis": {
            "backgroundcolor": "#E5ECF6",
            "gridcolor": "white",
            "gridwidth": 2,
            "linecolor": "white",
            "showbackground": true,
            "ticks": "",
            "zerolinecolor": "white"
           },
           "yaxis": {
            "backgroundcolor": "#E5ECF6",
            "gridcolor": "white",
            "gridwidth": 2,
            "linecolor": "white",
            "showbackground": true,
            "ticks": "",
            "zerolinecolor": "white"
           },
           "zaxis": {
            "backgroundcolor": "#E5ECF6",
            "gridcolor": "white",
            "gridwidth": 2,
            "linecolor": "white",
            "showbackground": true,
            "ticks": "",
            "zerolinecolor": "white"
           }
          },
          "shapedefaults": {
           "line": {
            "color": "#2a3f5f"
           }
          },
          "ternary": {
           "aaxis": {
            "gridcolor": "white",
            "linecolor": "white",
            "ticks": ""
           },
           "baxis": {
            "gridcolor": "white",
            "linecolor": "white",
            "ticks": ""
           },
           "bgcolor": "#E5ECF6",
           "caxis": {
            "gridcolor": "white",
            "linecolor": "white",
            "ticks": ""
           }
          },
          "title": {
           "x": 0.05
          },
          "xaxis": {
           "automargin": true,
           "gridcolor": "white",
           "linecolor": "white",
           "ticks": "",
           "title": {
            "standoff": 15
           },
           "zerolinecolor": "white",
           "zerolinewidth": 2
          },
          "yaxis": {
           "automargin": true,
           "gridcolor": "white",
           "linecolor": "white",
           "ticks": "",
           "title": {
            "standoff": 15
           },
           "zerolinecolor": "white",
           "zerolinewidth": 2
          }
         }
        },
        "title": {
         "text": "📊 Monthly Sales Trend"
        },
        "xaxis": {
         "anchor": "y",
         "domain": [
          0,
          1
         ],
         "title": {
          "text": "Month"
         }
        },
        "yaxis": {
         "anchor": "x",
         "domain": [
          0,
          1
         ],
         "title": {
          "text": "Total Sales"
         }
        }
       }
      }
     },
     "metadata": {},
     "output_type": "display_data"
    }
   ],
   "source": [
    "import plotly.express as px\n",
    "\n",
    "# Aggregate monthly sales and profit\n",
    "monthly_sales = df.groupby('Order Month').agg(\n",
    "    total_sales=('Sales', 'sum'),\n",
    "    total_profit=('Profit', 'sum')\n",
    ").reset_index()\n",
    "\n",
    "# Convert Period to Timestamp for plotting\n",
    "monthly_sales['Order Month'] = monthly_sales['Order Month'].dt.to_timestamp()\n",
    "\n",
    "# Line chart with Plotly\n",
    "fig_monthly = px.line(\n",
    "    monthly_sales, x='Order Month', y='total_sales',\n",
    "    title='📊 Monthly Sales Trend',\n",
    "    labels={'total_sales': 'Total Sales', 'Order Month': 'Month'}\n",
    ")\n",
    "\n",
    "fig_monthly.show()"
   ]
  },
  {
   "cell_type": "markdown",
   "metadata": {},
   "source": [
    "## 🌍 Profit and Sales by Region\n",
    "\n",
    "Let’s analyze which regions are contributing most to the overall sales and profit.  \n",
    "This will help identify strong vs weak geograp"
   ]
  },
  {
   "cell_type": "code",
   "execution_count": 4,
   "metadata": {
    "execution": {
     "iopub.execute_input": "2025-07-16T00:12:02.980331Z",
     "iopub.status.busy": "2025-07-16T00:12:02.979855Z",
     "iopub.status.idle": "2025-07-16T00:12:03.083435Z",
     "shell.execute_reply": "2025-07-16T00:12:03.082555Z",
     "shell.execute_reply.started": "2025-07-16T00:12:02.980294Z"
    },
    "trusted": true
   },
   "outputs": [
    {
     "data": {
      "application/vnd.plotly.v1+json": {
       "config": {
        "plotlyServerURL": "https://plot.ly"
       },
       "data": [
        {
         "coloraxis": "coloraxis",
         "histfunc": "avg",
         "hovertemplate": "Region=%{x}<br>Profit=%{y}<br>avg of Sales=%{z}<extra></extra>",
         "name": "",
         "type": "histogram2d",
         "x": [
          "Central",
          "East",
          "South",
          "West"
         ],
         "xaxis": "x",
         "xbingroup": "x",
         "y": {
          "bdata": "mpmZmUtj40CuR+F6LFj2QG+BBMWt0+ZAM8SxLid4+kA=",
          "dtype": "f8"
         },
         "yaxis": "y",
         "ybingroup": "y",
         "z": {
          "bdata": "DeAtkN+XHkGuR+F6+rYkQexRuJ6n6BdBL90kpqMjJkE=",
          "dtype": "f8"
         }
        }
       ],
       "layout": {
        "coloraxis": {
         "colorbar": {
          "title": {
           "text": "avg of Sales"
          }
         },
         "colorscale": [
          [
           0,
           "#0d0887"
          ],
          [
           0.1111111111111111,
           "#46039f"
          ],
          [
           0.2222222222222222,
           "#7201a8"
          ],
          [
           0.3333333333333333,
           "#9c179e"
          ],
          [
           0.4444444444444444,
           "#bd3786"
          ],
          [
           0.5555555555555556,
           "#d8576b"
          ],
          [
           0.6666666666666666,
           "#ed7953"
          ],
          [
           0.7777777777777778,
           "#fb9f3a"
          ],
          [
           0.8888888888888888,
           "#fdca26"
          ],
          [
           1,
           "#f0f921"
          ]
         ]
        },
        "legend": {
         "tracegroupgap": 0
        },
        "template": {
         "data": {
          "bar": [
           {
            "error_x": {
             "color": "#2a3f5f"
            },
            "error_y": {
             "color": "#2a3f5f"
            },
            "marker": {
             "line": {
              "color": "#E5ECF6",
              "width": 0.5
             },
             "pattern": {
              "fillmode": "overlay",
              "size": 10,
              "solidity": 0.2
             }
            },
            "type": "bar"
           }
          ],
          "barpolar": [
           {
            "marker": {
             "line": {
              "color": "#E5ECF6",
              "width": 0.5
             },
             "pattern": {
              "fillmode": "overlay",
              "size": 10,
              "solidity": 0.2
             }
            },
            "type": "barpolar"
           }
          ],
          "carpet": [
           {
            "aaxis": {
             "endlinecolor": "#2a3f5f",
             "gridcolor": "white",
             "linecolor": "white",
             "minorgridcolor": "white",
             "startlinecolor": "#2a3f5f"
            },
            "baxis": {
             "endlinecolor": "#2a3f5f",
             "gridcolor": "white",
             "linecolor": "white",
             "minorgridcolor": "white",
             "startlinecolor": "#2a3f5f"
            },
            "type": "carpet"
           }
          ],
          "choropleth": [
           {
            "colorbar": {
             "outlinewidth": 0,
             "ticks": ""
            },
            "type": "choropleth"
           }
          ],
          "contour": [
           {
            "colorbar": {
             "outlinewidth": 0,
             "ticks": ""
            },
            "colorscale": [
             [
              0,
              "#0d0887"
             ],
             [
              0.1111111111111111,
              "#46039f"
             ],
             [
              0.2222222222222222,
              "#7201a8"
             ],
             [
              0.3333333333333333,
              "#9c179e"
             ],
             [
              0.4444444444444444,
              "#bd3786"
             ],
             [
              0.5555555555555556,
              "#d8576b"
             ],
             [
              0.6666666666666666,
              "#ed7953"
             ],
             [
              0.7777777777777778,
              "#fb9f3a"
             ],
             [
              0.8888888888888888,
              "#fdca26"
             ],
             [
              1,
              "#f0f921"
             ]
            ],
            "type": "contour"
           }
          ],
          "contourcarpet": [
           {
            "colorbar": {
             "outlinewidth": 0,
             "ticks": ""
            },
            "type": "contourcarpet"
           }
          ],
          "heatmap": [
           {
            "colorbar": {
             "outlinewidth": 0,
             "ticks": ""
            },
            "colorscale": [
             [
              0,
              "#0d0887"
             ],
             [
              0.1111111111111111,
              "#46039f"
             ],
             [
              0.2222222222222222,
              "#7201a8"
             ],
             [
              0.3333333333333333,
              "#9c179e"
             ],
             [
              0.4444444444444444,
              "#bd3786"
             ],
             [
              0.5555555555555556,
              "#d8576b"
             ],
             [
              0.6666666666666666,
              "#ed7953"
             ],
             [
              0.7777777777777778,
              "#fb9f3a"
             ],
             [
              0.8888888888888888,
              "#fdca26"
             ],
             [
              1,
              "#f0f921"
             ]
            ],
            "type": "heatmap"
           }
          ],
          "histogram": [
           {
            "marker": {
             "pattern": {
              "fillmode": "overlay",
              "size": 10,
              "solidity": 0.2
             }
            },
            "type": "histogram"
           }
          ],
          "histogram2d": [
           {
            "colorbar": {
             "outlinewidth": 0,
             "ticks": ""
            },
            "colorscale": [
             [
              0,
              "#0d0887"
             ],
             [
              0.1111111111111111,
              "#46039f"
             ],
             [
              0.2222222222222222,
              "#7201a8"
             ],
             [
              0.3333333333333333,
              "#9c179e"
             ],
             [
              0.4444444444444444,
              "#bd3786"
             ],
             [
              0.5555555555555556,
              "#d8576b"
             ],
             [
              0.6666666666666666,
              "#ed7953"
             ],
             [
              0.7777777777777778,
              "#fb9f3a"
             ],
             [
              0.8888888888888888,
              "#fdca26"
             ],
             [
              1,
              "#f0f921"
             ]
            ],
            "type": "histogram2d"
           }
          ],
          "histogram2dcontour": [
           {
            "colorbar": {
             "outlinewidth": 0,
             "ticks": ""
            },
            "colorscale": [
             [
              0,
              "#0d0887"
             ],
             [
              0.1111111111111111,
              "#46039f"
             ],
             [
              0.2222222222222222,
              "#7201a8"
             ],
             [
              0.3333333333333333,
              "#9c179e"
             ],
             [
              0.4444444444444444,
              "#bd3786"
             ],
             [
              0.5555555555555556,
              "#d8576b"
             ],
             [
              0.6666666666666666,
              "#ed7953"
             ],
             [
              0.7777777777777778,
              "#fb9f3a"
             ],
             [
              0.8888888888888888,
              "#fdca26"
             ],
             [
              1,
              "#f0f921"
             ]
            ],
            "type": "histogram2dcontour"
           }
          ],
          "mesh3d": [
           {
            "colorbar": {
             "outlinewidth": 0,
             "ticks": ""
            },
            "type": "mesh3d"
           }
          ],
          "parcoords": [
           {
            "line": {
             "colorbar": {
              "outlinewidth": 0,
              "ticks": ""
             }
            },
            "type": "parcoords"
           }
          ],
          "pie": [
           {
            "automargin": true,
            "type": "pie"
           }
          ],
          "scatter": [
           {
            "fillpattern": {
             "fillmode": "overlay",
             "size": 10,
             "solidity": 0.2
            },
            "type": "scatter"
           }
          ],
          "scatter3d": [
           {
            "line": {
             "colorbar": {
              "outlinewidth": 0,
              "ticks": ""
             }
            },
            "marker": {
             "colorbar": {
              "outlinewidth": 0,
              "ticks": ""
             }
            },
            "type": "scatter3d"
           }
          ],
          "scattercarpet": [
           {
            "marker": {
             "colorbar": {
              "outlinewidth": 0,
              "ticks": ""
             }
            },
            "type": "scattercarpet"
           }
          ],
          "scattergeo": [
           {
            "marker": {
             "colorbar": {
              "outlinewidth": 0,
              "ticks": ""
             }
            },
            "type": "scattergeo"
           }
          ],
          "scattergl": [
           {
            "marker": {
             "colorbar": {
              "outlinewidth": 0,
              "ticks": ""
             }
            },
            "type": "scattergl"
           }
          ],
          "scattermap": [
           {
            "marker": {
             "colorbar": {
              "outlinewidth": 0,
              "ticks": ""
             }
            },
            "type": "scattermap"
           }
          ],
          "scattermapbox": [
           {
            "marker": {
             "colorbar": {
              "outlinewidth": 0,
              "ticks": ""
             }
            },
            "type": "scattermapbox"
           }
          ],
          "scatterpolar": [
           {
            "marker": {
             "colorbar": {
              "outlinewidth": 0,
              "ticks": ""
             }
            },
            "type": "scatterpolar"
           }
          ],
          "scatterpolargl": [
           {
            "marker": {
             "colorbar": {
              "outlinewidth": 0,
              "ticks": ""
             }
            },
            "type": "scatterpolargl"
           }
          ],
          "scatterternary": [
           {
            "marker": {
             "colorbar": {
              "outlinewidth": 0,
              "ticks": ""
             }
            },
            "type": "scatterternary"
           }
          ],
          "surface": [
           {
            "colorbar": {
             "outlinewidth": 0,
             "ticks": ""
            },
            "colorscale": [
             [
              0,
              "#0d0887"
             ],
             [
              0.1111111111111111,
              "#46039f"
             ],
             [
              0.2222222222222222,
              "#7201a8"
             ],
             [
              0.3333333333333333,
              "#9c179e"
             ],
             [
              0.4444444444444444,
              "#bd3786"
             ],
             [
              0.5555555555555556,
              "#d8576b"
             ],
             [
              0.6666666666666666,
              "#ed7953"
             ],
             [
              0.7777777777777778,
              "#fb9f3a"
             ],
             [
              0.8888888888888888,
              "#fdca26"
             ],
             [
              1,
              "#f0f921"
             ]
            ],
            "type": "surface"
           }
          ],
          "table": [
           {
            "cells": {
             "fill": {
              "color": "#EBF0F8"
             },
             "line": {
              "color": "white"
             }
            },
            "header": {
             "fill": {
              "color": "#C8D4E3"
             },
             "line": {
              "color": "white"
             }
            },
            "type": "table"
           }
          ]
         },
         "layout": {
          "annotationdefaults": {
           "arrowcolor": "#2a3f5f",
           "arrowhead": 0,
           "arrowwidth": 1
          },
          "autotypenumbers": "strict",
          "coloraxis": {
           "colorbar": {
            "outlinewidth": 0,
            "ticks": ""
           }
          },
          "colorscale": {
           "diverging": [
            [
             0,
             "#8e0152"
            ],
            [
             0.1,
             "#c51b7d"
            ],
            [
             0.2,
             "#de77ae"
            ],
            [
             0.3,
             "#f1b6da"
            ],
            [
             0.4,
             "#fde0ef"
            ],
            [
             0.5,
             "#f7f7f7"
            ],
            [
             0.6,
             "#e6f5d0"
            ],
            [
             0.7,
             "#b8e186"
            ],
            [
             0.8,
             "#7fbc41"
            ],
            [
             0.9,
             "#4d9221"
            ],
            [
             1,
             "#276419"
            ]
           ],
           "sequential": [
            [
             0,
             "#0d0887"
            ],
            [
             0.1111111111111111,
             "#46039f"
            ],
            [
             0.2222222222222222,
             "#7201a8"
            ],
            [
             0.3333333333333333,
             "#9c179e"
            ],
            [
             0.4444444444444444,
             "#bd3786"
            ],
            [
             0.5555555555555556,
             "#d8576b"
            ],
            [
             0.6666666666666666,
             "#ed7953"
            ],
            [
             0.7777777777777778,
             "#fb9f3a"
            ],
            [
             0.8888888888888888,
             "#fdca26"
            ],
            [
             1,
             "#f0f921"
            ]
           ],
           "sequentialminus": [
            [
             0,
             "#0d0887"
            ],
            [
             0.1111111111111111,
             "#46039f"
            ],
            [
             0.2222222222222222,
             "#7201a8"
            ],
            [
             0.3333333333333333,
             "#9c179e"
            ],
            [
             0.4444444444444444,
             "#bd3786"
            ],
            [
             0.5555555555555556,
             "#d8576b"
            ],
            [
             0.6666666666666666,
             "#ed7953"
            ],
            [
             0.7777777777777778,
             "#fb9f3a"
            ],
            [
             0.8888888888888888,
             "#fdca26"
            ],
            [
             1,
             "#f0f921"
            ]
           ]
          },
          "colorway": [
           "#636efa",
           "#EF553B",
           "#00cc96",
           "#ab63fa",
           "#FFA15A",
           "#19d3f3",
           "#FF6692",
           "#B6E880",
           "#FF97FF",
           "#FECB52"
          ],
          "font": {
           "color": "#2a3f5f"
          },
          "geo": {
           "bgcolor": "white",
           "lakecolor": "white",
           "landcolor": "#E5ECF6",
           "showlakes": true,
           "showland": true,
           "subunitcolor": "white"
          },
          "hoverlabel": {
           "align": "left"
          },
          "hovermode": "closest",
          "mapbox": {
           "style": "light"
          },
          "paper_bgcolor": "white",
          "plot_bgcolor": "#E5ECF6",
          "polar": {
           "angularaxis": {
            "gridcolor": "white",
            "linecolor": "white",
            "ticks": ""
           },
           "bgcolor": "#E5ECF6",
           "radialaxis": {
            "gridcolor": "white",
            "linecolor": "white",
            "ticks": ""
           }
          },
          "scene": {
           "xaxis": {
            "backgroundcolor": "#E5ECF6",
            "gridcolor": "white",
            "gridwidth": 2,
            "linecolor": "white",
            "showbackground": true,
            "ticks": "",
            "zerolinecolor": "white"
           },
           "yaxis": {
            "backgroundcolor": "#E5ECF6",
            "gridcolor": "white",
            "gridwidth": 2,
            "linecolor": "white",
            "showbackground": true,
            "ticks": "",
            "zerolinecolor": "white"
           },
           "zaxis": {
            "backgroundcolor": "#E5ECF6",
            "gridcolor": "white",
            "gridwidth": 2,
            "linecolor": "white",
            "showbackground": true,
            "ticks": "",
            "zerolinecolor": "white"
           }
          },
          "shapedefaults": {
           "line": {
            "color": "#2a3f5f"
           }
          },
          "ternary": {
           "aaxis": {
            "gridcolor": "white",
            "linecolor": "white",
            "ticks": ""
           },
           "baxis": {
            "gridcolor": "white",
            "linecolor": "white",
            "ticks": ""
           },
           "bgcolor": "#E5ECF6",
           "caxis": {
            "gridcolor": "white",
            "linecolor": "white",
            "ticks": ""
           }
          },
          "title": {
           "x": 0.05
          },
          "xaxis": {
           "automargin": true,
           "gridcolor": "white",
           "linecolor": "white",
           "ticks": "",
           "title": {
            "standoff": 15
           },
           "zerolinecolor": "white",
           "zerolinewidth": 2
          },
          "yaxis": {
           "automargin": true,
           "gridcolor": "white",
           "linecolor": "white",
           "ticks": "",
           "title": {
            "standoff": 15
           },
           "zerolinecolor": "white",
           "zerolinewidth": 2
          }
         }
        },
        "title": {
         "text": "🗺️ Heatmap of Sales vs Profit by Region"
        },
        "xaxis": {
         "anchor": "y",
         "domain": [
          0,
          1
         ],
         "title": {
          "text": "Region"
         }
        },
        "yaxis": {
         "anchor": "x",
         "domain": [
          0,
          1
         ],
         "title": {
          "text": "Profit"
         }
        }
       }
      }
     },
     "metadata": {},
     "output_type": "display_data"
    }
   ],
   "source": [
    "# Aggregate sales and profit by region\n",
    "region_perf = df.groupby('Region').agg(\n",
    "    total_sales=('Sales', 'sum'),\n",
    "    total_profit=('Profit', 'sum')\n",
    ").reset_index()\n",
    "\n",
    "# Visualize with Plotly heatmap (color intensity shows profit)\n",
    "import plotly.express as px\n",
    "\n",
    "fig_region = px.density_heatmap(\n",
    "    region_perf,\n",
    "    x='Region',\n",
    "    y='total_profit',\n",
    "    z='total_sales',\n",
    "    histfunc='avg',\n",
    "    title='🗺️ Heatmap of Sales vs Profit by Region',\n",
    "    labels={'total_sales': 'Sales', 'total_profit': 'Profit'}\n",
    ")\n",
    "\n",
    "fig_region.show()"
   ]
  },
  {
   "cell_type": "markdown",
   "metadata": {},
   "source": [
    "## 🧺 Sales and Profit by Product Category\n",
    "\n",
    "Now we analyze which product categories are the most profitable and have the highest sales.  \n",
    "This can help prioritize inventory, marketing, and pricing strategies."
   ]
  },
  {
   "cell_type": "code",
   "execution_count": 5,
   "metadata": {
    "execution": {
     "iopub.execute_input": "2025-07-16T00:12:03.084832Z",
     "iopub.status.busy": "2025-07-16T00:12:03.084459Z",
     "iopub.status.idle": "2025-07-16T00:12:03.170509Z",
     "shell.execute_reply": "2025-07-16T00:12:03.169548Z",
     "shell.execute_reply.started": "2025-07-16T00:12:03.084802Z"
    },
    "trusted": true
   },
   "outputs": [
    {
     "data": {
      "application/vnd.plotly.v1+json": {
       "config": {
        "plotlyServerURL": "https://plot.ly"
       },
       "data": [
        {
         "hovertemplate": "Category=%{x}<br>Total Sales=%{y}<br>Total Profit=%{marker.color}<extra></extra>",
         "legendgroup": "",
         "marker": {
          "color": {
           "bdata": "63O1lXfBAUGWIY510QTSQCqpE9Cs5/1A",
           "dtype": "f8"
          },
          "coloraxis": "coloraxis",
          "pattern": {
           "shape": ""
          }
         },
         "name": "",
         "orientation": "v",
         "showlegend": false,
         "textposition": "auto",
         "type": "bar",
         "x": [
          "Technology",
          "Furniture",
          "Office Supplies"
         ],
         "xaxis": "x",
         "y": {
          "bdata": "QmDlEHSEKUHFjzGX36QmQdNNYhCO8SVB",
          "dtype": "f8"
         },
         "yaxis": "y"
        }
       ],
       "layout": {
        "barmode": "relative",
        "coloraxis": {
         "colorbar": {
          "title": {
           "text": "Total Profit"
          }
         },
         "colorscale": [
          [
           0,
           "rgb(247,251,255)"
          ],
          [
           0.125,
           "rgb(222,235,247)"
          ],
          [
           0.25,
           "rgb(198,219,239)"
          ],
          [
           0.375,
           "rgb(158,202,225)"
          ],
          [
           0.5,
           "rgb(107,174,214)"
          ],
          [
           0.625,
           "rgb(66,146,198)"
          ],
          [
           0.75,
           "rgb(33,113,181)"
          ],
          [
           0.875,
           "rgb(8,81,156)"
          ],
          [
           1,
           "rgb(8,48,107)"
          ]
         ]
        },
        "legend": {
         "tracegroupgap": 0
        },
        "template": {
         "data": {
          "bar": [
           {
            "error_x": {
             "color": "#2a3f5f"
            },
            "error_y": {
             "color": "#2a3f5f"
            },
            "marker": {
             "line": {
              "color": "#E5ECF6",
              "width": 0.5
             },
             "pattern": {
              "fillmode": "overlay",
              "size": 10,
              "solidity": 0.2
             }
            },
            "type": "bar"
           }
          ],
          "barpolar": [
           {
            "marker": {
             "line": {
              "color": "#E5ECF6",
              "width": 0.5
             },
             "pattern": {
              "fillmode": "overlay",
              "size": 10,
              "solidity": 0.2
             }
            },
            "type": "barpolar"
           }
          ],
          "carpet": [
           {
            "aaxis": {
             "endlinecolor": "#2a3f5f",
             "gridcolor": "white",
             "linecolor": "white",
             "minorgridcolor": "white",
             "startlinecolor": "#2a3f5f"
            },
            "baxis": {
             "endlinecolor": "#2a3f5f",
             "gridcolor": "white",
             "linecolor": "white",
             "minorgridcolor": "white",
             "startlinecolor": "#2a3f5f"
            },
            "type": "carpet"
           }
          ],
          "choropleth": [
           {
            "colorbar": {
             "outlinewidth": 0,
             "ticks": ""
            },
            "type": "choropleth"
           }
          ],
          "contour": [
           {
            "colorbar": {
             "outlinewidth": 0,
             "ticks": ""
            },
            "colorscale": [
             [
              0,
              "#0d0887"
             ],
             [
              0.1111111111111111,
              "#46039f"
             ],
             [
              0.2222222222222222,
              "#7201a8"
             ],
             [
              0.3333333333333333,
              "#9c179e"
             ],
             [
              0.4444444444444444,
              "#bd3786"
             ],
             [
              0.5555555555555556,
              "#d8576b"
             ],
             [
              0.6666666666666666,
              "#ed7953"
             ],
             [
              0.7777777777777778,
              "#fb9f3a"
             ],
             [
              0.8888888888888888,
              "#fdca26"
             ],
             [
              1,
              "#f0f921"
             ]
            ],
            "type": "contour"
           }
          ],
          "contourcarpet": [
           {
            "colorbar": {
             "outlinewidth": 0,
             "ticks": ""
            },
            "type": "contourcarpet"
           }
          ],
          "heatmap": [
           {
            "colorbar": {
             "outlinewidth": 0,
             "ticks": ""
            },
            "colorscale": [
             [
              0,
              "#0d0887"
             ],
             [
              0.1111111111111111,
              "#46039f"
             ],
             [
              0.2222222222222222,
              "#7201a8"
             ],
             [
              0.3333333333333333,
              "#9c179e"
             ],
             [
              0.4444444444444444,
              "#bd3786"
             ],
             [
              0.5555555555555556,
              "#d8576b"
             ],
             [
              0.6666666666666666,
              "#ed7953"
             ],
             [
              0.7777777777777778,
              "#fb9f3a"
             ],
             [
              0.8888888888888888,
              "#fdca26"
             ],
             [
              1,
              "#f0f921"
             ]
            ],
            "type": "heatmap"
           }
          ],
          "histogram": [
           {
            "marker": {
             "pattern": {
              "fillmode": "overlay",
              "size": 10,
              "solidity": 0.2
             }
            },
            "type": "histogram"
           }
          ],
          "histogram2d": [
           {
            "colorbar": {
             "outlinewidth": 0,
             "ticks": ""
            },
            "colorscale": [
             [
              0,
              "#0d0887"
             ],
             [
              0.1111111111111111,
              "#46039f"
             ],
             [
              0.2222222222222222,
              "#7201a8"
             ],
             [
              0.3333333333333333,
              "#9c179e"
             ],
             [
              0.4444444444444444,
              "#bd3786"
             ],
             [
              0.5555555555555556,
              "#d8576b"
             ],
             [
              0.6666666666666666,
              "#ed7953"
             ],
             [
              0.7777777777777778,
              "#fb9f3a"
             ],
             [
              0.8888888888888888,
              "#fdca26"
             ],
             [
              1,
              "#f0f921"
             ]
            ],
            "type": "histogram2d"
           }
          ],
          "histogram2dcontour": [
           {
            "colorbar": {
             "outlinewidth": 0,
             "ticks": ""
            },
            "colorscale": [
             [
              0,
              "#0d0887"
             ],
             [
              0.1111111111111111,
              "#46039f"
             ],
             [
              0.2222222222222222,
              "#7201a8"
             ],
             [
              0.3333333333333333,
              "#9c179e"
             ],
             [
              0.4444444444444444,
              "#bd3786"
             ],
             [
              0.5555555555555556,
              "#d8576b"
             ],
             [
              0.6666666666666666,
              "#ed7953"
             ],
             [
              0.7777777777777778,
              "#fb9f3a"
             ],
             [
              0.8888888888888888,
              "#fdca26"
             ],
             [
              1,
              "#f0f921"
             ]
            ],
            "type": "histogram2dcontour"
           }
          ],
          "mesh3d": [
           {
            "colorbar": {
             "outlinewidth": 0,
             "ticks": ""
            },
            "type": "mesh3d"
           }
          ],
          "parcoords": [
           {
            "line": {
             "colorbar": {
              "outlinewidth": 0,
              "ticks": ""
             }
            },
            "type": "parcoords"
           }
          ],
          "pie": [
           {
            "automargin": true,
            "type": "pie"
           }
          ],
          "scatter": [
           {
            "fillpattern": {
             "fillmode": "overlay",
             "size": 10,
             "solidity": 0.2
            },
            "type": "scatter"
           }
          ],
          "scatter3d": [
           {
            "line": {
             "colorbar": {
              "outlinewidth": 0,
              "ticks": ""
             }
            },
            "marker": {
             "colorbar": {
              "outlinewidth": 0,
              "ticks": ""
             }
            },
            "type": "scatter3d"
           }
          ],
          "scattercarpet": [
           {
            "marker": {
             "colorbar": {
              "outlinewidth": 0,
              "ticks": ""
             }
            },
            "type": "scattercarpet"
           }
          ],
          "scattergeo": [
           {
            "marker": {
             "colorbar": {
              "outlinewidth": 0,
              "ticks": ""
             }
            },
            "type": "scattergeo"
           }
          ],
          "scattergl": [
           {
            "marker": {
             "colorbar": {
              "outlinewidth": 0,
              "ticks": ""
             }
            },
            "type": "scattergl"
           }
          ],
          "scattermap": [
           {
            "marker": {
             "colorbar": {
              "outlinewidth": 0,
              "ticks": ""
             }
            },
            "type": "scattermap"
           }
          ],
          "scattermapbox": [
           {
            "marker": {
             "colorbar": {
              "outlinewidth": 0,
              "ticks": ""
             }
            },
            "type": "scattermapbox"
           }
          ],
          "scatterpolar": [
           {
            "marker": {
             "colorbar": {
              "outlinewidth": 0,
              "ticks": ""
             }
            },
            "type": "scatterpolar"
           }
          ],
          "scatterpolargl": [
           {
            "marker": {
             "colorbar": {
              "outlinewidth": 0,
              "ticks": ""
             }
            },
            "type": "scatterpolargl"
           }
          ],
          "scatterternary": [
           {
            "marker": {
             "colorbar": {
              "outlinewidth": 0,
              "ticks": ""
             }
            },
            "type": "scatterternary"
           }
          ],
          "surface": [
           {
            "colorbar": {
             "outlinewidth": 0,
             "ticks": ""
            },
            "colorscale": [
             [
              0,
              "#0d0887"
             ],
             [
              0.1111111111111111,
              "#46039f"
             ],
             [
              0.2222222222222222,
              "#7201a8"
             ],
             [
              0.3333333333333333,
              "#9c179e"
             ],
             [
              0.4444444444444444,
              "#bd3786"
             ],
             [
              0.5555555555555556,
              "#d8576b"
             ],
             [
              0.6666666666666666,
              "#ed7953"
             ],
             [
              0.7777777777777778,
              "#fb9f3a"
             ],
             [
              0.8888888888888888,
              "#fdca26"
             ],
             [
              1,
              "#f0f921"
             ]
            ],
            "type": "surface"
           }
          ],
          "table": [
           {
            "cells": {
             "fill": {
              "color": "#EBF0F8"
             },
             "line": {
              "color": "white"
             }
            },
            "header": {
             "fill": {
              "color": "#C8D4E3"
             },
             "line": {
              "color": "white"
             }
            },
            "type": "table"
           }
          ]
         },
         "layout": {
          "annotationdefaults": {
           "arrowcolor": "#2a3f5f",
           "arrowhead": 0,
           "arrowwidth": 1
          },
          "autotypenumbers": "strict",
          "coloraxis": {
           "colorbar": {
            "outlinewidth": 0,
            "ticks": ""
           }
          },
          "colorscale": {
           "diverging": [
            [
             0,
             "#8e0152"
            ],
            [
             0.1,
             "#c51b7d"
            ],
            [
             0.2,
             "#de77ae"
            ],
            [
             0.3,
             "#f1b6da"
            ],
            [
             0.4,
             "#fde0ef"
            ],
            [
             0.5,
             "#f7f7f7"
            ],
            [
             0.6,
             "#e6f5d0"
            ],
            [
             0.7,
             "#b8e186"
            ],
            [
             0.8,
             "#7fbc41"
            ],
            [
             0.9,
             "#4d9221"
            ],
            [
             1,
             "#276419"
            ]
           ],
           "sequential": [
            [
             0,
             "#0d0887"
            ],
            [
             0.1111111111111111,
             "#46039f"
            ],
            [
             0.2222222222222222,
             "#7201a8"
            ],
            [
             0.3333333333333333,
             "#9c179e"
            ],
            [
             0.4444444444444444,
             "#bd3786"
            ],
            [
             0.5555555555555556,
             "#d8576b"
            ],
            [
             0.6666666666666666,
             "#ed7953"
            ],
            [
             0.7777777777777778,
             "#fb9f3a"
            ],
            [
             0.8888888888888888,
             "#fdca26"
            ],
            [
             1,
             "#f0f921"
            ]
           ],
           "sequentialminus": [
            [
             0,
             "#0d0887"
            ],
            [
             0.1111111111111111,
             "#46039f"
            ],
            [
             0.2222222222222222,
             "#7201a8"
            ],
            [
             0.3333333333333333,
             "#9c179e"
            ],
            [
             0.4444444444444444,
             "#bd3786"
            ],
            [
             0.5555555555555556,
             "#d8576b"
            ],
            [
             0.6666666666666666,
             "#ed7953"
            ],
            [
             0.7777777777777778,
             "#fb9f3a"
            ],
            [
             0.8888888888888888,
             "#fdca26"
            ],
            [
             1,
             "#f0f921"
            ]
           ]
          },
          "colorway": [
           "#636efa",
           "#EF553B",
           "#00cc96",
           "#ab63fa",
           "#FFA15A",
           "#19d3f3",
           "#FF6692",
           "#B6E880",
           "#FF97FF",
           "#FECB52"
          ],
          "font": {
           "color": "#2a3f5f"
          },
          "geo": {
           "bgcolor": "white",
           "lakecolor": "white",
           "landcolor": "#E5ECF6",
           "showlakes": true,
           "showland": true,
           "subunitcolor": "white"
          },
          "hoverlabel": {
           "align": "left"
          },
          "hovermode": "closest",
          "mapbox": {
           "style": "light"
          },
          "paper_bgcolor": "white",
          "plot_bgcolor": "#E5ECF6",
          "polar": {
           "angularaxis": {
            "gridcolor": "white",
            "linecolor": "white",
            "ticks": ""
           },
           "bgcolor": "#E5ECF6",
           "radialaxis": {
            "gridcolor": "white",
            "linecolor": "white",
            "ticks": ""
           }
          },
          "scene": {
           "xaxis": {
            "backgroundcolor": "#E5ECF6",
            "gridcolor": "white",
            "gridwidth": 2,
            "linecolor": "white",
            "showbackground": true,
            "ticks": "",
            "zerolinecolor": "white"
           },
           "yaxis": {
            "backgroundcolor": "#E5ECF6",
            "gridcolor": "white",
            "gridwidth": 2,
            "linecolor": "white",
            "showbackground": true,
            "ticks": "",
            "zerolinecolor": "white"
           },
           "zaxis": {
            "backgroundcolor": "#E5ECF6",
            "gridcolor": "white",
            "gridwidth": 2,
            "linecolor": "white",
            "showbackground": true,
            "ticks": "",
            "zerolinecolor": "white"
           }
          },
          "shapedefaults": {
           "line": {
            "color": "#2a3f5f"
           }
          },
          "ternary": {
           "aaxis": {
            "gridcolor": "white",
            "linecolor": "white",
            "ticks": ""
           },
           "baxis": {
            "gridcolor": "white",
            "linecolor": "white",
            "ticks": ""
           },
           "bgcolor": "#E5ECF6",
           "caxis": {
            "gridcolor": "white",
            "linecolor": "white",
            "ticks": ""
           }
          },
          "title": {
           "x": 0.05
          },
          "xaxis": {
           "automargin": true,
           "gridcolor": "white",
           "linecolor": "white",
           "ticks": "",
           "title": {
            "standoff": 15
           },
           "zerolinecolor": "white",
           "zerolinewidth": 2
          },
          "yaxis": {
           "automargin": true,
           "gridcolor": "white",
           "linecolor": "white",
           "ticks": "",
           "title": {
            "standoff": 15
           },
           "zerolinecolor": "white",
           "zerolinewidth": 2
          }
         }
        },
        "title": {
         "text": "📦 Sales and Profit by Product Category"
        },
        "xaxis": {
         "anchor": "y",
         "domain": [
          0,
          1
         ],
         "title": {
          "text": "Category"
         }
        },
        "yaxis": {
         "anchor": "x",
         "domain": [
          0,
          1
         ],
         "title": {
          "text": "Total Sales"
         }
        }
       }
      }
     },
     "metadata": {},
     "output_type": "display_data"
    }
   ],
   "source": [
    "# Group by Category and aggregate sales and profit\n",
    "cat_perf = df.groupby('Category').agg(\n",
    "    total_sales=('Sales', 'sum'),\n",
    "    total_profit=('Profit', 'sum')\n",
    ").reset_index()\n",
    "\n",
    "# Sort by sales\n",
    "cat_perf.sort_values(by='total_sales', ascending=False, inplace=True)\n",
    "\n",
    "# Visualize with Plotly bar chart\n",
    "import plotly.express as px\n",
    "\n",
    "fig_cat = px.bar(\n",
    "    cat_perf,\n",
    "    x='Category',\n",
    "    y='total_sales',\n",
    "    color='total_profit',\n",
    "    color_continuous_scale='Blues',\n",
    "    title='📦 Sales and Profit by Product Category',\n",
    "    labels={'total_sales': 'Total Sales', 'total_profit': 'Total Profit'}\n",
    ")\n",
    "\n",
    "fig_cat.show()"
   ]
  },
  {
   "cell_type": "markdown",
   "metadata": {},
   "source": [
    "## 💸 Discount vs Profit\n",
    "\n",
    "Let’s explore the relationship between discount rates and profitability.  \n",
    "This helps us understand whether giving discounts truly drives profit or causes losses."
   ]
  },
  {
   "cell_type": "code",
   "execution_count": 6,
   "metadata": {
    "execution": {
     "iopub.execute_input": "2025-07-16T00:12:03.172213Z",
     "iopub.status.busy": "2025-07-16T00:12:03.171843Z",
     "iopub.status.idle": "2025-07-16T00:12:06.117054Z",
     "shell.execute_reply": "2025-07-16T00:12:06.116125Z",
     "shell.execute_reply.started": "2025-07-16T00:12:03.172180Z"
    },
    "trusted": true
   },
   "outputs": [
    {
     "data": {
      "application/vnd.plotly.v1+json": {
       "config": {
        "plotlyServerURL": "https://plot.ly"
       },
       "data": [
        {
         "hovertemplate": "Discount Rate=%{x}<br>Profit=%{y}<extra></extra>",
         "legendgroup": "",
         "marker": {
          "color": "#636efa",
          "opacity": 0.6,
          "symbol": "circle"
         },
         "mode": "markers",
         "name": "",
         "showlegend": false,
         "type": "scattergl",
         "x": {
          "bdata": "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",
          "dtype": "f8"
         },
         "xaxis": "x",
         "y": {
          "bdata": "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",
          "dtype": "f8"
         },
         "yaxis": "y"
        },
        {
         "hovertemplate": "<b>OLS trendline</b><br>Profit = -249.051 * Discount + 67.5594<br>R<sup>2</sup>=0.048175<br><br>Discount Rate=%{x}<br>Profit=%{y} <b>(trend)</b><extra></extra>",
         "legendgroup": "",
         "marker": {
          "color": "#636efa",
          "symbol": "circle"
         },
         "mode": "lines",
         "name": "",
         "showlegend": false,
         "type": "scattergl",
         "x": {
          "bdata": "AAAAAAAAAAAAAAAAAAAAAAAAAAAAAAAAAAAAAAAAAAAAAAAAAAAAAAAAAAAAAAAAAAAAAAAAAAAAAAAAAAAAAAAAAAAAAAAAAAAAAAAAAAAAAAAAAAAAAAAAAAAAAAAAAAAAAAAAAAAAAAAAAAAAAAAAAAAAAAAAAAAAAAAAAAAAAAAAAAAAAAAAAAAAAAAAAAAAAAAAAAAAAAAAAAAAAAAAAAAAAAAAAAAAAAAAAAAAAAAAAAAAAAAAAAAAAAAAAAAAAAAAAAAAAAAAAAAAAAAAAAAAAAAAAAAAAAAAAAAAAAAAAAAAAAAAAAAAAAAAAAAAAAAAAAAAAAAAAAAAAAAAAAAAAAAAAAAAAAAAAAAAAAAAAAAAAAAAAAAAAAAAAAAAAAAAAAAAAAAAAAAAAAAAAAAAAAAAAAAAAAAAAAAAAAAAAAAAAAAAAAAAAAAAAAAAAAAAAAAAAAAAAAAAAAAAAAAAAAAAAAAAAAAAAAAAAAAAAAAAAAAAAAAAAAAAAAAAAAAAAAAAAAAAAAAAAAAAAAAAAAAAAAAAAAAAAAAAAAAAAAAAAAAAAAAAAAAAAAAAAAAAAAAAAAAAAAAAAAAAAAAAAAAAAAAAAAAAAAAAAAAAAAAAAAAAAAAAAAAAAAAAAAAAAAAAAAAAAAAAAAAAAAAAAAAAAAAAAAAAAAAAAAAAAAAAAAAAAAAAAAAAAAAAAAAAAAAAAAAAAAAAAAAAAAAAAAAAAAAAAAAAAAAAAAAAAAAAAAAAAAAAAAAAAAAAAAAAAAAAAAAAAAAAAAAAAAAAAAAAAAAAAAAAAAAAAAAAAAAAAAAAAAAAAAAAAAAAAAAAAAAAAAAAAAAAAAAAAAAAAAAAAAAAAAAAAAAAAAAAAAAAAAAAAAAAAAAAAAAAAAAAAAAAAAAAAAAAAAAAAAAAAAAAAAAAAAAAAAAAAAAAAAAAAAAAAAAAAAAAAAAAAAAAAAAAAAAAAAAAAAAAAAAAAAAAAAAAAAAAAAAAAAAAAAAAAAAAAAAAAAAAAAAAAAAAAAAAAAAAAAAAAAAAAAAAAAAAAAAAAAAAAAAAAAAAAAAAAAAAAAAAAAAAAAAAAAAAAAAAAAAAAAAAAAAAAAAAAAAAAAAAAAAAAAAAAAAAAAAAAAAAAAAAAAAAAAAAAAAAAAAAAAAAAAAAAAAAAAAAAAAAAAAAAAAAAAAAAAAAAAAAAAAAAAAAAAAAAAAAAAAAAAAAAAAAAAAAAAAAAAAAAAAAAAAAAAAAAAAAAAAAAAAAAAAAAAAAAAAAAAAAAAAAAAAAAAAAAAAAAAAAAAAAAAAAAAAAAAAAAAAAAAAAAAAAAAAAAAAAAAAAAAAAAAAAAAAAAAAAAAAAAAAAAAAAAAAAAAAAAAAAAAAAAAAAAAAAAAAAAAAAAAAAAAAAAAAAAAAAAAAAAAAAAAAAAAAAAAAAAAAAAAAAAAAAAAAAAAAAAAAAAAAAAAAAAAAAAAAAAAAAAAAAAAAAAAAAAAAAAAAAAAAAAAAAAAAAAAAAAAAAAAAAAAAAAAAAAAAAAAAAAAAAAAAAAAAAAAAAAAAAAAAAAAAAAAAAAAAAAAAAAAAAAAAAAAAAAAAAAAAAAAAAAAAAAAAAAAAAAAAAAAAAAAAAAAAAAAAAAAAAAAAAAAAAAAAAAAAAAAAAAAAAAAAAAAAAAAAAAAAAAAAAAAAAAAAAAAAAAAAAAAAAAAAAAAAAAAAAAAAAAAAAAAAAAAAAAAAAAAAAAAAAAAAAAAAAAAAAAAAAAAAAAAAAAAAAAAAAAAAAAAAAAAAAAAAAAAAAAAAAAAAAAAAAAAAAAAAAAAAAAAAAAAAAAAAAAAAAAAAAAAAAAAAAAAAAAAAAAAAAAAAAAAAAAAAAAAAAAAAAAAAAAAAAAAAAAAAAAAAAAAAAAAAAAAAAAAAAAAAAAAAAAAAAAAAAAAAAAAAAAAAAAAAAAAAAAAAAAAAAAAAAAAAAAAAAAAAAAAAAAAAAAAAAAAAAAAAAAAAAAAAAAAAAAAAAAAAAAAAAAAAAAAAAAAAAAAAAAAAAAAAAAAAAAAAAAAAAAAAAAAAAAAAAAAAAAAAAAAAAAAAAAAAAAAAAAAAAAAAAAAAAAAAAAAAAAAAAAAAAAAAAAAAAAAAAAAAAAAAAAAAAAAAAAAAAAAAAAAAAAAAAAAAAAAAAAAAAAAAAAAAAAAAAAAAAAAAAAAAAAAAAAAAAAAAAAAAAAAAAAAAAAAAAAAAAAAAAAAAAAAAAAAAAAAAAAAAAAAAAAAAAAAAAAAAAAAAAAAAAAAAAAAAAAAAAAAAAAAAAAAAAAAAAAAAAAAAAAAAAAAAAAAAAAAAAAAAAAAAAAAAAAAAAAAAAAAAAAAAAAAAAAAAAAAAAAAAAAAAAAAAAAAAAAAAAAAAAAAAAAAAAAAAAAAAAAAAAAAAAAAAAAAAAAAAAAAAAAAAAAAAAAAAAAAAAAAAAAAAAAAAAAAAAAAAAAAAAAAAAAAAAAAAAAAAAAAAAAAAAAAAAAAAAAAAAAAAAAAAAAAAAAAAAAAAAAAAAAAAAAAAAAAAAAAAAAAAAAAAAAAAAAAAAAAAAAAAAAAAAAAAAAAAAAAAAAAAAAAAAAAAAAAAAAAAAAAAAAAAAAAAAAAAAAAAAAAAAAAAAAAAAAAAAAAAAAAAAAAAAAAAAAAAAAAAAAAAAAAAAAAAAAAAAAAAAAAAAAAAAAAAAAAAAAAAAAAAAAAAAAAAAAAAAAAAAAAAAAAAAAAAAAAAAAAAAAAAAAAAAAAAAAAAAAAAAAAAAAAAAAAAAAAAAAAAAAAAAAAAAAAAAAAAAAAAAAAAAAAAAAAAAAAAAAAAAAAAAAAAAAAAAAAAAAAAAAAAAAAAAAAAAAAAAAAAAAAAAAAAAAAAAAAAAAAAAAAAAAAAAAAAAAAAAAAAAAAAAAAAAAAAAAAAAAAAAAAAAAAAAAAAAAAAAAAAAAAAAAAAAAAAAAAAAAAAAAAAAAAAAAAAAAAAAAAAAAAAAAAAAAAAAAAAAAAAAAAAAAAAAAAAAAAAAAAAAAAAAAAAAAAAAAAAAAAAAAAAAAAAAAAAAAAAAAAAAAAAAAAAAAAAAAAAAAAAAAAAAAAAAAAAAAAAAAAAAAAAAAAAAAAAAAAAAAAAAAAAAAAAAAAAAAAAAAAAAAAAAAAAAAAAAAAAAAAAAAAAAAAAAAAAAAAAAAAAAAAAAAAAAAAAAAAAAAAAAAAAAAAAAAAAAAAAAAAAAAAAAAAAAAAAAAAAAAAAAAAAAAAAAAAAAAAAAAAAAAAAAAAAAAAAAAAAAAAAAAAAAAAAAAAAAAAAAAAAAAAAAAAAAAAAAAAAAAAAAAAAAAAAAAAAAAAAAAAAAAAAAAAAAAAAAAAAAAAAAAAAAAAAAAAAAAAAAAAAAAAAAAAAAAAAAAAAAAAAAAAAAAAAAAAAAAAAAAAAAAAAAAAAAAAAAAAAAAAAAAAAAAAAAAAAAAAAAAAAAAAAAAAAAAAAAAAAAAAAAAAAAAAAAAAAAAAAAAAAAAAAAAAAAAAAAAAAAAAAAAAAAAAAAAAAAAAAAAAAAAAAAAAAAAAAAAAAAAAAAAAAAAAAAAAAAAAAAAAAAAAAAAAAAAAAAAAAAAAAAAAAAAAAAAAAAAAAAAAAAAAAAAAAAAAAAAAAAAAAAAAAAAAAAAAAAAAAAAAAAAAAAAAAAAAAAAAAAAAAAAAAAAAAAAAAAAAAAAAAAAAAAAAAAAAAAAAAAAAAAAAAAAAAAAAAAAAAAAAAAAAAAAAAAAAAAAAAAAAAAAAAAAAAAAAAAAAAAAAAAAAAAAAAAAAAAAAAAAAAAAAAAAAAAAAAAAAAAAAAAAAAAAAAAAAAAAAAAAAAAAAAAAAAAAAAAAAAAAAAAAAAAAAAAAAAAAAAAAAAAAAAAAAAAAAAAAAAAAAAAAAAAAAAAAAAAAAAAAAAAAAAAAAAAAAAAAAAAAAAAAAAAAAAAAAAAAAAAAAAAAAAAAAAAAAAAAAAAAAAAAAAAAAAAAAAAAAAAAAAAAAAAAAAAAAAAAAAAAAAAAAAAAAAAAAAAAAAAAAAAAAAAAAAAAAAAAAAAAAAAAAAAAAAAAAAAAAAAAAAAAAAAAAAAAAAAAAAAAAAAAAAAAAAAAAAAAAAAAAAAAAAAAAAAAAAAAAAAAAAAAAAAAAAAAAAAAAAAAAAAAAAAAAAAAAAAAAAAAAAAAAAAAAAAAAAAAAAAAAAAAAAAAAAAAAAAAAAAAAAAAAAAAAAAAAAAAAAAAAAAAAAAAAAAAAAAAAAAAAAAAAAAAAAAAAAAAAAAAAAAAAAAAAAAAAAAAAAAAAAAAAAAAAAAAAAAAAAAAAAAAAAAAAAAAAAAAAAAAAAAAAAAAAAAAAAAAAAAAAAAAAAAAAAAAAAAAAAAAAAAAAAAAAAAAAAAAAAAAAAAAAAAAAAAAAAAAAAAAAAAAAAAAAAAAAAAAAAAAAAAAAAAAAAAAAAAAAAAAAAAAAAAAAAAAAAAAAAAAAAAAAAAAAAAAAAAAAAAAAAAAAAAAAAAAAAAAAAAAAAAAAAAAAAAAAAAAAAAAAAAAAAAAAAAAAAAAAAAAAAAAAAAAAAAAAAAAAAAAAAAAAAAAAAAAAAAAAAAAAAAAAAAAAAAAAAAAAAAAAAAAAAAAAAAAAAAAAAAAAAAAAAAAAAAAAAAAAAAAAAAAAAAAAAAAAAAAAAAAAAAAAAAAAAAAAAAAAAAAAAAAAAAAAAAAAAAAAAAAAAAAAAAAAAAAAAAAAAAAAAAAAAAAAAAAAAAAAAAAAAAAAAAAAAAAAAAAAAAAAAAAAAAAAAAAAAAAAAAAAAAAAAAAAAAAAAAAAAAAAAAAAAAAAAAAAAAAAAAAAAAAAAAAAAAAAAAAAAAAAAAAAAAAAAAAAAAAAAAAAAAAAAAAAAAAAAAAAAAAAAAAAAAAAAAAAAAAAAAAAAAAAAAAAAAAAAAAAAAAAAAAAAAAAAAAAAAAAAAAAAAAAAAAAAAAAAAAAAAAAAAAAAAAAAAAAAAAAAAAAAAAAAAAAAAAAAAAAAAAAAAAAAAAAAAAAAAAAAAAAAAAAAAAAAAAAAAAAAAAAAAAAAAAAAAAAAAAAAAAAAAAAAAAAAAAAAAAAAAAAAAAAAAAAAAAAAAAAAAAAAAAAAAAAAAAAAAAAAAAAAAAAAAAAAAAAAAAAAAAAAAAAAAAAAAAAAAAAAAAAAAAAAAAAAAAAAAAAAAAAAAAAAAAAAAAAAAAAAAAAAAAAAAAAAAAAAAAAAAAAAAAAAAAAAAAAAAAAAAAAAAAAAAAAAAAAAAAAAAAAAAAAAAAAAAAAAAAAAAAAAAAAAAAAAAAAAAAAAAAAAAAAAAAAAAAAAAAAAAAAAAAAAAAAAAAAAAAAAAAAAAAAAAAAAAAAAAAAAAAAAAAAAAAAAAAAAAAAAAAAAAAAAAAAAAAAAAAAAAAAAAAAAAAAAAAAAAAAAAAAAAAAAAAAAAAAAAAAAAAAAAAAAAAAAAAAAAAAAAAAAAAAAAAAAAAAAAAAAAAAAAAAAAAAAAAAAAAAAAAAAAAAAAAAAAAAAAAAAAAAAAAAAAAAAAAAAAAAAAAAAAAAAAAAAAAAAAAAAAAAAAAAAAAAAAAAAAAAAAAAAAAAAAAAAAAAAAAAAAAAAAAAAAAAAAAAAAAAAAAAAAAAAAAAAAAAAAAAAAAAAAAAAAAAAAAAAAAAAAAAAAAAAAAAAAAAAAAAAAAAAAAAAAAAAAAAAAAAAAAAAAAAAAAAAAAAAAAAAAAAAAAAAAAAAAAAAAAAAAAAAAAAAAAAAAAAAAAAAAAAAAAAAAAAAAAAAAAAAAAAAAAAAAAAAAAAAAAAAAAAAAAAAAAAAAAAAAAAAAAAAAAAAAAAAAAAAAAAAAAAAAAAAAAAAAAAAAAAAAAAAAAAAAAAAAAAAAAAAAAAAAAAAAAAAAAAAAAAAAAAAAAAAAAAAAAAAAAAAAAAAAAAAAAAAAAAAAAAAAAAAAAAAAAAAAAAAAAAAAAAAAAAAAAAAAAAAAAAAAAAAAAAAAAAAAAAAAAAAAAAAAAAAAAAAAAAAAAAAAAAAAAAAAAAAAAAAAAAAAAAAAAAAAAAAAAAAAAAAAAAAAAAAAAAAAAAAAAAAAAAAAAAAAAAAAAAAAAAAAAAAAAAAAAAAAAAAAAAAAAAAAAAAAAAAAAAAAAAAAAAAAAAAAAAAAAAAAAAAAAAAAAAAAAAAAAAAAAAAAAAAAAAAAAAAAAAAAAAAAAAAAAAAAAAAAAAAAAAAAAAAAAAAAAAAAAAAAAAAAAAAAAAAAAAAAAAAAAAAAAAAAAAAAAAAAAAAAAAAAAAAAAAAAAAAAAAAAAAAAAAAAAAAAAAAAAAAAAAAAAAAAAAAAAAAAAAAAAAAAAAAAAAAAAAAAAAAAAAAAAAAAAAAAAAAAAAAAAAAAAAAAAAAAAAAAAAAAAAAAAAAAAAAAAAAAAAAAAAAAAAAAAAAAAAAAAAAAAAAAAAAAAAAAAAAAAAAAAAAAAAAAAAAAAAAAAAAAAAAAAAAAAAAAAAAAAAAAAAAAAAAAAAAAAAAAAAAAAAAAAAAAAAAAAAAAAAAAAAAAAAAAAAAAAAAAAAAAAAAAAAAAAAAAAAAAAAAAAAAAAAAAAAAAAAAAAAAAAAAAAAAAAAAAAAAAAAAAAAAAAAAAAAAAAAAAAAAAAAAAAAAAAAAAAAAAAAAAAAAAAAAAAAAAAAAAAAAAAAAAAAAAAAAAAAAAAAAAAAAAAAAAAAAAAAAAAAAAAAAAAAAAAAAAAAAAAAAAAAAAAAAAAAAAAAAAAAAAAAAAAAAAAAAAAAAAAAAAAAAAAAAAAAAAAAAAAAAAAAAAAAAAAAAAAAAAAAAAAAAAAAAAAAAAAAAAAAAAAAAAAAAAAAAAAAAAAAAAAAAAAAAAAAAAAAAAAAAAAAAAAAAAAAAAAAAAAAAAAAAAAAAAAAAAAAAAAAAAAAAAAAAAAAAAAAAAAAAAAAAAAAAAAAAAAAAAAAAAAAAAAAAAAAAAAAAAAAAAAAAAAAAAAAAAAAAAAAAAAAAAAAAAAAAAAAAAAAAAAAAAAAAAAAAAAAAAAAAAAAAAAAAAAAAAAAAAAAAAAAAAAAAAAAAAAAAAAAAAAAAAAAAAAAAAAAAAAAAAAAAAAAAAAAAAAAAAAAAAAAAAAAAAAAAAAAAAAAAAAAAAAAAAAAAAAAAAAAAAAAAAAAAAAAAAAAAAAAAAAAAAAAAAAAAAAAAAAAAAAAAAAAAAAAAAAAAAAAAAAAAAAAAAAAAAAAAAAAAAAAAAAAAAAAAAAAAAAAAAAAAAAAAAAAAAAAAAAAAAAAAAAAAAAAAAAAAAAAAAAAAAAAAAAAAAAAAAAAAAAAAAAAAAAAAAAAAAAAAAAAAAAAAAAAAAAAAAAAAAAAAAAAAAAAAAAAAAAAAAAAAAAAAAAAAAAAAAAAAAAAAAAAAAAAAAAAAAAAAAAAAAAAAAAAAAAAAAAAAAAAAAAAAAAAAAAAAAAAAAAAAAAAAAAAAAAAAAAAAAAAAAAAAAAAAAAAAAAAAAAAAAAAAAAAAAAAAAAAAAAAAAAAAAAAAAAAAAAAAAAAAAAAAAAAAAAAAAAAAAAAAAAAAAAAAAAAAAAAAAAAAAAAAAAAAAAAAAAAAAAAAAAAAAAAAAAAAAAAAAAAAAAAAAAAAAAAAAAAAAAAAAAAAAAAAAAAAAAAAAAAAAAAAAAAAAAAAAAAAAAAAAAAAAAAAAAAAAAAAAAAAAAAAAAAAAAAAAAAAAAAAAAAAAAAAAAAAAAAAAAAAAAAAAAAAAAAAAAAAAAAAAAAAAAAAAAAAAAAAAAAAAAAAAAAAAAAAAAAAAAAAAAAAAAAAAAAAAAAAAAAAAAAAAAAAAAAAAAAAAAAAAAAAAAAAAAAAAAAAAAAAAAAAAAAAAAAAAAAAAAAAAAAAAAAAAAAAAAAAAAAAAAAAAAAAAAAAAAAAAAAAAAAAAAAAAAAAAAAAAAAAAAAAAAAAAAAAAAAAAAAAAAAAAAAAAAAAAAAAAAAAAAAAAAAAAAAAAAAAAAAAAAAAAAAAAAAAAAAAAAAAAAAAAAAAAAAAAAAAAAAAAAAAAAAAAAAAAAAAAAAAAAAAAAAAAAAAAAAAAAAAAAAAAAAAAAAAAAAAAAAAAAAAAAAAAAAAAAAAAAAAAAAAAAAAAAAAAAAAAAAAAAAAAAAAAAAAAAAAAAAAAAAAAAAAAAAAAAAAAAAAAAAAAAAAAAAAAAAAAAAAAAAAAAAAAAAAAAAAAAAAAAAAAAAAAAAAAAAAAAAAAAAAAAAAAAAAAAAAAAAAAAAAAAAAAAAAAAAAAAAAAAAAAAAAAAAAAAAAAAAAAAAAAAAAAAAAAAAAAAAAAAAAAAAAAAAAAAAAAAAAAAAAAAAAAAAAAAAAAAAAAAAAAAAAAAAAAAAAAAAAAAAAAAAAAAAAAAAAAAAAAAAAAAAAAAAAAAAAAAAAAAAAAAAAAAAAAAAAAAAAAAAAAAAAAAAAAAAAAAAAAAAAAAAAAAAAAAAAAAAAAAAAAAAAAAAAAAAAAAAAAAAAAAAAAAAAAAAAAAAAAAAAAAAAAAAAAAAAAAAAAAAAAAAAAAAAAAAAAAAAAAAAAAAAAAAAAAAAAAAAAAAAAAAAAAAAAAAAAAAAAAAAAAAAAAAAAAAAAAAAAAAAAAAAAAAAAAAAAAAAAAAAAAAAAAAAAAAAAAAAAAAAAAAAAAAAAAAAAAAAAAAAAAAAAAAAAAAAAAAAAAAAAAAAAAAAAAAAAAAAAAAAAAAAAAAAAAAAAAAAAAAAAAAAAAAAAAAAAAAAAAAAAAAAAAAAAAAAAAAAAAAAAAAAAAAAAAAAAAAAAAAAAAAAAAAAAAAAAAAAAAAAAAAAAAAAAAAAAAAAAAAAAAAAAAAAAAAAAAAAAAAAAAAAAAAAAAAAAAAAAAAAAAAAAAAAAAAAAAAAAAAAAAAAAAAAAAAAAAAAAAAAAAAAAAAAAAAAAAAAAAAAAAAAAAAAAAAAAAAAAAAAAAAAAAAAAAAAAAAAAAAAAAAAAAAAAAAAAAAAAAAAAAAAAAAAAAAAAAAAAAAAAAAAAAAAAAAAAAAAAAAAAAAAAAAAAAAAAAAAAAAAAAAAAAAAAAAAAAAAAAAAAAAAAAAAAAAAAAAAAAAAAAAAAAAAAAAAAAAAAAAAAAAAAAAAAAAAAAAAAAAAAAAAAAAAAAAAAAAAAAAAAAAAAAAAAAAAAAAAAAAAAAAAAAAAAAAAAAAAAAAAAAAAAAAAAAAAAAAAAAAAAAAAAAAAAAAAAAAAAAAAAAAAAAAAAAAAAAAAAAAAAAAAAAAAAAAAAAAAAAAAAAAAAAAAAAAAAAAAAAAAAAAAAAAAAAAAAAAAAAAAAAAAAAAAAAAAAAAAAAAAAAAAAAAAAAAAAAAAAAAAAAAAAAAAAAAAAAAAAAAAAAAAAAAAAAAAAAAAAAAAAAAAAAAAAAAAAAAAAAAAAAAAAAAAAAAAAAAAAAAAAAAAAAAAAAAAAAAAAAAAAAAAAAAAAAAAAAAAAAAAAAAAAAAAAAAAAAAAAAAAAAAAAAAAAAAAAAAAAAAAAAAAAAAAAAAAAAAAAAAAAAAAAAAAAAAAAAAAAAAAAAAAAAAAAAAAAAAAAAAAAAAAAAAAAAAAAAAAAAAAAAAAAAAAAAAAAAAAAAAAAAAAAAAAAAAAAAAAAAAAAAAAAAAAAAAAAAAAAAAAAAAAAAAAAAAAAAAAAAAAAAAAAAAAAAAAAAAAAAAAAAAAAAAAAAAAAAAAAAAAAAAAAAAAAAAAAAAAAAAAAAAAAAAAAAAAAAAAAAAAAAAAAAAAAAAAAAAAAAAAAAAAAAAAAAAAAAAAAAAAAAAAAAAAAAAAAAAAAAAAAAAAAAAAAAAAAAAAAAAAAAAAAAAAAAAAAAAAAAAAAAAAAAAAAAAAAAAAAAAAAAAAAAAAAAAAAAAAAAAAAAAAAAAAAAAAAAAAAAAAAAAAAAAAAAAAAAAAAAAAAAAAAAAAAAAAAAAAAAAAAAAAAAAAAAAAAAAAAAAAAAAAAAAAAAAAAAAAAAAAAAAAAAAAAAAAAAAAAAAAAAAAAAAAAAAAAAAAAAAAAAAAAAAAAAAAAAAAAAAAAAAAAAAAAAAAAAAAAAAAAAAAAAAAAAAAAAAAAAAAAAAAAAAAAAAAAAAAAAAAAAAAAAAAAAAAAAAAAAAAAAAAAAAAAAAAAAAAAAAAAAAAAAAAAAAAAAAAAAAAAAAAAAAAAAAAAAAAAAAAAAAAAAAAAAAAAAAAAAAAAAAAAAAAAAAAAAAAAAAAAAAAAAAAAAAAAAAAAAAAAAAAAAAAAAAAAAAAAAAAAAAAAAAAAAAAAAAAAAAAAAAAAAAAAAAAAAAAAAAAAAAAAAAAAAAAAAAAAAAAAAAAAAAAAAAAAAAAAAAAAAAAAAAAAAAAAAAAAAAAAAAAAAAAAAAAAAAAAAAAAAAAAAAAAAAAAAAAAAAAAAAAAAAAAAAAAAAAAAAAAAAAAAAAAAAAAAAAAAAAAAAAAAAAAAAAAAAAAAAAAAAAAAAAAAAAAAAAAAAAAAAAAAAAAAAAAAAAAAAAAAAAAAAAAAAAAAAAAAAAAAAAAAAAAAAAAAAAAAAAAAAAAAAAAAAAAAAAAAAAAAAAAAAAAAAAAAAAAAAAAAAAAAAAAAAAAAAAAAAAAAAAAAAAAAAAAAAAAAAAAAAAAAAAAAAAAAAAAAAAAAAAAAAAAAAAAAAAAAAAAAAAAAAAAAAAAAAAAAAAAAAAAAAAAAAAAAAAAAAAAAAAAAAAAAAAAAAAAAAAAAAAAAAAAAAAAAAAAAAAAAAAAAAAAAAAAAAAAAAAAAAAAAAAAAAAAAAAAAAAAAAAAAAAAAAAAAAAAAAAAAAAAAAAAAAAAAAAAAAAAAAAAAAAAAAAAAAAAAAAAAAAAAAAAAAAAAAAAAAAAAAAAAAAAAAAAAAAAAAAAAAAAAAAAAAAAAAAAAAAAAAAAAAAAAAAAAAAAAAAAAAAAAAAAAAAAAAAAAAAAAAAAAAAAAAAAAAAAAAAAAAAAAAAAAAAAAAAAAAAAAAAAAAAAAAAAAAAAAAAAAAAAAAAAAAAAAAAAAAAAAAAAAAAAAAAAAAAAAAAAAAAAAAAAAAAAAAAAAAAAAAAAAAAAAAAAAAAAAAAAAAAAAAAAAAAAAAAAAAAAAAAAAAAAAAAAAAAAAAAAAAAAAAAAAAAAAAAAAAAAAAAAAAAAAAAAAAAAAAAAAAAAAAAAAAAAAAAAAAAAAAAAAAAAAAAAAAAAAAAAAAAAAAAAAAAAAAAAAAAAAAAAAAAAAAAAAAAAAAAAAAAAAAAAAAAAAAAAAAAAAAAAAAAAAAAAAAAAAAAAAAAAAAAAAAAAAAAAAAAAAAAAAAAAAAAAAAAAAAAAAAAAAAAAAAAAAAAAAAAAAAAAAAAAAAAAAAAAAAAAAAAAAAAAAAAAAAAAAAAAAAAAAAAAAAAAAAAAAAAAAAAAAAAAAAAAAAAAAAAAAAAAAAAAAAAAAAAAAAAAAAAAAAAAAAAAAAAAAAAAAAAAAAAAAAAAAAAAAAAAAAAAAAAAAAAAAAAAAAAAAAAAAAAAAAAAAAAAAAAAAAAAAAAAAAAAAAAAAAAAAAAAAAAAAAAAAAAAAAAAAAAAAAAAAAAAAAAAAAAAAAAAAAAAAAAAAAAAAAAAAAAAAAAAAAAAAAAAAAAAAAAAAAAAAAAAAAAAAAAAAAAAAAAAAAAAAAAAAAAAAAAAAAAAAAAAAAAAAAAAAAAAAAAAAAAAAAAAAAAAAAAAAAAAAAAAAAAAAAAAAAAAAAAAAAAAAAAAAAAAAAAAAAAAAAAAAAAAAAAAAAAAAAAAAAAAAAAAAAAAAAAAAAAAAAAAAAAAAAAAAAAAAAAAAAAAAAAAAAAAAAAAAAAAAAAAAAAAAAAAAAAAAAAAAAAAAAAAAAAAAAAAAAAAAAAAAAAAAAAAAAAAAAAAAAAAAAAAAAAAAAAAAAAAAAAAAAAAAAAAAAAAAAAAAAAAAAAAAAAAAAAAAAAAAAAAAAAAAAAAAAAAAAAAAAAAAAAAAAAAAAAAAAAAAAAAAAAAAAAAAAAAAAAAAAAAAAAAAAAAAAAAAAAAAAAAAAAAAAAAAAAAAAAAAAAAAAAAAAAAAAAAAAAAAAAAAAAAAAAAAAAAAAAAAAAAAAAAAAAAAAAAAAAAAAAAAAAAAAAAAAAAAAAAAAAAAAAAAAAAAAAAAAAAAAAAAAAAAAAAAAAAAAAAAAAAAAAAAAAAAAAAAAAAAAAAAAAAAAAAAAAAAAAAAAAAAAAAAAAAAAAAAAAAAAAAAAAAAAAAAAAAAAAAAAAAAAAAAAAAAAAAAAAAAAAAAAAAAAAAAAAAAAAAAAAAAAAAAAAAAAAAAAAAAAAAAAAAAAAAAAAAAAAAAAAAAAAAAAAAAAAAAAAAAAAAAAAAAAAAAAAAAAAAAAAAAAAAAAAAAAAAAAAAAAAAAAAAAAAAAAAAAAAAAAAAAAAAAAAAAAAAAAAAAAAAAAAAAAAAAAAAAAAAAAAAAAAAAAAAAAAAAAAAAAAAAAAAAAAAAAAAAAAAAAAAAAAAAAAAAAAAAAAAAAAAAAAAAAAAAAAAAAAAAAAAAAAAAAAAAAAAAAAAAAAAAAAAAAAAAAAAAAAAAAAAAAAAAAAAAAAAAAAAAAAAAAAAAAAAAAAAAAAAAAAAAAAAAAAAAAAAAAAAAAAAAAAAAAAAAAAAAAAAAAAAAAAAAAAAAAAAAAAAAAAAAAAAAAAAAAAAAAAAAAAAAAAAAAAAAAAAAAAAAAAAAAAAAAAAAAAAAAAAAAAAAAAAAAAAAAAAAAAAAAAAAAAAAAAAAAAAAAAAAAAAAAAAAAAAAAAAAAAAAAAAAAAAAAAAAAAAAAAAAAAAAAAAAAAAAAAAAAAAAAAAAAAAAAAAAAAAAAAAAAAAAAAAAAAAAAAAAAAAAAAAAAAAAAAAAAAAAAAAAAAAAAAAAAAAAAAAAAAAAAAAAAAAAAAAAAAAAAAAAAAAAAAAAAAAAAAAAAAAAAAAAAAAAAAAAAAAAAAAAAAAAAAAAAAAAAAAAAAAAAAAAAAAAAAAAAAAAAAAAAAAAAAAAAAAAAAAAAAAAAAAAAAAAAAAAAAAAAAAAAAAAAAAAAAAAAAAAAAAAAAAAAAAAAAAAAAAAAAAAAAAAAAAAAAAAAAAAAAAAAAAAAAAAAAAAAAAAAAAAAAAAAAAAAAAAAAAAAAAAAAAAAAAAAAAAAAAAAAAAAAAAAAAAAAAAAAAAAAAAAAAAAAAAAAAAAAAAAAAAAAAAAAAAAAAAAAAAAAAAAAAAAAAAAAAAAAAAAAAAAAAAAAAAAAAAAAAAAAAAAAAAAAAAAAAAAAAAAAAAAAAAAAAAAAAAAAAAAAAAAAAAAAAAAAAAAAAAAAAAAAAAAAAAAAAAAAAAAAAAAAAAAAAAAAAAAAAAAAAAAAAAAAAAAAAAAAAAAAAAAAAAAAAAAAAAAAAAAAAAAAAAAAAAAAAAAAAAAAAAAAAAAAAAAAAAAAAAAAAAAAAAAAAAAAAAAAAAAAAAAAAAAAAAAAAAAAAAAAAAAAAAAAAAAAAAAAAAAAAAAAAAAAAAAAAAAAAAAAAAAAAAAAAAAAAAAAAAAAAAAAAAAAAAAAAAAAAAAAAAAAAAAAAAAAAAAAAAAAAAAAAAAAAAAAAAAAAAAAAAAAAAAAAAAAAAAAAAAAAAAAAAAAAAAAAAAAAAAAAAAAAAAAAAAAAAAAAAAAAAAAAAAAAAAAAAAAAAAAAAAAAAAAAAAAAAAAAAAAAAAAAAAAAAAAAAAAAAAAAAAAAAAAAAAAAAAAAAAAAAAAAAAAAAAAAAAAAAAAAAAAAAAAAAAAAAAAAAAAAAAAAAAAAAAAAAAAAAAAAAAAAAAAAAAAAAAAAAAAAAAAAAAAAAAAAAAAAAAAAAAAAAAAAAAAAAAAAAAAAAAAAAAAAAAAAAAAAAAAAAAAAAAAAAAAAAAAAAAAAAAAAAAAAAAAAAAAAAAAAAAAAAAAAAAAAAAAAAAAAAAAAAAAAAAAAAAAAAAAAAAAAAAAAAAAAAAAAAAAAAAAAAAAAAAAAAAAAAAAAAAAAAAAAAAAAAAAAAAAAAAAAAAAAAAAAAAAAAAAAAAAAAAAAAAAAAAAAAAAAAAAAAAAAAAAAAAAAAAAAAAAAAAAAAAAAAAAAAAAAAAAAAAAAAAAAAAAAAAAAAAAAAAAAAAAAAAAAAAAAAAAAAAAAAAAAAAAAAAAAAAAAAAAAAAAAAAAAAAAAAAAAAAAAAAAAAAAAAAAAAAAAAAAAAAAAAAAAAAAAAAAAAAAAAAAAAAAAAAAAAAAAAAAAAAAAAAAAAAAAAAAAAAAAAAAAAAAAAAAAAAAAAAAAAAAAAAAAAAAAAAAAAAAAAAAAAAAAAAAAAAAAAAAAAAAAAAAAAAAAAAAAAAAAAAAAAAAAAAAAAAAAAAAAAAAAAAAAAAAAAAAAAAAAAAAAAAAAAAAAAAAAAAAAAAAAAAAAAAAAAAAAAAAAAAAAAAAAAAAAAAAAAAAAAAAAAAAAAAAAAAAAAAAAAAAAAAAAAAAAAAAAAAAAAAAAAAAAAAAAAAAAAAAAAAAAAAAAAAAAAAAAAAAAAAAAAAAAAAAAAAAAAAAAAAAAAAAAAAAAAAAAAAAAAAAAAAAAAAAAAAAAAAAAAAAAAAAAAAAAAAAAAAAAAAAAAAAAAAAAAAAAAAAAAAAAAAAAAAAAAAAAAAAAAAAAAAAAAAAAAAAAAAAAAAAAAAAAAAAAAAAAAAAAAAAAAAAAAAAAAAAAAAAAAAAAAAAAAAAAAAAAAAAAAAAAAAAAAAAAAAAAAAAAAAAAAAAAAAAAAAAAAAAAAAAAAAAAAAAAAAAAAAAAAAAAAAAAAAAAAAAAAAAAAAAAAAAAAAAAAAAAAAAAAAAAAAAAAAAAAAAAAAAAAAAAAAAAAAAAAAAAAAAAAAAAAAAAAAAAAAAAAAAAAAAAAAAAAAAAAAAAAAAAAAAAAAAAAAAAAAAAAAAAAAAAAAAAAAAAAAAAAAAAAAAAAAAAAAAAAAAAAAAAAAAAAAAAAAAAAAAAAAAAAAAAAAAAAAAAAAAAAAAAAAAAAAAAAAAAAAAAAAAAAAAAAAAAAAAAAAAAAAAAAAAAAAAAAAAAAAAAAAAAAAAAAAAAAAAAAAAAAAAAAAAAAAAAAAAAAAAAAAAAAAAAAAAAAAAAAAAAAAAAAAAAAAAAAAAAAAAAAAAAAAAAAAAAAAAAAAAAAAAAAAAAAAAAAAAAAAAAAAAAAAAAAAAAAAAAAAAAAAAAAAAAAAAAAAAAAAAAAAAAAAAAAAAAAAAAAAAAAAAAAAAAAAAAAAAAAAAAAAAAAAAAAAAAAAAAAAAAAAAAAAAAAAAAAAAAAAAAAAAAAAAAAAAAAAAAAAAAAAAAAAAAAAAAAAAAAAAAAAAAAAAAAAAAAAAAAAAAAAAAAAAAAAAAAAAAAAAAAAAAAAAAAAAAAAAAAAAAAAAAAAAAAAAAAAAAAAAAAAAAAAAAAAAAAAAAAAAAAAAAAAAAAAAAAAAAAAAAAAAAAAAAAAAAAAAAAAAAAAAAAAAAAAAAAAAAAAAAAAAAAAAAAAAAAAAAAAAAAAAAAAAAAAAAAAAAAAAAAAAAAAAAAAAAAAAAAAAAAAAAAAAAAAAAAAAAAAAAAAAAAAAAAAAAAAAAAAAAAAAAAAAAAAAAAAAAAAAAAAAAAAAAAAAAAAAAAAAAAAAAAAAAAAAAAAAAAAAAAAAAAAAAAAAAAAAAAAAAAAAAAAAAAAAAAAAAAAAAAAAAAAAAAAAAAAAAAAAAAAAAAAAAAAAAAAAAAAAAAAAAAAAAAAAAAAAAAAAAAAAAAAAAAAAAAAAAAAAAAAAAAAAAAAAAAAAAAAAAAAAAAAAAAAAAAAAAAAAAAAAAAAAAAAAAAAAAAAAAAAAAAAAAAAAAAAAAAAAAAAAAAAAAAAAAAAAAAAAAAAAAAAAAAAAAAAAAAAAAAAAAAAAAAAAAAAAAAAAAAAAAAAAAAAAAAAAAAAAAAAAAAAAAAAAAAAAAAAAAAAAAAAAAAAAAAAAAAAAAAAAAAAAAAAAAAAAAAAAAAAAAAAAAAAAAAAAAAAAAAAAAAAAAAAAAAAAAAAAAAAAAAAAAAAAAAAAAAAAAAAAAAAAAAAAAAAAAAAAAAAAAAAAAAAAAAAAAAAAAAAAAAAAAAAAAAAAAAAAAAAAAAAAAAAAAAAAAAAAAAAAAAAAAAAAAAAAAAAAAAAAAAAAAAAAAAAAAAAAAAAAAAAAAAAAAAAAAAAAAAAAAAAAAAAAAAAAAAAAAAAAAAAAAAAAAAAAAAAAAAAAAAAAAAAAAAAAAAAAAAAAAAAAAAAAAAAAAAAAAAAAAAAAAAAAAAAAAAAAAAAAAAAAAAAAAAAAAAAAAAAAAAAAAAAAAAAAAAAAAAAAAAAAAAAAAAAAAAAAAAAAAAAAAAAAAAAAAAAAAAAAAAAAAAAAAAAAAAAAAAAAAAAAAAAAAAAAAAAAAAAAAAAAAAAAAAAAAAAAAAAAAAAAAAAAAAAAAAAAAAAAAAAAAAAAAAAAAAAAAAAAAAAAAAAAAAAAAAAAAAAAAAAAAAAAAAAAAAAAAAAAAAAAAAAAAAAAAAAAAAAAAAAAAAAAAAAAAAAAAAAAAAAAAAAAAAAAAAAAAAAAAAAAAAAAAAAAAAAAAAAAAAAAAAAAAAAAAAAAAAAAAAAAAAAAAAAAAAAAAAAAAAAAAAAAAAAAAAAAAAAAAAAAAAAAAAAAAAAAAAAAAAAAAAAAAAAAAAAAAAAAAAAAAAAAAAAAAAAAAAAAAAAAAAAAAAAAAAAAAAAAAAAAAAAAAAAAAAAAAAAAAAAAAAAAAAAAAAAAAAAAAAAAAAAAAAAAAAAAAAAAAAAAAAAAAAAAAAAAAAAAAAAAAAAAAAAAAAAAAAAAAAAAAAAAAAAAAAAAAAAAAAAAAAAAAAAAAAAAAAAAAAAAAAAAAAAAAAAAAAAAAAAAAAAAAAAAAAAAAAAAAAAAAAAAAAAAAAAAAAAAAAAAAAAAAAAAAAAAAAAAAAAAAAAAAAAAAAAAAAAAAAAAAAAAAAAAAAAAAAAAAAAAAAAAAAAAAAAAAAAAAAAAAAAAAAAAAAAAAAAAAAAAAAAAAAAAAAAAAAAAAAAAAAAAAAAAAAAAAAAAAAAAAAAAAAAAAAAAAAAAAAAAAAAAAAAAAAAAAAAAAAAAAAAAAAAAAAAAAAAAAAAAAAAAAAAAAAAAAAAAAAAAAAAAAAAAAAAAAAAAAAAAAAAAAAAAAAAAAAAAAAAAAAAAAAAAAAAAAAAAAAAAAAAAAAAAAAAAAAAAAAAAAAAAAAAAAAAAAAAAAAAAAAAAAAAAAAAAAAAAAAAAAAAAAAAAAAAAAAAAAAAAAAAAAAAAAAAAAAAAAAAAAAAAAAAAAAAAAAAAAAAAAAAAAAAAAAAAAAAAAAAAAAAAAAAAAAAAAAAAAAAAAAAAAAAAAAAAAAAAAAAAAAAAAAAAAAAAAAAAAAAAAAAAAAAAAAAAAAAAAAAAAAAAAAAAAAAAAAAAAAAAAAAAAAAAAAAAAAAAAAAAAAAAAAAAAAAAAAAAAAAAAAAAAAAAAAAAAAAAAAAAAAAAAAAAAAAAAAAAAAAAAAAAAAAAAAAAAAAAAAAAAAAAAAAAAAAAAAAAAAAAAAAAAAAAAAAAAAAAAAAAAAAAAAAAAAAAAAAAAAAAAAAAAAAAAAAAAAAAAAAAAAAAAAAAAAAAAAAAAAAAAAAAAAAAAAAAAAAAAAAAAAAAAAAAAAAAAAAAAAAAAAAAAAAAAAAAAAAAAAAAAAAAAAAAAAAAAAAAAAAAAAAAAAAAAAAAAAAAAAAAAAAAAAAAAAAAAAAAAAAAAAAAAAAAAAAAAAAAAAAAAAAAAAAAAAAAAAAAAAAAAAAAAAAAAAAAAAAAAAAAAAAAAAAAAAAAAAAAAAAAAAAAAAAAAAAAAAAAAAAAAAAAAAAAAAAAAAAAAAAAAAAAAAAAAAAAAAAAAAAAAAAAAAAAAAAAAAAAAAAAAAAAAAAAAAAAAAAAAAAAAAAAAAAAAAAAAAAAAAAAAAAAAAAAAAAAAAAAAAAAAAAAAAAAAAAAAAAAAAAAAAAAAAAAAAAAAAAAAAAAAAAAAAAAAAAAAAAAAAAAAAAAAAAAAAAAAAAAAAAAAAAAAAAAAAAAAAAAAAAAAAAAAAAAAAAAAAAAAAAAAAAAAAAAAAAAAAAAAAAAAAAAAAAAAAAAAAAAAAAAAAAAAAAAAAAAAAAAAAAAAAAAAAAAAAAAAAAAAAAAAAAAAAAAAAAAAAAAAAAAAAAAAAAAAAAAAAAAAAAAAAAAAAAAAAAAAAAAAAAAAAAAAAAAAAAAAAAAAAAAAAAAAAAAAAAAAAAAAAAAAAAAAAAAAAAAAAAAAAAAAAAAAAAAAAAAAAAAAAAAAAAAAAAAAAAAAAAAAAAAAAAAAAAAAAAAAAAAAAAAAAAAAAAAAAAAAAAAAAAAAAAAAAAAAAAAAAAAAAAAAAAAAAAAAAAAAAAAAAAAAAAAAAAAAAAAAAAAAAAAAAAAAAAAAAAAAAAAAAAAAAAAAAAAAAAAAAAAAAAAAAAAAAAAAAAAAAAAAAAAAAAAAAAAAAAAAAAAAAAAAAAAAAAAAAAAAAAAAAAAAAAAAAAAAAAAAAAAAAAAAAAAAAAAAAAAAAAAAAAAAAAAAAAAAAAAAAAAAAAAAAAAAAAAAAAAAAAAAAAAAAAAAAAAAAAAAAAAAAAAAAAAAAAAAAAAAAAAAAAAAAAAAAAAAAAAAAAAAAAAAAAAAAAAAAAAAAAAAAAAAAAAAAAAAAAAAAAAAAAAAAAAAAAAAAAAAAAAAAAAAAAAAAAAAAAAAAAAAAAAAAAAAAAAAAAAAAAAAAAAAAAAAAAAAAAAAAAAAAAAAAAAAAAAAAAAAAAAAAAAAAAAAAAAAAAAAAAAAAAAAAAAAAAAAAAAAAAAAAAAAAAAAAAAAAAAAAAAAAAAAAAAAAAAAAAAAAAAAAAAAAAAAAAAAAAAAAAAAAAAAAAAAAAAAAAAAAAAAAAAAAAAAAAAAAAAAAAAAAAAAAAAAAAAAAAAAAAAAAAAAAAAAAAAAAAAAAAAAAAAAAAAAAAAAAAAAAAAAAAAAAAAAAAAAAAAAAAAAAAAAAAAAAAAAAAAAAAAAAAAAAAAAAAAAAAAAAAAAAAAAAAAAAAAAAAAAAAAAAAAAAAAAAAAAAAAAAAAAAAAAAAAAAAAAAAAAAAAAAAAAAAAAAAAAAAAAAAAAAAAAAAAAAAAAAAAAAAAAAAAAAAAAAAAAAAAAAAAAAAAAAAAAAAAAAAAAAAAAAAAAAAAAAAAAAAAAAAAAAAAAAAAAAAAAAAAAAAAAAAAAAAAAAAAAAAAAAAAAAAAAAAAAAAAAAAAAAAAAAAAAAAAAAAAAAAAAAAAAAAAAAAAAAAAAAAAAAAAAAAAAAAAAAAAAAAAAAAAAAAAAAAAAAAAAAAAAAAAAAAAAAAAAAAAAAAAAAAAAAAAAAAAAAAAAAAAAAAAAAAAAAAAAAAAAAAAAAAAAAAAAAAAAAAAAAAAAAAAAAAAAAAAAAAAAAAAAAAAAAAAAAAAAAAAAAAAAAAAAAAAAAAAAAAAAAAAAAAAAAAAAAAAAAAAAAAAAAAAAAAAAAAAAAAAAAAAAAAAAAAAAAAAAAAAAAAAAAAAAAAAAAAAAAAAAAAAAAAAAAAAAAAAAAAAAAAAAAAAAAAAAAAAAAAAAAAAAAAAAAAAAAAAAAAAAAAAAAAAAAAAAAAAAAAAAAAAAAAAAAAAAAAAAAAAAAAAAAAAAAAAAAAAAAAAAAAAAAAAAAAAAAAAAAAAAAAAAAAAAAAAAAAAAAAAAAAAAAAAAAAAAAAAAAAAAAAAAAAAAAAAAAAAAAAAAAAAAAAAAAAAAAAAAAAAAAAAAAAAAAAAAAAAAAAAAAAAAAAAAAAAAAAAAAAAAAAAAAAAAAAAAAAAAAAAAAAAAAAAAAAAAAAAAAAAAAAAAAAAAAAAAAAAAAAAAAAAAAAAAAAAAAAAAAAAAAAAAAAAAAAAAAAAAAAAAAAAAAAAAAAAAAAAAAAAAAAAAAAAAAAAAAAAAAAAAAAAAAAAAAAAAAAAAAAAAAAAAAAAAAAAAAAAAAAAAAAAAAAAAAAAAAAAAAAAAAAAAAAAAAAAAAAAAAAAAAAAAAAAAAAAAAAAAAAAAAAAAAAAAAAAAAAAAAAAAAAAAAAAAAAAAAAAAAAAAAAAAAAAAAAAAAAAAAAAAAAAAAAAAAAAAAAAAAAAAAAAAAAAAAAAAAAAAAAAAAAAAAAAAAAAAAAAAAAAAAAAAAAAAAAAAAAAAAAAAAAAAAAAAAAAAAAAAAAAAAAAAAAAAAAAAAAAAAAAAAAAAAAAAAAAAAAAAAAAAAAAAAAAAAAAAAAAAAAAAAAAAAAAAAAAAAAAAAAAAAAAAAAAAAAAAAAAAAAAAAAAAAAAAAAAAAAAAAAAAAAAAAAAAAAAAAAAAAAAAAAAAAAAAAAAAAAAAAAAAAAAAAAAAAAAAAAAAAAAAAAAAAAAAAAAAAAAAAAAAAAAAAAAAAAAAAAAAAAAAAAAAAAAAAAAAAAAAAAAAAAAAAAAAAAAAAAAAAAAAAAAAAAAAAAAAAAAAAAAAAAAAAAAAAAAAAAAAAAAAAAAAAAAAAAAAAAAAAAAAAAAAAAAAAAAAAAAAAAAAAAAAAAAAAAAAAAAAAAAAAAAAAAAAAAAAAAAAAAAAAAAAAAAAAAAAAAAAAAAAAAAAAAAAAAAAAAAAAAAAAAAAAAAAAAAAAAAAAAAAAAAAAAAAAAAAAAAAAAAAAAAAAAAAAAAAAAAAAAAAAAAAAAAAAAAAAAAAAAAAAAAAAAAAAAAAAAAAAAAAAAAAAAAAAAAAAAAAAAAAAAAAAAAAAAAAAAAAAAAAAAAAAAAAAAAAAAAAAAAAAAAAAAAAAAAAAAAAAAAAAAAAAAAAAAAAAAAAAAAAAAAAAAAAAAAAAAAAAAAAAAAAAAAAAAAAAAAAAAAAAAAAAAAAAAAAAAAAAAAAAAAAAAAAAAAAAAAAAAAAAAAAAAAAAAAAAAAAAAAAAAAAAAAAAAAAAAAAAAAAAAAAAAAAAAAAAAAAAAAAAAAAAAAAAAAAAAAAAAAAAAAAAAAAAAAAAAAAAAAAAAAAAAAAAAAAAAAAAAAAAAAAAAAAAAAAAAAAAAAAAAAAAAAAAAAAAAAAAAAAAAAAAAAAAAAAAAAAAAAAAAAAAAAAAAAAAAAAAAAAAAAAAAAAAAAAAAAAAAAAAAAAAAAAAAAAAAAAAAAAAAAAAAAAAAAAAAAAAAAAAAAAAAAAAAAAAAAAAAAAAAAAAAAAAAAAAAAAAAAAAAAAAAAAAAAAAAAAAAAAAAAAAAAAAAAAAAAAAAAAAAAAAAAAAAAAAAAAAAAAAAAAAAAAAAAAAAAAAAAAAAAAAAAAAAAAAAAAAAAAAAAAAAAAAAAAAAAAAAAAAAAAAAAAAAAAAAAAAAAAAAAAAAAAAAAAAAAAAAAAAAAAAAAAAAAAAAAAAAAAAAAAAAAAAAAAAAAAAAAAAAAAAAAAAAAAAAAAAAAAAAAAAAAAAAAAAAAAAAAAAAAAAAAAAAAAAAAAAAAAAAAAAAAAAAAAAAAAAAAAAAAAAAAAAAAAAAAAAAAAAAAAAAAAAAAAAAAAAAAAAAAAAAAAAAAAAAAAAAAAAAAAAAAAAAAAAAAAAAAAAAAAAAAAAAAAAAAAAAAAAAAAAAAAAAAAAAAAAAAAAAAAAAAAAAAAAAAAAAAAAAAAAAAAAAAAAAAAAAAAAAAAAAAAAAAAAAAAAAAAAAAAAAAAAAAAAAAAAAAAAAAAAAAAAAAAAAAAAAAAAAAAAAAAAAAAAAAAAAAAAAAAAAAAAAAAAAAAAAAAAAAAAAAAAAAAAAAAAAAAAAAAAAAAAAAAAAAAAAAAAAAAAAAAAAAAAAAAAAAAAAAAAAAAAAAAAAAAAAAAAAAAAAAAAAAAAAAAAAAAAAAAAAAAAAAAAAAAAAAAAAAAAAAAAAAAAAAAAAAAAAAAAAAAAAAAAAAAAAAAAAAAAAAAAAAAAAAAAAAAAAAAAAAAAAAAAAAAAAAAAAAAAAAAAAAAAAAAAAAAAAAAAAAAAAAAAAAAAAAAAAAAAAAAAAAAAAAAAAAAAAAAAAAAAAAAAAAAAAAAAAAAAAAAAAAAAAAAAAAAAAAAAAAAAAAAAAAAAAAAAAAAAAAAAAAAAAAAAAAAAAAAAAAAAAAAAAAAAAAAAAAAAAAAAAAAAAAAAAAAAAAAAAAAAAAAAAAAAAAAAAAAAAAAAAAAAAAAAAAAAAAAAAAAAAAAAAAAAAAAAAAAAAAAAAAAAAAAAAAAAAAAAAAAAAAAAAAAAAAAAAAAAAAAAAAAAAAAAAAAAAAAAAAAAAAAAAAAAAAAAAAAAAAAAAAAAAAAAAAAAAAAAAAAAAAAAAAAAAAAAAAAAAAAAAAAAAAAAAAAAAAAAAAAAAAAAAAAAAAAAAAAAAAAAAAAAAAAAAAAAAAAAAAAAAAAAAAAAAAAAAAAAAAAAAAAAAAAAAAAAAAAAAAAAAAAAAAAAAAAAAAAAAAAAAAAAAAAAAAAAAAAAAAAAAAAAAAAAAAAAAAAAAAAAAAAAAAAAAAAAAAAAAAAAAAAAAAAAAAAAAAAAAAAAAAAAAAAAAAAAAAAAAAAAAAAAAAAAAAAAAAAAAAAAAAAAAAAAAAAAAAAAAAAAAAAAAAAAAAAAAAAAAAAAAAAAAAAAAAAAAAAAAAAAAAAAAAAAAAAAAAAAAAAAAAAAAAAAAAAAAAAAAAAAAAAAAAAAAAAAAAAAAAAAAAAAAAAAAAAAAAAAAAAAAAAAAAAAAAAAAAAAAAAAAAAAAAAAAAAAAAAAAAAAAAAAAAAAAAAAAAAAAAAAAAAAAAAAAAAAAAAAAAAAAAAAAAAAAAAAAAAAAAAAAAAAAAAAAAAAAAAAAAAAAAAAAAAAAAAAAAAAAAAAAAAAAAAAAAAAAAAAAAAAAAAAAAAAAAAAAAAAAAAAAAAAAAAAAAAAAAAAAAAAAAAAAAAAAAAAAAAAAAAAAAAAAAAAAAAAAAAAAAAAAAAAAAAAAAAAAAAAAAAAAAAAAAAAAAAAAAAAAAAAAAAAAAAAAAAAAAAAAAAAAAAAAAAAAAAAAAAAAAAAAAAAAAAAAAAAAAAAAAAAAAAAAAAAAAAAAAAAAAAAAAAAAAAAAAAAAAAAAAAAAAAAAAAAAAAAAAAAAAAAAAAAAAAAAAAAAAAAAAAAAAAAAAAAAAAAAAAAAAAAAAAAAAAAAAAAAAAAAAAAAAAAAAAAAAAAAAAAAAAAAAAAAAAAAAAAAAAAAAAAAAAAAAAAAAAAAAAAAAAAAAAAAAAAAAAAAAAAAAAAAAAAAAAAAAAAAAAAAAAAAAAAAAAAAAAAAAAAAAAAAAAAAAAAAAAAAAAAAAAAAAAAAAAAAAAAAAAAAAAAAAAAAAAAAAAAAAAAAAAAAAAAAAAAAAAAAAAAAAAAAAAAAAAAAAAAAAAAAAAAAAAAAAAAAAAAAAAAAAAAAAAAAAAAAAAAAAAAAAAAAAAAAAAAAAAAAAAAAAAAAAAAAAAAAAAAAAAAAAAAAAAAAAAAAAAAAAAAAAAAAAAAAAAAAAAAAAAAAAAAAAAAAAAAAAAAAAAAAAAAAAAAAAAAAAAAAAAAAAAAAAAAAAAAAAAAAAAAAAAAAAAAAAAAAAAAAAAAAAAAAAAAAAAAAAAAAAAAAAAAAAAAAAAAAAAAAAAAAAAAAAAAAAAAAAAAAAAAAAAAAAAAAAAAAAAAAAAAAAAAAAAAAAAAAAAAAAAAAAAAAAAAAAAAAAAAAAAAAAAAAAAAAAAAAAAAAAAAAAAAAAAAAAAAAAAAAAAAAAAAAAAAAAAAAAAAAAAAAAAAAAAAAAAAAAAAAAAAAAAAAAAAAAAAAAAAAAAAAAAAAAAAAAAAAAAAAAAAAAAAAAAAAAAAAAAAAAAAAAAAAAAAAAAAAAAAAAAAAAAAAAAAAAAAAAAAAAAAAAAAAAAAAAAAAAAAAAAAAAAAAAAAAAAAAAAAAAAAAAAAAAAAAAAAAAAAAAAAAAAAAAAAAAAAAAAAAAAAAAAAAAAAAAAAAAAAAAAAAAAAAAAAAAAAAAAAAAAAAAAAAAAAAAAAAAAAAAAAAAAAAAAAAAAAAAAAAAAAAAAAAAAAAAAAAAAAAAAAAAAAAAAAAAAAAAAAAAAAAAAAAAAAAAAAAAAAAAAAAAAAAAAAAAAAAAAAAAAAAAAAAAAAAAAAAAAAAAAAAAAAAAAAAAAAAAAAAAAAAAAAAAAAAAAAAAAAAAAAAAAAAAAAAAAAAAAAAAAAAAAAAAAAAAAAAAAAAAAAAAAAAAAAAAAAAAAAAAAAAAAAAAAAAAAAAAAAAAAAAAAAAAAAAAAAAAAAAAAAAAAAAAAAAAAAAAAAAAAAAAAAAAAAAAAAAAAAAAAAAAAAAAAAAAAAAAAAAAAAAAAAAAAAAAAAAAAAAAAAAAAAAAAAAAAAAAAAAAAAAAAAAAAAAAAAAAAAAAAAAAAAAAAAAAAAAAAAAAAAAAAAAAAAAAAAAAAAAAAAAAAAAAAAAAAAAAAAAAAAAAAAAAAAAAAAAAAAAAAAAAAAAAAAAAAAAAAAAAAAAAAAAAAAAAAAAAAAAAAAAAAAAAAAAAAAAAAAAAAAAAAAAAAAAAAAAAAAAAAAAAAAAAAAAAAAAAAAAAAAAAAAAAAAAAAAAAAAAAAAAAAAAAAAAAAAAAAAAAAAAAAAAAAAAAAAAAAAAAAAAAAAAAAAAAAAAAAAAAAAAAAAAAAAAAAAAAAAAAAAAAAAAAAAAAAAAAAAAAAAAAAAAAAAAAAAAAAAAAAAAAAAAAAAAAAAAAAAAAAAAAAAAAAAAAAAAAAAAAAAAAAAAAAAAAAAAAAAAAAAAAAAAAAAAAAAAAAAAAAAAAAAAAAAAAAAAAAAAAAAAAAAAAAAAAAAAAAAAAAAAAAAAAAAAAAAAAAAAAAAAAAAAAAAAAAAAAAAAAAAAAAAAAAAAAAAAAAAAAAAAAAAAAAAAAAAAAAAAAAAAAAAAAAAAAAAAAAAAAAAAAAAAAAAAAAAAAAAAAAAAAAAAAAAAAAAAAAAAAAAAAAAAAAAAAAAAAAAAAAAAAAAAAAAAAAAAAAAAAAAAAAAAAAAAAAAAAAAAAAAAAAAAAAAAAAAAAAAAAAAAAAAAAAAAAAAAAAAAAAAAAAAAAAAAAAAAAAAAAAAAAAAAAAAAAAAAAAAAAAAAAAAAAAAAAAAAAAAAAAAAAAAAAAAAAAAAAAAAAAAAAAAAAAAAAAAAAAAAAAAAAAAAAAAAAAAAAAAAAAAAAAAAAAAAAAAAAAAAAAAAAAAAAAAAAAAAAAAAAAAAAAAAAAAAAAAAAAAAAAAAAAAAAAAAAAAAAAAAAAAAAAAAAAAAAAAAAAAAAAAAAAAAAAAAAAAAAAAAAAAAAAAAAAAAAAAAAAAAAAAAAAAAAAAAAAAAAAAAAAAAAAAAAAAAAAAAAAAAAAAAAAAAAAAAAAAAAAAAAAAAAAAAAAAAAAAAAAAAAAAAAAAAAAAAAAAAAAAAAAAAAAAAAAAAAAAAAAAAAAAAAAAAAAAAAAAAAAAAAAAAAAAAAAAAAAAAAAAAAAAAAAAAAAAAAAAAAAAAAAAAAAAAAAAAAAAAAAAAAAAAAAAAAAAAAAAAAAAAAAAAAAAAAAAAAAAAAAAAAAAAAAAAAAAAAAAAAAAAAAAAAAAAAAAAAAAAAAAAAAAAAAAAAAAAAAAAAAAAAAAAAAAAAAAAAAAAAAAAAAAAAAAAAAAAAAAAAAAAAAAAAAAAAAAAAAAAAAAAAAAAAAAAAAAAAAAAAAAAAAAAAAAAAAAAAAAAAAAAAAAAAAAAAAAAAAAAAAAAAAAAAAAAAAAAAAAAAAAAAAAAAAAAAAAAAAAAAAAAAAAAAAAAAAAAAAAAAAAAAAAAAAAAAAAAAAAAAAAAAAAAAAAAAAAAAAAAAAAAAAAAAAAAAAAAAAAAAAAAAAAAAAAAAAAAAAAAAAAAAAAAAAAAAAAAAAAAAAAAAAAAAAAAAAAAAAAAAAAAAAAAAAAAAAAAAAAAAAAAAAAAAAAAAAAAAAAAAAAAAAAAAAAAAAAAAAAAAAAAAAAAAAAAAAAAAAAAAAAAAAAAAAAAAAAAAAAAAAAAAAAAAAAAAAAAAAAAAAAAAAAAAAAAAAAAAAAAAAAAAAAAAAAAAAAAAAAAAAAAAAAAAAAAAAAAAAAAAAAAAAAAAAAAAAAAAAAAAAAAAAAAAAAAAAAAAAAAAAAAAAAAAAAAAAAAAAAAAAAAAAAAAAAAAAAAAAAAAAAAAAAAAAAAAAAAAAAAAAAAAAAAAAAAAAAAAAAAAAAAAAAAAAAAAAAAAAAAAAAAAAAAAAAAAAAAAAAAAAAAAAAAAAAAAAAAAAAAAAAAAAAAAAAAAAAAAAAAAAAAAAAAAAAAAAAAAAAAAAAAAAAAAAAAAAAAAAAAAAAAAAAAAAAAAAAAAAAAAAAAAAAAAAAAAAAAAAAAAAAAAAAAAAAAAAAAAAAAAAAAAAAAAAAAAAAAAAAAAAAAAAAAAAAAAAAAAAAAAAAAAAAAAAAAAAAAAAAAAAAAAAAAAAAAAAAAAAAAAAAAAAAAAAAAAAAAAAAAAAAAAAAAAAAAAAAAAAAAAAAAAAAAAAAAAAAAAAAAAAAAAAAAAAAAAAAAAAAAAAAAAAAAAAAAAAAAAAAAAAAAAAAAAAAAAAAAAAAAAAAAAAAAAAAAAAAAAAAAAAAAAAAAAAAAAAAAAAAAAAAAAAAAAAAAAAAAAAAAAAAAAAAAAAAAAAAAAAAAAAAAAAAAAAAAAAAAAAAAAAAAAAAAAAAAAAAAAAAAAAAAAAAAAAAAAAAAAAAAAAAAAAAAAAAAAAAAAAAAAAAAAAAAAAAAAAAAAAAAAAAAAAAAAAAAAAAAAAAAAAAAAAAAAAAAAAAAAAAAAAAAAAAAAAAAAAAAAAAAAAAAAAAAAAAAAAAAAAAAAAAAAAAAAAAAAAAAAAAAAAAAAAAAAAAAAAAAAAAAAAAAAAAAAAAAAAAAAAAAAAAAAAAAAAAAAAAAAAAAAAAAAAAAAAAAAAAAAAAAAAAAAAAAAAAAAAAAAAAAAAAAAAAAAAAAAAAAAAAAAAAAAAAAAAAAAAAAAAAAAAAAAAAAAAAAAAAAAAAAAAAAAAAAAAAAAAAAAAAAAAAAAAAAAAAAAAAAAAAAAAAAAAAAAAAAAAAAAAAAAAAAAAAAAAAAAAAAAAAAAAAAAAAAAAAAAAAAAAAAAAAAAAAAAAAAAAAAAAAAAAAAAAAAAAAAAAAAAAAAAAAAAAAAAAAAAAAAAAAAAAAAAAAAAAAAAAAAAAAAAAAAAAAAAAAAAAAAAAAAAAAAAAAAAAAAAAAAAAAAAAAAAAAAAAAAAAAAAAAAAAAAAAAAAAAAAAAAAAAAAAAAAAAAAAAAAAAAAAAAAAAAAAAAAAAAAAAAAAAAAAAAAAAAAAAAAAAAAAAAAAAAAAAAAAAAAAAAAAAAAAAAAAAAAAAAAAAAAAAAAAAAAAAAAAAAAAAAAAAAAAAAAAAAAAAAAAAAAAAAAAAAAAAAAAAAAAAAAAAAAAAAAAAAAAAAAAAAAAAAAAAAAAAAAAAAAAAAAAAAAAAAAAAAAAAAAAAAAAAAAAAAAAAAAAAAAAAAAAAAAAAAAAAAAAAAAAAAAAAAAAAAAAAAAAAAAAAAAAAAAAAAAAAAAAAAAAAAAAAAAAAAAAAAAAAAAAAAAAAAAAAAAAAAAAAAAAAAAAAAAAAAAAAAAAAAAAAAAAAAAAAAAAAAAAAAAAAAAAAAAAAAAAAAAAAAAAAAAAAAAAAAAAAAAAAAAAAAAAAAAAAAAAAAAAAAAAAAAAAAAAAAAAAAAAAAAAAAAAAAAAAAAAAAAAAAAAAAAAAAAAAAAAAAAAAAAAAAAAAAAAAAAAAAAAAAAAAAAAAAAAAAAAAAAAAAAAAAAAAAAAAAAAAAAAAAAAAAAAAAAAAAAAAAAAAAAAAAAAAAAAAAAAAAAAAAAAAAAAAAAAAAAAAAAAAAAAAAAAAAAAAAAAAAAAAAAAAAAAAAAAAAAAAAAAAAAAAAAAAAAAAAAAAAAAAAAAAAAAAAAAAAAAAAAAAAAAAAAAAAAAAAAAAAAAAAAAAAAAAAAAAAAAAAAAAAAAAAAAAAAAAAAAAAAAAAAAAAAAAAAAAAAAAAAAAAAAAAAAAAAAAAAAAAAAAAAAAAAAAAAAAAAAAAAAAAAAAAAAAAAAAAAAAAAAAAAAAAAAAAAAAAAAAAAAAAAAAAAAAAAAAAAAAAAAAAAAAAAAAAAAAAAAAAAAAAAAAAAAAAAAAAAAAAAAAAAAAAAAAAAAAAAAAAAAAAAAAAAAAAAAAAAAAAAAAAAAAAAAAAAAAAAAAAAAAAAAAAAAAAAAAAAAAAAAAAAAAAAAAAAAAAAAAAAAAAAAAAAAAAAAAAAAAAAAAAAAAAAAAAAAAAAAAAAAAAAAAAAAAAAAAAAAAAAAAAAAAAAAAAAAAAAAAAAAAAAAAAAAAAAAAAAAAAAAAAAAAAAAAAAAAAAAAAAAAAAAAAAAAAAAAAAAAAAAAAAAAAAAAAAAAAAAAAAAAAAAAAAAAAAAAAAAAAAAAAAAAAAAAAAAAAAAAAAAAAAAAAAAAAAAAAAAAAAAAAAAAAAAAAAAAAAAAAAAAAAAAAAAAAAAAAAAAAAAAAAAAAAAAAAAAAAAAAAAAAAAAAAAAAAAAAAAAAAAAAAAAAAAAAAAAAAAAAAAAAAAAAAAAAAAAAAAAAAAAAAAAAAAAAAAAAAAAAAAAAAAAAAAAAAAAAAAAAAAAAAAAAAAAAAAAAAAAAAAAAAAAAAAAAAAAAAAAAAAAAAAAAAAAAAAAAAAAAAAAAAAAAAAAAAAAAAAAAAAAAAAAAAAAAAAAAAAAAAAAAAAAAAAAAAAAAAAAAAAAAAAAAAAAAAAAAAAAAAAAAAAAAAAAAAAAAAAAAAAAAAAAAAAAAAAAAAAAAAAAAAAAAAAAAAAAAAAAAAAAAAAAAAAAAAAAAAAAAAAAAAAAAAAAAAAAAAAAAAAAAAAAAAAAAAAAAAAAAAAAAAAAAAAAAAAAAAAAAAAAAAAAAAAAAAAAAAAAAAAAAAAAAAAAAAAAAAAAAAAAAAAAAAAAAAAAAAAAAAAAAAAAAAAAAAAAAAAAAAAAAAAAAAAAAAAAAAAAAAAAAAAAAAAAAAAAAAAAAAAAAAAAAAAAAAAAAAAAAAAAAAAAAAAAAAAAAAAAAAAAAAAAAAAAAAAAAAAAAAAAAAAAAAAAAAAAAAAAAAAAAAAAAAAAAAAAAAAAAAAAAAAAAAAAAAAAAAAAAAAAAAAAAAAAAAAAAAAAAAAAAAAAAAAAAAAAAAAAAAAAAAAAAAAAAAAAAAAAAAAAAAAAAAAAAAAAAAAAAAAAAAAAAAAAAAAAAAAAAAAAAAAAAAAAAAAAAAAAAAAAAAAAAAAAAAAAAAAAAAAAAAAAAAAAAAAAAAAAAAAAAAAAAAAAAAAAAAAAAAAAAAAAAAAAAAAAAAAAAAAAAAAAAAAAAAAAAAAAAAAAAAAAAAAAAAAAAAAAAAAAAAAAAAAAAAAAAAAAAAAAAAAAAAAAAAAAAAAAAAAAAAAAAAAAAAAAAAAAAAAAAAAAAAAAAAAAAAAAAAAAAAAAAAAAAAAAAAAAAAAAAAAAAAAAAAAAAAAAAAAAAAAAAAAAAAAAAAAAAAAAAAAAAAAAAAAAAAAAAAAAAAAAAAAAAAAAAAAAAAAAAAAAAAAAAAAAAAAAAAAAAAAAAAAAAAAAAAAAAAAAAAAAAAAAAAAAAAAAAAAAAAAAAAAAAAAAAAAAAAAAAAAAAAAAAAAAAAAAAAAAAAAAAAAAAAAAAAAAAAAAAAAAAAAAAAAAAAAAAAAAAAAAAAAAAAAAAAAAAAAAAAAAAAAAAAAAAAAAAAAAAAAAAAAAAAAAAAAAAAAAAAAAAAAAAAAAAAAAAAAAAAAAAAAAAAAAAAAAAAAAAAAAAAAAAAAAAAAAAAAAAAAAAAAAAAAAAAAAAAAAAAAAAAAAAAAAAAAAAAAAAAAAAAAAAAAAAAAAAAAAAAAAAAAAAAAAAAAAAAAAAAAAAAAAAAAAAAAAAAAAAAAAAAAAAAAAAAAAAAAAAAAAAAAAAAAAAAAAAAAAAAAAAAAAAAAAAAAAAAAAAAAAAAAAAAAAAAAAAAAAAAAAAAAAAAAAAAAAAAAAAAAAAAAAAAAAAAAAAAAAAAAAAAAAAAAAAAAAAAAAAAAAAAAAAAAAAAAAAAAAAAAAAAAAAAAAAAAAAAAAAAAAAAAAAAAAAAAAAAAAAAAAAAAAAAAAAAAAAAAAAAAAAAAAAAAAAAAAAAAAAAAAAAAAAAAAAAAAAAAAAAAAAAAAAAAAAAAAAAAAAAAAAAAAAAAAAAAAAAAAAAAAAAAAAAAAAAAAAAAAAAAAAAAAAAAAAAAAAAAAAAAAAAAAAAAAAAAAAAAAAAAAAAAAAAAAAAAAAAAAAAAAAAAAAAAAAAAAAAAAAAAAAAAAAAAAAAAAAAAAAAAAAAAAAAAAAAAAAAAAAAAAAAAAAAAAAAAAAAAAAAAAAAAAAAAAAAAAAAAAAAAAAAAAAAAAAAAAAAAAAAAAAAAAAAAAAAAAAAAAAAAAAAAAAAAAAAAAAAAAAAAAAAAAAAAAAAAAAAAAAAAAAAAAAAAAAAAAAAAAAAAAAAAAAAAAAAAAAAAAAAAAAAAAAAAAAAAAAAAAAAAAAAAAAAAAAAAAAAAAAAAAAAAAAAAAAAAAAAAAAAAAAAAAAAAAAAAAAAAAAAAAAAAAAAAAAAAAAAAAAAAAAAAAAAAAAAAAAAAAAAAAAAAAAAAAAAAAAAAAAAAAAAAAAAAAAAAAAAAAAAAAAAAAAAAAAAAAAAAAAAAAAAAAAAAAAAAAAAAAAAAAAAAAAAAAAAAAAAAAAAAAAAAAAAAAAAAAAAAAAAAAAAAAAAAAAAAAAAAAAAAAAAAAAAAAAAAAAAAAAAAAAAAAAAAAAAAAAAAAAAAAAAAAAAAAAAAAAAAAAAAAAAAAAAAAAAAAAAAAAAAAAAAAAAAAAAAAAAAAAAAAAAAAAAAAAAAAAAAAAAAAAAAAAAAAAAAAAAAAAAAAAAAAAAAAAAAAAAAAAAAAAAAAAAAAAAAAAAAAAAAAAAAAAAAAAAAAAAAAAAAAAAAAAAAAAAAAAAAAAAAAAAAAAAAAAAAAAAAAAAAAAAAAAAAAAAAAAAAAAAAAAAAAAAAAAAAAAAAAAAAAAAAAAAAAAAAAAAAAAAAAAAAAAAAAAAAAAAAAAAAAAAAAAAAAAAAAAAAAAAAAAAAAAAAAAAAAAAAAAAAAAAAAAAAAAAAAAAAAAAAAAAAAAAAAAAAAAAAAAAAAAAAAAAAAAAAAAAAAAAAAAAAAAAAAAAAAAAAAAAAAAAAAAAAAAAAAAAAAAAAAAAAAAAAAAAAAAAAAAAAAAAAAAAAAAAAAAAAAAAAAAAAAAAAAAAAAAAAAAAAAAAAAAAAAAAAAAAAAAAAAAAAAAAAAAAAAAAAAAAAAAAAAAAAAAAAAAAAAAAAAAAAAAAAAAAAAAAAAAAAAAAAAAAAAAAAAAAAAAAAAAAAAAAAAAAAAAAAAAAAAAAAAAAAAAAAAAAAAAAAAAAAAAAAAAAAAAAAAAAAAAAAAAAAAAAAAAAAAAAAAAAAAAAAAAAAAAAAAAAAAAAAAAAAAAAAAAAAAAAAAAAAAAAAAAAAAAAAAAAAAAAAAAAAAAAAAAAAAAAAAAAAAAAAAAAAAAAAAAAAAAAAAAAAAAAAAAAAAAAAAAAAAAAAAAAAAAAAAAAAAAAAAAAAAAAAAAAAAAAAAAAAAAAAAAAAAAAAAAAAAAAAAAAAAAAAAAAAAAAAAAAAAAAAAAAAAAAAAAAAAAAAAAAAAAAAAAAAAAAAAAAAAAAAAAAAAAAAAAAAAAAAAAAAAAAAAAAAAAAAAAAAAAAAAAAAAAAAAAAAAAAAAAAAAAAAAAAAAAAAAAAAAAAAAAAAAAAAAAAAAAAAAAAAAAAAAAAAAAAAAAAAAAAAAAAAAAAAAAAAAAAAAAAAAAAAAAAAAAAAAAAAAAAAAAAAAAAAAAAAAAAAAAAAAAAAAAAAAAAAAAAAAAAAAAAAAAAAAAAAAAAAAAAAAAAAAAAAAAAAAAAAAAAAAAAAAAAAAAAAAAAAAAAAAAAAAAAAAAAAAAAAAAAAAAAAAAAAAAAAAAAAAAAAAAAAAAAAAAAAAAAAAAAAAAAAAAAAAAAAAAAAAAAAAAAAAAAAAAAAAAAAAAAAAAAAAAAAAAAAAAAAAAAAAAAAAAAAAAAAAAAAAAAAAAAAAAAAAAAAAAAAAAAAAAAAAAAAAAAAAAAAAAAAAAAAAAAAAAAAAAAAAAAAAAAAAAAAAAAAAAAAAAAAAAAAAAAAAAAAAAAAAAAAAAAAAAAAAAAAAAAAAAAAAAAAAAAAAAAAAAAAAAAAAAAAAAAAAAAAAAAAAAAAAAAAAAAAAAAAAAAAAAAAAAAAAAAAAAAAAAAAAAAAAAAAAAAAAAAAAAAAAAAAAAAAAAAAAAAAAAAAAAAAAAAAAAAAAAAAAAAAAAAAAAAAAAAAAAAAAAAAAAAAAAAAAAAAAAAAAAAAAAAAAAAAAAAAAAAAAAAAAAAAAAAAAAAAAAAAAAAAAAAAAAAAAAAAAAAAAAAAAAAAAAAAAAAAAAAAAAAAAAAAAAAAAAAAAAAAAAAAAAAAAAAAAAAAAAAAAAAAAAAAAAAAAAAAAAAAAAAAAAAAAAAAAAAAAAAAAAAAAAAAAAAAAAAAAAAAAAAAAAAAAAAAAAAAAAAAAAAAAAAAAAAAAAAAAAAAAAAAAAAAAAAAAAAAAAAAAAAAAAAAAAAAAAAAAAAAAAAAAAAAAAAAAAAAAAAAAAAAAAAAAAAAAAAAAAAAAAAAAAAAAAAAAAAAAAAAAAAAAAAAAAAAAAAAAAAAAAAAAAAAAAAAAAAAAAAAAAAAAAAAAAAAAAAAAAAAAAAAAAAAAAAAAAAAAAAAAAAAAAAAAAAAAAAAAAAAAAAAAAAAAAAAAAAAAAAAAAAAAAAAAAAAAAAAAAAAAAAAAAAAAAAAAAAAAAAAAAAAAAAAAAAAAAAAAAAAAAAAAAAAAAAAAAAAAAAAAAAAAAAAAAAAAAAAAAAAAAAAAAAAAAAAAAAAAAAAAAAAAAAAAAAAAAAAAAAAAAAAAAAAAAAAAAAAAAAAAAAAAAAAAAAAAAAAAAAAAAAAAAAAAAAAAAAAAAAAAAAAAAAAAAAAAAAAAAAAAAAAAAAAAAAAAAAAAAAAAAAAAAAAAAAAAAAAAAAAAAAAAAAAAAAAAAAAAAAAAAAAAAAAAAAAAAAAAAAAAAAAAAAAAAAAAAAAAAAAAAAAAAAAAAAAAAAAAAAAAAAAAAAAAAAAAAAAAAAAAAAAAAAAAAAAAAAAAAAAAAAAAAAAAAAAAAAAAAAAAAAAAAAAAAAAAAAAAAAAAAAAAAAAAAAAAAAAAAAAAAAAAAAAAAAAAAAAAAAAAAAAAAAAAAAAAAAAAAAAAAAAAAAAAAAAAAAAAAAAAAAAAAAAAAAAAAAAAAAAAAAAAAAAAAAAAAAAAAAAAAAAAAAAAAAAAAAAAAAAAAAAAAAAAAAAAAAAAAAAAAAAAAAAAAAAAAAAAAAAAAAAAAAAAAAAAAAAAAAAAAAAAAAAAAAAAAAAAAAAAAAAAAAAAAAAAAAAAAAAAAAAAAAAAAAAAAAAAAAAAAAAAAAAAAAAAAAAAAAAAAAAAAAAAAAAAAAAAAAAAAAAAAAAAAAAAAAAAAAAAAAAAAAAAAAAAAAAAAAAAAAAAAAAAAAAAAAAAAAAAAAAAAAAAAAAAAAAAAAAAAAAAAAAAAAAAAAAAAAAAAAAAAAAAAAAAAAAAAAAAAAAAAAAAAAAAAAAAAAAAAAAAAAAAAAAAAAAAAAAAAAAAAAAAAAAAAAAAAAAAAAAAAAAAAAAAAAAAAAAAAAAAAAAAAAAAAAAAAAAAAAAAAAAAAAAAAAAAAAAAAAAAAAAAAAAAAAAAAAAAAAAAAAAAAAAAAAAAAAAAAAAAAAAAAAAAAAAAAAAAAAAAAAAAAAAAAAAAAAAAAAAAAAAAAAAAAAAAAAAAAAAAAAAAAAAAAAAAAAAAAAAAAAAAAAAAAAAAAAAAAAAAAAAAAAAAAAAAAAAAAAAAAAAAAAAAAAAAAAAAAAAAAAAAAAAAAAAAAAAAAAAAAAAAAAAAAAAAAAAAAAAAAAAAAAAAAAAAAAAAAAAAAAAAAAAAAAAAAAAAAAAAAAAAAAAAAAAAAAAAAAAAAAAAAAAAAAAAAAAAAAAAAAAAAAAAAAAAAAAAAAAAAAAAAAAAAAAAAAAAAAAAAAAAAAAAAAAAAAAAAAAAAAAAAAAAAAAAAAAAAAAAAAAAAAAAAAAAAAAAAAAAAAAAAAAAAAAAAAAAAAAAAAAAAAAAAAAAAAAAAAAAAAAAAAAAAAAAAAAAAAAAAAAAAAAAAAAAAAAAAAAAAAAAAAAAAAAAAAAAAAAAAAAAAAAAAAAAAAAAAAAAAAAAAAAAAAAAAAAAAAAAAAAAAAAAAAAAAAAAAAAAAAAAAAAAAAAAAAAAAAAAAAAAAAAAAAAAAAAAAAAAAAAAAAAAAAAAAAAAAAAAAAAAAAAAAAAAAAAAAAAAAAAAAAAAAAAAAAAAAAAAAAAAAAAAAAAAAAAAAAAAAAAAAAAAAAAAAAAAAAAAAAAAAAAAAAAAAAAAAAAAAAAAAAAAAAAAAAAAAAAAAAAAAAAAAAAAAAAAAAAAAAAAAAAAAAAAAAAAAAAAAAAAAAAAAAAAAAAAAAAAAAAAAAAAAAAAAAAAAAAAAAAAAAAAAAAAAAAAAAAAAAAAAAAAAAAAAAAAAAAAAAAAAAAAAAAAAAAAAAAAAAAAAAAAAAAAAAAAAAAAAAAAAAAAAAAAAAAAAAAAAAAAAAAAAAAAAAAAAAAAAAAAAAAAAAAAAAAAAAAAAAAAAAAAAAAAAAAAAAAAAAAAAAAAAAAAAAAAAAAAAAAAAAAAAAAAAAAAAAAAAAAAAAAAAAAAAAAAAAAAAAAAAAAAAAAAAAAAAAAAAAAAAAAAAAAAAAAAAAAAAAAAAAAAAAAAAAAAAAAAAAAAAAAAAAAAAAAAAAAAAAAAAAAAAAAAAAAAAAAAAAAAAAAAAAAAAAAAAAAAAAAAAAAAAAAAAAAAAAAAAAAAAAAAAAAAAAAAAAAAAAAAAAAAAAAAAAAAAAAAAAAAAAAAAAAAAAAAAAAAAAAAAAAAAAAAAAAAAAAAAAAAAAAAAAAAAAAAAAAAAAAAAAAAAAAAAAAAAAAAAAAAAAAAAAAAAAAAAAAAAAAAAAAAAAAAAAAAAAAAAAAAAAAAAAAAAAAAAAAAAAAAAAAAAAAAAAAAAAAAAAAAAAAAAAAAAAAAAAAAAAAAAAAAAAAAAAAAAAAAAAAAAAAAAAAAAAAAAAAAAAAAAAAAAAAAAAAAAAAAAAAAAAAAAAAAAAAAAAAAAAAAAAAAAAAAAAAAAAAAAAAAAAAAAAAAAAAAAAAAAAAAAAAAAAAAAAAAAAAAAAAAAAAAAAAAAAAAAAAAAAAAAAAAAAAAAAAAAAAAAAAAAAAAAAAAAAAAAAAAAAAAAAAAAAAAAAAAAAAAAAAAAAAAAAAAAAAAAAAAAAAAAAAAAAAAAAAAAAAAAAAAAAAAAAAAAAAAAAAAAAAAAAAAAAAAAAAAAAAAAAAAAAAAAAAAAAAAAAAAAAAAAAAAAAAAAAAAAAAAAAAAAAAAAAAAAAAAAAAAAAAAAAAAAAAAAAAAAAAAAAAAAAAAAAAAAAAAAAAAAAAAAAAAAAAAAAAAAAAAAAAAAAAAAAAAAAAAAAAAAAAAAAAAAAAAAAAAAAAAAAAAAAAAAAAAAAAAAAAAAAAAAAAAAAAAAAAAAAAAAAAAAAAAAAAAAAAAAAAAAAAAAAAAAAAAAAAAAAAAAAAAAAAAAAAAAAAAAAAAAAAAAAAAAAAAAAAAAAAAAAAAAAAAAAAAAAAAAAAAAAAAAAAAAAAAAAAAAAAAAAAAAAAAAAAAAAAAAAAAAAAAAAAAAAAAAAAAAAAAAAAAAAAAAAAAAAAAAAAAAAAAAAAAAAAAAAAAAAAAAAAAAAAAAAAAAAAAAAAAAAAAAAAAAAAAAAAAAAAAAAAAAAAAAAAAAAAAAAAAAAAAAAAAAAAAAAAAAAAAAAAAAAAAAAAAAAAAAAAAAAAAAAAAAAAAAAAAAAAAAAAAAAAAAAAAAAAAAAAAAAAAAAAAAAAAAAAAAAAAAAAAAAAAAAAAAAAAAAAAAAAAAAAAAAAAAAAAAAAAAAAAAAAAAAAAAAAAAAAAAAAAAAAAAAAAAAAAAAAAAAAAAAAAAAAAAAAAAAAAAAAAAAAAAAAAAAAAAAAAAAAAAAAAAAAAAAAAAAAAAAAAAAAAAAAAAAAAAAAAAAAAAAAAAAAAAAAAAAAAAAAAAAAAAAAAAAAAAAAAAAAAAAAAAAAAAAAAAAAAAAAAAAAAAAAAAAAAAAAAAAAAAAAAAAAAAAAAAAAAAAAAAAAAAAAAAAAAAAAAAAAAAAAAAAAAAAAAAAAAAAAAAAAAAAAAAAAAAAAAAAAAAAAAAAAAAAAAAAAAAAAAAAAAAAAAAAAAAAAAAAAAAAAAAAAAAAAAAAAAAAAAAAAAAAAAAAAAAAAAAAAAAAAAAAAAAAAAAAAAAAAAAAAAAAAAAAAAAAAAAAAAAAAAAAAAAAAAAAAAAAAAAAAAAAAAAAAAAAAAAAAAAAAAAAAAAAAAAAAAAAAAAAAAAAAAAAAAAAAAAAAAAAAAAAAAAAAAAAAAAAAAAAAAAAAAAAAAAAAAAAAAAAAAAAAAAAAAAAAAAAAAAAAAAAAAAAAAAAAAAAAAAAAAAAAAAAAAAAAAAAAAAAAAAAAAAAAAAAAAAAAAAAAAAAAAAAAAAAAAAAAAAAAAAAAAAAAAAAAAAAAAAAAAAAAAAAAAAAAAAAAAAAAAAAAAAAAAAAAAAAAAAAAAAAAAAAAAAAAAAAAAAAAAAAAAAAAAAAAAAAAAAAAAAAAAAAAAAAAAAAAAAAAAAAAAAAAAAAAAAAAAAAAAAAAAAAAAAAAAAAAAAAAAAAAAAAAAAAAAAAAAAAAAAAAAAAAAAAAAAAAAAAAAAAAAAAAAAAAAAAAAAAAAAAAAAAAAAAAAAAAAAAAAAAAAAAAAAAAAAAAAAAAAAAAAAAAAAAAAAAAAAAAAAAAAAAAAAAAAAAAAAAAAAAAAAAAAAAAAAAAAAAAAAAAAAAAAAAAAAAAAAAAAAAAAAAAAAAAAAAAAAAAAAAAAAAAAAAAAAAAAAAAAAAAAAAAAAAAAAAAAAAAAAAAAAAAAAAAAAAAAAAAAAAAAAAAAAAAAAAAAAAAAAAAAAAAAAAAAAAAAAAAAAAAAAAAAAAAAAAAAAAAAAAAAAAAAAAAAAAAAAAAAAAAAAAAAAAAAAAAAAAAAAAAAAAAAAAAAAAAAAAAAAAAAAAAAAAAAAAAAAAAAAAAAAAAAAAAAAAAAAAAAAAAAAAAAAAAAAAAAAAAAAAAAAAAAAAAAAAAAAAAAAAAAAAAAAAAAAAAAAAAAAAAAAAAAAAAAAAAAAAAAAAAAAAAAAAAAAAAAAAAAAAAAAAAAAAAAAAAAAAAAAAAAAAAAAAAAAAAAAAAAAAAAAAAAAAAAAAAAAAAAAAAAAAAAAAAAAAAAAAAAAAAAAAAAAAAAAAAAAAAAAAAAAAAAAAAAAAAAAAAAAAAAAAAAAAAAAAAAAAAAAAAAAAAAAAAAAAAAAAAAAAAAAAAAAAAAAAAAAAAAAAAAAAAAAAAAAAAAAAAAAAAAAAAAAAAAAAAAAAAAAAAAAAAAAAAAAAAAAAAAAAAAAAAAAAAAAAAAAAAAAAAAAAAAAAAAAAAAAAAAAAAAAAAAAAAAAAAAAAAAAAAAAAAAAAAAAAAAAAAAAAAAAAAAAAAAAAAAAAAAAAAAAAAAAAAAAAAAAAAAAAAAAAAAAAAAAAAAAAAAAAAAAAAAAAAAAAAAAAAAAAAAAAAAAAAAAAAAAAAAAAAAAAAAAAAAAAAAAAAAAAAAAAAAAAAAAAAAAAAAAAAAAAAAAAAAAAAAAAAAAAAAAAAAAAAAAAAAAAAAAAAAAAAAAAAAAAAAAAAAAAAAAAAAAAAAAAAAAAAAAAAAAAAAAAAAAAAAAAAAAAAAAAAAAAAAAAAAAAAAAAAAAAAAAAAAAAAAAAAAAAAAAAAAAAAAAAAAAAAAAAAAAAAAAAAAAAAAAAAAAAAAAAAAAAAAAAAAAAAAAAAAAAAAAAAAAAAAAAAAAAAAAAAAAAAAAAAAAAAAAAAAAAAAAAAAAAAAAAAAAAAAAAAAAAAAAAAAAAAAAAAAAAAAAAAAAAAAAAAAAAAAAAAAAAAAAAAAAAAAAAAAAAAAAAAAAAAAAAAAAAAAAAAAAAAAAAAAAAAAAAAAAAAAAAAAAAAAAAAAAAAAAAAAAAAAAAAAAAAAAAAAAAAAAAAAAAAAAAAAAAAAAAAAAAAAAAAAAAAAAAAAAAAAAAAAAAAAAAAAAAAAAAAAAAAAAAAAAAAAAAAAAAAAAAAAAAAAAAAAAAAAAAAAAAAAAAAAAAAAAAAAAAAAAAAAAAAAAAAAAAAAAAAAAAAAAAAAAAAAAAAAAAAAAAAAAAAAAAAAAAAAAAAAAAAAAAAAAAAAAAAAAAAAAAAAAAAAAAAAAAAAAAAAAAAAAAAAAAAAAAAAAAAAAAAAAAAAAAAAAAAAAAAAAAAAAAAAAAAAAAAAAAAAAAAAAAAAAAAAAAAAAAAAAAAAAAAAAAAAAAAAAAAAAAAAAAAAAAAAAAAAAAAAAAAAAAAAAAAAAAAAAAAAAAAAAAAAAAAAAAAAAAAAAAAAAAAAAAAAAAAAAAAAAAAAAAAAAAAAAAAAAAAAAAAAAAAAAAAAAAAAAAAAAAAAAAAAAAAAAAAAAAAAAAAAAAAAAAAAAAAAAAAAAAAAAAAAAAAAAAAAAAAAAAAAAAAAAAAAAAAAAAAAAAAAAAAAAAAAAAAAAAAAAAAAAAAAAAAAAAAAAAAAAAAAAAAAAAAAAAAAAAAAAAAAAAAAAAAAAAAAAAAAAAAAAAAAAAAAAAAAAAAAAAAAAAAAAAAAAAAAAAAAAAAAAAAAAAAAAAAAAAAAAAAAAAAAAAAAAAAAAAAAAAAAAAAAAAAAAAAAAAAAAAAAAAAAAAAAAAAAAAAAAAAAAAAAAAAAAAAAAAAAAAAAAAAAAAAAAAAAAAAAAAAAAAAAAAAAAAAAAAAAAAAAAAAAAAAAAAAAAAAAAAAAAAAAAAAAAAAAAAAAAAAAAAAAAAAAAAAAAAAAAAAAAAAAAAAAAAAAAAAAAAAAAAAAAAAAAAAAAAAAAAAAAAAAAAAAAAAAAAAAAAAAAAAAAAAAAAAAAAAAAAAAAAAAAAAAAAAAAAAAAAAAAAAAAAAAAAAAAAAAAAAAAAAAAAAAAAAAAAAAAAAAAAAAAAAAAAAAAAAAAAAAAAAAAAAAAAAAAAAAAAAAAAAAAAAAAAAAAAAAAAAAAAAAAAAAAAAAAAAAAAAAAAAAAAAAAAAAAAAAAAAAAAAAAAAAAAAAAAAAAAAAAAAAAAAAAAAAAAAAAAAAAAAAAAAAAAAAAAAAAAAAAAAAAAAAAAAAAAAAAAAAAAAAAAAAAAAAAAAAAAAAAAAAAAAAAAAAAAAAAAAAAAAAAAAAAAAAAAAAAAAAAAAAAAAAAAAAAAAAAAAAAAAAAAAAAAAAAAAAAAAAAAAAAAAAAAAAAAAAAAAAAAAAAAAAAAAAAAAAAAAAAAAAAAAAAAAAAAAAAAAAAAAAAAAAAAAAAAAAAAAAAAAAAAAAAAAAAAAAAAAAAAAAAAAAAAAAAAAAAAAAAAAAAAAAAAAAAAAAAAAAAAAAAAAAAAAAAAAAAAAAAAAAAAAAAAAAAAAAAAAAAAAAAAAAAAAAAAAAAAAAAAAAAAAAAAAAAAAAAAAAAAAAAAAAAAAAAAAAAAAAAAAAAAAAAAAAAAAAAAAAAAAAAAAAAAAAAAAAAAAAAAAAAAAAAAAAAAAAAAAAAAAAAAAAAAAAAAAAAAAAAAAAAAAAAAAAAAAAAAAAAAAAAAAAAAAAAAAAAAAAAAAAAAAAAAAAAAAAAAAAAAAAAAAAAAAAAAAAAAAAAAAAAAAAAAAAAAAAAAAAAAAAAAAAAAAAAAAAAAAAAAAAAAAAAAAAAAAAAAAAAAAAAAAAAAAAAAAAAAAAAAAAAAAAAAAAAAAAAAAAAAAAAAAAAAAAAAAAAAAAAAAAAAAAAAAAAAAAAAAAAAAAAAAAAAAAAAAAAAAAAAAAAAAAAAAAAAAAAAAAAAAAAAAAAAAAAAAAAAAAAAAAAAAAAAAAAAAAAAAAAAAAAAAAAAAAAAAAAAAAAAAAAAAAAAAAAAAAAAAAAAAAAAAAAAAAAAAAAAAAAAAAAAAAAAAAAAAAAAAAAAAAAAAAAAAAAAAAAAAAAAAAAAAAAAAAAAAAAAAAAAAAAAAAAAAAAAAAAAAAAAAAAAAAAAAAAAAAAAAAAAAAAAAAAAAAAAAAAAAAAAAAAAAAAAAAAAAAAAAAAAAAAAAAAAAAAAAAAAAAAAAAAAAAAAAAAAAAAAAAAAAAAAAAAAAAAAAAAAAAAAAAAAAAAAAAAAAAAAAAAAAAAAAAAAAAAAAAAAAAAAAAAAAAAAAAAAAAAAAAAAAAAAAAAAAAAAAAAAAAAAAAAAAAAAAAAAAAAAAAAAAAAAAAAAAAAAAAAAAAAAAAAAAAAAAAAAAAAAAAAAAAAAAAAAAAAAAAAAAAAAAAAAAAAAAAAAAAAAAAAAAAAAAAAAAAAAAAAAAAAAAAAAAAAAAAAAAAAAAAAAAAAAAAAAAAAAAAAAAAAAAAAAAAAAAAAAAAAAAAAAAAAAAAAAAAAAAAAAAAAAAAAAAAAAAAAAAAAAAAAAAAAAAAAAAAAAAAAAAAAAAAAAAAAAAAAAAAAAAAAAAAAAAAAAAAAAAAAAAAAAAAAAAAAAAAAAAAAAAAAAAAAAAAAAAAAAAAAAAAAAAAAAAAAAAAAAAAAAAAAAAAAAAAAAAAAAAAAAAAAAAAAAAAAAAAAAAAAAAAAAAAAAAAAAAAAAAAAAAAAAAAAAAAAAAAAAAAAAAAAAAAAAAAAAAAAAAAAAAAAAAAAAAAAAAAAAAAAAAAAAAAAAAAAAAAAAAAAAAAAAAAAAAAAAAAAAAAAAAAAAAAAAAAAAAAAAAAAAAAAAAAAAAAAAAAAAAAAAAAAAAAAAAAAAAAAAAAAAAAAAAAAAAAAAAAAAAAAAAAAAAAAAAAAAAAAAAAAAAAAAAAAAAAAAAAAAAAAAAAAAAAAAAAAAAAAAAAAAAAAAAAAAAAAAAAAAAAAAAAAAAAAAAAAAAAAAAAAAAAAAAAAAAAAAAAAAAAAAAAAAAAAAAAAAAAAAAAAAAAAAAAAAAAAAAAAAAAAAAAAAAAAAAAAAAAAAAAAAAAAAAAAAAAAAAAAAAAAAAAAAAAAAAAAAAAAAAAAAAAAAAAAAAAAAAAAAAAAAAAAAAAAAAAAAAAAAAAAAAAAAAAAAAAAAAAAAAAAAAAAAAAAAAAAAAAAAAAAAAAAAAAAAAAAAAAAAAAAAAAAAAAAAAAAAAAAAAAAAAAAAAAAAAAAAAAAAAAAAAAAAAAAAAAAAAAAAAAAAAAAAAAAAAAAAAAAAAAAAAAAAAAAAAAAAAAAAAAAAAAAAAAAAAAAAAAAAAAAAAAAAAAAAAAAAAAAAAAAAAAAAAAAAAAAAAAAAAAAAAAAAAAAAAAAAAAAAAAAAAAAAAAAAAAAAAAAAAAAAAAAAAAAAAAAAAAAAAAAAAAAAAAAAAAAAAAAAAAAAAAAAAAAAAAAAAAAAAAAAAAAAAAAAAAAAAAAAAAAAAAAAAAAAAAAAAAAAAAAAAAAAAAAAAAAAAAAAAAAAAAAAAAAAAAAAAAAAAAAAAAAAAAAAAAAAAAAAAAAAAAAAAAAAAAAAAAAAAAAAAAAAAAAAAAAAAAAAAAAAAAAAAAAAAAAAAAAAAAAAAAAAAAAAAAAAAAAAAAAAAAAAAAAAAAAAAAAAAAAAAAAAAAAAAAAAAAAAAAAAAAAAAAAAAAAAAAAAAAAAAAAAAAAAAAAAAAAAAAAAAAAAAAAAAAAAAAAAAAAAAAAAAAAAAAAAAAAAAAAAAAAAAAAAAAAAAAAAAAAAAAAAAAAAAAAAAAAAAAAAAAAAAAAAAAAAAAAAAAAAAAAAAAAAAAAAAAAAAAAAAAAAAAAAAAAAAAAAAAAAAAAAAAAAAAAAAAAAAAAAAAAAAAAAAAAAAAAAAAAAAAAAAAAAAAAAAAAAAAAAAAAAAAAAAAAAAAAAAAAAAAAAAAAAAAAAAAAAAAAAAAAAAAAAAAAAAAAAAAAAAAAAAAAAAAAAAAAAAAAAAAAAAAAAAAAAAAAAAAAAAAAAAAAAAAAAAAAAAAAAAAAAAAAAAAAAAAAAAAAAAAAAAAAAAAAAAAAAAAAAAAAAAAAAAAAAAAAAAAAAAAAAAAAAAAAAAAAAAAAAAAAAAAAAAAAAAAAAAAAAAAAAAAAAAAAAAAAAAAAAAAAAAAAAAAAAAAAAAAAAAAAAAAAAAAAAAAAAAAAAAAAAAAAAAAAAAAAAAAAAAAAAAAAAAAAAAAAAAAAAAAAAAAAAAAAAAAAAAAAAAAAAAAAAAAAAAAAAAAAAAAAAAAAAAAAAAAAAAAAAAAAAAAAAAAAAAAAAAAAAAAAAAAAAAAAAAAAAAAAAAAAAAAAAAAAAAAAAAAAAAAAAAAAAAAAAAAAAAAAAAAAAAAAAAAAAAAAAAAAAAAAAAAAAAAAAAAAAAAAAAAAAAAAAAAAAAAAAAAAAAAAAAAAAAAAAAAAAAAAAAAAAAAAAAAAAAAAAAAAAAAAAAAAAAAAAAAAAAAAAAAAAAAAAAAAAAAAAAAAAAAAAAAAAAAAAAAAAAAAAAAAAAAAAAAAAAAAAAAAAAAAAAAAAAAAAAAAAAAAAAAAAAAAAAAAAAAAAAAAAAAAAAAAAAAAAAAAAAAAAAAAAAAAAAAAAAAAAAAAAAAAAAAAAAAAAAAAAAAAAAAAAAAAAAAAAAAAAAAAAAAAAAAAAAAAAAAAAAAAAAAAAAAAAAAAAAAAAAAAAAAAAAAAAAAAAAAAAAAAAAAAAAAAAAAAAAAAAAAAAAAAAAAAAAAAAAAAAAAAAAAAAAAAAAAAAAAAAAAAAAAAAAAAAAAAAAAAAAAAAAAAAAAAAAAAAAAAAAAAAAAAAAAAAAAAAAAAAAAAAAAAAAAAAAAAAAAAAAAAAAAAAAAAAAAAAAAAAAAAAAAAAAAAAAAAAAAAAAAAAAAAAAAAAAAAAAAAAAAAAAAAAAAAAAAAAAAAAAAAAAAAAAAAAAAAAAAAAAAAAAAAAAAAAAAAAAAAAAAAAAAAAAAAAAAAAAAAAAAAAAAAAAAAAAAAAAAAAAAAAAAAAAAAAAAAAAAAAAAAAAAAAAAAAAAAAAAAAAAAAAAAAAAAAAAAAAAAAAAAAAAAAAAAAAAAAAAAAAAAAAAAAAAAAAAAAAAAAAAAAAAAAAAAAAAAAAAAAAAAAAAAAAAAAAAAAAAAAAAAAAAAAAAAAAAAAAAAAAAAAAAAAAAAAAAAAAAAAAAAAAAAAAAAAAAAAAAAAAAAAAAAAAAAAAAAAAAAAAAAAAAAAAAAAAAAAAAAAAAAAAAAAAAAAAAAAAAAAAAAAAAAAAAAAAAAAAAAAAAAAAAAAAAAAAAAAAAAAAAAAAAAAAAAAAAAAAAAAAAAAAAAAAAAAAAAAAAAAAAAAAAAAAAAAAAAAAAAAAAAAAAAAAAAAAAAAAAAAAAAAAAAAAAAAAAAAAAAAAAAAAAAAAAAAAAAAAAAAAAAAAAAAAAAAAAAAAAAAAAAAAAAAAAAAAAAAAAAAAAAAAAAAAAAAAAAAAAAAAAAAAAAAAAAAAAAAAAAAAAAAAAAAAAAAAAAAAAAAAAAAAAAAAAAAAAAAAAAAAAAAAAAAAAAAAAAAAAAAAAAAAAAAAAAAAAAAAAAAAAAAAAAAAAAAAAAAAAAAAAAAAAAAAAAAAAAAAAAAAAAAAAAAAAAAAAAAAAAAAAAAAAAAAAAAAAAAAAAAAAAAAAAAAAAAAAAAAAAAAAAAAAAAAAAAAAAAAAAAAAAAAAAAAAAAAAAAAAAAAAAAAAAAAAAAAAAAAAAAAAAAAAAAAAAAAAAAAAAAAAAAAAAAAAAAAAAAAAAAAAAAAAAAAAAAAAAAAAAAAAAAAAAAAAAAAAAAAAAAAAAAAAAAAAAAAAAAAAAAAAAAAAAAAAAAAAAAAAAAAAAAAAAAAAAAAAAAAAAAAAAAAAAAAAAAAAAAAAAAAAAAAAAAAAAAAAAAAAAAAAAAAAAAAAAAAAAAAAAAAAAAAAAAAAAAAAAAAAAAAAAAAAAAAAAAAAAAAAAAAAAAAAAAAAAAAAAAAAAAAAAAAAAAAAAAAAAAAAAAAAAAAAAAAAAAAAAAAAAAAAAAAAAAAAAAAAAAAAAAAAAAAAAAAAAAAAAAAAAAAAAAAAAAAAAAAAAAAAAAAAAAAAAAAAAAAAAAAAAAAAAAAAAAAAAAAAAAAAAAAAAAAAAAAAAAAAAAAAAAAAAAAAAAAAAAAAAAAAAAAAAAAAAAAAAAAAAAAAAAAAAAAAAAAAAAAAAAAAAAAAAAAAAAAAAAAAAAAAAAAAAAAAAAAAAAAAAAAAAAAAAAAAAAAAAAAAAAAAAAAAAAAAAAAAAAAAAAAAAAAAAAAAAAAAAAAAAAAAAAAAAAAAAAAAAAAAAAAAAAAAAAAAAAAAAAAAAAAAAAAAAAAAAAAAAAAAAAAAAAAAAAAAAAAAAAAAAAAAAAAAAAAAAAAAAAAAAAAAAAAAAAAAAAAAAAAAAAAAAAAAAAAAAAAAAAAAAAAAAAAAAAAAAAAAAAAAAAAAAAAAAAAAAAAAAAAAAAAAAAAAAAAAAAAAAAAAAAAAAAAAAAAAAAAAAAAAAAAAAAAAAAAAAAAAAAAAAAAAAAAAAAAAAAAAAAAAAAAAAAAAAAAAAAAAAAAAAAAAAAAAAAAAAAAAAAAAAAAAAAAAAAAAAAAAAAAAAAAAAAAAAAAAAAAAAAAAAAAAAAAAAAAAAAAAAAAAAAAAAAAAAAAAAAAAAAAAAAAAAAAAAAAAAAAAAAAAAAAAAAAAAAAAAAAAAAAAAAAAAAAAAAAAAAAAAAAAAAAAAAAAAAAAAAAAAAAAAAAAAAAAAAAAAAAAAAAAAAAAAAAAAAAAAAAAAAAAAAAAAAAAAAAAAAAAAAAAAAAAAAAAAAAAAAAAAAAAAAAAAAAAAAAAAAAAAAAAAAAAAAAAAAAAAAAAAAAAAAAAAAAAAAAAAAAAAAAAAAAAAAAAAAAAAAAAAAAAAAAAAAAAAAAAAAAAAAAAAAAAAAAAAAAAAAAAAAAAAAAAAAAAAAAAAAAAAAAAAAAAAAAAAAAAAAAAAAAAAAAAAAAAAAAAAAAAAAAAAAAAAAAAAAAAAAAAAAAAAAAAAAAAAAAAAAAAAAAAAAAAAAAAAAAAAAAAAAAAAAAAAAAAAAAAAAAAAAAAAAAAAAAAAAAAAAAAAAAAAAAAAAAAAAAAAAAAAAAAAAAAAAAAAAAAAAAAAAAAAAAAAAAAAAAAAAAAAAAAAAAAAAAAAAAAAAAAAAAAAAAAAAAAAAAAAAAAAAAAAAAAAAAAAAAAAAAAAAAAAAAAAAAAAAAAAAAAAAAAAAAAAAAAAAAAAAAAAAAAAAAAAAAAAAAAAAAAAAAAAAAAAAAAAAAAAAAAAAAAAAAAAAAAAAAAAAAAAAAAAAAAAAAAAAAAAAAAAAAAAAAAAAAAAAAAAAAAAAAAAAAAAAAAAAAAAAAAAAAAAAAAAAAAAAAAAAAAAAAAAAAAAAAAAAAAAAAAAAAAAAAAAAAAAAAAAAAAAAAAAAAAAAAAAAAAAAAAAAAAAAAAAAAAAAAAAAAAAAAAAAAAAAAAAAAAAAAAAAAAAAAAAAAAAAAAAAAAAAAAAAAAAAAAAAAAAAAAAAAAAAAAAAAAAAAAAAAAAAAAAAAAAAAAAAAAAAAAAAAAAAAAAAAAAAAAAAAAAAAAAAAAAAAAAAAAAAAAAAAAAAAAAAAAAAAAAAAAAAAAAAAAAAAAAAAAAAAAAAAAAAAAAAAAAAAAAAAAAAAAAAAAAAAAAAAAAAAAAAAAAAAAAAAAAAAAAAAAAAAAAAAAAAAAAAAAAAAAAAAAAAAAAAAAAAAAAAAAAAAAAAAAAAAAAAAAAAAAAAAAAAAAAAAAAAAAAAAAAAAAAAAAAAAAAAAAAAAAAAAAAAAAAAAAAAAAAAAAAAAAAAAAAAAAAAAAAAAAAAAAAAAAAAAAAAAAAAAAAAAAAAAAAAAAAAAAAAAAAAAAAAAAAAAAAAAAAAAAAAAAAAAAAAAAAAAAAAAAAAAAAAAAAAAAAAAAAAAAAAAAAAAAAAAAAAAAAAAAAAAAAAAAAAAAAAAAAAAAAAAAAAAAAAAAAAAAAAAAAAAAAAAAAAAAAAAAAAAAAAAAAAAAAAAAAAAAAAAAAAAAAAAAAAAAAAAAAAAAAAAAAAAAAAAAAAAAAAAAAAAAAAAAAAAAAAAAAAAAAAAAAAAAAAAAAAAAAAAAAAAAAAAAAAAAAAAAAAAAAAAAAAAAAAAAAAAAAAAAAAAAAAAAAAAAAAAAAAAAAAAAAAAAAAAAAAAAAAAAAAAAAAAAAAAAAAAAAAAAAAAAAAAAAAAAAAAAAAAAAAAAAAAAAAAAAAAAAAAAAAAAAAAAAAAAAAAAAAAAAAAAAAAAAAAAAAAAAAAAAAAAAAAAAAAAAAAAAAAAAAAAAAAAAAAAAAAAAAAAAAAAAAAAAAAAAAAAAAAAAAAAAAAAAAAAAAAAAAAAAAAAAAAAAAAAAAAAAAAAAAAAAAAAAAAAAAAAAAAAAAAAAAAAAAAAAAAAAAAAAAAAAAAAAAAAAAAAAAAAAAAAAAAAAAAAAAAAAAAAAAAAAAAAAAAAAAAAAAAAAAAAAAAAAAAAAAAAAAAAAAAAAAAAAAAAAAAAAAAAAAAAAAAAAAAAAAAAAAAAAAAAAAAAAAAAAAAAAAAAAAAAAAAAAAAAAAAAAAAAAAAAAAAAAAAAAAAAAAAAAAAAAAAAAAAAAAAAAAAAAAAAAAAAAAAAAAAAAAAAAAAAAAAAAAAAAAAAAAAAAAAAAAAAAAAAAAAAAAAAAAAAAAAAAAAAAAAAAAAAAAAAAAAAAAAAAAAAAAAAAAAAAAAAAAAAAAAAAAAAAAAAAAAAAAAAAAAAAAAAAAAAAAAAAAAAAAAAAAAAAAAAAAAAAAAAAAAAAAAAAAAAAAAAAAAAAAAAAAAAAAAAAAAAAAAAAAAAAAAAAAAAAAAAAAAAAAAAAAAAAAAAAAAAAAAAAAAAAAAAAAAAAAAAAAAAAAAAAAAAAAAAAAAAAAAAAAAAAAAAAAAAAAAAAAAAAAAAAAAAAAAAAAAAAAAAAAAAAAAAAAAAAAAAAAAAAAAAAAAAAAAAAAAAAAAAAAAAAAAAAAAAAAAAAAAAAAAAAAAAAAAAAAAAAAAAAAAAAAAAAAAAAAAAAAAAAAAAAAAAAAAAAAAAAAAAAAAAAAAAAAAAAAAAAAAAAAAAAAAAAAAAAAAAAAAAAAAAAAAAAAAAAAAAAAAAAAAAAAAAAAAAAAAAAAAAAAAAAAAAAAAAAAAAAAAAAAAAAAAAAAAAAAAAAAAAAAAAAAAAAAAAAAAAAAAAAAAAAAAAAAAAAAAAAAAAAAAAAAAAAAAAAAAAAAAAAAAAAAAAAAAAAAAAAAAAAAAAAAAAAAAAAAAAAAAAAAAAAAAAAAAAAAAAAAAAAAAAAAAAAAAAAAAAAAAAAAAAAAAAAAAAAAAAAAAAAAAAAAAAAAAAAAAAAAAAAAAAAAAAAAAAAAAAAAAAAAAAAAAAAAAAAAAAAAAAAAAAAAAAAAAAAAAAAAAAAAAAAAAAAAAAAAAAAAAAAAAAAAAAAAAAAAAAAAAAAAAAAAAAAAAAAAAAAAAAAAAAAAAAAAAAAAAAAAAAAAAAAAAAAAAAAAAAAAAAAAAAAAAAAAAAAAAAAAAAAAAAAAAAAAAAAAAAAAAAAAAAAAAAAAAAAAAAAAAAAAAAAAAAAAAAAAAAAAAAAAAAAAAAAAAAAAAAAAAAAAAAAAAAAAAAAAAAAAAAAAAAAAAAAAAAAAAAAAAAAAAAAAAAAAAAAAAAAAAAAAAAAAAAAAAAAAAAAAAAAAAAAAAAAAAAAAAAAAAAAAAAAAAAAAAAAAAAAAAAAAAAAAAAAAAAAAAAAAAAAAAAAAAAAAAAAAAAAAAAAAAAAAAAAAAAAAAAAAAAAAAAAAAAAAAAAAAAAAAAAAAAAAAAAAAAAAAAAAAAAAAAAAAAAAAAAAAAAAAAAAAAAAAAAAAAAAAAAAAAAAAAAAAAAAAAAAAAAAAAAAAAAAAAAAAAAAAAAAAAAAAAAAAAAAAAAAAAAAAAAAAAAAAAAAAAAAAAAAAAAAAAAAAAAAAAAAAAAAAAAAAAAAAAAAAAAAAAAAAAAAAAAAAAAAAAAAAAAAAAAAAAAAAAAAAAAAAAAAAAAAAAAAAAAAAAAAAAAAAAAAAAAAAAAAAAAAAAAAAAAAAAAAAAAAAAAAAAAAAAAAAAAAAAAAAAAAAAAAAAAAAAAAAAAAAAAAAAAAAAAAAAAAAAAAAAAAAAAAAAAAAAAAAAAAAAAAAAAAAAAAAAAAAAAAAAAAAAAAAAAAAAAAAAAAAAAAAAAAAAAAAAAAAAAAAAAAAAAAAAAAAAAAAAAAAAAAAAAAAAAAAAAAAAAAAAAAAAAAAAAAAAAAAAAAAAAAAAAAAAAAAAAAAAAAAAAAAAAAAAAAAAAAAAAAAAAAAAAAAAAAAAAAAAAAAAAAAAAAAAAAAAAAAAAAAAAAAAAAAAAAAAAAAAAAAAAAAAAAAAAAAAAAAAAAAAAAAAAAAAAAAAAAAAAAAAAAAAAAAAAAAAAAAAAAAAAAAAAAAAAAAAAAAAAAAAAAAAAAAAAAAAAAAAAAAAAAAAAAAAAAAAAAAAAAAAAAAAAAAAAAAAAAAAAAAAAAAAAAAAAAAAAAAAAAAAAAAAAAAAAAAAAAAAAAAAAAAAAAAAAAAAAAAAAAAAAAAAAAAAAAAAAAAAAAAAAAAAAAAAAAAAAAAAAAAAAAAAAAAAAAAAAAAAAAAAAAAAAAAAAAAAAAAAAAAAAAAAAAAAAAAAAAAAAAAAAAAAAAAAAAAAAAAAAAAAAAAAAAAAAAAAAAAAAAAAAAAAAAAAAAAAAAAAAAAAAAAAAAAAAAAAAAAAAAAAAAAAAAAAAAAAAAAAAAAAAAAAAAAAAAAAAAAAAAAAAAAAAAAAAAAAAAAAAAAAAAAAAAAAAAAAAAAAAAAAAAAAAAAAAAAAAAAAAAAAAAAAAAAAAAAAAAAAAAAAAAAAAAAAAAAAAAAAAAAAAAAAAAAAAAAAAAAAAAAAAAAAAAAAAAAAAAAAAAAAAAAAAAAAAAAAAAAAAAAAAAAAAAAAAAAAAAAAAAAAAAAAAAAAAAAAAAAAAAAAAAAAAAAAAAAAAAAAAAAAAAAAAAAAAAAAAAAAAAAAAAAAAAAAAAAAAAAAAAAAAAAAAAAAAAAAAAAAAAAAAAAAAAAAAAAAAAAAAAAAAAAAAAAAAAAAAAAAAAAAAAAAAAAAAAAAAAAAAAAAAAAAAAAAAAAAAAAAAAAAAAAAAAAAAAAAAAAAAAAAAAAAAAAAAAAAAAAAAAAAAAAAAAAAAAAAAAAAAAAAAAAAAAAAAAAAAAAAAAAAAAAAAAAAAAAAAAAAAAAAAAAAAAAAAAAAAAAAAAAAAAAAAAAAAAAAAAAAAAAAAAAAAAAAAAAAAAAAAAAAAAAAAAAAAAAAAAAAAAAAAAAAAAAAAAAAAAAAAAAAAAAAAAAAAAAAAAAAAAAAAAAAAAAAAAAAAAAAAAAAAAAAAAAAAAAAAAAAAAAAAAAAAAAAAAAAAAAAAAAAAAAAAAAAAAAAAAAAAAAAAAAAAAAAAAAAAAAAAAAAAAAAAAAAAAAAAAAAAAAAAAAAAAAAAAAAAAAAAAAAAAAAAAAAAAAAAAAAAAAAAAAAAAAAAAAAAAAAAAAAAAAAAAAAAAAAAAAAAAAAAAAAAAAAAAAAAAAAAAAAAAAAAAAAAAAAAAAAAAAAAAAAAAAAAAAAAAAAAAAAAAAAAAAAAAAAAAAAAAAAAAAAAAAAAAAAAAAAAAAAAAAAAAAAAAAAAAAAAAAAAAAAAAAAAAAAAAAAAAAAAAAAAAAAAAAAAAAAAAAAAAAAAAAAAAAAAAAAAAAAAAAAAAAAAAAAAAAAAAAAAAAAAAAAAAAAAAAAAAAAAAAAAAAAAAAAAAAAAAAAAAAAAAAAAAAAAAAAAAAAAAAAAAAAAAAAAAAAAAAAAAAAAAAAAAAAAAAAAAAAAAAAAAAAAAAAAAAAAAAAAAAAAAAAAAAAAAAAAAAAAAAAAAAAAAAAAAAAAAAAAAAAAAAAAAAAAAAAAAAAAAAAAAAAAAAAAAAAAAAAAAAAAAAAAAAAAAAAAAAAAAAAAAAAAAAAAAAAAAAAAAAAAAAAAAAAAAAAAAAAAAAAAAAAAAAAAAAAAAAAAAAAAAAAAAAAAAAAAAAAAAAAAAAAAAAAAAAAAAAAAAAAAAAAAAAAAAAAAAAAAAAAAAAAAAAAAAAAAAAAAAAAAAAAAAAAAAAAAAAAAAAAAAAAAAAAAAAAAAAAAAAAAAAAAAAAAAAAAAAAAAAAAAAAAAAAAAAAAAAAAAAAAAAAAAAAAAAAAAAAAAAAAAAAAAAAAAAAAAAAAAAAAAAAAAAAAAAAAAAAAAAAAAAAAAAAAAAAAAAAAAAAAAAAAAAAAAAAAAAAAAAAAAAAAAAAAAAAAAAAAAAAAAAAAAAAAAAAAAAAAAAAAAAAAAAAAAAAAAAAAAAAAAAAAAAAAAAAAAAAAAAAAAAAAAAAAAAAAAAAAAAAAAAAAAAAAAAAAAAAAAAAAAAAAAAAAAAAAAAAAAAAAAAAAAAAAAAAAAAAAAAAAAAAAAAAAAAAAAAAAAAAAAAAAAAAAAAAAAAAAAAAAAAAAAAAAAAAAAAAAAAAAAAAAAAAAAAAAAAAAAAAAAAAAAAAAAAAAAAAAAAAAAAAAAAAAAAAAAAAAAAAAAAAACamZmZmZm5P5qZmZmZmbk/mpmZmZmZuT+amZmZmZm5P5qZmZmZmbk/mpmZmZmZuT+amZmZmZm5P5qZmZmZmbk/mpmZmZmZuT+amZmZmZm5P5qZmZmZmbk/mpmZmZmZuT+amZmZmZm5P5qZmZmZmbk/mpmZmZmZuT+amZmZmZm5P5qZmZmZmbk/mpmZmZmZuT+amZmZmZm5P5qZmZmZmbk/mpmZmZmZuT+amZmZmZm5P5qZmZmZmbk/mpmZmZmZuT+amZmZmZm5P5qZmZmZmbk/mpmZmZmZuT+amZmZmZm5P5qZmZmZmbk/mpmZmZmZuT+amZmZmZm5P5qZmZmZmbk/mpmZmZmZuT+amZmZmZm5P5qZmZmZmbk/mpmZmZmZuT+amZmZmZm5P5qZmZmZmbk/mpmZmZmZuT+amZmZmZm5P5qZmZmZmbk/mpmZmZmZuT+amZmZmZm5P5qZmZmZmbk/mpmZmZmZuT+amZmZmZm5P5qZmZmZmbk/mpmZmZmZuT+amZmZmZm5P5qZmZmZmbk/mpmZmZmZuT+amZmZmZm5P5qZmZmZmbk/mpmZmZmZuT+amZmZmZm5P5qZmZmZmbk/mpmZmZmZuT+amZmZmZm5P5qZmZmZmbk/mpmZmZmZuT+amZmZmZm5P5qZmZmZmbk/mpmZmZmZuT+amZmZmZm5P5qZmZmZmbk/mpmZmZmZuT+amZmZmZm5P5qZmZmZmbk/mpmZmZmZuT+amZmZmZm5P5qZmZmZmbk/mpmZmZmZuT+amZmZmZm5P5qZmZmZmbk/mpmZmZmZuT+amZmZmZm5P5qZmZmZmbk/mpmZmZmZuT+amZmZmZm5P5qZmZmZmbk/mpmZmZmZuT+amZmZmZm5P5qZmZmZmbk/mpmZmZmZuT+amZmZmZm5P5qZmZmZmbk/mpmZmZmZuT+amZmZmZm5P5qZmZmZmbk/mpmZmZmZuT+amZmZmZm5P5qZmZmZmbk/mpmZmZmZuT+amZmZmZm5PzMzMzMzM8M/MzMzMzMzwz8zMzMzMzPDPzMzMzMzM8M/MzMzMzMzwz8zMzMzMzPDPzMzMzMzM8M/MzMzMzMzwz8zMzMzMzPDPzMzMzMzM8M/MzMzMzMzwz8zMzMzMzPDPzMzMzMzM8M/MzMzMzMzwz8zMzMzMzPDPzMzMzMzM8M/MzMzMzMzwz8zMzMzMzPDPzMzMzMzM8M/MzMzMzMzwz8zMzMzMzPDPzMzMzMzM8M/MzMzMzMzwz8zMzMzMzPDPzMzMzMzM8M/MzMzMzMzwz8zMzMzMzPDPzMzMzMzM8M/MzMzMzMzwz8zMzMzMzPDPzMzMzMzM8M/MzMzMzMzwz8zMzMzMzPDPzMzMzMzM8M/MzMzMzMzwz8zMzMzMzPDPzMzMzMzM8M/MzMzMzMzwz8zMzMzMzPDPzMzMzMzM8M/MzMzMzMzwz8zMzMzMzPDPzMzMzMzM8M/MzMzMzMzwz8zMzMzMzPDPzMzMzMzM8M/MzMzMzMzwz8zMzMzMzPDPzMzMzMzM8M/MzMzMzMzwz8zMzMzMzPDPzMzMzMzM8M/mpmZmZmZyT+amZmZmZnJP5qZmZmZmck/mpmZmZmZyT+amZmZmZnJP5qZmZmZmck/mpmZmZmZyT+amZmZmZnJP5qZmZmZmck/mpmZmZmZyT+amZmZmZnJP5qZmZmZmck/mpmZmZmZyT+amZmZmZnJP5qZmZmZmck/mpmZmZmZyT+amZmZmZnJP5qZmZmZmck/mpmZmZmZyT+amZmZmZnJP5qZmZmZmck/mpmZmZmZyT+amZmZmZnJP5qZmZmZmck/mpmZmZmZyT+amZmZmZnJP5qZmZmZmck/mpmZmZmZyT+amZmZmZnJP5qZmZmZmck/mpmZmZmZyT+amZmZmZnJP5qZmZmZmck/mpmZmZmZyT+amZmZmZnJP5qZmZmZmck/mpmZmZmZyT+amZmZmZnJP5qZmZmZmck/mpmZmZmZyT+amZmZmZnJP5qZmZmZmck/mpmZmZmZyT+amZmZmZnJP5qZmZmZmck/mpmZmZmZyT+amZmZmZnJP5qZmZmZmck/mpmZmZmZyT+amZmZmZnJP5qZmZmZmck/mpmZmZmZyT+amZmZmZnJP5qZmZmZmck/mpmZmZmZyT+amZmZmZnJP5qZmZmZmck/mpmZmZmZyT+amZmZmZnJP5qZmZmZmck/mpmZmZmZyT+amZmZmZnJP5qZmZmZmck/mpmZmZmZyT+amZmZmZnJP5qZmZmZmck/mpmZmZmZyT+amZmZmZnJP5qZmZmZmck/mpmZmZmZyT+amZmZmZnJP5qZmZmZmck/mpmZmZmZyT+amZmZmZnJP5qZmZmZmck/mpmZmZmZyT+amZmZmZnJP5qZmZmZmck/mpmZmZmZyT+amZmZmZnJP5qZmZmZmck/mpmZmZmZyT+amZmZmZnJP5qZmZmZmck/mpmZmZmZyT+amZmZmZnJP5qZmZmZmck/mpmZmZmZyT+amZmZmZnJP5qZmZmZmck/mpmZmZmZyT+amZmZmZnJP5qZmZmZmck/mpmZmZmZyT+amZmZmZnJP5qZmZmZmck/mpmZmZmZyT+amZmZmZnJP5qZmZmZmck/mpmZmZmZyT+amZmZmZnJP5qZmZmZmck/mpmZmZmZyT+amZmZmZnJP5qZmZmZmck/mpmZmZmZyT+amZmZmZnJP5qZmZmZmck/mpmZmZmZyT+amZmZmZnJP5qZmZmZmck/mpmZmZmZyT+amZmZmZnJP5qZmZmZmck/mpmZmZmZyT+amZmZmZnJP5qZmZmZmck/mpmZmZmZyT+amZmZmZnJP5qZmZmZmck/mpmZmZmZyT+amZmZmZnJP5qZmZmZmck/mpmZmZmZyT+amZmZmZnJP5qZmZmZmck/mpmZmZmZyT+amZmZmZnJP5qZmZmZmck/mpmZmZmZyT+amZmZmZnJP5qZmZmZmck/mpmZmZmZyT+amZmZmZnJP5qZmZmZmck/mpmZmZmZyT+amZmZmZnJP5qZmZmZmck/mpmZmZmZyT+amZmZmZnJP5qZmZmZmck/mpmZmZmZyT+amZmZmZnJP5qZmZmZmck/mpmZmZmZyT+amZmZmZnJP5qZmZmZmck/mpmZmZmZyT+amZmZmZnJP5qZmZmZmck/mpmZmZmZyT+amZmZmZnJP5qZmZmZmck/mpmZmZmZyT+amZmZmZnJP5qZmZmZmck/mpmZmZmZyT+amZmZmZnJP5qZmZmZmck/mpmZmZmZyT+amZmZmZnJP5qZmZmZmck/mpmZmZmZyT+amZmZmZnJP5qZmZmZmck/mpmZmZmZyT+amZmZmZnJP5qZmZmZmck/mpmZmZmZyT+amZmZmZnJP5qZmZmZmck/mpmZmZmZyT+amZmZmZnJP5qZmZmZmck/mpmZmZmZyT+amZmZmZnJP5qZmZmZmck/mpmZmZmZyT+amZmZmZnJP5qZmZmZmck/mpmZmZmZyT+amZmZmZnJP5qZmZmZmck/mpmZmZmZyT+amZmZmZnJP5qZmZmZmck/mpmZmZmZyT+amZmZmZnJP5qZmZmZmck/mpmZmZmZyT+amZmZmZnJP5qZmZmZmck/mpmZmZmZyT+amZmZmZnJP5qZmZmZmck/mpmZmZmZyT+amZmZmZnJP5qZmZmZmck/mpmZmZmZyT+amZmZmZnJP5qZmZmZmck/mpmZmZmZyT+amZmZmZnJP5qZmZmZmck/mpmZmZmZyT+amZmZmZnJP5qZmZmZmck/mpmZmZmZyT+amZmZmZnJP5qZmZmZmck/mpmZmZmZyT+amZmZmZnJP5qZmZmZmck/mpmZmZmZyT+amZmZmZnJP5qZmZmZmck/mpmZmZmZyT+amZmZmZnJP5qZmZmZmck/mpmZmZmZyT+amZmZmZnJP5qZmZmZmck/mpmZmZmZyT+amZmZmZnJP5qZmZmZmck/mpmZmZmZyT+amZmZmZnJP5qZmZmZmck/mpmZmZmZyT+amZmZmZnJP5qZmZmZmck/mpmZmZmZyT+amZmZmZnJP5qZmZmZmck/mpmZmZmZyT+amZmZmZnJP5qZmZmZmck/mpmZmZmZyT+amZmZmZnJP5qZmZmZmck/mpmZmZmZyT+amZmZmZnJP5qZmZmZmck/mpmZmZmZyT+amZmZmZnJP5qZmZmZmck/mpmZmZmZyT+amZmZmZnJP5qZmZmZmck/mpmZmZmZyT+amZmZmZnJP5qZmZmZmck/mpmZmZmZyT+amZmZmZnJP5qZmZmZmck/mpmZmZmZyT+amZmZmZnJP5qZmZmZmck/mpmZmZmZyT+amZmZmZnJP5qZmZmZmck/mpmZmZmZyT+amZmZmZnJP5qZmZmZmck/mpmZmZmZyT+amZmZmZnJP5qZmZmZmck/mpmZmZmZyT+amZmZmZnJP5qZmZmZmck/mpmZmZmZyT+amZmZmZnJP5qZmZmZmck/mpmZmZmZyT+amZmZmZnJP5qZmZmZmck/mpmZmZmZyT+amZmZmZnJP5qZmZmZmck/mpmZmZmZyT+amZmZmZnJP5qZmZmZmck/mpmZmZmZyT+amZmZmZnJP5qZmZmZmck/mpmZmZmZyT+amZmZmZnJP5qZmZmZmck/mpmZmZmZyT+amZmZmZnJP5qZmZmZmck/mpmZmZmZyT+amZmZmZnJP5qZmZmZmck/mpmZmZmZyT+amZmZmZnJP5qZmZmZmck/mpmZmZmZyT+amZmZmZnJP5qZmZmZmck/mpmZmZmZyT+amZmZmZnJP5qZmZmZmck/mpmZmZmZyT+amZmZmZnJP5qZmZmZmck/mpmZmZmZyT+amZmZmZnJP5qZmZmZmck/mpmZmZmZyT+amZmZmZnJP5qZmZmZmck/mpmZmZmZyT+amZmZmZnJP5qZmZmZmck/mpmZmZmZyT+amZmZmZnJP5qZmZmZmck/mpmZmZmZyT+amZmZmZnJP5qZmZmZmck/mpmZmZmZyT+amZmZmZnJP5qZmZmZmck/mpmZmZmZyT+amZmZmZnJP5qZmZmZmck/mpmZmZmZyT+amZmZmZnJP5qZmZmZmck/mpmZmZmZyT+amZmZmZnJP5qZmZmZmck/mpmZmZmZyT+amZmZmZnJP5qZmZmZmck/mpmZmZmZyT+amZmZmZnJP5qZmZmZmck/mpmZmZmZyT+amZmZmZnJP5qZmZmZmck/mpmZmZmZyT+amZmZmZnJP5qZmZmZmck/mpmZmZmZyT+amZmZmZnJP5qZmZmZmck/mpmZmZmZyT+amZmZmZnJP5qZmZmZmck/mpmZmZmZyT+amZmZmZnJP5qZmZmZmck/mpmZmZmZyT+amZmZmZnJP5qZmZmZmck/mpmZmZmZyT+amZmZmZnJP5qZmZmZmck/mpmZmZmZyT+amZmZmZnJP5qZmZmZmck/mpmZmZmZyT+amZmZmZnJP5qZmZmZmck/mpmZmZmZyT+amZmZmZnJP5qZmZmZmck/mpmZmZmZyT+amZmZmZnJP5qZmZmZmck/mpmZmZmZyT+amZmZmZnJP5qZmZmZmck/mpmZmZmZyT+amZmZmZnJP5qZmZmZmck/mpmZmZmZyT+amZmZmZnJP5qZmZmZmck/mpmZmZmZyT+amZmZmZnJP5qZmZmZmck/mpmZmZmZyT+amZmZmZnJP5qZmZmZmck/mpmZmZmZyT+amZmZmZnJP5qZmZmZmck/mpmZmZmZyT+amZmZmZnJP5qZmZmZmck/mpmZmZmZyT+amZmZmZnJP5qZmZmZmck/mpmZmZmZyT+amZmZmZnJP5qZmZmZmck/mpmZmZmZyT+amZmZmZnJP5qZmZmZmck/mpmZmZmZyT+amZmZmZnJP5qZmZmZmck/mpmZmZmZyT+amZmZmZnJP5qZmZmZmck/mpmZmZmZyT+amZmZmZnJP5qZmZmZmck/mpmZmZmZyT+amZmZmZnJP5qZmZmZmck/mpmZmZmZyT+amZmZmZnJP5qZmZmZmck/mpmZmZmZyT+amZmZmZnJP5qZmZmZmck/mpmZmZmZyT+amZmZmZnJP5qZmZmZmck/mpmZmZmZyT+amZmZmZnJP5qZmZmZmck/mpmZmZmZyT+amZmZmZnJP5qZmZmZmck/mpmZmZmZyT+amZmZmZnJP5qZmZmZmck/mpmZmZmZyT+amZmZmZnJP5qZmZmZmck/mpmZmZmZyT+amZmZmZnJP5qZmZmZmck/mpmZmZmZyT+amZmZmZnJP5qZmZmZmck/mpmZmZmZyT+amZmZmZnJP5qZmZmZmck/mpmZmZmZyT+amZmZmZnJP5qZmZmZmck/mpmZmZmZyT+amZmZmZnJP5qZmZmZmck/mpmZmZmZyT+amZmZmZnJP5qZmZmZmck/mpmZmZmZyT+amZmZmZnJP5qZmZmZmck/mpmZmZmZyT+amZmZmZnJP5qZmZmZmck/mpmZmZmZyT+amZmZmZnJP5qZmZmZmck/mpmZmZmZyT+amZmZmZnJP5qZmZmZmck/mpmZmZmZyT+amZmZmZnJP5qZmZmZmck/mpmZmZmZyT+amZmZmZnJP5qZmZmZmck/mpmZmZmZyT+amZmZmZnJP5qZmZmZmck/mpmZmZmZyT+amZmZmZnJP5qZmZmZmck/mpmZmZmZyT+amZmZmZnJP5qZmZmZmck/mpmZmZmZyT+amZmZmZnJP5qZmZmZmck/mpmZmZmZyT+amZmZmZnJP5qZmZmZmck/mpmZmZmZyT+amZmZmZnJP5qZmZmZmck/mpmZmZmZyT+amZmZmZnJP5qZmZmZmck/mpmZmZmZyT+amZmZmZnJP5qZmZmZmck/mpmZmZmZyT+amZmZmZnJP5qZmZmZmck/mpmZmZmZyT+amZmZmZnJP5qZmZmZmck/mpmZmZmZyT+amZmZmZnJP5qZmZmZmck/mpmZmZmZyT+amZmZmZnJP5qZmZmZmck/mpmZmZmZyT+amZmZmZnJP5qZmZmZmck/mpmZmZmZyT+amZmZmZnJP5qZmZmZmck/mpmZmZmZyT+amZmZmZnJP5qZmZmZmck/mpmZmZmZyT+amZmZmZnJP5qZmZmZmck/mpmZmZmZyT+amZmZmZnJP5qZmZmZmck/mpmZmZmZyT+amZmZmZnJP5qZmZmZmck/mpmZmZmZyT+amZmZmZnJP5qZmZmZmck/mpmZmZmZyT+amZmZmZnJP5qZmZmZmck/mpmZmZmZyT+amZmZmZnJP5qZmZmZmck/mpmZmZmZyT+amZmZmZnJP5qZmZmZmck/mpmZmZmZyT+amZmZmZnJP5qZmZmZmck/mpmZmZmZyT+amZmZmZnJP5qZmZmZmck/mpmZmZmZyT+amZmZmZnJP5qZmZmZmck/mpmZmZmZyT+amZmZmZnJP5qZmZmZmck/mpmZmZmZyT+amZmZmZnJP5qZmZmZmck/mpmZmZmZyT+amZmZmZnJP5qZmZmZmck/mpmZmZmZyT+amZmZmZnJP5qZmZmZmck/mpmZmZmZyT+amZmZmZnJP5qZmZmZmck/mpmZmZmZyT+amZmZmZnJP5qZmZmZmck/mpmZmZmZyT+amZmZmZnJP5qZmZmZmck/mpmZmZmZyT+amZmZmZnJP5qZmZmZmck/mpmZmZmZyT+amZmZmZnJP5qZmZmZmck/mpmZmZmZyT+amZmZmZnJP5qZmZmZmck/mpmZmZmZyT+amZmZmZnJP5qZmZmZmck/mpmZmZmZyT+amZmZmZnJP5qZmZmZmck/mpmZmZmZyT+amZmZmZnJP5qZmZmZmck/mpmZmZmZyT+amZmZmZnJP5qZmZmZmck/mpmZmZmZyT+amZmZmZnJP5qZmZmZmck/mpmZmZmZyT+amZmZmZnJP5qZmZmZmck/mpmZmZmZyT+amZmZmZnJP5qZmZmZmck/mpmZmZmZyT+amZmZmZnJP5qZmZmZmck/mpmZmZmZyT+amZmZmZnJP5qZmZmZmck/mpmZmZmZyT+amZmZmZnJP5qZmZmZmck/mpmZmZmZyT+amZmZmZnJP5qZmZmZmck/mpmZmZmZyT+amZmZmZnJP5qZmZmZmck/mpmZmZmZyT+amZmZmZnJP5qZmZmZmck/mpmZmZmZyT+amZmZmZnJP5qZmZmZmck/mpmZmZmZyT+amZmZmZnJP5qZmZmZmck/mpmZmZmZyT+amZmZmZnJP5qZmZmZmck/mpmZmZmZyT+amZmZmZnJP5qZmZmZmck/mpmZmZmZyT+amZmZmZnJP5qZmZmZmck/mpmZmZmZyT+amZmZmZnJP5qZmZmZmck/mpmZmZmZyT+amZmZmZnJP5qZmZmZmck/mpmZmZmZyT+amZmZmZnJP5qZmZmZmck/mpmZmZmZyT+amZmZmZnJP5qZmZmZmck/mpmZmZmZyT+amZmZmZnJP5qZmZmZmck/mpmZmZmZyT+amZmZmZnJP5qZmZmZmck/mpmZmZmZyT+amZmZmZnJP5qZmZmZmck/mpmZmZmZyT+amZmZmZnJP5qZmZmZmck/mpmZmZmZyT+amZmZmZnJP5qZmZmZmck/mpmZmZmZyT+amZmZmZnJP5qZmZmZmck/mpmZmZmZyT+amZmZmZnJP5qZmZmZmck/mpmZmZmZyT+amZmZmZnJP5qZmZmZmck/mpmZmZmZyT+amZmZmZnJP5qZmZmZmck/mpmZmZmZyT+amZmZmZnJP5qZmZmZmck/mpmZmZmZyT+amZmZmZnJP5qZmZmZmck/mpmZmZmZyT+amZmZmZnJP5qZmZmZmck/mpmZmZmZyT+amZmZmZnJP5qZmZmZmck/mpmZmZmZyT+amZmZmZnJP5qZmZmZmck/mpmZmZmZyT+amZmZmZnJP5qZmZmZmck/mpmZmZmZyT+amZmZmZnJP5qZmZmZmck/mpmZmZmZyT+amZmZmZnJP5qZmZmZmck/mpmZmZmZyT+amZmZmZnJP5qZmZmZmck/mpmZmZmZyT+amZmZmZnJP5qZmZmZmck/mpmZmZmZyT+amZmZmZnJP5qZmZmZmck/mpmZmZmZyT+amZmZmZnJP5qZmZmZmck/mpmZmZmZyT+amZmZmZnJP5qZmZmZmck/mpmZmZmZyT+amZmZmZnJP5qZmZmZmck/mpmZmZmZyT+amZmZmZnJP5qZmZmZmck/mpmZmZmZyT+amZmZmZnJP5qZmZmZmck/mpmZmZmZyT+amZmZmZnJP5qZmZmZmck/mpmZmZmZyT+amZmZmZnJP5qZmZmZmck/mpmZmZmZyT+amZmZmZnJP5qZmZmZmck/mpmZmZmZyT+amZmZmZnJP5qZmZmZmck/mpmZmZmZyT+amZmZmZnJP5qZmZmZmck/mpmZmZmZyT+amZmZmZnJP5qZmZmZmck/mpmZmZmZyT+amZmZmZnJP5qZmZmZmck/mpmZmZmZyT+amZmZmZnJP5qZmZmZmck/mpmZmZmZyT+amZmZmZnJP5qZmZmZmck/mpmZmZmZyT+amZmZmZnJP5qZmZmZmck/mpmZmZmZyT+amZmZmZnJP5qZmZmZmck/mpmZmZmZyT+amZmZmZnJP5qZmZmZmck/mpmZmZmZyT+amZmZmZnJP5qZmZmZmck/mpmZmZmZyT+amZmZmZnJP5qZmZmZmck/mpmZmZmZyT+amZmZmZnJP5qZmZmZmck/mpmZmZmZyT+amZmZmZnJP5qZmZmZmck/mpmZmZmZyT+amZmZmZnJP5qZmZmZmck/mpmZmZmZyT+amZmZmZnJP5qZmZmZmck/mpmZmZmZyT+amZmZmZnJP5qZmZmZmck/mpmZmZmZyT+amZmZmZnJP5qZmZmZmck/mpmZmZmZyT+amZmZmZnJP5qZmZmZmck/mpmZmZmZyT+amZmZmZnJP5qZmZmZmck/mpmZmZmZyT+amZmZmZnJP5qZmZmZmck/mpmZmZmZyT+amZmZmZnJP5qZmZmZmck/mpmZmZmZyT+amZmZmZnJP5qZmZmZmck/mpmZmZmZyT+amZmZmZnJP5qZmZmZmck/mpmZmZmZyT+amZmZmZnJP5qZmZmZmck/mpmZmZmZyT+amZmZmZnJP5qZmZmZmck/mpmZmZmZyT+amZmZmZnJP5qZmZmZmck/mpmZmZmZyT+amZmZmZnJP5qZmZmZmck/mpmZmZmZyT+amZmZmZnJP5qZmZmZmck/mpmZmZmZyT+amZmZmZnJP5qZmZmZmck/mpmZmZmZyT+amZmZmZnJP5qZmZmZmck/mpmZmZmZyT+amZmZmZnJP5qZmZmZmck/mpmZmZmZyT+amZmZmZnJP5qZmZmZmck/mpmZmZmZyT+amZmZmZnJP5qZmZmZmck/mpmZmZmZyT+amZmZmZnJP5qZmZmZmck/mpmZmZmZyT+amZmZmZnJP5qZmZmZmck/mpmZmZmZyT+amZmZmZnJP5qZmZmZmck/mpmZmZmZyT+amZmZmZnJP5qZmZmZmck/mpmZmZmZyT+amZmZmZnJP5qZmZmZmck/mpmZmZmZyT+amZmZmZnJP5qZmZmZmck/mpmZmZmZyT+amZmZmZnJP5qZmZmZmck/mpmZmZmZyT+amZmZmZnJP5qZmZmZmck/mpmZmZmZyT+amZmZmZnJP5qZmZmZmck/mpmZmZmZyT+amZmZmZnJP5qZmZmZmck/mpmZmZmZyT+amZmZmZnJP5qZmZmZmck/mpmZmZmZyT+amZmZmZnJP5qZmZmZmck/mpmZmZmZyT+amZmZmZnJP5qZmZmZmck/mpmZmZmZyT+amZmZmZnJP5qZmZmZmck/mpmZmZmZyT+amZmZmZnJP5qZmZmZmck/mpmZmZmZyT+amZmZmZnJP5qZmZmZmck/mpmZmZmZyT+amZmZmZnJP5qZmZmZmck/mpmZmZmZyT+amZmZmZnJP5qZmZmZmck/mpmZmZmZyT+amZmZmZnJP5qZmZmZmck/mpmZmZmZyT+amZmZmZnJP5qZmZmZmck/mpmZmZmZyT+amZmZmZnJP5qZmZmZmck/mpmZmZmZyT+amZmZmZnJP5qZmZmZmck/mpmZmZmZyT+amZmZmZnJP5qZmZmZmck/mpmZmZmZyT+amZmZmZnJP5qZmZmZmck/mpmZmZmZyT+amZmZmZnJP5qZmZmZmck/mpmZmZmZyT+amZmZmZnJP5qZmZmZmck/mpmZmZmZyT+amZmZmZnJP5qZmZmZmck/mpmZmZmZyT+amZmZmZnJP5qZmZmZmck/mpmZmZmZyT+amZmZmZnJP5qZmZmZmck/mpmZmZmZyT+amZmZmZnJP5qZmZmZmck/mpmZmZmZyT+amZmZmZnJP5qZmZmZmck/mpmZmZmZyT+amZmZmZnJP5qZmZmZmck/mpmZmZmZyT+amZmZmZnJP5qZmZmZmck/mpmZmZmZyT+amZmZmZnJP5qZmZmZmck/mpmZmZmZyT+amZmZmZnJP5qZmZmZmck/mpmZmZmZyT+amZmZmZnJP5qZmZmZmck/mpmZmZmZyT+amZmZmZnJP5qZmZmZmck/mpmZmZmZyT+amZmZmZnJP5qZmZmZmck/mpmZmZmZyT+amZmZmZnJP5qZmZmZmck/mpmZmZmZyT+amZmZmZnJP5qZmZmZmck/mpmZmZmZyT+amZmZmZnJP5qZmZmZmck/mpmZmZmZyT+amZmZmZnJP5qZmZmZmck/mpmZmZmZyT+amZmZmZnJP5qZmZmZmck/mpmZmZmZyT+amZmZmZnJP5qZmZmZmck/mpmZmZmZyT+amZmZmZnJP5qZmZmZmck/mpmZmZmZyT+amZmZmZnJP5qZmZmZmck/mpmZmZmZyT+amZmZmZnJP5qZmZmZmck/mpmZmZmZyT+amZmZmZnJP5qZmZmZmck/mpmZmZmZyT+amZmZmZnJP5qZmZmZmck/mpmZmZmZyT+amZmZmZnJP5qZmZmZmck/mpmZmZmZyT+amZmZmZnJP5qZmZmZmck/mpmZmZmZyT+amZmZmZnJP5qZmZmZmck/mpmZmZmZyT+amZmZmZnJP5qZmZmZmck/mpmZmZmZyT+amZmZmZnJP5qZmZmZmck/mpmZmZmZyT+amZmZmZnJP5qZmZmZmck/mpmZmZmZyT+amZmZmZnJP5qZmZmZmck/mpmZmZmZyT+amZmZmZnJP5qZmZmZmck/mpmZmZmZyT+amZmZmZnJP5qZmZmZmck/mpmZmZmZyT+amZmZmZnJP5qZmZmZmck/mpmZmZmZyT+amZmZmZnJP5qZmZmZmck/mpmZmZmZyT+amZmZmZnJP5qZmZmZmck/mpmZmZmZyT+amZmZmZnJP5qZmZmZmck/mpmZmZmZyT+amZmZmZnJP5qZmZmZmck/mpmZmZmZyT+amZmZmZnJP5qZmZmZmck/mpmZmZmZyT+amZmZmZnJP5qZmZmZmck/mpmZmZmZyT+amZmZmZnJP5qZmZmZmck/mpmZmZmZyT+amZmZmZnJP5qZmZmZmck/mpmZmZmZyT+amZmZmZnJP5qZmZmZmck/mpmZmZmZyT+amZmZmZnJP5qZmZmZmck/mpmZmZmZyT+amZmZmZnJP5qZmZmZmck/mpmZmZmZyT+amZmZmZnJP5qZmZmZmck/mpmZmZmZyT+amZmZmZnJP5qZmZmZmck/mpmZmZmZyT+amZmZmZnJP5qZmZmZmck/mpmZmZmZyT+amZmZmZnJP5qZmZmZmck/mpmZmZmZyT+amZmZmZnJP5qZmZmZmck/mpmZmZmZyT+amZmZmZnJP5qZmZmZmck/mpmZmZmZyT+amZmZmZnJP5qZmZmZmck/mpmZmZmZyT+amZmZmZnJP5qZmZmZmck/mpmZmZmZyT+amZmZmZnJP5qZmZmZmck/mpmZmZmZyT+amZmZmZnJP5qZmZmZmck/mpmZmZmZyT+amZmZmZnJP5qZmZmZmck/mpmZmZmZyT+amZmZmZnJP5qZmZmZmck/mpmZmZmZyT+amZmZmZnJP5qZmZmZmck/mpmZmZmZyT+amZmZmZnJP5qZmZmZmck/mpmZmZmZyT+amZmZmZnJP5qZmZmZmck/mpmZmZmZyT+amZmZmZnJP5qZmZmZmck/mpmZmZmZyT+amZmZmZnJP5qZmZmZmck/mpmZmZmZyT+amZmZmZnJP5qZmZmZmck/mpmZmZmZyT+amZmZmZnJP5qZmZmZmck/mpmZmZmZyT+amZmZmZnJP5qZmZmZmck/mpmZmZmZyT+amZmZmZnJP5qZmZmZmck/mpmZmZmZyT+amZmZmZnJP5qZmZmZmck/mpmZmZmZyT+amZmZmZnJP5qZmZmZmck/mpmZmZmZyT+amZmZmZnJP5qZmZmZmck/mpmZmZmZyT+amZmZmZnJP5qZmZmZmck/mpmZmZmZyT+amZmZmZnJP5qZmZmZmck/mpmZmZmZyT+amZmZmZnJP5qZmZmZmck/mpmZmZmZyT+amZmZmZnJP5qZmZmZmck/mpmZmZmZyT+amZmZmZnJP5qZmZmZmck/mpmZmZmZyT+amZmZmZnJP5qZmZmZmck/mpmZmZmZyT+amZmZmZnJP5qZmZmZmck/mpmZmZmZyT+amZmZmZnJP5qZmZmZmck/mpmZmZmZyT+amZmZmZnJP5qZmZmZmck/mpmZmZmZyT+amZmZmZnJP5qZmZmZmck/mpmZmZmZyT+amZmZmZnJP5qZmZmZmck/mpmZmZmZyT+amZmZmZnJP5qZmZmZmck/mpmZmZmZyT+amZmZmZnJP5qZmZmZmck/mpmZmZmZyT+amZmZmZnJP5qZmZmZmck/mpmZmZmZyT+amZmZmZnJP5qZmZmZmck/mpmZmZmZyT+amZmZmZnJP5qZmZmZmck/mpmZmZmZyT+amZmZmZnJP5qZmZmZmck/mpmZmZmZyT+amZmZmZnJP5qZmZmZmck/mpmZmZmZyT+amZmZmZnJP5qZmZmZmck/mpmZmZmZyT+amZmZmZnJP5qZmZmZmck/mpmZmZmZyT+amZmZmZnJP5qZmZmZmck/mpmZmZmZyT+amZmZmZnJP5qZmZmZmck/mpmZmZmZyT+amZmZmZnJP5qZmZmZmck/mpmZmZmZyT+amZmZmZnJP5qZmZmZmck/mpmZmZmZyT+amZmZmZnJP5qZmZmZmck/mpmZmZmZyT+amZmZmZnJP5qZmZmZmck/mpmZmZmZyT+amZmZmZnJP5qZmZmZmck/mpmZmZmZyT+amZmZmZnJP5qZmZmZmck/mpmZmZmZyT+amZmZmZnJP5qZmZmZmck/mpmZmZmZyT+amZmZmZnJP5qZmZmZmck/mpmZmZmZyT+amZmZmZnJP5qZmZmZmck/mpmZmZmZyT+amZmZmZnJP5qZmZmZmck/mpmZmZmZyT+amZmZmZnJP5qZmZmZmck/mpmZmZmZyT+amZmZmZnJP5qZmZmZmck/mpmZmZmZyT+amZmZmZnJP5qZmZmZmck/mpmZmZmZyT+amZmZmZnJP5qZmZmZmck/mpmZmZmZyT+amZmZmZnJP5qZmZmZmck/mpmZmZmZyT+amZmZmZnJP5qZmZmZmck/mpmZmZmZyT+amZmZmZnJP5qZmZmZmck/mpmZmZmZyT+amZmZmZnJP5qZmZmZmck/mpmZmZmZyT+amZmZmZnJP5qZmZmZmck/mpmZmZmZyT+amZmZmZnJP5qZmZmZmck/mpmZmZmZyT+amZmZmZnJP5qZmZmZmck/mpmZmZmZyT+amZmZmZnJP5qZmZmZmck/mpmZmZmZyT+amZmZmZnJP5qZmZmZmck/mpmZmZmZyT+amZmZmZnJP5qZmZmZmck/mpmZmZmZyT+amZmZmZnJP5qZmZmZmck/mpmZmZmZyT+amZmZmZnJP5qZmZmZmck/mpmZmZmZyT+amZmZmZnJP5qZmZmZmck/mpmZmZmZyT+amZmZmZnJP5qZmZmZmck/mpmZmZmZyT+amZmZmZnJP5qZmZmZmck/mpmZmZmZyT+amZmZmZnJP5qZmZmZmck/mpmZmZmZyT+amZmZmZnJP5qZmZmZmck/mpmZmZmZyT+amZmZmZnJP5qZmZmZmck/mpmZmZmZyT+amZmZmZnJP5qZmZmZmck/mpmZmZmZyT+amZmZmZnJP5qZmZmZmck/mpmZmZmZyT+amZmZmZnJP5qZmZmZmck/mpmZmZmZyT+amZmZmZnJP5qZmZmZmck/mpmZmZmZyT+amZmZmZnJP5qZmZmZmck/mpmZmZmZyT+amZmZmZnJP5qZmZmZmck/mpmZmZmZyT+amZmZmZnJP5qZmZmZmck/mpmZmZmZyT+amZmZmZnJP5qZmZmZmck/mpmZmZmZyT+amZmZmZnJP5qZmZmZmck/mpmZmZmZyT+amZmZmZnJP5qZmZmZmck/mpmZmZmZyT+amZmZmZnJP5qZmZmZmck/mpmZmZmZyT+amZmZmZnJP5qZmZmZmck/mpmZmZmZyT+amZmZmZnJP5qZmZmZmck/mpmZmZmZyT+amZmZmZnJP5qZmZmZmck/mpmZmZmZyT+amZmZmZnJP5qZmZmZmck/mpmZmZmZyT+amZmZmZnJP5qZmZmZmck/mpmZmZmZyT+amZmZmZnJP5qZmZmZmck/mpmZmZmZyT+amZmZmZnJP5qZmZmZmck/mpmZmZmZyT+amZmZmZnJP5qZmZmZmck/mpmZmZmZyT+amZmZmZnJP5qZmZmZmck/mpmZmZmZyT+amZmZmZnJP5qZmZmZmck/mpmZmZmZyT+amZmZmZnJP5qZmZmZmck/mpmZmZmZyT+amZmZmZnJP5qZmZmZmck/mpmZmZmZyT+amZmZmZnJP5qZmZmZmck/mpmZmZmZyT+amZmZmZnJP5qZmZmZmck/mpmZmZmZyT+amZmZmZnJP5qZmZmZmck/mpmZmZmZyT+amZmZmZnJP5qZmZmZmck/mpmZmZmZyT+amZmZmZnJP5qZmZmZmck/mpmZmZmZyT+amZmZmZnJP5qZmZmZmck/mpmZmZmZyT+amZmZmZnJP5qZmZmZmck/mpmZmZmZyT+amZmZmZnJP5qZmZmZmck/mpmZmZmZyT+amZmZmZnJP5qZmZmZmck/mpmZmZmZyT+amZmZmZnJP5qZmZmZmck/mpmZmZmZyT+amZmZmZnJP5qZmZmZmck/mpmZmZmZyT+amZmZmZnJP5qZmZmZmck/mpmZmZmZyT+amZmZmZnJP5qZmZmZmck/mpmZmZmZyT+amZmZmZnJP5qZmZmZmck/mpmZmZmZyT+amZmZmZnJP5qZmZmZmck/mpmZmZmZyT+amZmZmZnJP5qZmZmZmck/mpmZmZmZyT+amZmZmZnJP5qZmZmZmck/mpmZmZmZyT+amZmZmZnJP5qZmZmZmck/mpmZmZmZyT+amZmZmZnJP5qZmZmZmck/mpmZmZmZyT+amZmZmZnJP5qZmZmZmck/mpmZmZmZyT+amZmZmZnJP5qZmZmZmck/mpmZmZmZyT+amZmZmZnJP5qZmZmZmck/mpmZmZmZyT+amZmZmZnJP5qZmZmZmck/mpmZmZmZyT+amZmZmZnJP5qZmZmZmck/mpmZmZmZyT+amZmZmZnJP5qZmZmZmck/mpmZmZmZyT+amZmZmZnJP5qZmZmZmck/mpmZmZmZyT+amZmZmZnJP5qZmZmZmck/mpmZmZmZyT+amZmZmZnJP5qZmZmZmck/mpmZmZmZyT+amZmZmZnJP5qZmZmZmck/mpmZmZmZyT+amZmZmZnJP5qZmZmZmck/mpmZmZmZyT+amZmZmZnJP5qZmZmZmck/mpmZmZmZyT+amZmZmZnJP5qZmZmZmck/mpmZmZmZyT+amZmZmZnJP5qZmZmZmck/mpmZmZmZyT+amZmZmZnJP5qZmZmZmck/mpmZmZmZyT+amZmZmZnJP5qZmZmZmck/mpmZmZmZyT+amZmZmZnJP5qZmZmZmck/mpmZmZmZyT+amZmZmZnJP5qZmZmZmck/mpmZmZmZyT+amZmZmZnJP5qZmZmZmck/mpmZmZmZyT+amZmZmZnJP5qZmZmZmck/mpmZmZmZyT+amZmZmZnJP5qZmZmZmck/mpmZmZmZyT+amZmZmZnJP5qZmZmZmck/mpmZmZmZyT+amZmZmZnJP5qZmZmZmck/mpmZmZmZyT+amZmZmZnJP5qZmZmZmck/mpmZmZmZyT+amZmZmZnJP5qZmZmZmck/mpmZmZmZyT+amZmZmZnJP5qZmZmZmck/mpmZmZmZyT+amZmZmZnJP5qZmZmZmck/mpmZmZmZyT+amZmZmZnJP5qZmZmZmck/mpmZmZmZyT+amZmZmZnJP5qZmZmZmck/mpmZmZmZyT+amZmZmZnJP5qZmZmZmck/mpmZmZmZyT+amZmZmZnJP5qZmZmZmck/mpmZmZmZyT+amZmZmZnJP5qZmZmZmck/mpmZmZmZyT+amZmZmZnJP5qZmZmZmck/mpmZmZmZyT+amZmZmZnJP5qZmZmZmck/mpmZmZmZyT+amZmZmZnJP5qZmZmZmck/mpmZmZmZyT+amZmZmZnJP5qZmZmZmck/mpmZmZmZyT+amZmZmZnJP5qZmZmZmck/mpmZmZmZyT+amZmZmZnJP5qZmZmZmck/mpmZmZmZyT+amZmZmZnJP5qZmZmZmck/mpmZmZmZyT+amZmZmZnJP5qZmZmZmck/mpmZmZmZyT+amZmZmZnJP5qZmZmZmck/mpmZmZmZyT+amZmZmZnJP5qZmZmZmck/mpmZmZmZyT+amZmZmZnJP5qZmZmZmck/mpmZmZmZyT+amZmZmZnJP5qZmZmZmck/mpmZmZmZyT+amZmZmZnJP5qZmZmZmck/mpmZmZmZyT+amZmZmZnJP5qZmZmZmck/mpmZmZmZyT+amZmZmZnJP5qZmZmZmck/mpmZmZmZyT+amZmZmZnJP5qZmZmZmck/mpmZmZmZyT+amZmZmZnJP5qZmZmZmck/mpmZmZmZyT+amZmZmZnJP5qZmZmZmck/mpmZmZmZyT+amZmZmZnJP5qZmZmZmck/mpmZmZmZyT+amZmZmZnJP5qZmZmZmck/mpmZmZmZyT+amZmZmZnJP5qZmZmZmck/mpmZmZmZyT+amZmZmZnJP5qZmZmZmck/mpmZmZmZyT+amZmZmZnJP5qZmZmZmck/mpmZmZmZyT+amZmZmZnJP5qZmZmZmck/mpmZmZmZyT+amZmZmZnJP5qZmZmZmck/mpmZmZmZyT+amZmZmZnJP5qZmZmZmck/mpmZmZmZyT+amZmZmZnJP5qZmZmZmck/mpmZmZmZyT+amZmZmZnJP5qZmZmZmck/mpmZmZmZyT+amZmZmZnJP5qZmZmZmck/mpmZmZmZyT+amZmZmZnJP5qZmZmZmck/mpmZmZmZyT+amZmZmZnJP5qZmZmZmck/mpmZmZmZyT+amZmZmZnJP5qZmZmZmck/mpmZmZmZyT+amZmZmZnJP5qZmZmZmck/mpmZmZmZyT+amZmZmZnJP5qZmZmZmck/mpmZmZmZyT+amZmZmZnJP5qZmZmZmck/mpmZmZmZyT+amZmZmZnJP5qZmZmZmck/mpmZmZmZyT+amZmZmZnJP5qZmZmZmck/mpmZmZmZyT+amZmZmZnJP5qZmZmZmck/mpmZmZmZyT+amZmZmZnJP5qZmZmZmck/mpmZmZmZyT+amZmZmZnJP5qZmZmZmck/mpmZmZmZyT+amZmZmZnJP5qZmZmZmck/mpmZmZmZyT+amZmZmZnJP5qZmZmZmck/mpmZmZmZyT+amZmZmZnJP5qZmZmZmck/mpmZmZmZyT+amZmZmZnJP5qZmZmZmck/mpmZmZmZyT+amZmZmZnJP5qZmZmZmck/mpmZmZmZyT+amZmZmZnJP5qZmZmZmck/mpmZmZmZyT+amZmZmZnJP5qZmZmZmck/mpmZmZmZyT+amZmZmZnJP5qZmZmZmck/mpmZmZmZyT+amZmZmZnJP5qZmZmZmck/mpmZmZmZyT+amZmZmZnJP5qZmZmZmck/mpmZmZmZyT+amZmZmZnJP5qZmZmZmck/mpmZmZmZyT+amZmZmZnJP5qZmZmZmck/mpmZmZmZyT+amZmZmZnJP5qZmZmZmck/mpmZmZmZyT+amZmZmZnJP5qZmZmZmck/mpmZmZmZyT+amZmZmZnJP5qZmZmZmck/mpmZmZmZyT+amZmZmZnJP5qZmZmZmck/mpmZmZmZyT+amZmZmZnJP5qZmZmZmck/mpmZmZmZyT+amZmZmZnJP5qZmZmZmck/mpmZmZmZyT+amZmZmZnJP5qZmZmZmck/mpmZmZmZyT+amZmZmZnJP5qZmZmZmck/mpmZmZmZyT+amZmZmZnJP5qZmZmZmck/mpmZmZmZyT+amZmZmZnJP5qZmZmZmck/mpmZmZmZyT+amZmZmZnJP5qZmZmZmck/mpmZmZmZyT+amZmZmZnJP5qZmZmZmck/mpmZmZmZyT+amZmZmZnJP5qZmZmZmck/mpmZmZmZyT+amZmZmZnJP5qZmZmZmck/mpmZmZmZyT+amZmZmZnJP5qZmZmZmck/mpmZmZmZyT+amZmZmZnJP5qZmZmZmck/mpmZmZmZyT+amZmZmZnJP5qZmZmZmck/mpmZmZmZyT+amZmZmZnJP5qZmZmZmck/mpmZmZmZyT+amZmZmZnJP5qZmZmZmck/mpmZmZmZyT+amZmZmZnJP5qZmZmZmck/mpmZmZmZyT+amZmZmZnJP5qZmZmZmck/mpmZmZmZyT+amZmZmZnJP5qZmZmZmck/mpmZmZmZyT+amZmZmZnJP5qZmZmZmck/mpmZmZmZyT+amZmZmZnJP5qZmZmZmck/mpmZmZmZyT+amZmZmZnJP5qZmZmZmck/mpmZmZmZyT+amZmZmZnJP5qZmZmZmck/mpmZmZmZyT+amZmZmZnJP5qZmZmZmck/mpmZmZmZyT+amZmZmZnJP5qZmZmZmck/mpmZmZmZyT+amZmZmZnJP5qZmZmZmck/mpmZmZmZyT+amZmZmZnJP5qZmZmZmck/mpmZmZmZyT+amZmZmZnJP5qZmZmZmck/mpmZmZmZyT+amZmZmZnJP5qZmZmZmck/mpmZmZmZyT+amZmZmZnJP5qZmZmZmck/mpmZmZmZyT+amZmZmZnJP5qZmZmZmck/mpmZmZmZyT+amZmZmZnJP5qZmZmZmck/mpmZmZmZyT+amZmZmZnJP5qZmZmZmck/mpmZmZmZyT+amZmZmZnJP5qZmZmZmck/mpmZmZmZyT+amZmZmZnJP5qZmZmZmck/mpmZmZmZyT+amZmZmZnJP5qZmZmZmck/mpmZmZmZyT+amZmZmZnJP5qZmZmZmck/mpmZmZmZyT+amZmZmZnJP5qZmZmZmck/mpmZmZmZyT+amZmZmZnJP5qZmZmZmck/mpmZmZmZyT+amZmZmZnJP5qZmZmZmck/mpmZmZmZyT+amZmZmZnJP5qZmZmZmck/mpmZmZmZyT+amZmZmZnJP5qZmZmZmck/mpmZmZmZyT+amZmZmZnJP5qZmZmZmck/mpmZmZmZyT+amZmZmZnJP5qZmZmZmck/mpmZmZmZyT+amZmZmZnJP5qZmZmZmck/mpmZmZmZyT+amZmZmZnJP5qZmZmZmck/mpmZmZmZyT+amZmZmZnJP5qZmZmZmck/mpmZmZmZyT+amZmZmZnJP5qZmZmZmck/mpmZmZmZyT+amZmZmZnJP5qZmZmZmck/mpmZmZmZyT+amZmZmZnJP5qZmZmZmck/mpmZmZmZyT+amZmZmZnJP5qZmZmZmck/mpmZmZmZyT+amZmZmZnJP5qZmZmZmck/mpmZmZmZyT+amZmZmZnJP5qZmZmZmck/mpmZmZmZyT+amZmZmZnJP5qZmZmZmck/mpmZmZmZyT+amZmZmZnJP5qZmZmZmck/mpmZmZmZyT+amZmZmZnJP5qZmZmZmck/mpmZmZmZyT+amZmZmZnJP5qZmZmZmck/mpmZmZmZyT+amZmZmZnJP5qZmZmZmck/mpmZmZmZyT+amZmZmZnJP5qZmZmZmck/mpmZmZmZyT+amZmZmZnJP5qZmZmZmck/mpmZmZmZyT+amZmZmZnJP5qZmZmZmck/mpmZmZmZyT+amZmZmZnJP5qZmZmZmck/mpmZmZmZyT+amZmZmZnJP5qZmZmZmck/mpmZmZmZyT+amZmZmZnJP5qZmZmZmck/mpmZmZmZyT+amZmZmZnJP5qZmZmZmck/mpmZmZmZyT+amZmZmZnJP5qZmZmZmck/mpmZmZmZyT+amZmZmZnJP5qZmZmZmck/mpmZmZmZyT+amZmZmZnJP5qZmZmZmck/mpmZmZmZyT+amZmZmZnJP5qZmZmZmck/mpmZmZmZyT+amZmZmZnJP5qZmZmZmck/mpmZmZmZyT+amZmZmZnJP5qZmZmZmck/mpmZmZmZyT+amZmZmZnJP5qZmZmZmck/mpmZmZmZyT+amZmZmZnJP5qZmZmZmck/mpmZmZmZyT+amZmZmZnJP5qZmZmZmck/mpmZmZmZyT+amZmZmZnJP5qZmZmZmck/mpmZmZmZyT+amZmZmZnJP5qZmZmZmck/mpmZmZmZyT+amZmZmZnJP5qZmZmZmck/mpmZmZmZyT+amZmZmZnJP5qZmZmZmck/mpmZmZmZyT+amZmZmZnJP5qZmZmZmck/mpmZmZmZyT+amZmZmZnJP5qZmZmZmck/mpmZmZmZyT+amZmZmZnJP5qZmZmZmck/mpmZmZmZyT+amZmZmZnJP5qZmZmZmck/mpmZmZmZyT+amZmZmZnJP5qZmZmZmck/mpmZmZmZyT+amZmZmZnJP5qZmZmZmck/mpmZmZmZyT+amZmZmZnJP5qZmZmZmck/mpmZmZmZyT+amZmZmZnJP5qZmZmZmck/mpmZmZmZyT+amZmZmZnJP5qZmZmZmck/mpmZmZmZyT+amZmZmZnJP5qZmZmZmck/mpmZmZmZyT+amZmZmZnJP5qZmZmZmck/mpmZmZmZyT+amZmZmZnJP5qZmZmZmck/mpmZmZmZyT+amZmZmZnJP5qZmZmZmck/mpmZmZmZyT+amZmZmZnJP5qZmZmZmck/mpmZmZmZyT+amZmZmZnJP5qZmZmZmck/mpmZmZmZyT+amZmZmZnJP5qZmZmZmck/mpmZmZmZyT+amZmZmZnJP5qZmZmZmck/mpmZmZmZyT+amZmZmZnJP5qZmZmZmck/mpmZmZmZyT+amZmZmZnJP5qZmZmZmck/mpmZmZmZyT+amZmZmZnJP5qZmZmZmck/mpmZmZmZyT+amZmZmZnJP5qZmZmZmck/mpmZmZmZyT+amZmZmZnJP5qZmZmZmck/mpmZmZmZyT+amZmZmZnJP5qZmZmZmck/mpmZmZmZyT+amZmZmZnJP5qZmZmZmck/mpmZmZmZyT+amZmZmZnJP5qZmZmZmck/mpmZmZmZyT+amZmZmZnJP5qZmZmZmck/mpmZmZmZyT+amZmZmZnJP5qZmZmZmck/mpmZmZmZyT+amZmZmZnJP5qZmZmZmck/mpmZmZmZyT+amZmZmZnJP5qZmZmZmck/mpmZmZmZyT+amZmZmZnJP5qZmZmZmck/mpmZmZmZyT+amZmZmZnJP5qZmZmZmck/mpmZmZmZyT+amZmZmZnJP5qZmZmZmck/mpmZmZmZyT+amZmZmZnJP5qZmZmZmck/mpmZmZmZyT+amZmZmZnJP5qZmZmZmck/mpmZmZmZyT+amZmZmZnJP5qZmZmZmck/mpmZmZmZyT+amZmZmZnJP5qZmZmZmck/mpmZmZmZyT+amZmZmZnJP5qZmZmZmck/mpmZmZmZyT+amZmZmZnJP5qZmZmZmck/mpmZmZmZyT+amZmZmZnJP5qZmZmZmck/mpmZmZmZyT+amZmZmZnJP5qZmZmZmck/mpmZmZmZyT+amZmZmZnJP5qZmZmZmck/mpmZmZmZyT+amZmZmZnJP5qZmZmZmck/mpmZmZmZyT+amZmZmZnJP5qZmZmZmck/mpmZmZmZyT+amZmZmZnJP5qZmZmZmck/mpmZmZmZyT+amZmZmZnJP5qZmZmZmck/mpmZmZmZyT+amZmZmZnJP5qZmZmZmck/mpmZmZmZyT+amZmZmZnJP5qZmZmZmck/mpmZmZmZyT+amZmZmZnJP5qZmZmZmck/mpmZmZmZyT+amZmZmZnJP5qZmZmZmck/mpmZmZmZyT+amZmZmZnJP5qZmZmZmck/mpmZmZmZyT+amZmZmZnJP5qZmZmZmck/mpmZmZmZyT+amZmZmZnJP5qZmZmZmck/mpmZmZmZyT+amZmZmZnJP5qZmZmZmck/mpmZmZmZyT+amZmZmZnJP5qZmZmZmck/mpmZmZmZyT+amZmZmZnJP5qZmZmZmck/mpmZmZmZyT+amZmZmZnJP5qZmZmZmck/mpmZmZmZyT+amZmZmZnJP5qZmZmZmck/mpmZmZmZyT+amZmZmZnJP5qZmZmZmck/mpmZmZmZyT+amZmZmZnJP5qZmZmZmck/mpmZmZmZyT+amZmZmZnJP5qZmZmZmck/mpmZmZmZyT+amZmZmZnJP5qZmZmZmck/mpmZmZmZyT+amZmZmZnJP5qZmZmZmck/mpmZmZmZyT+amZmZmZnJP5qZmZmZmck/mpmZmZmZyT+amZmZmZnJP5qZmZmZmck/mpmZmZmZyT+amZmZmZnJP5qZmZmZmck/mpmZmZmZyT+amZmZmZnJP5qZmZmZmck/mpmZmZmZyT+amZmZmZnJP5qZmZmZmck/mpmZmZmZyT+amZmZmZnJP5qZmZmZmck/mpmZmZmZyT+amZmZmZnJP5qZmZmZmck/mpmZmZmZyT+amZmZmZnJP5qZmZmZmck/mpmZmZmZyT+amZmZmZnJP5qZmZmZmck/mpmZmZmZyT+amZmZmZnJP5qZmZmZmck/mpmZmZmZyT+amZmZmZnJP5qZmZmZmck/mpmZmZmZyT+amZmZmZnJP5qZmZmZmck/mpmZmZmZyT+amZmZmZnJP5qZmZmZmck/mpmZmZmZyT+amZmZmZnJP5qZmZmZmck/mpmZmZmZyT+amZmZmZnJP5qZmZmZmck/mpmZmZmZyT+amZmZmZnJP5qZmZmZmck/mpmZmZmZyT+amZmZmZnJP5qZmZmZmck/mpmZmZmZyT+amZmZmZnJP5qZmZmZmck/mpmZmZmZyT+amZmZmZnJP5qZmZmZmck/mpmZmZmZyT+amZmZmZnJP5qZmZmZmck/mpmZmZmZyT+amZmZmZnJP5qZmZmZmck/mpmZmZmZyT+amZmZmZnJP5qZmZmZmck/mpmZmZmZyT+amZmZmZnJP5qZmZmZmck/mpmZmZmZyT+amZmZmZnJP5qZmZmZmck/mpmZmZmZyT+amZmZmZnJP5qZmZmZmck/mpmZmZmZyT+amZmZmZnJP5qZmZmZmck/mpmZmZmZyT+amZmZmZnJP5qZmZmZmck/mpmZmZmZyT+amZmZmZnJP5qZmZmZmck/mpmZmZmZyT+amZmZmZnJP5qZmZmZmck/mpmZmZmZyT+amZmZmZnJP5qZmZmZmck/mpmZmZmZyT+amZmZmZnJP5qZmZmZmck/mpmZmZmZyT+amZmZmZnJP5qZmZmZmck/mpmZmZmZyT+amZmZmZnJP5qZmZmZmck/mpmZmZmZyT+amZmZmZnJP5qZmZmZmck/mpmZmZmZyT+amZmZmZnJP5qZmZmZmck/mpmZmZmZyT+amZmZmZnJP5qZmZmZmck/mpmZmZmZyT+amZmZmZnJP5qZmZmZmck/mpmZmZmZyT+amZmZmZnJP5qZmZmZmck/mpmZmZmZyT+amZmZmZnJP5qZmZmZmck/mpmZmZmZyT+amZmZmZnJP5qZmZmZmck/mpmZmZmZyT+amZmZmZnJP5qZmZmZmck/mpmZmZmZyT+amZmZmZnJP5qZmZmZmck/mpmZmZmZyT+amZmZmZnJP5qZmZmZmck/mpmZmZmZyT+amZmZmZnJP5qZmZmZmck/mpmZmZmZyT+amZmZmZnJP5qZmZmZmck/mpmZmZmZyT+amZmZmZnJP5qZmZmZmck/mpmZmZmZyT+amZmZmZnJP5qZmZmZmck/mpmZmZmZyT+amZmZmZnJP5qZmZmZmck/mpmZmZmZyT+amZmZmZnJP5qZmZmZmck/mpmZmZmZyT+amZmZmZnJP5qZmZmZmck/mpmZmZmZyT+amZmZmZnJP5qZmZmZmck/mpmZmZmZyT+amZmZmZnJP5qZmZmZmck/mpmZmZmZyT+amZmZmZnJP5qZmZmZmck/mpmZmZmZyT+amZmZmZnJP5qZmZmZmck/mpmZmZmZyT+amZmZmZnJP5qZmZmZmck/mpmZmZmZyT+amZmZmZnJP5qZmZmZmck/mpmZmZmZyT+amZmZmZnJP5qZmZmZmck/mpmZmZmZyT+amZmZmZnJP5qZmZmZmck/mpmZmZmZyT+amZmZmZnJP5qZmZmZmck/mpmZmZmZyT+amZmZmZnJP5qZmZmZmck/mpmZmZmZyT+amZmZmZnJP5qZmZmZmck/mpmZmZmZyT+amZmZmZnJP5qZmZmZmck/mpmZmZmZyT+amZmZmZnJP5qZmZmZmck/mpmZmZmZyT+amZmZmZnJP5qZmZmZmck/mpmZmZmZyT+amZmZmZnJP5qZmZmZmck/mpmZmZmZyT+amZmZmZnJP5qZmZmZmck/mpmZmZmZyT+amZmZmZnJP5qZmZmZmck/mpmZmZmZyT+amZmZmZnJP5qZmZmZmck/mpmZmZmZyT+amZmZmZnJP5qZmZmZmck/mpmZmZmZyT+amZmZmZnJP5qZmZmZmck/mpmZmZmZyT+amZmZmZnJP5qZmZmZmck/mpmZmZmZyT+amZmZmZnJP5qZmZmZmck/mpmZmZmZyT+amZmZmZnJP5qZmZmZmck/mpmZmZmZyT+amZmZmZnJP5qZmZmZmck/mpmZmZmZyT+amZmZmZnJP5qZmZmZmck/mpmZmZmZyT+amZmZmZnJP5qZmZmZmck/mpmZmZmZyT+amZmZmZnJP5qZmZmZmck/mpmZmZmZyT+amZmZmZnJP5qZmZmZmck/mpmZmZmZyT+amZmZmZnJP5qZmZmZmck/mpmZmZmZyT+amZmZmZnJP5qZmZmZmck/mpmZmZmZyT+amZmZmZnJP5qZmZmZmck/mpmZmZmZyT+amZmZmZnJP5qZmZmZmck/mpmZmZmZyT+amZmZmZnJP5qZmZmZmck/mpmZmZmZyT+amZmZmZnJP5qZmZmZmck/mpmZmZmZyT+amZmZmZnJP5qZmZmZmck/mpmZmZmZyT+amZmZmZnJP5qZmZmZmck/mpmZmZmZyT+amZmZmZnJP5qZmZmZmck/mpmZmZmZyT+amZmZmZnJP5qZmZmZmck/mpmZmZmZyT+amZmZmZnJP5qZmZmZmck/mpmZmZmZyT+amZmZmZnJP5qZmZmZmck/mpmZmZmZyT+amZmZmZnJP5qZmZmZmck/mpmZmZmZyT+amZmZmZnJP5qZmZmZmck/mpmZmZmZyT+amZmZmZnJP5qZmZmZmck/mpmZmZmZyT+amZmZmZnJP5qZmZmZmck/mpmZmZmZyT+amZmZmZnJP5qZmZmZmck/mpmZmZmZyT+amZmZmZnJP5qZmZmZmck/mpmZmZmZyT+amZmZmZnJP5qZmZmZmck/mpmZmZmZyT+amZmZmZnJP5qZmZmZmck/mpmZmZmZyT+amZmZmZnJP5qZmZmZmck/mpmZmZmZyT+amZmZmZnJP5qZmZmZmck/mpmZmZmZyT+amZmZmZnJP5qZmZmZmck/mpmZmZmZyT+amZmZmZnJP5qZmZmZmck/mpmZmZmZyT+amZmZmZnJP5qZmZmZmck/mpmZmZmZyT+amZmZmZnJP5qZmZmZmck/mpmZmZmZyT+amZmZmZnJP5qZmZmZmck/mpmZmZmZyT+amZmZmZnJP5qZmZmZmck/mpmZmZmZyT+amZmZmZnJP5qZmZmZmck/mpmZmZmZyT+amZmZmZnJP5qZmZmZmck/mpmZmZmZyT+amZmZmZnJP5qZmZmZmck/mpmZmZmZyT+amZmZmZnJP5qZmZmZmck/mpmZmZmZyT+amZmZmZnJP5qZmZmZmck/mpmZmZmZyT+amZmZmZnJP5qZmZmZmck/mpmZmZmZyT+amZmZmZnJP5qZmZmZmck/mpmZmZmZyT+amZmZmZnJP5qZmZmZmck/mpmZmZmZyT+amZmZmZnJP5qZmZmZmck/mpmZmZmZyT+amZmZmZnJP5qZmZmZmck/mpmZmZmZyT+amZmZmZnJP5qZmZmZmck/mpmZmZmZyT+amZmZmZnJP5qZmZmZmck/mpmZmZmZyT+amZmZmZnJP5qZmZmZmck/mpmZmZmZyT+amZmZmZnJP5qZmZmZmck/mpmZmZmZyT+amZmZmZnJP5qZmZmZmck/mpmZmZmZyT+amZmZmZnJP5qZmZmZmck/mpmZmZmZyT+amZmZmZnJP5qZmZmZmck/mpmZmZmZyT+amZmZmZnJP5qZmZmZmck/mpmZmZmZyT+amZmZmZnJP5qZmZmZmck/mpmZmZmZyT+amZmZmZnJP5qZmZmZmck/mpmZmZmZyT+amZmZmZnJP5qZmZmZmck/mpmZmZmZyT+amZmZmZnJP5qZmZmZmck/mpmZmZmZyT+amZmZmZnJP5qZmZmZmck/mpmZmZmZyT+amZmZmZnJP5qZmZmZmck/mpmZmZmZyT+amZmZmZnJP5qZmZmZmck/mpmZmZmZyT+amZmZmZnJP5qZmZmZmck/mpmZmZmZyT+amZmZmZnJP5qZmZmZmck/mpmZmZmZyT+amZmZmZnJP5qZmZmZmck/mpmZmZmZyT+amZmZmZnJP5qZmZmZmck/mpmZmZmZyT+amZmZmZnJP5qZmZmZmck/mpmZmZmZyT+amZmZmZnJP5qZmZmZmck/mpmZmZmZyT+amZmZmZnJP5qZmZmZmck/mpmZmZmZyT+amZmZmZnJP5qZmZmZmck/mpmZmZmZyT+amZmZmZnJP5qZmZmZmck/mpmZmZmZyT+amZmZmZnJP5qZmZmZmck/mpmZmZmZyT+amZmZmZnJP5qZmZmZmck/mpmZmZmZyT+amZmZmZnJP5qZmZmZmck/mpmZmZmZyT+amZmZmZnJP5qZmZmZmck/mpmZmZmZyT+amZmZmZnJP5qZmZmZmck/mpmZmZmZyT+amZmZmZnJP5qZmZmZmck/mpmZmZmZyT+amZmZmZnJP5qZmZmZmck/mpmZmZmZyT+amZmZmZnJP5qZmZmZmck/mpmZmZmZyT+amZmZmZnJP5qZmZmZmck/mpmZmZmZyT+amZmZmZnJP5qZmZmZmck/mpmZmZmZyT+amZmZmZnJP5qZmZmZmck/mpmZmZmZyT+amZmZmZnJP5qZmZmZmck/mpmZmZmZyT+amZmZmZnJP5qZmZmZmck/mpmZmZmZyT+amZmZmZnJP5qZmZmZmck/mpmZmZmZyT+amZmZmZnJP5qZmZmZmck/mpmZmZmZyT+amZmZmZnJP5qZmZmZmck/mpmZmZmZyT+amZmZmZnJP5qZmZmZmck/mpmZmZmZyT+amZmZmZnJP5qZmZmZmck/mpmZmZmZyT+amZmZmZnJP5qZmZmZmck/mpmZmZmZyT+amZmZmZnJP5qZmZmZmck/mpmZmZmZyT+amZmZmZnJP5qZmZmZmck/mpmZmZmZyT+amZmZmZnJP5qZmZmZmck/mpmZmZmZyT+amZmZmZnJP5qZmZmZmck/mpmZmZmZyT+amZmZmZnJP5qZmZmZmck/mpmZmZmZyT+amZmZmZnJP5qZmZmZmck/mpmZmZmZyT+amZmZmZnJP5qZmZmZmck/mpmZmZmZyT+amZmZmZnJP5qZmZmZmck/mpmZmZmZyT+amZmZmZnJP5qZmZmZmck/mpmZmZmZyT+amZmZmZnJP5qZmZmZmck/mpmZmZmZyT+amZmZmZnJP5qZmZmZmck/mpmZmZmZyT+amZmZmZnJP5qZmZmZmck/mpmZmZmZyT+amZmZmZnJP5qZmZmZmck/mpmZmZmZyT+amZmZmZnJP5qZmZmZmck/mpmZmZmZyT+amZmZmZnJP5qZmZmZmck/mpmZmZmZyT+amZmZmZnJP5qZmZmZmck/mpmZmZmZyT+amZmZmZnJP5qZmZmZmck/mpmZmZmZyT+amZmZmZnJP5qZmZmZmck/mpmZmZmZyT+amZmZmZnJP5qZmZmZmck/mpmZmZmZyT+amZmZmZnJP5qZmZmZmck/mpmZmZmZyT+amZmZmZnJP5qZmZmZmck/mpmZmZmZyT+amZmZmZnJP5qZmZmZmck/mpmZmZmZyT+amZmZmZnJP5qZmZmZmck/mpmZmZmZyT+amZmZmZnJP5qZmZmZmck/mpmZmZmZyT+amZmZmZnJP5qZmZmZmck/mpmZmZmZyT+amZmZmZnJP5qZmZmZmck/mpmZmZmZyT+amZmZmZnJP5qZmZmZmck/mpmZmZmZyT+amZmZmZnJP5qZmZmZmck/mpmZmZmZyT+amZmZmZnJP5qZmZmZmck/mpmZmZmZyT+amZmZmZnJP5qZmZmZmck/mpmZmZmZyT+amZmZmZnJP5qZmZmZmck/mpmZmZmZyT+amZmZmZnJP5qZmZmZmck/mpmZmZmZyT+amZmZmZnJP5qZmZmZmck/mpmZmZmZyT+amZmZmZnJP5qZmZmZmck/mpmZmZmZyT+amZmZmZnJP5qZmZmZmck/mpmZmZmZyT+amZmZmZnJP5qZmZmZmck/mpmZmZmZyT+amZmZmZnJP5qZmZmZmck/mpmZmZmZyT+amZmZmZnJP5qZmZmZmck/mpmZmZmZyT+amZmZmZnJP5qZmZmZmck/mpmZmZmZyT+amZmZmZnJP5qZmZmZmck/mpmZmZmZyT+amZmZmZnJP5qZmZmZmck/mpmZmZmZyT+amZmZmZnJP5qZmZmZmck/mpmZmZmZyT+amZmZmZnJP5qZmZmZmck/mpmZmZmZyT+amZmZmZnJP5qZmZmZmck/mpmZmZmZyT+amZmZmZnJP5qZmZmZmck/mpmZmZmZyT+amZmZmZnJP5qZmZmZmck/mpmZmZmZyT+amZmZmZnJP5qZmZmZmck/mpmZmZmZyT+amZmZmZnJP5qZmZmZmck/mpmZmZmZyT+amZmZmZnJP5qZmZmZmck/mpmZmZmZyT+amZmZmZnJP5qZmZmZmck/mpmZmZmZyT+amZmZmZnJP5qZmZmZmck/mpmZmZmZyT+amZmZmZnJP5qZmZmZmck/mpmZmZmZyT+amZmZmZnJP5qZmZmZmck/mpmZmZmZyT+amZmZmZnJP5qZmZmZmck/mpmZmZmZyT+amZmZmZnJP5qZmZmZmck/mpmZmZmZyT+amZmZmZnJP5qZmZmZmck/mpmZmZmZyT+amZmZmZnJP5qZmZmZmck/mpmZmZmZyT+amZmZmZnJP5qZmZmZmck/mpmZmZmZyT+amZmZmZnJP5qZmZmZmck/mpmZmZmZyT+amZmZmZnJP5qZmZmZmck/mpmZmZmZyT+amZmZmZnJP5qZmZmZmck/mpmZmZmZyT+amZmZmZnJP5qZmZmZmck/mpmZmZmZyT+amZmZmZnJP5qZmZmZmck/mpmZmZmZyT+amZmZmZnJP5qZmZmZmck/mpmZmZmZyT+amZmZmZnJP5qZmZmZmck/mpmZmZmZyT+amZmZmZnJP5qZmZmZmck/mpmZmZmZyT+amZmZmZnJP5qZmZmZmck/mpmZmZmZyT+amZmZmZnJP5qZmZmZmck/mpmZmZmZyT+amZmZmZnJP5qZmZmZmck/mpmZmZmZyT+amZmZmZnJP5qZmZmZmck/mpmZmZmZyT+amZmZmZnJP5qZmZmZmck/mpmZmZmZyT+amZmZmZnJP5qZmZmZmck/mpmZmZmZyT+amZmZmZnJP5qZmZmZmck/mpmZmZmZyT+amZmZmZnJP5qZmZmZmck/mpmZmZmZyT+amZmZmZnJP5qZmZmZmck/mpmZmZmZyT+amZmZmZnJP5qZmZmZmck/mpmZmZmZyT+amZmZmZnJP5qZmZmZmck/mpmZmZmZyT+amZmZmZnJP5qZmZmZmck/mpmZmZmZyT+amZmZmZnJP5qZmZmZmck/mpmZmZmZyT+amZmZmZnJP5qZmZmZmck/mpmZmZmZyT+amZmZmZnJP5qZmZmZmck/mpmZmZmZyT+amZmZmZnJP5qZmZmZmck/mpmZmZmZyT+amZmZmZnJP5qZmZmZmck/mpmZmZmZyT+amZmZmZnJP5qZmZmZmck/mpmZmZmZyT+amZmZmZnJP5qZmZmZmck/mpmZmZmZyT+amZmZmZnJP5qZmZmZmck/mpmZmZmZyT+amZmZmZnJP5qZmZmZmck/mpmZmZmZyT+amZmZmZnJP5qZmZmZmck/mpmZmZmZyT+amZmZmZnJP5qZmZmZmck/mpmZmZmZyT+amZmZmZnJP5qZmZmZmck/mpmZmZmZyT+amZmZmZnJP5qZmZmZmck/mpmZmZmZyT+amZmZmZnJP5qZmZmZmck/mpmZmZmZyT+amZmZmZnJP5qZmZmZmck/mpmZmZmZyT+amZmZmZnJP5qZmZmZmck/mpmZmZmZyT+amZmZmZnJP5qZmZmZmck/mpmZmZmZyT+amZmZmZnJP5qZmZmZmck/mpmZmZmZyT+amZmZmZnJP5qZmZmZmck/mpmZmZmZyT+amZmZmZnJP5qZmZmZmck/mpmZmZmZyT+amZmZmZnJP5qZmZmZmck/mpmZmZmZyT+amZmZmZnJP5qZmZmZmck/mpmZmZmZyT+amZmZmZnJP5qZmZmZmck/mpmZmZmZyT+amZmZmZnJP5qZmZmZmck/mpmZmZmZyT+amZmZmZnJP5qZmZmZmck/mpmZmZmZyT+amZmZmZnJP5qZmZmZmck/mpmZmZmZyT+amZmZmZnJP5qZmZmZmck/mpmZmZmZyT+amZmZmZnJP5qZmZmZmck/mpmZmZmZyT+amZmZmZnJP5qZmZmZmck/mpmZmZmZyT+amZmZmZnJP5qZmZmZmck/mpmZmZmZyT+amZmZmZnJP5qZmZmZmck/mpmZmZmZyT+amZmZmZnJP5qZmZmZmck/mpmZmZmZyT+amZmZmZnJP5qZmZmZmck/mpmZmZmZyT+amZmZmZnJP5qZmZmZmck/mpmZmZmZyT+amZmZmZnJP5qZmZmZmck/mpmZmZmZyT+amZmZmZnJP5qZmZmZmck/mpmZmZmZyT+amZmZmZnJP5qZmZmZmck/mpmZmZmZyT+amZmZmZnJP5qZmZmZmck/mpmZmZmZyT+amZmZmZnJP5qZmZmZmck/mpmZmZmZyT+amZmZmZnJP5qZmZmZmck/mpmZmZmZyT+amZmZmZnJP5qZmZmZmck/mpmZmZmZyT+amZmZmZnJP5qZmZmZmck/mpmZmZmZyT+amZmZmZnJP5qZmZmZmck/mpmZmZmZyT+amZmZmZnJP5qZmZmZmck/mpmZmZmZyT+amZmZmZnJP5qZmZmZmck/mpmZmZmZyT+amZmZmZnJP5qZmZmZmck/mpmZmZmZyT+amZmZmZnJP5qZmZmZmck/mpmZmZmZyT+amZmZmZnJP5qZmZmZmck/mpmZmZmZyT+amZmZmZnJP5qZmZmZmck/mpmZmZmZyT+amZmZmZnJP5qZmZmZmck/mpmZmZmZyT+amZmZmZnJP5qZmZmZmck/mpmZmZmZyT+amZmZmZnJP5qZmZmZmck/mpmZmZmZyT+amZmZmZnJP5qZmZmZmck/mpmZmZmZyT+amZmZmZnJP5qZmZmZmck/mpmZmZmZyT+amZmZmZnJP5qZmZmZmck/mpmZmZmZyT+amZmZmZnJP5qZmZmZmck/mpmZmZmZyT+amZmZmZnJP5qZmZmZmck/mpmZmZmZyT+amZmZmZnJP5qZmZmZmck/mpmZmZmZyT+amZmZmZnJP5qZmZmZmck/mpmZmZmZyT+amZmZmZnJP5qZmZmZmck/mpmZmZmZyT+amZmZmZnJP5qZmZmZmck/mpmZmZmZyT+amZmZmZnJP5qZmZmZmck/mpmZmZmZyT+amZmZmZnJP5qZmZmZmck/mpmZmZmZyT+amZmZmZnJP5qZmZmZmck/mpmZmZmZyT+amZmZmZnJP5qZmZmZmck/mpmZmZmZyT+amZmZmZnJP5qZmZmZmck/mpmZmZmZyT+amZmZmZnJP5qZmZmZmck/mpmZmZmZyT+amZmZmZnJP5qZmZmZmck/mpmZmZmZyT+amZmZmZnJP5qZmZmZmck/mpmZmZmZyT+amZmZmZnJP5qZmZmZmck/mpmZmZmZyT+amZmZmZnJP5qZmZmZmck/mpmZmZmZyT+amZmZmZnJP5qZmZmZmck/mpmZmZmZyT+amZmZmZnJP5qZmZmZmck/mpmZmZmZyT+amZmZmZnJP5qZmZmZmck/mpmZmZmZyT+amZmZmZnJP5qZmZmZmck/mpmZmZmZyT+amZmZmZnJP5qZmZmZmck/mpmZmZmZyT+amZmZmZnJP5qZmZmZmck/mpmZmZmZyT+amZmZmZnJP5qZmZmZmck/mpmZmZmZyT+amZmZmZnJP5qZmZmZmck/mpmZmZmZyT+amZmZmZnJP5qZmZmZmck/mpmZmZmZyT+amZmZmZnJP5qZmZmZmck/mpmZmZmZyT+amZmZmZnJP5qZmZmZmck/mpmZmZmZyT+amZmZmZnJP5qZmZmZmck/mpmZmZmZyT+amZmZmZnJP5qZmZmZmck/mpmZmZmZyT+amZmZmZnJP5qZmZmZmck/mpmZmZmZyT+amZmZmZnJP5qZmZmZmck/mpmZmZmZyT+amZmZmZnJP5qZmZmZmck/mpmZmZmZyT+amZmZmZnJP5qZmZmZmck/mpmZmZmZyT+amZmZmZnJP5qZmZmZmck/mpmZmZmZyT+amZmZmZnJP5qZmZmZmck/mpmZmZmZyT+amZmZmZnJP5qZmZmZmck/mpmZmZmZyT+amZmZmZnJP5qZmZmZmck/mpmZmZmZyT+amZmZmZnJP5qZmZmZmck/mpmZmZmZyT+amZmZmZnJP5qZmZmZmck/mpmZmZmZyT+amZmZmZnJP5qZmZmZmck/mpmZmZmZyT+amZmZmZnJP5qZmZmZmck/mpmZmZmZyT+amZmZmZnJP5qZmZmZmck/mpmZmZmZyT+amZmZmZnJP5qZmZmZmck/mpmZmZmZyT+amZmZmZnJP5qZmZmZmck/mpmZmZmZyT+amZmZmZnJP5qZmZmZmck/mpmZmZmZyT+amZmZmZnJP5qZmZmZmck/mpmZmZmZyT+amZmZmZnJP5qZmZmZmck/mpmZmZmZyT+amZmZmZnJP5qZmZmZmck/mpmZmZmZyT+amZmZmZnJP5qZmZmZmck/mpmZmZmZyT+amZmZmZnJP5qZmZmZmck/mpmZmZmZyT+amZmZmZnJP5qZmZmZmck/mpmZmZmZyT+amZmZmZnJP5qZmZmZmck/mpmZmZmZyT+amZmZmZnJP5qZmZmZmck/mpmZmZmZyT+amZmZmZnJP5qZmZmZmck/mpmZmZmZyT+amZmZmZnJP5qZmZmZmck/mpmZmZmZyT+amZmZmZnJP5qZmZmZmck/mpmZmZmZyT+amZmZmZnJP5qZmZmZmck/mpmZmZmZyT+amZmZmZnJP5qZmZmZmck/mpmZmZmZyT+amZmZmZnJP5qZmZmZmck/mpmZmZmZyT+amZmZmZnJP5qZmZmZmck/mpmZmZmZyT+amZmZmZnJP5qZmZmZmck/mpmZmZmZyT+amZmZmZnJP5qZmZmZmck/mpmZmZmZyT+amZmZmZnJP5qZmZmZmck/mpmZmZmZyT+amZmZmZnJP5qZmZmZmck/mpmZmZmZyT+amZmZmZnJP5qZmZmZmck/mpmZmZmZyT+amZmZmZnJP5qZmZmZmck/mpmZmZmZyT+amZmZmZnJP5qZmZmZmck/mpmZmZmZyT+amZmZmZnJP5qZmZmZmck/mpmZmZmZyT+amZmZmZnJP5qZmZmZmck/mpmZmZmZyT+amZmZmZnJP5qZmZmZmck/mpmZmZmZyT+amZmZmZnJP5qZmZmZmck/mpmZmZmZyT+amZmZmZnJP5qZmZmZmck/mpmZmZmZyT+amZmZmZnJP5qZmZmZmck/mpmZmZmZyT+amZmZmZnJP5qZmZmZmck/mpmZmZmZyT+amZmZmZnJP5qZmZmZmck/mpmZmZmZyT+amZmZmZnJP5qZmZmZmck/mpmZmZmZyT+amZmZmZnJP5qZmZmZmck/mpmZmZmZyT+amZmZmZnJP5qZmZmZmck/mpmZmZmZyT+amZmZmZnJP5qZmZmZmck/mpmZmZmZyT+amZmZmZnJP5qZmZmZmck/mpmZmZmZyT+amZmZmZnJP5qZmZmZmck/mpmZmZmZyT+amZmZmZnJP5qZmZmZmck/mpmZmZmZyT+amZmZmZnJP5qZmZmZmck/mpmZmZmZyT+amZmZmZnJP5qZmZmZmck/mpmZmZmZyT+amZmZmZnJP5qZmZmZmck/mpmZmZmZyT+amZmZmZnJP5qZmZmZmck/mpmZmZmZyT+amZmZmZnJP5qZmZmZmck/mpmZmZmZyT+amZmZmZnJP5qZmZmZmck/mpmZmZmZyT+amZmZmZnJP5qZmZmZmck/mpmZmZmZyT+amZmZmZnJP5qZmZmZmck/mpmZmZmZyT+amZmZmZnJP5qZmZmZmck/mpmZmZmZyT+amZmZmZnJP5qZmZmZmck/mpmZmZmZyT+amZmZmZnJP5qZmZmZmck/mpmZmZmZyT+amZmZmZnJP5qZmZmZmck/mpmZmZmZyT+amZmZmZnJP5qZmZmZmck/mpmZmZmZyT+amZmZmZnJP5qZmZmZmck/mpmZmZmZyT+amZmZmZnJP5qZmZmZmck/mpmZmZmZyT+amZmZmZnJP5qZmZmZmck/mpmZmZmZyT+amZmZmZnJP5qZmZmZmck/mpmZmZmZyT+amZmZmZnJP5qZmZmZmck/mpmZmZmZyT+amZmZmZnJP5qZmZmZmck/mpmZmZmZyT+amZmZmZnJP5qZmZmZmck/mpmZmZmZyT+amZmZmZnJP5qZmZmZmck/mpmZmZmZyT+amZmZmZnJP5qZmZmZmck/mpmZmZmZyT+amZmZmZnJP5qZmZmZmck/mpmZmZmZyT+amZmZmZnJP5qZmZmZmck/mpmZmZmZyT+amZmZmZnJP5qZmZmZmck/mpmZmZmZyT+amZmZmZnJP5qZmZmZmck/mpmZmZmZyT+amZmZmZnJP5qZmZmZmck/mpmZmZmZyT+amZmZmZnJP5qZmZmZmck/mpmZmZmZyT+amZmZmZnJP5qZmZmZmck/mpmZmZmZyT+amZmZmZnJP5qZmZmZmck/mpmZmZmZyT+amZmZmZnJP5qZmZmZmck/mpmZmZmZyT+amZmZmZnJP5qZmZmZmck/mpmZmZmZyT+amZmZmZnJP5qZmZmZmck/mpmZmZmZyT+amZmZmZnJP5qZmZmZmck/mpmZmZmZyT+amZmZmZnJP5qZmZmZmck/mpmZmZmZyT+amZmZmZnJP5qZmZmZmck/mpmZmZmZyT+amZmZmZnJP5qZmZmZmck/mpmZmZmZyT+amZmZmZnJP5qZmZmZmck/mpmZmZmZyT+amZmZmZnJP5qZmZmZmck/mpmZmZmZyT+amZmZmZnJP5qZmZmZmck/mpmZmZmZyT+amZmZmZnJP5qZmZmZmck/mpmZmZmZyT+amZmZmZnJP5qZmZmZmck/mpmZmZmZyT+amZmZmZnJP5qZmZmZmck/mpmZmZmZyT+amZmZmZnJP5qZmZmZmck/mpmZmZmZyT+amZmZmZnJP5qZmZmZmck/mpmZmZmZyT+amZmZmZnJP5qZmZmZmck/mpmZmZmZyT+amZmZmZnJP5qZmZmZmck/mpmZmZmZyT+amZmZmZnJP5qZmZmZmck/mpmZmZmZyT+amZmZmZnJP5qZmZmZmck/mpmZmZmZyT+amZmZmZnJP5qZmZmZmck/mpmZmZmZyT+amZmZmZnJP5qZmZmZmck/mpmZmZmZyT+amZmZmZnJP5qZmZmZmck/mpmZmZmZyT+amZmZmZnJP5qZmZmZmck/mpmZmZmZyT+amZmZmZnJP5qZmZmZmck/mpmZmZmZyT+amZmZmZnJP5qZmZmZmck/mpmZmZmZyT+amZmZmZnJP5qZmZmZmck/mpmZmZmZyT+amZmZmZnJP5qZmZmZmck/mpmZmZmZyT+amZmZmZnJP5qZmZmZmck/mpmZmZmZyT+amZmZmZnJP5qZmZmZmck/mpmZmZmZyT+amZmZmZnJP5qZmZmZmck/mpmZmZmZyT+amZmZmZnJP5qZmZmZmck/mpmZmZmZyT+amZmZmZnJP5qZmZmZmck/mpmZmZmZyT+amZmZmZnJP5qZmZmZmck/mpmZmZmZyT+amZmZmZnJP5qZmZmZmck/mpmZmZmZyT+amZmZmZnJP5qZmZmZmck/mpmZmZmZyT+amZmZmZnJP5qZmZmZmck/mpmZmZmZyT+amZmZmZnJP5qZmZmZmck/mpmZmZmZyT+amZmZmZnJP5qZmZmZmck/mpmZmZmZyT+amZmZmZnJP5qZmZmZmck/mpmZmZmZyT+amZmZmZnJP5qZmZmZmck/mpmZmZmZyT+amZmZmZnJP5qZmZmZmck/mpmZmZmZyT+amZmZmZnJP5qZmZmZmck/mpmZmZmZyT+amZmZmZnJP5qZmZmZmck/mpmZmZmZyT+amZmZmZnJP5qZmZmZmck/mpmZmZmZyT+amZmZmZnJP5qZmZmZmck/mpmZmZmZyT+amZmZmZnJP5qZmZmZmck/mpmZmZmZyT+amZmZmZnJP5qZmZmZmck/mpmZmZmZyT+amZmZmZnJP5qZmZmZmck/mpmZmZmZyT+amZmZmZnJP5qZmZmZmck/mpmZmZmZyT+amZmZmZnJP5qZmZmZmck/mpmZmZmZyT+amZmZmZnJP5qZmZmZmck/mpmZmZmZyT+amZmZmZnJP5qZmZmZmck/mpmZmZmZyT+amZmZmZnJP5qZmZmZmck/mpmZmZmZyT+amZmZmZnJP5qZmZmZmck/mpmZmZmZyT+amZmZmZnJP5qZmZmZmck/mpmZmZmZyT+amZmZmZnJP5qZmZmZmck/mpmZmZmZyT+amZmZmZnJP5qZmZmZmck/mpmZmZmZyT+amZmZmZnJP5qZmZmZmck/mpmZmZmZyT+amZmZmZnJP5qZmZmZmck/mpmZmZmZyT+amZmZmZnJP5qZmZmZmck/mpmZmZmZyT+amZmZmZnJP5qZmZmZmck/mpmZmZmZyT+amZmZmZnJP5qZmZmZmck/mpmZmZmZyT+amZmZmZnJP5qZmZmZmck/mpmZmZmZyT+amZmZmZnJP5qZmZmZmck/mpmZmZmZyT+amZmZmZnJP5qZmZmZmck/mpmZmZmZyT+amZmZmZnJP5qZmZmZmck/mpmZmZmZyT+amZmZmZnJP5qZmZmZmck/mpmZmZmZyT+amZmZmZnJP5qZmZmZmck/mpmZmZmZyT+amZmZmZnJP5qZmZmZmck/mpmZmZmZyT+amZmZmZnJP5qZmZmZmck/mpmZmZmZyT+amZmZmZnJP5qZmZmZmck/mpmZmZmZyT+amZmZmZnJP5qZmZmZmck/mpmZmZmZyT+amZmZmZnJP5qZmZmZmck/mpmZmZmZyT+amZmZmZnJP5qZmZmZmck/mpmZmZmZyT+amZmZmZnJP5qZmZmZmck/mpmZmZmZyT+amZmZmZnJP5qZmZmZmck/mpmZmZmZyT+amZmZmZnJP5qZmZmZmck/mpmZmZmZyT+amZmZmZnJP5qZmZmZmck/mpmZmZmZyT+amZmZmZnJP5qZmZmZmck/mpmZmZmZyT+amZmZmZnJP5qZmZmZmck/mpmZmZmZyT+amZmZmZnJP5qZmZmZmck/mpmZmZmZyT+amZmZmZnJP5qZmZmZmck/mpmZmZmZyT+amZmZmZnJP5qZmZmZmck/mpmZmZmZyT+amZmZmZnJP5qZmZmZmck/mpmZmZmZyT+amZmZmZnJP5qZmZmZmck/mpmZmZmZyT+amZmZmZnJP5qZmZmZmck/mpmZmZmZyT+amZmZmZnJP5qZmZmZmck/mpmZmZmZyT+amZmZmZnJP5qZmZmZmck/mpmZmZmZyT+amZmZmZnJP5qZmZmZmck/mpmZmZmZyT+amZmZmZnJP5qZmZmZmck/mpmZmZmZyT+amZmZmZnJP5qZmZmZmck/mpmZmZmZyT+amZmZmZnJP5qZmZmZmck/mpmZmZmZyT+amZmZmZnJP5qZmZmZmck/mpmZmZmZyT+amZmZmZnJP5qZmZmZmck/mpmZmZmZyT+amZmZmZnJP5qZmZmZmck/mpmZmZmZyT+amZmZmZnJP5qZmZmZmck/mpmZmZmZyT+amZmZmZnJP5qZmZmZmck/mpmZmZmZyT+amZmZmZnJP5qZmZmZmck/mpmZmZmZyT+amZmZmZnJP5qZmZmZmck/mpmZmZmZyT+amZmZmZnJP5qZmZmZmck/mpmZmZmZyT+amZmZmZnJP5qZmZmZmck/mpmZmZmZyT+amZmZmZnJP5qZmZmZmck/mpmZmZmZyT+amZmZmZnJP5qZmZmZmck/mpmZmZmZyT+amZmZmZnJP5qZmZmZmck/mpmZmZmZyT+amZmZmZnJP5qZmZmZmck/mpmZmZmZyT+amZmZmZnJP5qZmZmZmck/mpmZmZmZyT+amZmZmZnJP5qZmZmZmck/mpmZmZmZyT+amZmZmZnJP5qZmZmZmck/mpmZmZmZyT+amZmZmZnJP5qZmZmZmck/mpmZmZmZyT+amZmZmZnJP5qZmZmZmck/mpmZmZmZyT+amZmZmZnJP5qZmZmZmck/mpmZmZmZyT+amZmZmZnJP5qZmZmZmck/mpmZmZmZyT+amZmZmZnJP5qZmZmZmck/mpmZmZmZyT+amZmZmZnJP5qZmZmZmck/mpmZmZmZyT+amZmZmZnJP5qZmZmZmck/mpmZmZmZyT+amZmZmZnJP5qZmZmZmck/mpmZmZmZyT+amZmZmZnJP5qZmZmZmck/mpmZmZmZyT+amZmZmZnJP5qZmZmZmck/mpmZmZmZyT+amZmZmZnJP5qZmZmZmck/mpmZmZmZyT+amZmZmZnJP5qZmZmZmck/mpmZmZmZyT+amZmZmZnJP5qZmZmZmck/mpmZmZmZyT+amZmZmZnJP5qZmZmZmck/mpmZmZmZyT+amZmZmZnJP5qZmZmZmck/MzMzMzMz0z8zMzMzMzPTPzMzMzMzM9M/MzMzMzMz0z8zMzMzMzPTPzMzMzMzM9M/MzMzMzMz0z8zMzMzMzPTPzMzMzMzM9M/MzMzMzMz0z8zMzMzMzPTPzMzMzMzM9M/MzMzMzMz0z8zMzMzMzPTPzMzMzMzM9M/MzMzMzMz0z8zMzMzMzPTPzMzMzMzM9M/MzMzMzMz0z8zMzMzMzPTPzMzMzMzM9M/MzMzMzMz0z8zMzMzMzPTPzMzMzMzM9M/MzMzMzMz0z8zMzMzMzPTPzMzMzMzM9M/MzMzMzMz0z8zMzMzMzPTPzMzMzMzM9M/MzMzMzMz0z8zMzMzMzPTPzMzMzMzM9M/MzMzMzMz0z8zMzMzMzPTPzMzMzMzM9M/MzMzMzMz0z8zMzMzMzPTPzMzMzMzM9M/MzMzMzMz0z8zMzMzMzPTPzMzMzMzM9M/MzMzMzMz0z8zMzMzMzPTPzMzMzMzM9M/MzMzMzMz0z8zMzMzMzPTPzMzMzMzM9M/MzMzMzMz0z8zMzMzMzPTPzMzMzMzM9M/MzMzMzMz0z8zMzMzMzPTPzMzMzMzM9M/MzMzMzMz0z8zMzMzMzPTPzMzMzMzM9M/MzMzMzMz0z8zMzMzMzPTPzMzMzMzM9M/MzMzMzMz0z8zMzMzMzPTPzMzMzMzM9M/MzMzMzMz0z8zMzMzMzPTPzMzMzMzM9M/MzMzMzMz0z8zMzMzMzPTPzMzMzMzM9M/MzMzMzMz0z8zMzMzMzPTPzMzMzMzM9M/MzMzMzMz0z8zMzMzMzPTPzMzMzMzM9M/MzMzMzMz0z8zMzMzMzPTPzMzMzMzM9M/MzMzMzMz0z8zMzMzMzPTPzMzMzMzM9M/MzMzMzMz0z8zMzMzMzPTPzMzMzMzM9M/MzMzMzMz0z8zMzMzMzPTPzMzMzMzM9M/MzMzMzMz0z8zMzMzMzPTPzMzMzMzM9M/MzMzMzMz0z8zMzMzMzPTPzMzMzMzM9M/MzMzMzMz0z8zMzMzMzPTPzMzMzMzM9M/MzMzMzMz0z8zMzMzMzPTPzMzMzMzM9M/MzMzMzMz0z8zMzMzMzPTPzMzMzMzM9M/MzMzMzMz0z8zMzMzMzPTPzMzMzMzM9M/MzMzMzMz0z8zMzMzMzPTPzMzMzMzM9M/MzMzMzMz0z8zMzMzMzPTPzMzMzMzM9M/MzMzMzMz0z8zMzMzMzPTPzMzMzMzM9M/MzMzMzMz0z8zMzMzMzPTPzMzMzMzM9M/MzMzMzMz0z8zMzMzMzPTPzMzMzMzM9M/MzMzMzMz0z8zMzMzMzPTPzMzMzMzM9M/MzMzMzMz0z8zMzMzMzPTPzMzMzMzM9M/MzMzMzMz0z8zMzMzMzPTPzMzMzMzM9M/MzMzMzMz0z8zMzMzMzPTPzMzMzMzM9M/MzMzMzMz0z8zMzMzMzPTPzMzMzMzM9M/MzMzMzMz0z8zMzMzMzPTPzMzMzMzM9M/MzMzMzMz0z8zMzMzMzPTPzMzMzMzM9M/MzMzMzMz0z8zMzMzMzPTPzMzMzMzM9M/MzMzMzMz0z8zMzMzMzPTPzMzMzMzM9M/MzMzMzMz0z8zMzMzMzPTPzMzMzMzM9M/MzMzMzMz0z8zMzMzMzPTPzMzMzMzM9M/MzMzMzMz0z8zMzMzMzPTPzMzMzMzM9M/MzMzMzMz0z8zMzMzMzPTPzMzMzMzM9M/MzMzMzMz0z8zMzMzMzPTPzMzMzMzM9M/MzMzMzMz0z8zMzMzMzPTPzMzMzMzM9M/MzMzMzMz0z8zMzMzMzPTPzMzMzMzM9M/MzMzMzMz0z8zMzMzMzPTPzMzMzMzM9M/MzMzMzMz0z8zMzMzMzPTPzMzMzMzM9M/MzMzMzMz0z8zMzMzMzPTPzMzMzMzM9M/MzMzMzMz0z8zMzMzMzPTPzMzMzMzM9M/MzMzMzMz0z8zMzMzMzPTPzMzMzMzM9M/MzMzMzMz0z8zMzMzMzPTPzMzMzMzM9M/MzMzMzMz0z8zMzMzMzPTPzMzMzMzM9M/MzMzMzMz0z8zMzMzMzPTPzMzMzMzM9M/MzMzMzMz0z8zMzMzMzPTPzMzMzMzM9M/MzMzMzMz0z8zMzMzMzPTPzMzMzMzM9M/MzMzMzMz0z8zMzMzMzPTPzMzMzMzM9M/MzMzMzMz0z8zMzMzMzPTPzMzMzMzM9M/MzMzMzMz0z8zMzMzMzPTPzMzMzMzM9M/MzMzMzMz0z8zMzMzMzPTPzMzMzMzM9M/MzMzMzMz0z8zMzMzMzPTPzMzMzMzM9M/MzMzMzMz0z8zMzMzMzPTPzMzMzMzM9M/MzMzMzMz0z8zMzMzMzPTPzMzMzMzM9M/MzMzMzMz0z8zMzMzMzPTPzMzMzMzM9M/MzMzMzMz0z8zMzMzMzPTPzMzMzMzM9M/MzMzMzMz0z8zMzMzMzPTP3sUrkfhetQ/exSuR+F61D97FK5H4XrUP3sUrkfhetQ/exSuR+F61D97FK5H4XrUP3sUrkfhetQ/exSuR+F61D97FK5H4XrUP3sUrkfhetQ/exSuR+F61D97FK5H4XrUP3sUrkfhetQ/exSuR+F61D97FK5H4XrUP3sUrkfhetQ/exSuR+F61D97FK5H4XrUP3sUrkfhetQ/exSuR+F61D97FK5H4XrUP3sUrkfhetQ/exSuR+F61D97FK5H4XrUP3sUrkfhetQ/exSuR+F61D97FK5H4XrUP5qZmZmZmdk/mpmZmZmZ2T+amZmZmZnZP5qZmZmZmdk/mpmZmZmZ2T+amZmZmZnZP5qZmZmZmdk/mpmZmZmZ2T+amZmZmZnZP5qZmZmZmdk/mpmZmZmZ2T+amZmZmZnZP5qZmZmZmdk/mpmZmZmZ2T+amZmZmZnZP5qZmZmZmdk/mpmZmZmZ2T+amZmZmZnZP5qZmZmZmdk/mpmZmZmZ2T+amZmZmZnZP5qZmZmZmdk/mpmZmZmZ2T+amZmZmZnZP5qZmZmZmdk/mpmZmZmZ2T+amZmZmZnZP5qZmZmZmdk/mpmZmZmZ2T+amZmZmZnZP5qZmZmZmdk/mpmZmZmZ2T+amZmZmZnZP5qZmZmZmdk/mpmZmZmZ2T+amZmZmZnZP5qZmZmZmdk/mpmZmZmZ2T+amZmZmZnZP5qZmZmZmdk/mpmZmZmZ2T+amZmZmZnZP5qZmZmZmdk/mpmZmZmZ2T+amZmZmZnZP5qZmZmZmdk/mpmZmZmZ2T+amZmZmZnZP5qZmZmZmdk/mpmZmZmZ2T+amZmZmZnZP5qZmZmZmdk/mpmZmZmZ2T+amZmZmZnZP5qZmZmZmdk/mpmZmZmZ2T+amZmZmZnZP5qZmZmZmdk/mpmZmZmZ2T+amZmZmZnZP5qZmZmZmdk/mpmZmZmZ2T+amZmZmZnZP5qZmZmZmdk/mpmZmZmZ2T+amZmZmZnZP5qZmZmZmdk/mpmZmZmZ2T+amZmZmZnZP5qZmZmZmdk/mpmZmZmZ2T+amZmZmZnZP5qZmZmZmdk/mpmZmZmZ2T+amZmZmZnZP5qZmZmZmdk/mpmZmZmZ2T+amZmZmZnZP5qZmZmZmdk/mpmZmZmZ2T+amZmZmZnZP5qZmZmZmdk/mpmZmZmZ2T+amZmZmZnZP5qZmZmZmdk/mpmZmZmZ2T+amZmZmZnZP5qZmZmZmdk/mpmZmZmZ2T+amZmZmZnZP5qZmZmZmdk/mpmZmZmZ2T+amZmZmZnZP5qZmZmZmdk/mpmZmZmZ2T+amZmZmZnZP5qZmZmZmdk/mpmZmZmZ2T+amZmZmZnZP5qZmZmZmdk/mpmZmZmZ2T+amZmZmZnZP5qZmZmZmdk/mpmZmZmZ2T+amZmZmZnZP5qZmZmZmdk/mpmZmZmZ2T+amZmZmZnZP5qZmZmZmdk/mpmZmZmZ2T+amZmZmZnZP5qZmZmZmdk/mpmZmZmZ2T+amZmZmZnZP5qZmZmZmdk/mpmZmZmZ2T+amZmZmZnZP5qZmZmZmdk/mpmZmZmZ2T+amZmZmZnZP5qZmZmZmdk/mpmZmZmZ2T+amZmZmZnZP5qZmZmZmdk/mpmZmZmZ2T+amZmZmZnZP5qZmZmZmdk/mpmZmZmZ2T+amZmZmZnZP5qZmZmZmdk/mpmZmZmZ2T+amZmZmZnZP5qZmZmZmdk/mpmZmZmZ2T+amZmZmZnZP5qZmZmZmdk/mpmZmZmZ2T+amZmZmZnZP5qZmZmZmdk/mpmZmZmZ2T+amZmZmZnZP5qZmZmZmdk/mpmZmZmZ2T+amZmZmZnZP5qZmZmZmdk/mpmZmZmZ2T+amZmZmZnZP5qZmZmZmdk/mpmZmZmZ2T+amZmZmZnZP5qZmZmZmdk/mpmZmZmZ2T+amZmZmZnZP5qZmZmZmdk/mpmZmZmZ2T+amZmZmZnZP5qZmZmZmdk/mpmZmZmZ2T+amZmZmZnZP5qZmZmZmdk/mpmZmZmZ2T+amZmZmZnZP5qZmZmZmdk/mpmZmZmZ2T+amZmZmZnZP5qZmZmZmdk/mpmZmZmZ2T+amZmZmZnZP5qZmZmZmdk/mpmZmZmZ2T+amZmZmZnZP5qZmZmZmdk/mpmZmZmZ2T+amZmZmZnZP5qZmZmZmdk/mpmZmZmZ2T+amZmZmZnZP5qZmZmZmdk/mpmZmZmZ2T+amZmZmZnZP5qZmZmZmdk/mpmZmZmZ2T+amZmZmZnZP5qZmZmZmdk/mpmZmZmZ2T+amZmZmZnZP5qZmZmZmdk/mpmZmZmZ2T+amZmZmZnZP5qZmZmZmdk/mpmZmZmZ2T+amZmZmZnZP5qZmZmZmdk/mpmZmZmZ2T+amZmZmZnZP5qZmZmZmdk/mpmZmZmZ2T+amZmZmZnZP5qZmZmZmdk/mpmZmZmZ2T+amZmZmZnZP5qZmZmZmdk/mpmZmZmZ2T+amZmZmZnZP5qZmZmZmdk/mpmZmZmZ2T/NzMzMzMzcP83MzMzMzNw/zczMzMzM3D/NzMzMzMzcP83MzMzMzNw/zczMzMzM3D/NzMzMzMzcP83MzMzMzNw/zczMzMzM3D/NzMzMzMzcP83MzMzMzNw/AAAAAAAA4D8AAAAAAADgPwAAAAAAAOA/AAAAAAAA4D8AAAAAAADgPwAAAAAAAOA/AAAAAAAA4D8AAAAAAADgPwAAAAAAAOA/AAAAAAAA4D8AAAAAAADgPwAAAAAAAOA/AAAAAAAA4D8AAAAAAADgPwAAAAAAAOA/AAAAAAAA4D8AAAAAAADgPwAAAAAAAOA/AAAAAAAA4D8AAAAAAADgPwAAAAAAAOA/AAAAAAAA4D8AAAAAAADgPwAAAAAAAOA/AAAAAAAA4D8AAAAAAADgPwAAAAAAAOA/AAAAAAAA4D8AAAAAAADgPwAAAAAAAOA/AAAAAAAA4D8AAAAAAADgPwAAAAAAAOA/AAAAAAAA4D8AAAAAAADgPwAAAAAAAOA/AAAAAAAA4D8AAAAAAADgPwAAAAAAAOA/AAAAAAAA4D8AAAAAAADgPwAAAAAAAOA/AAAAAAAA4D8AAAAAAADgPwAAAAAAAOA/AAAAAAAA4D8AAAAAAADgPwAAAAAAAOA/AAAAAAAA4D8AAAAAAADgPwAAAAAAAOA/AAAAAAAA4D8AAAAAAADgPwAAAAAAAOA/AAAAAAAA4D8AAAAAAADgPwAAAAAAAOA/AAAAAAAA4D8AAAAAAADgPwAAAAAAAOA/AAAAAAAA4D8AAAAAAADgPwAAAAAAAOA/AAAAAAAA4D8AAAAAAADgPwAAAAAAAOA/MzMzMzMz4z8zMzMzMzPjPzMzMzMzM+M/MzMzMzMz4z8zMzMzMzPjPzMzMzMzM+M/MzMzMzMz4z8zMzMzMzPjPzMzMzMzM+M/MzMzMzMz4z8zMzMzMzPjPzMzMzMzM+M/MzMzMzMz4z8zMzMzMzPjPzMzMzMzM+M/MzMzMzMz4z8zMzMzMzPjPzMzMzMzM+M/MzMzMzMz4z8zMzMzMzPjPzMzMzMzM+M/MzMzMzMz4z8zMzMzMzPjPzMzMzMzM+M/MzMzMzMz4z8zMzMzMzPjPzMzMzMzM+M/MzMzMzMz4z8zMzMzMzPjPzMzMzMzM+M/MzMzMzMz4z8zMzMzMzPjPzMzMzMzM+M/MzMzMzMz4z8zMzMzMzPjPzMzMzMzM+M/MzMzMzMz4z8zMzMzMzPjPzMzMzMzM+M/MzMzMzMz4z8zMzMzMzPjPzMzMzMzM+M/MzMzMzMz4z8zMzMzMzPjPzMzMzMzM+M/MzMzMzMz4z8zMzMzMzPjPzMzMzMzM+M/MzMzMzMz4z8zMzMzMzPjPzMzMzMzM+M/MzMzMzMz4z8zMzMzMzPjPzMzMzMzM+M/MzMzMzMz4z8zMzMzMzPjPzMzMzMzM+M/MzMzMzMz4z8zMzMzMzPjPzMzMzMzM+M/MzMzMzMz4z8zMzMzMzPjPzMzMzMzM+M/MzMzMzMz4z8zMzMzMzPjPzMzMzMzM+M/MzMzMzMz4z8zMzMzMzPjPzMzMzMzM+M/MzMzMzMz4z8zMzMzMzPjPzMzMzMzM+M/MzMzMzMz4z8zMzMzMzPjPzMzMzMzM+M/MzMzMzMz4z8zMzMzMzPjPzMzMzMzM+M/MzMzMzMz4z8zMzMzMzPjPzMzMzMzM+M/MzMzMzMz4z8zMzMzMzPjPzMzMzMzM+M/MzMzMzMz4z8zMzMzMzPjPzMzMzMzM+M/MzMzMzMz4z8zMzMzMzPjPzMzMzMzM+M/MzMzMzMz4z8zMzMzMzPjPzMzMzMzM+M/MzMzMzMz4z8zMzMzMzPjPzMzMzMzM+M/MzMzMzMz4z8zMzMzMzPjPzMzMzMzM+M/MzMzMzMz4z8zMzMzMzPjPzMzMzMzM+M/MzMzMzMz4z8zMzMzMzPjPzMzMzMzM+M/MzMzMzMz4z8zMzMzMzPjPzMzMzMzM+M/MzMzMzMz4z8zMzMzMzPjPzMzMzMzM+M/MzMzMzMz4z8zMzMzMzPjPzMzMzMzM+M/MzMzMzMz4z8zMzMzMzPjPzMzMzMzM+M/MzMzMzMz4z8zMzMzMzPjPzMzMzMzM+M/MzMzMzMz4z8zMzMzMzPjPzMzMzMzM+M/MzMzMzMz4z8zMzMzMzPjPzMzMzMzM+M/MzMzMzMz4z8zMzMzMzPjPzMzMzMzM+M/MzMzMzMz4z8zMzMzMzPjPzMzMzMzM+M/MzMzMzMz4z8zMzMzMzPjPzMzMzMzM+M/MzMzMzMz4z8zMzMzMzPjPzMzMzMzM+M/ZmZmZmZm5j9mZmZmZmbmP2ZmZmZmZuY/ZmZmZmZm5j9mZmZmZmbmP2ZmZmZmZuY/ZmZmZmZm5j9mZmZmZmbmP2ZmZmZmZuY/ZmZmZmZm5j9mZmZmZmbmP2ZmZmZmZuY/ZmZmZmZm5j9mZmZmZmbmP2ZmZmZmZuY/ZmZmZmZm5j9mZmZmZmbmP2ZmZmZmZuY/ZmZmZmZm5j9mZmZmZmbmP2ZmZmZmZuY/ZmZmZmZm5j9mZmZmZmbmP2ZmZmZmZuY/ZmZmZmZm5j9mZmZmZmbmP2ZmZmZmZuY/ZmZmZmZm5j9mZmZmZmbmP2ZmZmZmZuY/ZmZmZmZm5j9mZmZmZmbmP2ZmZmZmZuY/ZmZmZmZm5j9mZmZmZmbmP2ZmZmZmZuY/ZmZmZmZm5j9mZmZmZmbmP2ZmZmZmZuY/ZmZmZmZm5j9mZmZmZmbmP2ZmZmZmZuY/ZmZmZmZm5j9mZmZmZmbmP2ZmZmZmZuY/ZmZmZmZm5j9mZmZmZmbmP2ZmZmZmZuY/ZmZmZmZm5j9mZmZmZmbmP2ZmZmZmZuY/ZmZmZmZm5j9mZmZmZmbmP2ZmZmZmZuY/ZmZmZmZm5j9mZmZmZmbmP2ZmZmZmZuY/ZmZmZmZm5j9mZmZmZmbmP2ZmZmZmZuY/ZmZmZmZm5j9mZmZmZmbmP2ZmZmZmZuY/ZmZmZmZm5j9mZmZmZmbmP2ZmZmZmZuY/ZmZmZmZm5j9mZmZmZmbmP2ZmZmZmZuY/ZmZmZmZm5j9mZmZmZmbmP2ZmZmZmZuY/ZmZmZmZm5j9mZmZmZmbmP2ZmZmZmZuY/ZmZmZmZm5j9mZmZmZmbmP2ZmZmZmZuY/ZmZmZmZm5j9mZmZmZmbmP2ZmZmZmZuY/ZmZmZmZm5j9mZmZmZmbmP2ZmZmZmZuY/ZmZmZmZm5j9mZmZmZmbmP2ZmZmZmZuY/ZmZmZmZm5j9mZmZmZmbmP2ZmZmZmZuY/ZmZmZmZm5j9mZmZmZmbmP2ZmZmZmZuY/ZmZmZmZm5j9mZmZmZmbmP2ZmZmZmZuY/ZmZmZmZm5j9mZmZmZmbmP2ZmZmZmZuY/ZmZmZmZm5j9mZmZmZmbmP2ZmZmZmZuY/ZmZmZmZm5j9mZmZmZmbmP2ZmZmZmZuY/ZmZmZmZm5j9mZmZmZmbmP2ZmZmZmZuY/ZmZmZmZm5j9mZmZmZmbmP2ZmZmZmZuY/ZmZmZmZm5j9mZmZmZmbmP2ZmZmZmZuY/ZmZmZmZm5j9mZmZmZmbmP2ZmZmZmZuY/ZmZmZmZm5j9mZmZmZmbmP2ZmZmZmZuY/ZmZmZmZm5j9mZmZmZmbmP2ZmZmZmZuY/ZmZmZmZm5j9mZmZmZmbmP2ZmZmZmZuY/ZmZmZmZm5j9mZmZmZmbmP2ZmZmZmZuY/ZmZmZmZm5j9mZmZmZmbmP2ZmZmZmZuY/ZmZmZmZm5j9mZmZmZmbmP2ZmZmZmZuY/ZmZmZmZm5j9mZmZmZmbmP2ZmZmZmZuY/ZmZmZmZm5j9mZmZmZmbmP2ZmZmZmZuY/ZmZmZmZm5j9mZmZmZmbmP2ZmZmZmZuY/ZmZmZmZm5j9mZmZmZmbmP2ZmZmZmZuY/ZmZmZmZm5j9mZmZmZmbmP2ZmZmZmZuY/ZmZmZmZm5j9mZmZmZmbmP2ZmZmZmZuY/ZmZmZmZm5j9mZmZmZmbmP2ZmZmZmZuY/ZmZmZmZm5j9mZmZmZmbmP2ZmZmZmZuY/ZmZmZmZm5j9mZmZmZmbmP2ZmZmZmZuY/ZmZmZmZm5j9mZmZmZmbmP2ZmZmZmZuY/ZmZmZmZm5j9mZmZmZmbmP2ZmZmZmZuY/ZmZmZmZm5j9mZmZmZmbmP2ZmZmZmZuY/ZmZmZmZm5j9mZmZmZmbmP2ZmZmZmZuY/ZmZmZmZm5j9mZmZmZmbmP2ZmZmZmZuY/ZmZmZmZm5j9mZmZmZmbmP2ZmZmZmZuY/ZmZmZmZm5j9mZmZmZmbmP2ZmZmZmZuY/ZmZmZmZm5j9mZmZmZmbmP2ZmZmZmZuY/ZmZmZmZm5j9mZmZmZmbmP2ZmZmZmZuY/ZmZmZmZm5j9mZmZmZmbmP2ZmZmZmZuY/ZmZmZmZm5j9mZmZmZmbmP2ZmZmZmZuY/ZmZmZmZm5j9mZmZmZmbmP2ZmZmZmZuY/ZmZmZmZm5j9mZmZmZmbmP2ZmZmZmZuY/ZmZmZmZm5j9mZmZmZmbmP2ZmZmZmZuY/ZmZmZmZm5j9mZmZmZmbmP2ZmZmZmZuY/ZmZmZmZm5j9mZmZmZmbmP2ZmZmZmZuY/ZmZmZmZm5j9mZmZmZmbmP2ZmZmZmZuY/ZmZmZmZm5j9mZmZmZmbmP2ZmZmZmZuY/ZmZmZmZm5j9mZmZmZmbmP2ZmZmZmZuY/ZmZmZmZm5j9mZmZmZmbmP2ZmZmZmZuY/ZmZmZmZm5j9mZmZmZmbmP2ZmZmZmZuY/ZmZmZmZm5j9mZmZmZmbmP2ZmZmZmZuY/ZmZmZmZm5j9mZmZmZmbmP2ZmZmZmZuY/ZmZmZmZm5j9mZmZmZmbmP2ZmZmZmZuY/ZmZmZmZm5j9mZmZmZmbmP2ZmZmZmZuY/ZmZmZmZm5j9mZmZmZmbmP2ZmZmZmZuY/ZmZmZmZm5j9mZmZmZmbmP2ZmZmZmZuY/ZmZmZmZm5j9mZmZmZmbmP2ZmZmZmZuY/ZmZmZmZm5j9mZmZmZmbmP2ZmZmZmZuY/ZmZmZmZm5j9mZmZmZmbmP2ZmZmZmZuY/ZmZmZmZm5j9mZmZmZmbmP2ZmZmZmZuY/ZmZmZmZm5j9mZmZmZmbmP2ZmZmZmZuY/ZmZmZmZm5j9mZmZmZmbmP2ZmZmZmZuY/ZmZmZmZm5j9mZmZmZmbmP2ZmZmZmZuY/ZmZmZmZm5j9mZmZmZmbmP2ZmZmZmZuY/ZmZmZmZm5j9mZmZmZmbmP2ZmZmZmZuY/ZmZmZmZm5j9mZmZmZmbmP2ZmZmZmZuY/ZmZmZmZm5j9mZmZmZmbmP2ZmZmZmZuY/ZmZmZmZm5j9mZmZmZmbmP2ZmZmZmZuY/ZmZmZmZm5j9mZmZmZmbmP2ZmZmZmZuY/ZmZmZmZm5j9mZmZmZmbmP2ZmZmZmZuY/ZmZmZmZm5j9mZmZmZmbmP2ZmZmZmZuY/ZmZmZmZm5j9mZmZmZmbmP2ZmZmZmZuY/ZmZmZmZm5j9mZmZmZmbmP2ZmZmZmZuY/ZmZmZmZm5j9mZmZmZmbmP2ZmZmZmZuY/ZmZmZmZm5j9mZmZmZmbmP2ZmZmZmZuY/ZmZmZmZm5j9mZmZmZmbmP2ZmZmZmZuY/ZmZmZmZm5j9mZmZmZmbmP2ZmZmZmZuY/ZmZmZmZm5j9mZmZmZmbmP2ZmZmZmZuY/ZmZmZmZm5j9mZmZmZmbmP2ZmZmZmZuY/ZmZmZmZm5j9mZmZmZmbmP2ZmZmZmZuY/ZmZmZmZm5j9mZmZmZmbmP2ZmZmZmZuY/ZmZmZmZm5j9mZmZmZmbmP2ZmZmZmZuY/ZmZmZmZm5j9mZmZmZmbmP2ZmZmZmZuY/ZmZmZmZm5j9mZmZmZmbmP2ZmZmZmZuY/ZmZmZmZm5j9mZmZmZmbmP2ZmZmZmZuY/ZmZmZmZm5j9mZmZmZmbmP2ZmZmZmZuY/ZmZmZmZm5j9mZmZmZmbmP2ZmZmZmZuY/ZmZmZmZm5j9mZmZmZmbmP2ZmZmZmZuY/ZmZmZmZm5j9mZmZmZmbmP2ZmZmZmZuY/ZmZmZmZm5j9mZmZmZmbmP2ZmZmZmZuY/ZmZmZmZm5j9mZmZmZmbmP2ZmZmZmZuY/ZmZmZmZm5j9mZmZmZmbmP2ZmZmZmZuY/ZmZmZmZm5j9mZmZmZmbmP2ZmZmZmZuY/ZmZmZmZm5j9mZmZmZmbmP2ZmZmZmZuY/ZmZmZmZm5j9mZmZmZmbmP2ZmZmZmZuY/ZmZmZmZm5j9mZmZmZmbmP2ZmZmZmZuY/ZmZmZmZm5j9mZmZmZmbmP2ZmZmZmZuY/ZmZmZmZm5j9mZmZmZmbmP2ZmZmZmZuY/ZmZmZmZm5j9mZmZmZmbmP2ZmZmZmZuY/ZmZmZmZm5j9mZmZmZmbmP2ZmZmZmZuY/ZmZmZmZm5j9mZmZmZmbmP2ZmZmZmZuY/ZmZmZmZm5j9mZmZmZmbmP2ZmZmZmZuY/ZmZmZmZm5j9mZmZmZmbmP2ZmZmZmZuY/ZmZmZmZm5j9mZmZmZmbmP2ZmZmZmZuY/ZmZmZmZm5j9mZmZmZmbmP2ZmZmZmZuY/ZmZmZmZm5j9mZmZmZmbmP2ZmZmZmZuY/ZmZmZmZm5j9mZmZmZmbmP2ZmZmZmZuY/ZmZmZmZm5j9mZmZmZmbmP2ZmZmZmZuY/ZmZmZmZm5j9mZmZmZmbmP2ZmZmZmZuY/ZmZmZmZm5j9mZmZmZmbmP2ZmZmZmZuY/ZmZmZmZm5j9mZmZmZmbmP2ZmZmZmZuY/ZmZmZmZm5j9mZmZmZmbmP2ZmZmZmZuY/ZmZmZmZm5j9mZmZmZmbmP2ZmZmZmZuY/ZmZmZmZm5j9mZmZmZmbmP2ZmZmZmZuY/ZmZmZmZm5j+amZmZmZnpP5qZmZmZmek/mpmZmZmZ6T+amZmZmZnpP5qZmZmZmek/mpmZmZmZ6T+amZmZmZnpP5qZmZmZmek/mpmZmZmZ6T+amZmZmZnpP5qZmZmZmek/mpmZmZmZ6T+amZmZmZnpP5qZmZmZmek/mpmZmZmZ6T+amZmZmZnpP5qZmZmZmek/mpmZmZmZ6T+amZmZmZnpP5qZmZmZmek/mpmZmZmZ6T+amZmZmZnpP5qZmZmZmek/mpmZmZmZ6T+amZmZmZnpP5qZmZmZmek/mpmZmZmZ6T+amZmZmZnpP5qZmZmZmek/mpmZmZmZ6T+amZmZmZnpP5qZmZmZmek/mpmZmZmZ6T+amZmZmZnpP5qZmZmZmek/mpmZmZmZ6T+amZmZmZnpP5qZmZmZmek/mpmZmZmZ6T+amZmZmZnpP5qZmZmZmek/mpmZmZmZ6T+amZmZmZnpP5qZmZmZmek/mpmZmZmZ6T+amZmZmZnpP5qZmZmZmek/mpmZmZmZ6T+amZmZmZnpP5qZmZmZmek/mpmZmZmZ6T+amZmZmZnpP5qZmZmZmek/mpmZmZmZ6T+amZmZmZnpP5qZmZmZmek/mpmZmZmZ6T+amZmZmZnpP5qZmZmZmek/mpmZmZmZ6T+amZmZmZnpP5qZmZmZmek/mpmZmZmZ6T+amZmZmZnpP5qZmZmZmek/mpmZmZmZ6T+amZmZmZnpP5qZmZmZmek/mpmZmZmZ6T+amZmZmZnpP5qZmZmZmek/mpmZmZmZ6T+amZmZmZnpP5qZmZmZmek/mpmZmZmZ6T+amZmZmZnpP5qZmZmZmek/mpmZmZmZ6T+amZmZmZnpP5qZmZmZmek/mpmZmZmZ6T+amZmZmZnpP5qZmZmZmek/mpmZmZmZ6T+amZmZmZnpP5qZmZmZmek/mpmZmZmZ6T+amZmZmZnpP5qZmZmZmek/mpmZmZmZ6T+amZmZmZnpP5qZmZmZmek/mpmZmZmZ6T+amZmZmZnpP5qZmZmZmek/mpmZmZmZ6T+amZmZmZnpP5qZmZmZmek/mpmZmZmZ6T+amZmZmZnpP5qZmZmZmek/mpmZmZmZ6T+amZmZmZnpP5qZmZmZmek/mpmZmZmZ6T+amZmZmZnpP5qZmZmZmek/mpmZmZmZ6T+amZmZmZnpP5qZmZmZmek/mpmZmZmZ6T+amZmZmZnpP5qZmZmZmek/mpmZmZmZ6T+amZmZmZnpP5qZmZmZmek/mpmZmZmZ6T+amZmZmZnpP5qZmZmZmek/mpmZmZmZ6T+amZmZmZnpP5qZmZmZmek/mpmZmZmZ6T+amZmZmZnpP5qZmZmZmek/mpmZmZmZ6T+amZmZmZnpP5qZmZmZmek/mpmZmZmZ6T+amZmZmZnpP5qZmZmZmek/mpmZmZmZ6T+amZmZmZnpP5qZmZmZmek/mpmZmZmZ6T+amZmZmZnpP5qZmZmZmek/mpmZmZmZ6T+amZmZmZnpP5qZmZmZmek/mpmZmZmZ6T+amZmZmZnpP5qZmZmZmek/mpmZmZmZ6T+amZmZmZnpP5qZmZmZmek/mpmZmZmZ6T+amZmZmZnpP5qZmZmZmek/mpmZmZmZ6T+amZmZmZnpP5qZmZmZmek/mpmZmZmZ6T+amZmZmZnpP5qZmZmZmek/mpmZmZmZ6T+amZmZmZnpP5qZmZmZmek/mpmZmZmZ6T+amZmZmZnpP5qZmZmZmek/mpmZmZmZ6T+amZmZmZnpP5qZmZmZmek/mpmZmZmZ6T+amZmZmZnpP5qZmZmZmek/mpmZmZmZ6T+amZmZmZnpP5qZmZmZmek/mpmZmZmZ6T+amZmZmZnpP5qZmZmZmek/mpmZmZmZ6T+amZmZmZnpP5qZmZmZmek/mpmZmZmZ6T+amZmZmZnpP5qZmZmZmek/mpmZmZmZ6T+amZmZmZnpP5qZmZmZmek/mpmZmZmZ6T+amZmZmZnpP5qZmZmZmek/mpmZmZmZ6T+amZmZmZnpP5qZmZmZmek/mpmZmZmZ6T+amZmZmZnpP5qZmZmZmek/mpmZmZmZ6T+amZmZmZnpP5qZmZmZmek/mpmZmZmZ6T+amZmZmZnpP5qZmZmZmek/mpmZmZmZ6T+amZmZmZnpP5qZmZmZmek/mpmZmZmZ6T+amZmZmZnpP5qZmZmZmek/mpmZmZmZ6T+amZmZmZnpP5qZmZmZmek/mpmZmZmZ6T+amZmZmZnpP5qZmZmZmek/mpmZmZmZ6T+amZmZmZnpP5qZmZmZmek/mpmZmZmZ6T+amZmZmZnpP5qZmZmZmek/mpmZmZmZ6T+amZmZmZnpP5qZmZmZmek/mpmZmZmZ6T+amZmZmZnpP5qZmZmZmek/mpmZmZmZ6T+amZmZmZnpP5qZmZmZmek/mpmZmZmZ6T+amZmZmZnpP5qZmZmZmek/mpmZmZmZ6T+amZmZmZnpP5qZmZmZmek/mpmZmZmZ6T+amZmZmZnpP5qZmZmZmek/mpmZmZmZ6T+amZmZmZnpP5qZmZmZmek/mpmZmZmZ6T+amZmZmZnpP5qZmZmZmek/mpmZmZmZ6T+amZmZmZnpP5qZmZmZmek/mpmZmZmZ6T+amZmZmZnpP5qZmZmZmek/mpmZmZmZ6T+amZmZmZnpP5qZmZmZmek/mpmZmZmZ6T+amZmZmZnpP5qZmZmZmek/mpmZmZmZ6T+amZmZmZnpP5qZmZmZmek/mpmZmZmZ6T+amZmZmZnpP5qZmZmZmek/mpmZmZmZ6T+amZmZmZnpP5qZmZmZmek/mpmZmZmZ6T+amZmZmZnpP5qZmZmZmek/mpmZmZmZ6T+amZmZmZnpP5qZmZmZmek/mpmZmZmZ6T+amZmZmZnpP5qZmZmZmek/mpmZmZmZ6T+amZmZmZnpP5qZmZmZmek/mpmZmZmZ6T+amZmZmZnpP5qZmZmZmek/mpmZmZmZ6T+amZmZmZnpP5qZmZmZmek/mpmZmZmZ6T+amZmZmZnpP5qZmZmZmek/mpmZmZmZ6T+amZmZmZnpP5qZmZmZmek/mpmZmZmZ6T+amZmZmZnpP5qZmZmZmek/mpmZmZmZ6T+amZmZmZnpP5qZmZmZmek/mpmZmZmZ6T+amZmZmZnpP5qZmZmZmek/mpmZmZmZ6T+amZmZmZnpP5qZmZmZmek/mpmZmZmZ6T+amZmZmZnpP5qZmZmZmek/mpmZmZmZ6T8=",
          "dtype": "f8"
         },
         "xaxis": "x",
         "y": {
          "bdata": "l4O3TM3jUECXg7dMzeNQQJeDt0zN41BAl4O3TM3jUECXg7dMzeNQQJeDt0zN41BAl4O3TM3jUECXg7dMzeNQQJeDt0zN41BAl4O3TM3jUECXg7dMzeNQQJeDt0zN41BAl4O3TM3jUECXg7dMzeNQQJeDt0zN41BAl4O3TM3jUECXg7dMzeNQQJeDt0zN41BAl4O3TM3jUECXg7dMzeNQQJeDt0zN41BAl4O3TM3jUECXg7dMzeNQQJeDt0zN41BAl4O3TM3jUECXg7dMzeNQQJeDt0zN41BAl4O3TM3jUECXg7dMzeNQQJeDt0zN41BAl4O3TM3jUECXg7dMzeNQQJeDt0zN41BAl4O3TM3jUECXg7dMzeNQQJeDt0zN41BAl4O3TM3jUECXg7dMzeNQQJeDt0zN41BAl4O3TM3jUECXg7dMzeNQQJeDt0zN41BAl4O3TM3jUECXg7dMzeNQQJeDt0zN41BAl4O3TM3jUECXg7dMzeNQQJeDt0zN41BAl4O3TM3jUECXg7dMzeNQQJeDt0zN41BAl4O3TM3jUECXg7dMzeNQQJeDt0zN41BAl4O3TM3jUECXg7dMzeNQQJeDt0zN41BAl4O3TM3jUECXg7dMzeNQQJeDt0zN41BAl4O3TM3jUECXg7dMzeNQQJeDt0zN41BAl4O3TM3jUECXg7dMzeNQQJeDt0zN41BAl4O3TM3jUECXg7dMzeNQQJeDt0zN41BAl4O3TM3jUECXg7dMzeNQQJeDt0zN41BAl4O3TM3jUECXg7dMzeNQQJeDt0zN41BAl4O3TM3jUECXg7dMzeNQQJeDt0zN41BAl4O3TM3jUECXg7dMzeNQQJeDt0zN41BAl4O3TM3jUECXg7dMzeNQQJeDt0zN41BAl4O3TM3jUECXg7dMzeNQQJeDt0zN41BAl4O3TM3jUECXg7dMzeNQQJeDt0zN41BAl4O3TM3jUECXg7dMzeNQQJeDt0zN41BAl4O3TM3jUECXg7dMzeNQQJeDt0zN41BAl4O3TM3jUECXg7dMzeNQQJeDt0zN41BAl4O3TM3jUECXg7dMzeNQQJeDt0zN41BAl4O3TM3jUECXg7dMzeNQQJeDt0zN41BAl4O3TM3jUECXg7dMzeNQQJeDt0zN41BAl4O3TM3jUECXg7dMzeNQQJeDt0zN41BAl4O3TM3jUECXg7dMzeNQQJeDt0zN41BAl4O3TM3jUECXg7dMzeNQQJeDt0zN41BAl4O3TM3jUECXg7dMzeNQQJeDt0zN41BAl4O3TM3jUECXg7dMzeNQQJeDt0zN41BAl4O3TM3jUECXg7dMzeNQQJeDt0zN41BAl4O3TM3jUECXg7dMzeNQQJeDt0zN41BAl4O3TM3jUECXg7dMzeNQQJeDt0zN41BAl4O3TM3jUECXg7dMzeNQQJeDt0zN41BAl4O3TM3jUECXg7dMzeNQQJeDt0zN41BAl4O3TM3jUECXg7dMzeNQQJeDt0zN41BAl4O3TM3jUECXg7dMzeNQQJeDt0zN41BAl4O3TM3jUECXg7dMzeNQQJeDt0zN41BAl4O3TM3jUECXg7dMzeNQQJeDt0zN41BAl4O3TM3jUECXg7dMzeNQQJeDt0zN41BAl4O3TM3jUECXg7dMzeNQQJeDt0zN41BAl4O3TM3jUECXg7dMzeNQQJeDt0zN41BAl4O3TM3jUECXg7dMzeNQQJeDt0zN41BAl4O3TM3jUECXg7dMzeNQQJeDt0zN41BAl4O3TM3jUECXg7dMzeNQQJeDt0zN41BAl4O3TM3jUECXg7dMzeNQQJeDt0zN41BAl4O3TM3jUECXg7dMzeNQQJeDt0zN41BAl4O3TM3jUECXg7dMzeNQQJeDt0zN41BAl4O3TM3jUECXg7dMzeNQQJeDt0zN41BAl4O3TM3jUECXg7dMzeNQQJeDt0zN41BAl4O3TM3jUECXg7dMzeNQQJeDt0zN41BAl4O3TM3jUECXg7dMzeNQQJeDt0zN41BAl4O3TM3jUECXg7dMzeNQQJeDt0zN41BAl4O3TM3jUECXg7dMzeNQQJeDt0zN41BAl4O3TM3jUECXg7dMzeNQQJeDt0zN41BAl4O3TM3jUECXg7dMzeNQQJeDt0zN41BAl4O3TM3jUECXg7dMzeNQQJeDt0zN41BAl4O3TM3jUECXg7dMzeNQQJeDt0zN41BAl4O3TM3jUECXg7dMzeNQQJeDt0zN41BAl4O3TM3jUECXg7dMzeNQQJeDt0zN41BAl4O3TM3jUECXg7dMzeNQQJeDt0zN41BAl4O3TM3jUECXg7dMzeNQQJeDt0zN41BAl4O3TM3jUECXg7dMzeNQQJeDt0zN41BAl4O3TM3jUECXg7dMzeNQQJeDt0zN41BAl4O3TM3jUECXg7dMzeNQQJeDt0zN41BAl4O3TM3jUECXg7dMzeNQQJeDt0zN41BAl4O3TM3jUECXg7dMzeNQQJeDt0zN41BAl4O3TM3jUECXg7dMzeNQQJeDt0zN41BAl4O3TM3jUECXg7dMzeNQQJeDt0zN41BAl4O3TM3jUECXg7dMzeNQQJeDt0zN41BAl4O3TM3jUECXg7dMzeNQQJeDt0zN41BAl4O3TM3jUECXg7dMzeNQQJeDt0zN41BAl4O3TM3jUECXg7dMzeNQQJeDt0zN41BAl4O3TM3jUECXg7dMzeNQQJeDt0zN41BAl4O3TM3jUECXg7dMzeNQQJeDt0zN41BAl4O3TM3jUECXg7dMzeNQQJeDt0zN41BAl4O3TM3jUECXg7dMzeNQQJeDt0zN41BAl4O3TM3jUECXg7dMzeNQQJeDt0zN41BAl4O3TM3jUECXg7dMzeNQQJeDt0zN41BAl4O3TM3jUECXg7dMzeNQQJeDt0zN41BAl4O3TM3jUECXg7dMzeNQQJeDt0zN41BAl4O3TM3jUECXg7dMzeNQQJeDt0zN41BAl4O3TM3jUECXg7dMzeNQQJeDt0zN41BAl4O3TM3jUECXg7dMzeNQQJeDt0zN41BAl4O3TM3jUECXg7dMzeNQQJeDt0zN41BAl4O3TM3jUECXg7dMzeNQQJeDt0zN41BAl4O3TM3jUECXg7dMzeNQQJeDt0zN41BAl4O3TM3jUECXg7dMzeNQQJeDt0zN41BAl4O3TM3jUECXg7dMzeNQQJeDt0zN41BAl4O3TM3jUECXg7dMzeNQQJeDt0zN41BAl4O3TM3jUECXg7dMzeNQQJeDt0zN41BAl4O3TM3jUECXg7dMzeNQQJeDt0zN41BAl4O3TM3jUECXg7dMzeNQQJeDt0zN41BAl4O3TM3jUECXg7dMzeNQQJeDt0zN41BAl4O3TM3jUECXg7dMzeNQQJeDt0zN41BAl4O3TM3jUECXg7dMzeNQQJeDt0zN41BAl4O3TM3jUECXg7dMzeNQQJeDt0zN41BAl4O3TM3jUECXg7dMzeNQQJeDt0zN41BAl4O3TM3jUECXg7dMzeNQQJeDt0zN41BAl4O3TM3jUECXg7dMzeNQQJeDt0zN41BAl4O3TM3jUECXg7dMzeNQQJeDt0zN41BAl4O3TM3jUECXg7dMzeNQQJeDt0zN41BAl4O3TM3jUECXg7dMzeNQQJeDt0zN41BAl4O3TM3jUECXg7dMzeNQQJeDt0zN41BAl4O3TM3jUECXg7dMzeNQQJeDt0zN41BAl4O3TM3jUECXg7dMzeNQQJeDt0zN41BAl4O3TM3jUECXg7dMzeNQQJeDt0zN41BAl4O3TM3jUECXg7dMzeNQQJeDt0zN41BAl4O3TM3jUECXg7dMzeNQQJeDt0zN41BAl4O3TM3jUECXg7dMzeNQQJeDt0zN41BAl4O3TM3jUECXg7dMzeNQQJeDt0zN41BAl4O3TM3jUECXg7dMzeNQQJeDt0zN41BAl4O3TM3jUECXg7dMzeNQQJeDt0zN41BAl4O3TM3jUECXg7dMzeNQQJeDt0zN41BAl4O3TM3jUECXg7dMzeNQQJeDt0zN41BAl4O3TM3jUECXg7dMzeNQQJeDt0zN41BAl4O3TM3jUECXg7dMzeNQQJeDt0zN41BAl4O3TM3jUECXg7dMzeNQQJeDt0zN41BAl4O3TM3jUECXg7dMzeNQQJeDt0zN41BAl4O3TM3jUECXg7dMzeNQQJeDt0zN41BAl4O3TM3jUECXg7dMzeNQQJeDt0zN41BAl4O3TM3jUECXg7dMzeNQQJeDt0zN41BAl4O3TM3jUECXg7dMzeNQQJeDt0zN41BAl4O3TM3jUECXg7dMzeNQQJeDt0zN41BAl4O3TM3jUECXg7dMzeNQQJeDt0zN41BAl4O3TM3jUECXg7dMzeNQQJeDt0zN41BAl4O3TM3jUECXg7dMzeNQQJeDt0zN41BAl4O3TM3jUECXg7dMzeNQQJeDt0zN41BAl4O3TM3jUECXg7dMzeNQQJeDt0zN41BAl4O3TM3jUECXg7dMzeNQQJeDt0zN41BAl4O3TM3jUECXg7dMzeNQQJeDt0zN41BAl4O3TM3jUECXg7dMzeNQQJeDt0zN41BAl4O3TM3jUECXg7dMzeNQQJeDt0zN41BAl4O3TM3jUECXg7dMzeNQQJeDt0zN41BAl4O3TM3jUECXg7dMzeNQQJeDt0zN41BAl4O3TM3jUECXg7dMzeNQQJeDt0zN41BAl4O3TM3jUECXg7dMzeNQQJeDt0zN41BAl4O3TM3jUECXg7dMzeNQQJeDt0zN41BAl4O3TM3jUECXg7dMzeNQQJeDt0zN41BAl4O3TM3jUECXg7dMzeNQQJeDt0zN41BAl4O3TM3jUECXg7dMzeNQQJeDt0zN41BAl4O3TM3jUECXg7dMzeNQQJeDt0zN41BAl4O3TM3jUECXg7dMzeNQQJeDt0zN41BAl4O3TM3jUECXg7dMzeNQQJeDt0zN41BAl4O3TM3jUECXg7dMzeNQQJeDt0zN41BAl4O3TM3jUECXg7dMzeNQQJeDt0zN41BAl4O3TM3jUECXg7dMzeNQQJeDt0zN41BAl4O3TM3jUECXg7dMzeNQQJeDt0zN41BAl4O3TM3jUECXg7dMzeNQQJeDt0zN41BAl4O3TM3jUECXg7dMzeNQQJeDt0zN41BAl4O3TM3jUECXg7dMzeNQQJeDt0zN41BAl4O3TM3jUECXg7dMzeNQQJeDt0zN41BAl4O3TM3jUECXg7dMzeNQQJeDt0zN41BAl4O3TM3jUECXg7dMzeNQQJeDt0zN41BAl4O3TM3jUECXg7dMzeNQQJeDt0zN41BAl4O3TM3jUECXg7dMzeNQQJeDt0zN41BAl4O3TM3jUECXg7dMzeNQQJeDt0zN41BAl4O3TM3jUECXg7dMzeNQQJeDt0zN41BAl4O3TM3jUECXg7dMzeNQQJeDt0zN41BAl4O3TM3jUECXg7dMzeNQQJeDt0zN41BAl4O3TM3jUECXg7dMzeNQQJeDt0zN41BAl4O3TM3jUECXg7dMzeNQQJeDt0zN41BAl4O3TM3jUECXg7dMzeNQQJeDt0zN41BAl4O3TM3jUECXg7dMzeNQQJeDt0zN41BAl4O3TM3jUECXg7dMzeNQQJeDt0zN41BAl4O3TM3jUECXg7dMzeNQQJeDt0zN41BAl4O3TM3jUECXg7dMzeNQQJeDt0zN41BAl4O3TM3jUECXg7dMzeNQQJeDt0zN41BAl4O3TM3jUECXg7dMzeNQQJeDt0zN41BAl4O3TM3jUECXg7dMzeNQQJeDt0zN41BAl4O3TM3jUECXg7dMzeNQQJeDt0zN41BAl4O3TM3jUECXg7dMzeNQQJeDt0zN41BAl4O3TM3jUECXg7dMzeNQQJeDt0zN41BAl4O3TM3jUECXg7dMzeNQQJeDt0zN41BAl4O3TM3jUECXg7dMzeNQQJeDt0zN41BAl4O3TM3jUECXg7dMzeNQQJeDt0zN41BAl4O3TM3jUECXg7dMzeNQQJeDt0zN41BAl4O3TM3jUECXg7dMzeNQQJeDt0zN41BAl4O3TM3jUECXg7dMzeNQQJeDt0zN41BAl4O3TM3jUECXg7dMzeNQQJeDt0zN41BAl4O3TM3jUECXg7dMzeNQQJeDt0zN41BAl4O3TM3jUECXg7dMzeNQQJeDt0zN41BAl4O3TM3jUECXg7dMzeNQQJeDt0zN41BAl4O3TM3jUECXg7dMzeNQQJeDt0zN41BAl4O3TM3jUECXg7dMzeNQQJeDt0zN41BAl4O3TM3jUECXg7dMzeNQQJeDt0zN41BAl4O3TM3jUECXg7dMzeNQQJeDt0zN41BAl4O3TM3jUECXg7dMzeNQQJeDt0zN41BAl4O3TM3jUECXg7dMzeNQQJeDt0zN41BAl4O3TM3jUECXg7dMzeNQQJeDt0zN41BAl4O3TM3jUECXg7dMzeNQQJeDt0zN41BAl4O3TM3jUECXg7dMzeNQQJeDt0zN41BAl4O3TM3jUECXg7dMzeNQQJeDt0zN41BAl4O3TM3jUECXg7dMzeNQQJeDt0zN41BAl4O3TM3jUECXg7dMzeNQQJeDt0zN41BAl4O3TM3jUECXg7dMzeNQQJeDt0zN41BAl4O3TM3jUECXg7dMzeNQQJeDt0zN41BAl4O3TM3jUECXg7dMzeNQQJeDt0zN41BAl4O3TM3jUECXg7dMzeNQQJeDt0zN41BAl4O3TM3jUECXg7dMzeNQQJeDt0zN41BAl4O3TM3jUECXg7dMzeNQQJeDt0zN41BAl4O3TM3jUECXg7dMzeNQQJeDt0zN41BAl4O3TM3jUECXg7dMzeNQQJeDt0zN41BAl4O3TM3jUECXg7dMzeNQQJeDt0zN41BAl4O3TM3jUECXg7dMzeNQQJeDt0zN41BAl4O3TM3jUECXg7dMzeNQQJeDt0zN41BAl4O3TM3jUECXg7dMzeNQQJeDt0zN41BAl4O3TM3jUECXg7dMzeNQQJeDt0zN41BAl4O3TM3jUECXg7dMzeNQQJeDt0zN41BAl4O3TM3jUECXg7dMzeNQQJeDt0zN41BAl4O3TM3jUECXg7dMzeNQQJeDt0zN41BAl4O3TM3jUECXg7dMzeNQQJeDt0zN41BAl4O3TM3jUECXg7dMzeNQQJeDt0zN41BAl4O3TM3jUECXg7dMzeNQQJeDt0zN41BAl4O3TM3jUECXg7dMzeNQQJeDt0zN41BAl4O3TM3jUECXg7dMzeNQQJeDt0zN41BAl4O3TM3jUECXg7dMzeNQQJeDt0zN41BAl4O3TM3jUECXg7dMzeNQQJeDt0zN41BAl4O3TM3jUECXg7dMzeNQQJeDt0zN41BAl4O3TM3jUECXg7dMzeNQQJeDt0zN41BAl4O3TM3jUECXg7dMzeNQQJeDt0zN41BAl4O3TM3jUECXg7dMzeNQQJeDt0zN41BAl4O3TM3jUECXg7dMzeNQQJeDt0zN41BAl4O3TM3jUECXg7dMzeNQQJeDt0zN41BAl4O3TM3jUECXg7dMzeNQQJeDt0zN41BAl4O3TM3jUECXg7dMzeNQQJeDt0zN41BAl4O3TM3jUECXg7dMzeNQQJeDt0zN41BAl4O3TM3jUECXg7dMzeNQQJeDt0zN41BAl4O3TM3jUECXg7dMzeNQQJeDt0zN41BAl4O3TM3jUECXg7dMzeNQQJeDt0zN41BAl4O3TM3jUECXg7dMzeNQQJeDt0zN41BAl4O3TM3jUECXg7dMzeNQQJeDt0zN41BAl4O3TM3jUECXg7dMzeNQQJeDt0zN41BAl4O3TM3jUECXg7dMzeNQQJeDt0zN41BAl4O3TM3jUECXg7dMzeNQQJeDt0zN41BAl4O3TM3jUECXg7dMzeNQQJeDt0zN41BAl4O3TM3jUECXg7dMzeNQQJeDt0zN41BAl4O3TM3jUECXg7dMzeNQQJeDt0zN41BAl4O3TM3jUECXg7dMzeNQQJeDt0zN41BAl4O3TM3jUECXg7dMzeNQQJeDt0zN41BAl4O3TM3jUECXg7dMzeNQQJeDt0zN41BAl4O3TM3jUECXg7dMzeNQQJeDt0zN41BAl4O3TM3jUECXg7dMzeNQQJeDt0zN41BAl4O3TM3jUECXg7dMzeNQQJeDt0zN41BAl4O3TM3jUECXg7dMzeNQQJeDt0zN41BAl4O3TM3jUECXg7dMzeNQQJeDt0zN41BAl4O3TM3jUECXg7dMzeNQQJeDt0zN41BAl4O3TM3jUECXg7dMzeNQQJeDt0zN41BAl4O3TM3jUECXg7dMzeNQQJeDt0zN41BAl4O3TM3jUECXg7dMzeNQQJeDt0zN41BAl4O3TM3jUECXg7dMzeNQQJeDt0zN41BAl4O3TM3jUECXg7dMzeNQQJeDt0zN41BAl4O3TM3jUECXg7dMzeNQQJeDt0zN41BAl4O3TM3jUECXg7dMzeNQQJeDt0zN41BAl4O3TM3jUECXg7dMzeNQQJeDt0zN41BAl4O3TM3jUECXg7dMzeNQQJeDt0zN41BAl4O3TM3jUECXg7dMzeNQQJeDt0zN41BAl4O3TM3jUECXg7dMzeNQQJeDt0zN41BAl4O3TM3jUECXg7dMzeNQQJeDt0zN41BAl4O3TM3jUECXg7dMzeNQQJeDt0zN41BAl4O3TM3jUECXg7dMzeNQQJeDt0zN41BAl4O3TM3jUECXg7dMzeNQQJeDt0zN41BAl4O3TM3jUECXg7dMzeNQQJeDt0zN41BAl4O3TM3jUECXg7dMzeNQQJeDt0zN41BAl4O3TM3jUECXg7dMzeNQQJeDt0zN41BAl4O3TM3jUECXg7dMzeNQQJeDt0zN41BAl4O3TM3jUECXg7dMzeNQQJeDt0zN41BAl4O3TM3jUECXg7dMzeNQQJeDt0zN41BAl4O3TM3jUECXg7dMzeNQQJeDt0zN41BAl4O3TM3jUECXg7dMzeNQQJeDt0zN41BAl4O3TM3jUECXg7dMzeNQQJeDt0zN41BAl4O3TM3jUECXg7dMzeNQQJeDt0zN41BAl4O3TM3jUECXg7dMzeNQQJeDt0zN41BAl4O3TM3jUECXg7dMzeNQQJeDt0zN41BAl4O3TM3jUECXg7dMzeNQQJeDt0zN41BAl4O3TM3jUECXg7dMzeNQQJeDt0zN41BAl4O3TM3jUECXg7dMzeNQQJeDt0zN41BAl4O3TM3jUECXg7dMzeNQQJeDt0zN41BAl4O3TM3jUECXg7dMzeNQQJeDt0zN41BAl4O3TM3jUECXg7dMzeNQQJeDt0zN41BAl4O3TM3jUECXg7dMzeNQQJeDt0zN41BAl4O3TM3jUECXg7dMzeNQQJeDt0zN41BAl4O3TM3jUECXg7dMzeNQQJeDt0zN41BAl4O3TM3jUECXg7dMzeNQQJeDt0zN41BAl4O3TM3jUECXg7dMzeNQQJeDt0zN41BAl4O3TM3jUECXg7dMzeNQQJeDt0zN41BAl4O3TM3jUECXg7dMzeNQQJeDt0zN41BAl4O3TM3jUECXg7dMzeNQQJeDt0zN41BAl4O3TM3jUECXg7dMzeNQQJeDt0zN41BAl4O3TM3jUECXg7dMzeNQQJeDt0zN41BAl4O3TM3jUECXg7dMzeNQQJeDt0zN41BAl4O3TM3jUECXg7dMzeNQQJeDt0zN41BAl4O3TM3jUECXg7dMzeNQQJeDt0zN41BAl4O3TM3jUECXg7dMzeNQQJeDt0zN41BAl4O3TM3jUECXg7dMzeNQQJeDt0zN41BAl4O3TM3jUECXg7dMzeNQQJeDt0zN41BAl4O3TM3jUECXg7dMzeNQQJeDt0zN41BAl4O3TM3jUECXg7dMzeNQQJeDt0zN41BAl4O3TM3jUECXg7dMzeNQQJeDt0zN41BAl4O3TM3jUECXg7dMzeNQQJeDt0zN41BAl4O3TM3jUECXg7dMzeNQQJeDt0zN41BAl4O3TM3jUECXg7dMzeNQQJeDt0zN41BAl4O3TM3jUECXg7dMzeNQQJeDt0zN41BAl4O3TM3jUECXg7dMzeNQQJeDt0zN41BAl4O3TM3jUECXg7dMzeNQQJeDt0zN41BAl4O3TM3jUECXg7dMzeNQQJeDt0zN41BAl4O3TM3jUECXg7dMzeNQQJeDt0zN41BAl4O3TM3jUECXg7dMzeNQQJeDt0zN41BAl4O3TM3jUECXg7dMzeNQQJeDt0zN41BAl4O3TM3jUECXg7dMzeNQQJeDt0zN41BAl4O3TM3jUECXg7dMzeNQQJeDt0zN41BAl4O3TM3jUECXg7dMzeNQQJeDt0zN41BAl4O3TM3jUECXg7dMzeNQQJeDt0zN41BAl4O3TM3jUECXg7dMzeNQQJeDt0zN41BAl4O3TM3jUECXg7dMzeNQQJeDt0zN41BAl4O3TM3jUECXg7dMzeNQQJeDt0zN41BAl4O3TM3jUECXg7dMzeNQQJeDt0zN41BAl4O3TM3jUECXg7dMzeNQQJeDt0zN41BAl4O3TM3jUECXg7dMzeNQQJeDt0zN41BAl4O3TM3jUECXg7dMzeNQQJeDt0zN41BAl4O3TM3jUECXg7dMzeNQQJeDt0zN41BAl4O3TM3jUECXg7dMzeNQQJeDt0zN41BAl4O3TM3jUECXg7dMzeNQQJeDt0zN41BAl4O3TM3jUECXg7dMzeNQQJeDt0zN41BAl4O3TM3jUECXg7dMzeNQQJeDt0zN41BAl4O3TM3jUECXg7dMzeNQQJeDt0zN41BAl4O3TM3jUECXg7dMzeNQQJeDt0zN41BAl4O3TM3jUECXg7dMzeNQQJeDt0zN41BAl4O3TM3jUECXg7dMzeNQQJeDt0zN41BAl4O3TM3jUECXg7dMzeNQQJeDt0zN41BAl4O3TM3jUECXg7dMzeNQQJeDt0zN41BAl4O3TM3jUECXg7dMzeNQQJeDt0zN41BAl4O3TM3jUECXg7dMzeNQQJeDt0zN41BAl4O3TM3jUECXg7dMzeNQQJeDt0zN41BAl4O3TM3jUECXg7dMzeNQQJeDt0zN41BAl4O3TM3jUECXg7dMzeNQQJeDt0zN41BAl4O3TM3jUECXg7dMzeNQQJeDt0zN41BAl4O3TM3jUECXg7dMzeNQQJeDt0zN41BAl4O3TM3jUECXg7dMzeNQQJeDt0zN41BAl4O3TM3jUECXg7dMzeNQQJeDt0zN41BAl4O3TM3jUECXg7dMzeNQQJeDt0zN41BAl4O3TM3jUECXg7dMzeNQQJeDt0zN41BAl4O3TM3jUECXg7dMzeNQQJeDt0zN41BAl4O3TM3jUECXg7dMzeNQQJeDt0zN41BAl4O3TM3jUECXg7dMzeNQQJeDt0zN41BAl4O3TM3jUECXg7dMzeNQQJeDt0zN41BAl4O3TM3jUECXg7dMzeNQQJeDt0zN41BAl4O3TM3jUECXg7dMzeNQQJeDt0zN41BAl4O3TM3jUECXg7dMzeNQQJeDt0zN41BAl4O3TM3jUECXg7dMzeNQQJeDt0zN41BAl4O3TM3jUECXg7dMzeNQQJeDt0zN41BAl4O3TM3jUECXg7dMzeNQQJeDt0zN41BAl4O3TM3jUECXg7dMzeNQQJeDt0zN41BAl4O3TM3jUECXg7dMzeNQQJeDt0zN41BAl4O3TM3jUECXg7dMzeNQQJeDt0zN41BAl4O3TM3jUECXg7dMzeNQQJeDt0zN41BAl4O3TM3jUECXg7dMzeNQQJeDt0zN41BAl4O3TM3jUECXg7dMzeNQQJeDt0zN41BAl4O3TM3jUECXg7dMzeNQQJeDt0zN41BAl4O3TM3jUECXg7dMzeNQQJeDt0zN41BAl4O3TM3jUECXg7dMzeNQQJeDt0zN41BAl4O3TM3jUECXg7dMzeNQQJeDt0zN41BAl4O3TM3jUECXg7dMzeNQQJeDt0zN41BAl4O3TM3jUECXg7dMzeNQQJeDt0zN41BAl4O3TM3jUECXg7dMzeNQQJeDt0zN41BAl4O3TM3jUECXg7dMzeNQQJeDt0zN41BAl4O3TM3jUECXg7dMzeNQQJeDt0zN41BAl4O3TM3jUECXg7dMzeNQQJeDt0zN41BAl4O3TM3jUECXg7dMzeNQQJeDt0zN41BAl4O3TM3jUECXg7dMzeNQQJeDt0zN41BAl4O3TM3jUECXg7dMzeNQQJeDt0zN41BAl4O3TM3jUECXg7dMzeNQQJeDt0zN41BAl4O3TM3jUECXg7dMzeNQQJeDt0zN41BAl4O3TM3jUECXg7dMzeNQQJeDt0zN41BAl4O3TM3jUECXg7dMzeNQQJeDt0zN41BAl4O3TM3jUECXg7dMzeNQQJeDt0zN41BAl4O3TM3jUECXg7dMzeNQQJeDt0zN41BAl4O3TM3jUECXg7dMzeNQQJeDt0zN41BAl4O3TM3jUECXg7dMzeNQQJeDt0zN41BAl4O3TM3jUECXg7dMzeNQQJeDt0zN41BAl4O3TM3jUECXg7dMzeNQQJeDt0zN41BAl4O3TM3jUECXg7dMzeNQQJeDt0zN41BAl4O3TM3jUECXg7dMzeNQQJeDt0zN41BAl4O3TM3jUECXg7dMzeNQQJeDt0zN41BAl4O3TM3jUECXg7dMzeNQQJeDt0zN41BAl4O3TM3jUECXg7dMzeNQQJeDt0zN41BAl4O3TM3jUECXg7dMzeNQQJeDt0zN41BAl4O3TM3jUECXg7dMzeNQQJeDt0zN41BAl4O3TM3jUECXg7dMzeNQQJeDt0zN41BAl4O3TM3jUECXg7dMzeNQQJeDt0zN41BAl4O3TM3jUECXg7dMzeNQQJeDt0zN41BAl4O3TM3jUECXg7dMzeNQQJeDt0zN41BAl4O3TM3jUECXg7dMzeNQQJeDt0zN41BAl4O3TM3jUECXg7dMzeNQQJeDt0zN41BAl4O3TM3jUECXg7dMzeNQQJeDt0zN41BAl4O3TM3jUECXg7dMzeNQQJeDt0zN41BAl4O3TM3jUECXg7dMzeNQQJeDt0zN41BAl4O3TM3jUECXg7dMzeNQQJeDt0zN41BAl4O3TM3jUECXg7dMzeNQQJeDt0zN41BAl4O3TM3jUECXg7dMzeNQQJeDt0zN41BAl4O3TM3jUECXg7dMzeNQQJeDt0zN41BAl4O3TM3jUECXg7dMzeNQQJeDt0zN41BAl4O3TM3jUECXg7dMzeNQQJeDt0zN41BAl4O3TM3jUECXg7dMzeNQQJeDt0zN41BAl4O3TM3jUECXg7dMzeNQQJeDt0zN41BAl4O3TM3jUECXg7dMzeNQQJeDt0zN41BAl4O3TM3jUECXg7dMzeNQQJeDt0zN41BAl4O3TM3jUECXg7dMzeNQQJeDt0zN41BAl4O3TM3jUECXg7dMzeNQQJeDt0zN41BAl4O3TM3jUECXg7dMzeNQQJeDt0zN41BAl4O3TM3jUECXg7dMzeNQQJeDt0zN41BAl4O3TM3jUECXg7dMzeNQQJeDt0zN41BAl4O3TM3jUECXg7dMzeNQQJeDt0zN41BAl4O3TM3jUECXg7dMzeNQQJeDt0zN41BAl4O3TM3jUECXg7dMzeNQQJeDt0zN41BAl4O3TM3jUECXg7dMzeNQQJeDt0zN41BAl4O3TM3jUECXg7dMzeNQQJeDt0zN41BAl4O3TM3jUECXg7dMzeNQQJeDt0zN41BAl4O3TM3jUECXg7dMzeNQQJeDt0zN41BAl4O3TM3jUECXg7dMzeNQQJeDt0zN41BAl4O3TM3jUECXg7dMzeNQQJeDt0zN41BAl4O3TM3jUECXg7dMzeNQQJeDt0zN41BAl4O3TM3jUECXg7dMzeNQQJeDt0zN41BAl4O3TM3jUECXg7dMzeNQQJeDt0zN41BAl4O3TM3jUECXg7dMzeNQQJeDt0zN41BAl4O3TM3jUECXg7dMzeNQQJeDt0zN41BAl4O3TM3jUECXg7dMzeNQQJeDt0zN41BAl4O3TM3jUECXg7dMzeNQQJeDt0zN41BAl4O3TM3jUECXg7dMzeNQQJeDt0zN41BAl4O3TM3jUECXg7dMzeNQQJeDt0zN41BAl4O3TM3jUECXg7dMzeNQQJeDt0zN41BAl4O3TM3jUECXg7dMzeNQQJeDt0zN41BAl4O3TM3jUECXg7dMzeNQQJeDt0zN41BAl4O3TM3jUECXg7dMzeNQQJeDt0zN41BAl4O3TM3jUECXg7dMzeNQQJeDt0zN41BAl4O3TM3jUECXg7dMzeNQQJeDt0zN41BAl4O3TM3jUECXg7dMzeNQQJeDt0zN41BAl4O3TM3jUECXg7dMzeNQQJeDt0zN41BAl4O3TM3jUECXg7dMzeNQQJeDt0zN41BAl4O3TM3jUECXg7dMzeNQQJeDt0zN41BAl4O3TM3jUECXg7dMzeNQQJeDt0zN41BAl4O3TM3jUECXg7dMzeNQQJeDt0zN41BAl4O3TM3jUECXg7dMzeNQQJeDt0zN41BAl4O3TM3jUECXg7dMzeNQQJeDt0zN41BAl4O3TM3jUECXg7dMzeNQQJeDt0zN41BAl4O3TM3jUECXg7dMzeNQQJeDt0zN41BAl4O3TM3jUECXg7dMzeNQQJeDt0zN41BAl4O3TM3jUECXg7dMzeNQQJeDt0zN41BAl4O3TM3jUECXg7dMzeNQQJeDt0zN41BAl4O3TM3jUECXg7dMzeNQQJeDt0zN41BAl4O3TM3jUECXg7dMzeNQQJeDt0zN41BAl4O3TM3jUECXg7dMzeNQQJeDt0zN41BAl4O3TM3jUECXg7dMzeNQQJeDt0zN41BAl4O3TM3jUECXg7dMzeNQQJeDt0zN41BAl4O3TM3jUECXg7dMzeNQQJeDt0zN41BAl4O3TM3jUECXg7dMzeNQQJeDt0zN41BAl4O3TM3jUECXg7dMzeNQQJeDt0zN41BAl4O3TM3jUECXg7dMzeNQQJeDt0zN41BAl4O3TM3jUECXg7dMzeNQQJeDt0zN41BAl4O3TM3jUECXg7dMzeNQQJeDt0zN41BAl4O3TM3jUECXg7dMzeNQQJeDt0zN41BAl4O3TM3jUECXg7dMzeNQQJeDt0zN41BAl4O3TM3jUECXg7dMzeNQQJeDt0zN41BAl4O3TM3jUECXg7dMzeNQQJeDt0zN41BAl4O3TM3jUECXg7dMzeNQQJeDt0zN41BAl4O3TM3jUECXg7dMzeNQQJeDt0zN41BAl4O3TM3jUECXg7dMzeNQQJeDt0zN41BAl4O3TM3jUECXg7dMzeNQQJeDt0zN41BAl4O3TM3jUECXg7dMzeNQQJeDt0zN41BAl4O3TM3jUECXg7dMzeNQQJeDt0zN41BAl4O3TM3jUECXg7dMzeNQQJeDt0zN41BAl4O3TM3jUECXg7dMzeNQQJeDt0zN41BAl4O3TM3jUECXg7dMzeNQQJeDt0zN41BAl4O3TM3jUECXg7dMzeNQQJeDt0zN41BAl4O3TM3jUECXg7dMzeNQQJeDt0zN41BAl4O3TM3jUECXg7dMzeNQQJeDt0zN41BAl4O3TM3jUECXg7dMzeNQQJeDt0zN41BAl4O3TM3jUECXg7dMzeNQQJeDt0zN41BAl4O3TM3jUECXg7dMzeNQQJeDt0zN41BAl4O3TM3jUECXg7dMzeNQQJeDt0zN41BAl4O3TM3jUECXg7dMzeNQQJeDt0zN41BAl4O3TM3jUECXg7dMzeNQQJeDt0zN41BAl4O3TM3jUECXg7dMzeNQQJeDt0zN41BAl4O3TM3jUECXg7dMzeNQQJeDt0zN41BAl4O3TM3jUECXg7dMzeNQQJeDt0zN41BAl4O3TM3jUECXg7dMzeNQQJeDt0zN41BAl4O3TM3jUECXg7dMzeNQQJeDt0zN41BAl4O3TM3jUECXg7dMzeNQQJeDt0zN41BAl4O3TM3jUECXg7dMzeNQQJeDt0zN41BAl4O3TM3jUECXg7dMzeNQQJeDt0zN41BAl4O3TM3jUECXg7dMzeNQQJeDt0zN41BAl4O3TM3jUECXg7dMzeNQQJeDt0zN41BAl4O3TM3jUECXg7dMzeNQQJeDt0zN41BAl4O3TM3jUECXg7dMzeNQQJeDt0zN41BAl4O3TM3jUECXg7dMzeNQQJeDt0zN41BAl4O3TM3jUECXg7dMzeNQQJeDt0zN41BAl4O3TM3jUECXg7dMzeNQQJeDt0zN41BAl4O3TM3jUECXg7dMzeNQQJeDt0zN41BAl4O3TM3jUECXg7dMzeNQQJeDt0zN41BAl4O3TM3jUECXg7dMzeNQQJeDt0zN41BAl4O3TM3jUECXg7dMzeNQQJeDt0zN41BAl4O3TM3jUECXg7dMzeNQQJeDt0zN41BAl4O3TM3jUECXg7dMzeNQQJeDt0zN41BAl4O3TM3jUECXg7dMzeNQQJeDt0zN41BAl4O3TM3jUECXg7dMzeNQQJeDt0zN41BAl4O3TM3jUECXg7dMzeNQQJeDt0zN41BAl4O3TM3jUECXg7dMzeNQQJeDt0zN41BAl4O3TM3jUECXg7dMzeNQQJeDt0zN41BAl4O3TM3jUECXg7dMzeNQQJeDt0zN41BAl4O3TM3jUECXg7dMzeNQQJeDt0zN41BAl4O3TM3jUECXg7dMzeNQQJeDt0zN41BAl4O3TM3jUECXg7dMzeNQQJeDt0zN41BAl4O3TM3jUECXg7dMzeNQQJeDt0zN41BAl4O3TM3jUECXg7dMzeNQQJeDt0zN41BAl4O3TM3jUECXg7dMzeNQQJeDt0zN41BAl4O3TM3jUECXg7dMzeNQQJeDt0zN41BAl4O3TM3jUECXg7dMzeNQQJeDt0zN41BAl4O3TM3jUECXg7dMzeNQQJeDt0zN41BAl4O3TM3jUECXg7dMzeNQQJeDt0zN41BAl4O3TM3jUECXg7dMzeNQQJeDt0zN41BAl4O3TM3jUECXg7dMzeNQQJeDt0zN41BAl4O3TM3jUECXg7dMzeNQQJeDt0zN41BAl4O3TM3jUECXg7dMzeNQQJeDt0zN41BAl4O3TM3jUECXg7dMzeNQQJeDt0zN41BAl4O3TM3jUECXg7dMzeNQQJeDt0zN41BAl4O3TM3jUECXg7dMzeNQQJeDt0zN41BAl4O3TM3jUECXg7dMzeNQQJeDt0zN41BAl4O3TM3jUECXg7dMzeNQQJeDt0zN41BAl4O3TM3jUECXg7dMzeNQQJeDt0zN41BAl4O3TM3jUECXg7dMzeNQQJeDt0zN41BAl4O3TM3jUECXg7dMzeNQQJeDt0zN41BAl4O3TM3jUECXg7dMzeNQQJeDt0zN41BAl4O3TM3jUECXg7dMzeNQQJeDt0zN41BAl4O3TM3jUECXg7dMzeNQQJeDt0zN41BAl4O3TM3jUECXg7dMzeNQQJeDt0zN41BAl4O3TM3jUECXg7dMzeNQQJeDt0zN41BAl4O3TM3jUECXg7dMzeNQQJeDt0zN41BAl4O3TM3jUECXg7dMzeNQQJeDt0zN41BAl4O3TM3jUECXg7dMzeNQQJeDt0zN41BAl4O3TM3jUECXg7dMzeNQQJeDt0zN41BAl4O3TM3jUECXg7dMzeNQQJeDt0zN41BAl4O3TM3jUECXg7dMzeNQQJeDt0zN41BAl4O3TM3jUECXg7dMzeNQQJeDt0zN41BAl4O3TM3jUECXg7dMzeNQQJeDt0zN41BAl4O3TM3jUECXg7dMzeNQQJeDt0zN41BAl4O3TM3jUECXg7dMzeNQQJeDt0zN41BAl4O3TM3jUECXg7dMzeNQQJeDt0zN41BAl4O3TM3jUECXg7dMzeNQQJeDt0zN41BAl4O3TM3jUECXg7dMzeNQQJeDt0zN41BAl4O3TM3jUECXg7dMzeNQQJeDt0zN41BAl4O3TM3jUECXg7dMzeNQQJeDt0zN41BAl4O3TM3jUECXg7dMzeNQQJeDt0zN41BAl4O3TM3jUECXg7dMzeNQQJeDt0zN41BAl4O3TM3jUECXg7dMzeNQQJeDt0zN41BAl4O3TM3jUECXg7dMzeNQQJeDt0zN41BAl4O3TM3jUECXg7dMzeNQQJeDt0zN41BAl4O3TM3jUECXg7dMzeNQQJeDt0zN41BAl4O3TM3jUECXg7dMzeNQQJeDt0zN41BAl4O3TM3jUECXg7dMzeNQQJeDt0zN41BAl4O3TM3jUECXg7dMzeNQQJeDt0zN41BAl4O3TM3jUECXg7dMzeNQQJeDt0zN41BAl4O3TM3jUECXg7dMzeNQQJeDt0zN41BAl4O3TM3jUECXg7dMzeNQQJeDt0zN41BAl4O3TM3jUECXg7dMzeNQQJeDt0zN41BAl4O3TM3jUECXg7dMzeNQQJeDt0zN41BAl4O3TM3jUECXg7dMzeNQQJeDt0zN41BAl4O3TM3jUECXg7dMzeNQQJeDt0zN41BAl4O3TM3jUECXg7dMzeNQQJeDt0zN41BAl4O3TM3jUECXg7dMzeNQQJeDt0zN41BAl4O3TM3jUECXg7dMzeNQQJeDt0zN41BAl4O3TM3jUECXg7dMzeNQQJeDt0zN41BAl4O3TM3jUECXg7dMzeNQQJeDt0zN41BAl4O3TM3jUECXg7dMzeNQQJeDt0zN41BAl4O3TM3jUECXg7dMzeNQQJeDt0zN41BAl4O3TM3jUECXg7dMzeNQQJeDt0zN41BAl4O3TM3jUECXg7dMzeNQQJeDt0zN41BAl4O3TM3jUECXg7dMzeNQQJeDt0zN41BAl4O3TM3jUECXg7dMzeNQQJeDt0zN41BAl4O3TM3jUECXg7dMzeNQQJeDt0zN41BAl4O3TM3jUECXg7dMzeNQQJeDt0zN41BAl4O3TM3jUECXg7dMzeNQQJeDt0zN41BAl4O3TM3jUECXg7dMzeNQQJeDt0zN41BAl4O3TM3jUECXg7dMzeNQQJeDt0zN41BAl4O3TM3jUECXg7dMzeNQQJeDt0zN41BAl4O3TM3jUECXg7dMzeNQQJeDt0zN41BAl4O3TM3jUECXg7dMzeNQQJeDt0zN41BAl4O3TM3jUECXg7dMzeNQQJeDt0zN41BAl4O3TM3jUECXg7dMzeNQQJeDt0zN41BAl4O3TM3jUECXg7dMzeNQQJeDt0zN41BAl4O3TM3jUECXg7dMzeNQQJeDt0zN41BAl4O3TM3jUECXg7dMzeNQQJeDt0zN41BAl4O3TM3jUECXg7dMzeNQQJeDt0zN41BAl4O3TM3jUECXg7dMzeNQQJeDt0zN41BAl4O3TM3jUECXg7dMzeNQQJeDt0zN41BAl4O3TM3jUECXg7dMzeNQQJeDt0zN41BAl4O3TM3jUECXg7dMzeNQQJeDt0zN41BAl4O3TM3jUECXg7dMzeNQQJeDt0zN41BAl4O3TM3jUECXg7dMzeNQQJeDt0zN41BAl4O3TM3jUECXg7dMzeNQQJeDt0zN41BAl4O3TM3jUECXg7dMzeNQQJeDt0zN41BAl4O3TM3jUECXg7dMzeNQQJeDt0zN41BAl4O3TM3jUECXg7dMzeNQQJeDt0zN41BAl4O3TM3jUECXg7dMzeNQQJeDt0zN41BAl4O3TM3jUECXg7dMzeNQQJeDt0zN41BAl4O3TM3jUECXg7dMzeNQQJeDt0zN41BAl4O3TM3jUECXg7dMzeNQQJeDt0zN41BAl4O3TM3jUECXg7dMzeNQQJeDt0zN41BAl4O3TM3jUECXg7dMzeNQQJeDt0zN41BAl4O3TM3jUECXg7dMzeNQQJeDt0zN41BAl4O3TM3jUECXg7dMzeNQQJeDt0zN41BAl4O3TM3jUECXg7dMzeNQQJeDt0zN41BAl4O3TM3jUECXg7dMzeNQQJeDt0zN41BAl4O3TM3jUECXg7dMzeNQQJeDt0zN41BAl4O3TM3jUECXg7dMzeNQQJeDt0zN41BAl4O3TM3jUECXg7dMzeNQQJeDt0zN41BAl4O3TM3jUECXg7dMzeNQQJeDt0zN41BAl4O3TM3jUECXg7dMzeNQQJeDt0zN41BAl4O3TM3jUECXg7dMzeNQQJeDt0zN41BAl4O3TM3jUECXg7dMzeNQQJeDt0zN41BAl4O3TM3jUECXg7dMzeNQQJeDt0zN41BAl4O3TM3jUECXg7dMzeNQQJeDt0zN41BAl4O3TM3jUECXg7dMzeNQQJeDt0zN41BAl4O3TM3jUECXg7dMzeNQQJeDt0zN41BAl4O3TM3jUECXg7dMzeNQQJeDt0zN41BAl4O3TM3jUECXg7dMzeNQQJeDt0zN41BAl4O3TM3jUECXg7dMzeNQQJeDt0zN41BAl4O3TM3jUECXg7dMzeNQQJeDt0zN41BAl4O3TM3jUECXg7dMzeNQQJeDt0zN41BAl4O3TM3jUECXg7dMzeNQQJeDt0zN41BAl4O3TM3jUECXg7dMzeNQQJeDt0zN41BAl4O3TM3jUECXg7dMzeNQQJeDt0zN41BAl4O3TM3jUECXg7dMzeNQQJeDt0zN41BAl4O3TM3jUECXg7dMzeNQQJeDt0zN41BAl4O3TM3jUECXg7dMzeNQQJeDt0zN41BAl4O3TM3jUECXg7dMzeNQQJeDt0zN41BAl4O3TM3jUECXg7dMzeNQQJeDt0zN41BAl4O3TM3jUECXg7dMzeNQQJeDt0zN41BAl4O3TM3jUECXg7dMzeNQQJeDt0zN41BAl4O3TM3jUECXg7dMzeNQQJeDt0zN41BAl4O3TM3jUECXg7dMzeNQQJeDt0zN41BAl4O3TM3jUECXg7dMzeNQQJeDt0zN41BAl4O3TM3jUECXg7dMzeNQQJeDt0zN41BAl4O3TM3jUECXg7dMzeNQQJeDt0zN41BAl4O3TM3jUECXg7dMzeNQQJeDt0zN41BAl4O3TM3jUECXg7dMzeNQQJeDt0zN41BAl4O3TM3jUECXg7dMzeNQQJeDt0zN41BAl4O3TM3jUECXg7dMzeNQQJeDt0zN41BAl4O3TM3jUECXg7dMzeNQQJeDt0zN41BAl4O3TM3jUECXg7dMzeNQQJeDt0zN41BAl4O3TM3jUECXg7dMzeNQQJeDt0zN41BAl4O3TM3jUECXg7dMzeNQQJeDt0zN41BAl4O3TM3jUECXg7dMzeNQQJeDt0zN41BAl4O3TM3jUECXg7dMzeNQQJeDt0zN41BAl4O3TM3jUECXg7dMzeNQQJeDt0zN41BAl4O3TM3jUECXg7dMzeNQQJeDt0zN41BAl4O3TM3jUECXg7dMzeNQQJeDt0zN41BAl4O3TM3jUECXg7dMzeNQQJeDt0zN41BAl4O3TM3jUECXg7dMzeNQQJeDt0zN41BAl4O3TM3jUECXg7dMzeNQQJeDt0zN41BAl4O3TM3jUECXg7dMzeNQQJeDt0zN41BAl4O3TM3jUECXg7dMzeNQQJeDt0zN41BAl4O3TM3jUECXg7dMzeNQQJeDt0zN41BAl4O3TM3jUECXg7dMzeNQQJeDt0zN41BAl4O3TM3jUECXg7dMzeNQQJeDt0zN41BAl4O3TM3jUECXg7dMzeNQQJeDt0zN41BAl4O3TM3jUECXg7dMzeNQQJeDt0zN41BAl4O3TM3jUECXg7dMzeNQQJeDt0zN41BAl4O3TM3jUECXg7dMzeNQQJeDt0zN41BAl4O3TM3jUECXg7dMzeNQQJeDt0zN41BAl4O3TM3jUECXg7dMzeNQQJeDt0zN41BAl4O3TM3jUECXg7dMzeNQQJeDt0zN41BAl4O3TM3jUECXg7dMzeNQQJeDt0zN41BAl4O3TM3jUECXg7dMzeNQQJeDt0zN41BAl4O3TM3jUECXg7dMzeNQQJeDt0zN41BAl4O3TM3jUECXg7dMzeNQQJeDt0zN41BAl4O3TM3jUECXg7dMzeNQQJeDt0zN41BAl4O3TM3jUECXg7dMzeNQQJeDt0zN41BAl4O3TM3jUECXg7dMzeNQQJeDt0zN41BAl4O3TM3jUECXg7dMzeNQQJeDt0zN41BAl4O3TM3jUECXg7dMzeNQQJeDt0zN41BAl4O3TM3jUECXg7dMzeNQQJeDt0zN41BAl4O3TM3jUECXg7dMzeNQQJeDt0zN41BAl4O3TM3jUECXg7dMzeNQQJeDt0zN41BAl4O3TM3jUECXg7dMzeNQQJeDt0zN41BAl4O3TM3jUECXg7dMzeNQQJeDt0zN41BAl4O3TM3jUECXg7dMzeNQQJeDt0zN41BAl4O3TM3jUECXg7dMzeNQQJeDt0zN41BAl4O3TM3jUECXg7dMzeNQQJeDt0zN41BAl4O3TM3jUECXg7dMzeNQQJeDt0zN41BAl4O3TM3jUECXg7dMzeNQQJeDt0zN41BAl4O3TM3jUECXg7dMzeNQQJeDt0zN41BAl4O3TM3jUECXg7dMzeNQQJeDt0zN41BAl4O3TM3jUECXg7dMzeNQQJeDt0zN41BAl4O3TM3jUECXg7dMzeNQQJeDt0zN41BAl4O3TM3jUECXg7dMzeNQQJeDt0zN41BAl4O3TM3jUECXg7dMzeNQQJeDt0zN41BAl4O3TM3jUECXg7dMzeNQQJeDt0zN41BAl4O3TM3jUECXg7dMzeNQQJeDt0zN41BAl4O3TM3jUECXg7dMzeNQQJeDt0zN41BAl4O3TM3jUECXg7dMzeNQQJeDt0zN41BAl4O3TM3jUECXg7dMzeNQQJeDt0zN41BAl4O3TM3jUECXg7dMzeNQQJeDt0zN41BAl4O3TM3jUECXg7dMzeNQQJeDt0zN41BAl4O3TM3jUECXg7dMzeNQQJeDt0zN41BAl4O3TM3jUECXg7dMzeNQQJeDt0zN41BAl4O3TM3jUECXg7dMzeNQQJeDt0zN41BAl4O3TM3jUECXg7dMzeNQQJeDt0zN41BAl4O3TM3jUECXg7dMzeNQQJeDt0zN41BAl4O3TM3jUECXg7dMzeNQQJeDt0zN41BAl4O3TM3jUECXg7dMzeNQQJeDt0zN41BAl4O3TM3jUECXg7dMzeNQQJeDt0zN41BAl4O3TM3jUECXg7dMzeNQQJeDt0zN41BAl4O3TM3jUECXg7dMzeNQQJeDt0zN41BAl4O3TM3jUECXg7dMzeNQQJeDt0zN41BAl4O3TM3jUECXg7dMzeNQQJeDt0zN41BAl4O3TM3jUECXg7dMzeNQQJeDt0zN41BAl4O3TM3jUECXg7dMzeNQQJeDt0zN41BAl4O3TM3jUECXg7dMzeNQQJeDt0zN41BAl4O3TM3jUECXg7dMzeNQQJeDt0zN41BAl4O3TM3jUECXg7dMzeNQQJeDt0zN41BAl4O3TM3jUECXg7dMzeNQQJeDt0zN41BAl4O3TM3jUECXg7dMzeNQQJeDt0zN41BAl4O3TM3jUECXg7dMzeNQQJeDt0zN41BAl4O3TM3jUECXg7dMzeNQQJeDt0zN41BAl4O3TM3jUECXg7dMzeNQQJeDt0zN41BAl4O3TM3jUECXg7dMzeNQQJeDt0zN41BAl4O3TM3jUECXg7dMzeNQQJeDt0zN41BAl4O3TM3jUECXg7dMzeNQQJeDt0zN41BAl4O3TM3jUECXg7dMzeNQQJeDt0zN41BAl4O3TM3jUECXg7dMzeNQQJeDt0zN41BAl4O3TM3jUECXg7dMzeNQQJeDt0zN41BAl4O3TM3jUECXg7dMzeNQQJeDt0zN41BAl4O3TM3jUECXg7dMzeNQQJeDt0zN41BAl4O3TM3jUECXg7dMzeNQQJeDt0zN41BAl4O3TM3jUECXg7dMzeNQQJeDt0zN41BAl4O3TM3jUECXg7dMzeNQQJeDt0zN41BAl4O3TM3jUECXg7dMzeNQQJeDt0zN41BAl4O3TM3jUECXg7dMzeNQQJeDt0zN41BAl4O3TM3jUECXg7dMzeNQQJeDt0zN41BAl4O3TM3jUECXg7dMzeNQQJeDt0zN41BAl4O3TM3jUECXg7dMzeNQQJeDt0zN41BAl4O3TM3jUECXg7dMzeNQQJeDt0zN41BAl4O3TM3jUECXg7dMzeNQQJeDt0zN41BAl4O3TM3jUECXg7dMzeNQQJeDt0zN41BAl4O3TM3jUECXg7dMzeNQQJeDt0zN41BAl4O3TM3jUECXg7dMzeNQQJeDt0zN41BAl4O3TM3jUECXg7dMzeNQQJeDt0zN41BAl4O3TM3jUECXg7dMzeNQQJeDt0zN41BAl4O3TM3jUECXg7dMzeNQQJeDt0zN41BAl4O3TM3jUECXg7dMzeNQQJeDt0zN41BAl4O3TM3jUECXg7dMzeNQQJeDt0zN41BAl4O3TM3jUECXg7dMzeNQQJeDt0zN41BAl4O3TM3jUECXg7dMzeNQQJeDt0zN41BAl4O3TM3jUECXg7dMzeNQQJeDt0zN41BAl4O3TM3jUECXg7dMzeNQQJeDt0zN41BAl4O3TM3jUECXg7dMzeNQQJeDt0zN41BAl4O3TM3jUECXg7dMzeNQQJeDt0zN41BAl4O3TM3jUECXg7dMzeNQQJeDt0zN41BAl4O3TM3jUECXg7dMzeNQQJeDt0zN41BAl4O3TM3jUECXg7dMzeNQQJeDt0zN41BAl4O3TM3jUECXg7dMzeNQQJeDt0zN41BAl4O3TM3jUECXg7dMzeNQQJeDt0zN41BAl4O3TM3jUECXg7dMzeNQQJeDt0zN41BAl4O3TM3jUECXg7dMzeNQQJeDt0zN41BAl4O3TM3jUECXg7dMzeNQQJeDt0zN41BAl4O3TM3jUECXg7dMzeNQQJeDt0zN41BAl4O3TM3jUECXg7dMzeNQQJeDt0zN41BAl4O3TM3jUECXg7dMzeNQQJeDt0zN41BAl4O3TM3jUECXg7dMzeNQQJeDt0zN41BAl4O3TM3jUECXg7dMzeNQQJeDt0zN41BAl4O3TM3jUECXg7dMzeNQQJeDt0zN41BAl4O3TM3jUECXg7dMzeNQQJeDt0zN41BAl4O3TM3jUECXg7dMzeNQQJeDt0zN41BAl4O3TM3jUECXg7dMzeNQQJeDt0zN41BAl4O3TM3jUECXg7dMzeNQQJeDt0zN41BAl4O3TM3jUECXg7dMzeNQQJeDt0zN41BAl4O3TM3jUECXg7dMzeNQQJeDt0zN41BAl4O3TM3jUECXg7dMzeNQQJeDt0zN41BAl4O3TM3jUECXg7dMzeNQQJeDt0zN41BAl4O3TM3jUECXg7dMzeNQQJeDt0zN41BAl4O3TM3jUECXg7dMzeNQQJeDt0zN41BAl4O3TM3jUECXg7dMzeNQQJeDt0zN41BAl4O3TM3jUECXg7dMzeNQQJeDt0zN41BAl4O3TM3jUECXg7dMzeNQQJeDt0zN41BAl4O3TM3jUECXg7dMzeNQQJeDt0zN41BAl4O3TM3jUECXg7dMzeNQQJeDt0zN41BAl4O3TM3jUECXg7dMzeNQQJeDt0zN41BAl4O3TM3jUECXg7dMzeNQQJeDt0zN41BAl4O3TM3jUECXg7dMzeNQQJeDt0zN41BAl4O3TM3jUECXg7dMzeNQQJeDt0zN41BAl4O3TM3jUECXg7dMzeNQQJeDt0zN41BAl4O3TM3jUECXg7dMzeNQQJeDt0zN41BAl4O3TM3jUECXg7dMzeNQQJeDt0zN41BAl4O3TM3jUECXg7dMzeNQQJeDt0zN41BAl4O3TM3jUECXg7dMzeNQQJeDt0zN41BAl4O3TM3jUECXg7dMzeNQQJeDt0zN41BAl4O3TM3jUECXg7dMzeNQQJeDt0zN41BAl4O3TM3jUECXg7dMzeNQQJeDt0zN41BAl4O3TM3jUECXg7dMzeNQQJeDt0zN41BAl4O3TM3jUECXg7dMzeNQQJeDt0zN41BAl4O3TM3jUECXg7dMzeNQQJeDt0zN41BAl4O3TM3jUECXg7dMzeNQQJeDt0zN41BAl4O3TM3jUECXg7dMzeNQQJeDt0zN41BAl4O3TM3jUECXg7dMzeNQQJeDt0zN41BAl4O3TM3jUECXg7dMzeNQQJeDt0zN41BAl4O3TM3jUECXg7dMzeNQQJeDt0zN41BAl4O3TM3jUECXg7dMzeNQQJeDt0zN41BAl4O3TM3jUECXg7dMzeNQQJeDt0zN41BAl4O3TM3jUECXg7dMzeNQQJeDt0zN41BAl4O3TM3jUECXg7dMzeNQQJeDt0zN41BAl4O3TM3jUECXg7dMzeNQQJeDt0zN41BAl4O3TM3jUECXg7dMzeNQQJeDt0zN41BAl4O3TM3jUECXg7dMzeNQQJeDt0zN41BAl4O3TM3jUECXg7dMzeNQQJeDt0zN41BAl4O3TM3jUECXg7dMzeNQQJeDt0zN41BAl4O3TM3jUECXg7dMzeNQQJeDt0zN41BAl4O3TM3jUECXg7dMzeNQQJeDt0zN41BAl4O3TM3jUECXg7dMzeNQQJeDt0zN41BAl4O3TM3jUECXg7dMzeNQQJeDt0zN41BAl4O3TM3jUECXg7dMzeNQQJeDt0zN41BAl4O3TM3jUECXg7dMzeNQQJeDt0zN41BAl4O3TM3jUECXg7dMzeNQQJeDt0zN41BAl4O3TM3jUECXg7dMzeNQQJeDt0zN41BAl4O3TM3jUECXg7dMzeNQQJeDt0zN41BAl4O3TM3jUECXg7dMzeNQQJeDt0zN41BAl4O3TM3jUECXg7dMzeNQQJeDt0zN41BAl4O3TM3jUECXg7dMzeNQQJeDt0zN41BAl4O3TM3jUECXg7dMzeNQQJeDt0zN41BAl4O3TM3jUECXg7dMzeNQQJeDt0zN41BAl4O3TM3jUECXg7dMzeNQQJeDt0zN41BAl4O3TM3jUECXg7dMzeNQQJeDt0zN41BAl4O3TM3jUECXg7dMzeNQQJeDt0zN41BAl4O3TM3jUECXg7dMzeNQQJeDt0zN41BAl4O3TM3jUECXg7dMzeNQQJeDt0zN41BAl4O3TM3jUECXg7dMzeNQQJeDt0zN41BAl4O3TM3jUECXg7dMzeNQQJeDt0zN41BAl4O3TM3jUECXg7dMzeNQQJeDt0zN41BAl4O3TM3jUECXg7dMzeNQQJeDt0zN41BAl4O3TM3jUECXg7dMzeNQQJeDt0zN41BAl4O3TM3jUECXg7dMzeNQQJeDt0zN41BAl4O3TM3jUECXg7dMzeNQQJeDt0zN41BAl4O3TM3jUECXg7dMzeNQQJeDt0zN41BAl4O3TM3jUECXg7dMzeNQQJeDt0zN41BAl4O3TM3jUECXg7dMzeNQQJeDt0zN41BAl4O3TM3jUECXg7dMzeNQQJeDt0zN41BAl4O3TM3jUECXg7dMzeNQQJeDt0zN41BAl4O3TM3jUECXg7dMzeNQQJeDt0zN41BAl4O3TM3jUECXg7dMzeNQQJeDt0zN41BAl4O3TM3jUECXg7dMzeNQQJeDt0zN41BAl4O3TM3jUECXg7dMzeNQQJeDt0zN41BAl4O3TM3jUECXg7dMzeNQQJeDt0zN41BAl4O3TM3jUECXg7dMzeNQQJeDt0zN41BAl4O3TM3jUECXg7dMzeNQQJeDt0zN41BAl4O3TM3jUECXg7dMzeNQQJeDt0zN41BAl4O3TM3jUECXg7dMzeNQQJeDt0zN41BAl4O3TM3jUECXg7dMzeNQQJeDt0zN41BAl4O3TM3jUECXg7dMzeNQQJeDt0zN41BAl4O3TM3jUECXg7dMzeNQQJeDt0zN41BAl4O3TM3jUECXg7dMzeNQQJeDt0zN41BAl4O3TM3jUECXg7dMzeNQQJeDt0zN41BAl4O3TM3jUECXg7dMzeNQQJeDt0zN41BAl4O3TM3jUECXg7dMzeNQQJeDt0zN41BAl4O3TM3jUECXg7dMzeNQQJeDt0zN41BAl4O3TM3jUECXg7dMzeNQQJeDt0zN41BAl4O3TM3jUECXg7dMzeNQQJeDt0zN41BAl4O3TM3jUECXg7dMzeNQQJeDt0zN41BAl4O3TM3jUECXg7dMzeNQQJeDt0zN41BAl4O3TM3jUECXg7dMzeNQQJeDt0zN41BAl4O3TM3jUECXg7dMzeNQQJeDt0zN41BAl4O3TM3jUECXg7dMzeNQQJeDt0zN41BAl4O3TM3jUECXg7dMzeNQQJeDt0zN41BAl4O3TM3jUECXg7dMzeNQQJeDt0zN41BAl4O3TM3jUECXg7dMzeNQQJeDt0zN41BAl4O3TM3jUECXg7dMzeNQQJeDt0zN41BAl4O3TM3jUECXg7dMzeNQQJeDt0zN41BAl4O3TM3jUECXg7dMzeNQQJeDt0zN41BAl4O3TM3jUECXg7dMzeNQQJeDt0zN41BAl4O3TM3jUECXg7dMzeNQQJeDt0zN41BAl4O3TM3jUECXg7dMzeNQQJeDt0zN41BAl4O3TM3jUECXg7dMzeNQQJeDt0zN41BAl4O3TM3jUECXg7dMzeNQQJeDt0zN41BAl4O3TM3jUECXg7dMzeNQQJeDt0zN41BAl4O3TM3jUECXg7dMzeNQQJeDt0zN41BAl4O3TM3jUECXg7dMzeNQQJeDt0zN41BAl4O3TM3jUECXg7dMzeNQQJeDt0zN41BAl4O3TM3jUECXg7dMzeNQQJeDt0zN41BAl4O3TM3jUECXg7dMzeNQQJeDt0zN41BAl4O3TM3jUECXg7dMzeNQQJeDt0zN41BAl4O3TM3jUECXg7dMzeNQQJeDt0zN41BAl4O3TM3jUECXg7dMzeNQQJeDt0zN41BAl4O3TM3jUECXg7dMzeNQQJeDt0zN41BAl4O3TM3jUECXg7dMzeNQQJeDt0zN41BAl4O3TM3jUECXg7dMzeNQQJeDt0zN41BAl4O3TM3jUECXg7dMzeNQQJeDt0zN41BAl4O3TM3jUECXg7dMzeNQQJeDt0zN41BAl4O3TM3jUECXg7dMzeNQQJeDt0zN41BAl4O3TM3jUECXg7dMzeNQQJeDt0zN41BAl4O3TM3jUECXg7dMzeNQQJeDt0zN41BAl4O3TM3jUECXg7dMzeNQQJeDt0zN41BAl4O3TM3jUECXg7dMzeNQQJeDt0zN41BAl4O3TM3jUECXg7dMzeNQQJeDt0zN41BAl4O3TM3jUECXg7dMzeNQQJeDt0zN41BAl4O3TM3jUECXg7dMzeNQQJeDt0zN41BAl4O3TM3jUECXg7dMzeNQQJeDt0zN41BAl4O3TM3jUECXg7dMzeNQQJeDt0zN41BAl4O3TM3jUECXg7dMzeNQQJeDt0zN41BAl4O3TM3jUECXg7dMzeNQQJeDt0zN41BAl4O3TM3jUECXg7dMzeNQQJeDt0zN41BAl4O3TM3jUECXg7dMzeNQQJeDt0zN41BAl4O3TM3jUECXg7dMzeNQQJeDt0zN41BAl4O3TM3jUECXg7dMzeNQQJeDt0zN41BAl4O3TM3jUECXg7dMzeNQQJeDt0zN41BAl4O3TM3jUECXg7dMzeNQQJeDt0zN41BAl4O3TM3jUECXg7dMzeNQQJeDt0zN41BAl4O3TM3jUECXg7dMzeNQQJeDt0zN41BAl4O3TM3jUECXg7dMzeNQQJeDt0zN41BAl4O3TM3jUECXg7dMzeNQQJeDt0zN41BAl4O3TM3jUECXg7dMzeNQQJeDt0zN41BAl4O3TM3jUECXg7dMzeNQQJeDt0zN41BAl4O3TM3jUECXg7dMzeNQQJeDt0zN41BAl4O3TM3jUECXg7dMzeNQQJeDt0zN41BAl4O3TM3jUECXg7dMzeNQQJeDt0zN41BAl4O3TM3jUECXg7dMzeNQQJeDt0zN41BAl4O3TM3jUECXg7dMzeNQQJeDt0zN41BAl4O3TM3jUECXg7dMzeNQQJeDt0zN41BAl4O3TM3jUECXg7dMzeNQQJeDt0zN41BAl4O3TM3jUECXg7dMzeNQQJeDt0zN41BAl4O3TM3jUECXg7dMzeNQQJeDt0zN41BAl4O3TM3jUECXg7dMzeNQQJeDt0zN41BAl4O3TM3jUECXg7dMzeNQQJeDt0zN41BAl4O3TM3jUECXg7dMzeNQQJeDt0zN41BAl4O3TM3jUECXg7dMzeNQQJeDt0zN41BAl4O3TM3jUECXg7dMzeNQQJeDt0zN41BAl4O3TM3jUECXg7dMzeNQQJeDt0zN41BAl4O3TM3jUECXg7dMzeNQQJeDt0zN41BAl4O3TM3jUECXg7dMzeNQQJeDt0zN41BAl4O3TM3jUECXg7dMzeNQQJeDt0zN41BAl4O3TM3jUECXg7dMzeNQQJeDt0zN41BAl4O3TM3jUECXg7dMzeNQQJeDt0zN41BAl4O3TM3jUECXg7dMzeNQQJeDt0zN41BAl4O3TM3jUECXg7dMzeNQQJeDt0zN41BAl4O3TM3jUECXg7dMzeNQQJeDt0zN41BAl4O3TM3jUECXg7dMzeNQQJeDt0zN41BAl4O3TM3jUECXg7dMzeNQQJeDt0zN41BAl4O3TM3jUECXg7dMzeNQQJeDt0zN41BAl4O3TM3jUECXg7dMzeNQQJeDt0zN41BAl4O3TM3jUECXg7dMzeNQQJeDt0zN41BAl4O3TM3jUECXg7dMzeNQQJeDt0zN41BAl4O3TM3jUECXg7dMzeNQQJeDt0zN41BAl4O3TM3jUECXg7dMzeNQQJeDt0zN41BAl4O3TM3jUECXg7dMzeNQQJeDt0zN41BAl4O3TM3jUECXg7dMzeNQQJeDt0zN41BAl4O3TM3jUECXg7dMzeNQQJeDt0zN41BAl4O3TM3jUECXg7dMzeNQQJeDt0zN41BAl4O3TM3jUECXg7dMzeNQQJeDt0zN41BAl4O3TM3jUECXg7dMzeNQQJeDt0zN41BAl4O3TM3jUECXg7dMzeNQQJeDt0zN41BAl4O3TM3jUECXg7dMzeNQQJeDt0zN41BAl4O3TM3jUECXg7dMzeNQQJeDt0zN41BAl4O3TM3jUECXg7dMzeNQQJeDt0zN41BAl4O3TM3jUECXg7dMzeNQQJeDt0zN41BAl4O3TM3jUECXg7dMzeNQQJeDt0zN41BAl4O3TM3jUECXg7dMzeNQQJeDt0zN41BAl4O3TM3jUECXg7dMzeNQQJeDt0zN41BAl4O3TM3jUECXg7dMzeNQQJeDt0zN41BAl4O3TM3jUECXg7dMzeNQQJeDt0zN41BAl4O3TM3jUECXg7dMzeNQQJeDt0zN41BAl4O3TM3jUECXg7dMzeNQQJeDt0zN41BAl4O3TM3jUECXg7dMzeNQQJeDt0zN41BAl4O3TM3jUECXg7dMzeNQQJeDt0zN41BAl4O3TM3jUECXg7dMzeNQQJeDt0zN41BAl4O3TM3jUECXg7dMzeNQQJeDt0zN41BAl4O3TM3jUECXg7dMzeNQQJeDt0zN41BAl4O3TM3jUECXg7dMzeNQQJeDt0zN41BAl4O3TM3jUECXg7dMzeNQQJeDt0zN41BAl4O3TM3jUECXg7dMzeNQQJeDt0zN41BAl4O3TM3jUECXg7dMzeNQQJeDt0zN41BAl4O3TM3jUECXg7dMzeNQQJeDt0zN41BAl4O3TM3jUECXg7dMzeNQQJeDt0zN41BAl4O3TM3jUECXg7dMzeNQQJeDt0zN41BAl4O3TM3jUECXg7dMzeNQQJeDt0zN41BAl4O3TM3jUECXg7dMzeNQQJeDt0zN41BAl4O3TM3jUECXg7dMzeNQQJeDt0zN41BAl4O3TM3jUECXg7dMzeNQQJeDt0zN41BAl4O3TM3jUECXg7dMzeNQQJeDt0zN41BAl4O3TM3jUECXg7dMzeNQQJeDt0zN41BAl4O3TM3jUECXg7dMzeNQQJeDt0zN41BAl4O3TM3jUECXg7dMzeNQQJeDt0zN41BAl4O3TM3jUECXg7dMzeNQQJeDt0zN41BAl4O3TM3jUECXg7dMzeNQQJeDt0zN41BAl4O3TM3jUECXg7dMzeNQQJeDt0zN41BAl4O3TM3jUECXg7dMzeNQQJeDt0zN41BAl4O3TM3jUECXg7dMzeNQQJeDt0zN41BAl4O3TM3jUECXg7dMzeNQQJeDt0zN41BAl4O3TM3jUECXg7dMzeNQQJeDt0zN41BAl4O3TM3jUECXg7dMzeNQQJeDt0zN41BAl4O3TM3jUECXg7dMzeNQQJeDt0zN41BAl4O3TM3jUECXg7dMzeNQQJeDt0zN41BAl4O3TM3jUECXg7dMzeNQQJeDt0zN41BAl4O3TM3jUECXg7dMzeNQQJeDt0zN41BAl4O3TM3jUECXg7dMzeNQQJeDt0zN41BAl4O3TM3jUECXg7dMzeNQQJeDt0zN41BAl4O3TM3jUECXg7dMzeNQQJeDt0zN41BAl4O3TM3jUECXg7dMzeNQQJeDt0zN41BAl4O3TM3jUECXg7dMzeNQQJeDt0zN41BAl4O3TM3jUECXg7dMzeNQQJeDt0zN41BAl4O3TM3jUECXg7dMzeNQQJeDt0zN41BAl4O3TM3jUECXg7dMzeNQQJeDt0zN41BAl4O3TM3jUECXg7dMzeNQQJeDt0zN41BAl4O3TM3jUECXg7dMzeNQQJeDt0zN41BAl4O3TM3jUECXg7dMzeNQQJeDt0zN41BAl4O3TM3jUECXg7dMzeNQQJeDt0zN41BAl4O3TM3jUECXg7dMzeNQQJeDt0zN41BAl4O3TM3jUECXg7dMzeNQQJeDt0zN41BAl4O3TM3jUECXg7dMzeNQQJeDt0zN41BAl4O3TM3jUECXg7dMzeNQQJeDt0zN41BAl4O3TM3jUECXg7dMzeNQQJeDt0zN41BAl4O3TM3jUECXg7dMzeNQQJeDt0zN41BAl4O3TM3jUECXg7dMzeNQQJeDt0zN41BAl4O3TM3jUECXg7dMzeNQQJeDt0zN41BAl4O3TM3jUECXg7dMzeNQQJeDt0zN41BAl4O3TM3jUECXg7dMzeNQQJeDt0zN41BAl4O3TM3jUECXg7dMzeNQQJeDt0zN41BAl4O3TM3jUECXg7dMzeNQQJeDt0zN41BAl4O3TM3jUECXg7dMzeNQQJeDt0zN41BAl4O3TM3jUECXg7dMzeNQQJeDt0zN41BAl4O3TM3jUECXg7dMzeNQQJeDt0zN41BAl4O3TM3jUECXg7dMzeNQQJeDt0zN41BAl4O3TM3jUECXg7dMzeNQQJeDt0zN41BAl4O3TM3jUECXg7dMzeNQQJeDt0zN41BAl4O3TM3jUECXg7dMzeNQQJeDt0zN41BAl4O3TM3jUECXg7dMzeNQQJeDt0zN41BAl4O3TM3jUECXg7dMzeNQQJeDt0zN41BAl4O3TM3jUECXg7dMzeNQQJeDt0zN41BAl4O3TM3jUECXg7dMzeNQQJeDt0zN41BAl4O3TM3jUECXg7dMzeNQQJeDt0zN41BAl4O3TM3jUECXg7dMzeNQQJeDt0zN41BAl4O3TM3jUECXg7dMzeNQQJeDt0zN41BAl4O3TM3jUECXg7dMzeNQQJeDt0zN41BAl4O3TM3jUECXg7dMzeNQQJeDt0zN41BAl4O3TM3jUECXg7dMzeNQQJeDt0zN41BAl4O3TM3jUECXg7dMzeNQQJeDt0zN41BAl4O3TM3jUECXg7dMzeNQQJeDt0zN41BAl4O3TM3jUECXg7dMzeNQQJeDt0zN41BAl4O3TM3jUECXg7dMzeNQQJeDt0zN41BAl4O3TM3jUECXg7dMzeNQQJeDt0zN41BAl4O3TM3jUECXg7dMzeNQQJeDt0zN41BAl4O3TM3jUECXg7dMzeNQQJeDt0zN41BAl4O3TM3jUECXg7dMzeNQQJeDt0zN41BAl4O3TM3jUECXg7dMzeNQQJeDt0zN41BAl4O3TM3jUECXg7dMzeNQQJeDt0zN41BAl4O3TM3jUECXg7dMzeNQQJeDt0zN41BAl4O3TM3jUECXg7dMzeNQQJeDt0zN41BAl4O3TM3jUECXg7dMzeNQQJeDt0zN41BAl4O3TM3jUECXg7dMzeNQQJeDt0zN41BAl4O3TM3jUECXg7dMzeNQQJeDt0zN41BAl4O3TM3jUECXg7dMzeNQQJeDt0zN41BAl4O3TM3jUECXg7dMzeNQQJeDt0zN41BAl4O3TM3jUECXg7dMzeNQQJeDt0zN41BAl4O3TM3jUECXg7dMzeNQQJeDt0zN41BAl4O3TM3jUECXg7dMzeNQQJeDt0zN41BAl4O3TM3jUECXg7dMzeNQQJeDt0zN41BAl4O3TM3jUECXg7dMzeNQQJeDt0zN41BAl4O3TM3jUECXg7dMzeNQQJeDt0zN41BAl4O3TM3jUECXg7dMzeNQQJeDt0zN41BAl4O3TM3jUECXg7dMzeNQQJeDt0zN41BAl4O3TM3jUECXg7dMzeNQQJeDt0zN41BAl4O3TM3jUECXg7dMzeNQQJeDt0zN41BAl4O3TM3jUECXg7dMzeNQQJeDt0zN41BAl4O3TM3jUECXg7dMzeNQQJeDt0zN41BAl4O3TM3jUECXg7dMzeNQQJeDt0zN41BAl4O3TM3jUECXg7dMzeNQQJeDt0zN41BAl4O3TM3jUECXg7dMzeNQQJeDt0zN41BAl4O3TM3jUECXg7dMzeNQQJeDt0zN41BAl4O3TM3jUECXg7dMzeNQQJeDt0zN41BAl4O3TM3jUECXg7dMzeNQQJeDt0zN41BAl4O3TM3jUECXg7dMzeNQQJeDt0zN41BAl4O3TM3jUECXg7dMzeNQQJeDt0zN41BAl4O3TM3jUECXg7dMzeNQQJeDt0zN41BAl4O3TM3jUECXg7dMzeNQQJeDt0zN41BAl4O3TM3jUECXg7dMzeNQQJeDt0zN41BAl4O3TM3jUECXg7dMzeNQQJeDt0zN41BAl4O3TM3jUECXg7dMzeNQQJeDt0zN41BAl4O3TM3jUECXg7dMzeNQQJeDt0zN41BAl4O3TM3jUECXg7dMzeNQQJeDt0zN41BAl4O3TM3jUECXg7dMzeNQQJeDt0zN41BAl4O3TM3jUECXg7dMzeNQQJeDt0zN41BAl4O3TM3jUECXg7dMzeNQQJeDt0zN41BAl4O3TM3jUECXg7dMzeNQQJeDt0zN41BAl4O3TM3jUECXg7dMzeNQQJeDt0zN41BAl4O3TM3jUECXg7dMzeNQQJeDt0zN41BAl4O3TM3jUECXg7dMzeNQQJeDt0zN41BAl4O3TM3jUECXg7dMzeNQQJeDt0zN41BAl4O3TM3jUECXg7dMzeNQQJeDt0zN41BAl4O3TM3jUECXg7dMzeNQQJeDt0zN41BAl4O3TM3jUECXg7dMzeNQQJeDt0zN41BAl4O3TM3jUECXg7dMzeNQQJeDt0zN41BAl4O3TM3jUECXg7dMzeNQQJeDt0zN41BAl4O3TM3jUECXg7dMzeNQQJeDt0zN41BAl4O3TM3jUECXg7dMzeNQQJeDt0zN41BAl4O3TM3jUECXg7dMzeNQQJeDt0zN41BAl4O3TM3jUECXg7dMzeNQQJeDt0zN41BAl4O3TM3jUECXg7dMzeNQQJeDt0zN41BAl4O3TM3jUECXg7dMzeNQQJeDt0zN41BAl4O3TM3jUECXg7dMzeNQQJeDt0zN41BAl4O3TM3jUECXg7dMzeNQQJeDt0zN41BAl4O3TM3jUECXg7dMzeNQQJeDt0zN41BAl4O3TM3jUECXg7dMzeNQQJeDt0zN41BAl4O3TM3jUECXg7dMzeNQQJeDt0zN41BAl4O3TM3jUECXg7dMzeNQQJeDt0zN41BAl4O3TM3jUECXg7dMzeNQQJeDt0zN41BAl4O3TM3jUECXg7dMzeNQQJeDt0zN41BAl4O3TM3jUECXg7dMzeNQQJeDt0zN41BAl4O3TM3jUECXg7dMzeNQQJeDt0zN41BAl4O3TM3jUECXg7dMzeNQQJeDt0zN41BAl4O3TM3jUECXg7dMzeNQQJeDt0zN41BAl4O3TM3jUECXg7dMzeNQQJeDt0zN41BAl4O3TM3jUECXg7dMzeNQQJeDt0zN41BAl4O3TM3jUECXg7dMzeNQQJeDt0zN41BAl4O3TM3jUECXg7dMzeNQQJeDt0zN41BAl4O3TM3jUECXg7dMzeNQQJeDt0zN41BAl4O3TM3jUECXg7dMzeNQQJeDt0zN41BAl4O3TM3jUECXg7dMzeNQQJeDt0zN41BAl4O3TM3jUECXg7dMzeNQQJeDt0zN41BAl4O3TM3jUECXg7dMzeNQQJeDt0zN41BAl4O3TM3jUECXg7dMzeNQQJeDt0zN41BAl4O3TM3jUECXg7dMzeNQQJeDt0zN41BAl4O3TM3jUECXg7dMzeNQQJeDt0zN41BAl4O3TM3jUECXg7dMzeNQQJeDt0zN41BAl4O3TM3jUECXg7dMzeNQQJeDt0zN41BAl4O3TM3jUECXg7dMzeNQQJeDt0zN41BAl4O3TM3jUECXg7dMzeNQQJeDt0zN41BAl4O3TM3jUECXg7dMzeNQQJeDt0zN41BAl4O3TM3jUECXg7dMzeNQQJeDt0zN41BAl4O3TM3jUECXg7dMzeNQQJeDt0zN41BAl4O3TM3jUECXg7dMzeNQQJeDt0zN41BAl4O3TM3jUECXg7dMzeNQQJeDt0zN41BAl4O3TM3jUECXg7dMzeNQQJeDt0zN41BAl4O3TM3jUECXg7dMzeNQQJeDt0zN41BAl4O3TM3jUECXg7dMzeNQQJeDt0zN41BAl4O3TM3jUECXg7dMzeNQQJeDt0zN41BAl4O3TM3jUECXg7dMzeNQQJeDt0zN41BAl4O3TM3jUECXg7dMzeNQQJeDt0zN41BAl4O3TM3jUECXg7dMzeNQQJeDt0zN41BAl4O3TM3jUECXg7dMzeNQQJeDt0zN41BAl4O3TM3jUECXg7dMzeNQQJeDt0zN41BAl4O3TM3jUECXg7dMzeNQQJeDt0zN41BAl4O3TM3jUECXg7dMzeNQQJeDt0zN41BAl4O3TM3jUECXg7dMzeNQQJeDt0zN41BAl4O3TM3jUECXg7dMzeNQQJeDt0zN41BAl4O3TM3jUECXg7dMzeNQQJeDt0zN41BAl4O3TM3jUECXg7dMzeNQQJeDt0zN41BAl4O3TM3jUECXg7dMzeNQQJeDt0zN41BAl4O3TM3jUECXg7dMzeNQQJeDt0zN41BAl4O3TM3jUECXg7dMzeNQQJeDt0zN41BAl4O3TM3jUECXg7dMzeNQQJeDt0zN41BAl4O3TM3jUECXg7dMzeNQQJeDt0zN41BAl4O3TM3jUECXg7dMzeNQQJeDt0zN41BAl4O3TM3jUECXg7dMzeNQQJeDt0zN41BAl4O3TM3jUECXg7dMzeNQQJeDt0zN41BAl4O3TM3jUECXg7dMzeNQQJeDt0zN41BAl4O3TM3jUECXg7dMzeNQQJeDt0zN41BAl4O3TM3jUECXg7dMzeNQQJeDt0zN41BAl4O3TM3jUECXg7dMzeNQQJeDt0zN41BAl4O3TM3jUECXg7dMzeNQQJeDt0zN41BAl4O3TM3jUECXg7dMzeNQQJeDt0zN41BAl4O3TM3jUECXg7dMzeNQQJeDt0zN41BAl4O3TM3jUECXg7dMzeNQQJeDt0zN41BAl4O3TM3jUECXg7dMzeNQQJeDt0zN41BAl4O3TM3jUECXg7dMzeNQQJeDt0zN41BAl4O3TM3jUECXg7dMzeNQQJeDt0zN41BAl4O3TM3jUECXg7dMzeNQQJeDt0zN41BAl4O3TM3jUECXg7dMzeNQQJeDt0zN41BAl4O3TM3jUECXg7dMzeNQQJeDt0zN41BAl4O3TM3jUECXg7dMzeNQQJeDt0zN41BAl4O3TM3jUECXg7dMzeNQQJeDt0zN41BAl4O3TM3jUECXg7dMzeNQQJeDt0zN41BAl4O3TM3jUECXg7dMzeNQQJeDt0zN41BAl4O3TM3jUECXg7dMzeNQQJeDt0zN41BAl4O3TM3jUECXg7dMzeNQQJeDt0zN41BAl4O3TM3jUECXg7dMzeNQQJeDt0zN41BAl4O3TM3jUECXg7dMzeNQQJeDt0zN41BAl4O3TM3jUECXg7dMzeNQQJeDt0zN41BAl4O3TM3jUECXg7dMzeNQQJeDt0zN41BAl4O3TM3jUECXg7dMzeNQQJeDt0zN41BAl4O3TM3jUECXg7dMzeNQQJeDt0zN41BAl4O3TM3jUECXg7dMzeNQQJeDt0zN41BAl4O3TM3jUECXg7dMzeNQQJeDt0zN41BAl4O3TM3jUECXg7dMzeNQQJeDt0zN41BAl4O3TM3jUECXg7dMzeNQQJeDt0zN41BAl4O3TM3jUECXg7dMzeNQQJeDt0zN41BAl4O3TM3jUECXg7dMzeNQQJeDt0zN41BAl4O3TM3jUECXg7dMzeNQQJeDt0zN41BAl4O3TM3jUECXg7dMzeNQQJeDt0zN41BAl4O3TM3jUECXg7dMzeNQQJeDt0zN41BAl4O3TM3jUECXg7dMzeNQQJeDt0zN41BAl4O3TM3jUECXg7dMzeNQQJeDt0zN41BAl4O3TM3jUECXg7dMzeNQQJeDt0zN41BAl4O3TM3jUECXg7dMzeNQQJeDt0zN41BAl4O3TM3jUECXg7dMzeNQQJeDt0zN41BAl4O3TM3jUECXg7dMzeNQQJeDt0zN41BAl4O3TM3jUECXg7dMzeNQQJeDt0zN41BAl4O3TM3jUECXg7dMzeNQQJeDt0zN41BAl4O3TM3jUECXg7dMzeNQQJeDt0zN41BAl4O3TM3jUECXg7dMzeNQQJeDt0zN41BAl4O3TM3jUECXg7dMzeNQQJeDt0zN41BAl4O3TM3jUECXg7dMzeNQQJeDt0zN41BAl4O3TM3jUECXg7dMzeNQQJeDt0zN41BAl4O3TM3jUECXg7dMzeNQQJeDt0zN41BAl4O3TM3jUECXg7dMzeNQQJeDt0zN41BAl4O3TM3jUECXg7dMzeNQQJeDt0zN41BAl4O3TM3jUECXg7dMzeNQQJeDt0zN41BAl4O3TM3jUECXg7dMzeNQQJeDt0zN41BAl4O3TM3jUECXg7dMzeNQQJeDt0zN41BAl4O3TM3jUECXg7dMzeNQQJeDt0zN41BAl4O3TM3jUECXg7dMzeNQQJeDt0zN41BAl4O3TM3jUECXg7dMzeNQQJeDt0zN41BAl4O3TM3jUECXg7dMzeNQQJeDt0zN41BAl4O3TM3jUECXg7dMzeNQQJeDt0zN41BAl4O3TM3jUECXg7dMzeNQQJeDt0zN41BAl4O3TM3jUECXg7dMzeNQQJeDt0zN41BAl4O3TM3jUECXg7dMzeNQQJeDt0zN41BAl4O3TM3jUECXg7dMzeNQQJeDt0zN41BAl4O3TM3jUECXg7dMzeNQQJeDt0zN41BAl4O3TM3jUECXg7dMzeNQQJeDt0zN41BAl4O3TM3jUECXg7dMzeNQQJeDt0zN41BAl4O3TM3jUECXg7dMzeNQQJeDt0zN41BAl4O3TM3jUECXg7dMzeNQQJeDt0zN41BAl4O3TM3jUECXg7dMzeNQQJeDt0zN41BAl4O3TM3jUECXg7dMzeNQQJeDt0zN41BAl4O3TM3jUECXg7dMzeNQQJeDt0zN41BAl4O3TM3jUECXg7dMzeNQQJeDt0zN41BAl4O3TM3jUECXg7dMzeNQQJeDt0zN41BAl4O3TM3jUECXg7dMzeNQQJeDt0zN41BAl4O3TM3jUECXg7dMzeNQQJeDt0zN41BAl4O3TM3jUECXg7dMzeNQQJeDt0zN41BAl4O3TM3jUECXg7dMzeNQQJeDt0zN41BAl4O3TM3jUECXg7dMzeNQQJeDt0zN41BAl4O3TM3jUECXg7dMzeNQQJeDt0zN41BAl4O3TM3jUECXg7dMzeNQQJeDt0zN41BAl4O3TM3jUECXg7dMzeNQQJeDt0zN41BAl4O3TM3jUECXg7dMzeNQQJeDt0zN41BAl4O3TM3jUECXg7dMzeNQQJeDt0zN41BAl4O3TM3jUECXg7dMzeNQQJeDt0zN41BAl4O3TM3jUECXg7dMzeNQQJeDt0zN41BAl4O3TM3jUECXg7dMzeNQQJeDt0zN41BAl4O3TM3jUECXg7dMzeNQQJeDt0zN41BAl4O3TM3jUECXg7dMzeNQQJeDt0zN41BAl4O3TM3jUECXg7dMzeNQQJeDt0zN41BAl4O3TM3jUECXg7dMzeNQQJeDt0zN41BAl4O3TM3jUECXg7dMzeNQQJeDt0zN41BAl4O3TM3jUECXg7dMzeNQQJeDt0zN41BAl4O3TM3jUECXg7dMzeNQQJeDt0zN41BAl4O3TM3jUECXg7dMzeNQQJeDt0zN41BAl4O3TM3jUECXg7dMzeNQQJeDt0zN41BAl4O3TM3jUECXg7dMzeNQQJeDt0zN41BAl4O3TM3jUECXg7dMzeNQQJeDt0zN41BAl4O3TM3jUECXg7dMzeNQQJeDt0zN41BAl4O3TM3jUECXg7dMzeNQQJeDt0zN41BAl4O3TM3jUECXg7dMzeNQQJeDt0zN41BAl4O3TM3jUECXg7dMzeNQQJeDt0zN41BAl4O3TM3jUECXg7dMzeNQQJeDt0zN41BAl4O3TM3jUECXg7dMzeNQQJeDt0zN41BAl4O3TM3jUECXg7dMzeNQQJeDt0zN41BAl4O3TM3jUECXg7dMzeNQQJeDt0zN41BAl4O3TM3jUECXg7dMzeNQQJeDt0zN41BAl4O3TM3jUECXg7dMzeNQQJeDt0zN41BAl4O3TM3jUECXg7dMzeNQQJeDt0zN41BAl4O3TM3jUECXg7dMzeNQQJeDt0zN41BAl4O3TM3jUECXg7dMzeNQQJeDt0zN41BAl4O3TM3jUECXg7dMzeNQQJeDt0zN41BAl4O3TM3jUECXg7dMzeNQQJeDt0zN41BAl4O3TM3jUECXg7dMzeNQQJeDt0zN41BAl4O3TM3jUECXg7dMzeNQQJeDt0zN41BAl4O3TM3jUECXg7dMzeNQQJeDt0zN41BAl4O3TM3jUECXg7dMzeNQQJeDt0zN41BAl4O3TM3jUECXg7dMzeNQQJeDt0zN41BAl4O3TM3jUECXg7dMzeNQQJeDt0zN41BAl4O3TM3jUECXg7dMzeNQQJeDt0zN41BAl4O3TM3jUECXg7dMzeNQQJeDt0zN41BAl4O3TM3jUECXg7dMzeNQQJeDt0zN41BAl4O3TM3jUECXg7dMzeNQQJeDt0zN41BAl4O3TM3jUECXg7dMzeNQQJeDt0zN41BAl4O3TM3jUECXg7dMzeNQQJeDt0zN41BAl4O3TM3jUECXg7dMzeNQQJeDt0zN41BAl4O3TM3jUECXg7dMzeNQQJeDt0zN41BAl4O3TM3jUECXg7dMzeNQQJeDt0zN41BAl4O3TM3jUECXg7dMzeNQQJeDt0zN41BAl4O3TM3jUECXg7dMzeNQQJeDt0zN41BAl4O3TM3jUECXg7dMzeNQQJeDt0zN41BAl4O3TM3jUECXg7dMzeNQQJeDt0zN41BAl4O3TM3jUECXg7dMzeNQQJeDt0zN41BAl4O3TM3jUECXg7dMzeNQQJeDt0zN41BAl4O3TM3jUECXg7dMzeNQQJeDt0zN41BAl4O3TM3jUECXg7dMzeNQQJeDt0zN41BAl4O3TM3jUECXg7dMzeNQQJeDt0zN41BAl4O3TM3jUECXg7dMzeNQQJeDt0zN41BAl4O3TM3jUECXg7dMzeNQQJeDt0zN41BAl4O3TM3jUECXg7dMzeNQQJeDt0zN41BAl4O3TM3jUECXg7dMzeNQQJeDt0zN41BAl4O3TM3jUECXg7dMzeNQQJeDt0zN41BAl4O3TM3jUECXg7dMzeNQQJeDt0zN41BAl4O3TM3jUECXg7dMzeNQQJeDt0zN41BAl4O3TM3jUECXg7dMzeNQQJeDt0zN41BAl4O3TM3jUECXg7dMzeNQQJeDt0zN41BAl4O3TM3jUECXg7dMzeNQQJeDt0zN41BAl4O3TM3jUECXg7dMzeNQQJeDt0zN41BAl4O3TM3jUECXg7dMzeNQQJeDt0zN41BAl4O3TM3jUECXg7dMzeNQQJeDt0zN41BAl4O3TM3jUECXg7dMzeNQQJeDt0zN41BAl4O3TM3jUECXg7dMzeNQQJeDt0zN41BAl4O3TM3jUECXg7dMzeNQQJeDt0zN41BAl4O3TM3jUECXg7dMzeNQQJeDt0zN41BAl4O3TM3jUECXg7dMzeNQQJeDt0zN41BAl4O3TM3jUECXg7dMzeNQQJeDt0zN41BAl4O3TM3jUECXg7dMzeNQQJeDt0zN41BAl4O3TM3jUECXg7dMzeNQQJeDt0zN41BAl4O3TM3jUECXg7dMzeNQQJeDt0zN41BAl4O3TM3jUECXg7dMzeNQQJeDt0zN41BAl4O3TM3jUECXg7dMzeNQQJeDt0zN41BAl4O3TM3jUECXg7dMzeNQQJeDt0zN41BAl4O3TM3jUECXg7dMzeNQQJeDt0zN41BAl4O3TM3jUECXg7dMzeNQQJeDt0zN41BAl4O3TM3jUECXg7dMzeNQQJeDt0zN41BAl4O3TM3jUECXg7dMzeNQQJeDt0zN41BAl4O3TM3jUECXg7dMzeNQQJeDt0zN41BAl4O3TM3jUECXg7dMzeNQQJeDt0zN41BAl4O3TM3jUECXg7dMzeNQQJeDt0zN41BAl4O3TM3jUECXg7dMzeNQQJeDt0zN41BAl4O3TM3jUECXg7dMzeNQQJeDt0zN41BAl4O3TM3jUECXg7dMzeNQQJeDt0zN41BAl4O3TM3jUECXg7dMzeNQQJeDt0zN41BAl4O3TM3jUECXg7dMzeNQQJeDt0zN41BAl4O3TM3jUECXg7dMzeNQQJeDt0zN41BAl4O3TM3jUECXg7dMzeNQQJeDt0zN41BAl4O3TM3jUECXg7dMzeNQQJeDt0zN41BAl4O3TM3jUECXg7dMzeNQQJeDt0zN41BAl4O3TM3jUECXg7dMzeNQQJeDt0zN41BAl4O3TM3jUECXg7dMzeNQQJeDt0zN41BAl4O3TM3jUECXg7dMzeNQQJeDt0zN41BAl4O3TM3jUECXg7dMzeNQQJeDt0zN41BAl4O3TM3jUECXg7dMzeNQQJeDt0zN41BAl4O3TM3jUECXg7dMzeNQQJeDt0zN41BAl4O3TM3jUECXg7dMzeNQQJeDt0zN41BAl4O3TM3jUECXg7dMzeNQQJeDt0zN41BAl4O3TM3jUECXg7dMzeNQQJeDt0zN41BAl4O3TM3jUECXg7dMzeNQQJeDt0zN41BAl4O3TM3jUECXg7dMzeNQQJeDt0zN41BAl4O3TM3jUECXg7dMzeNQQJeDt0zN41BAl4O3TM3jUECXg7dMzeNQQJeDt0zN41BAl4O3TM3jUECXg7dMzeNQQJeDt0zN41BAl4O3TM3jUECXg7dMzeNQQJeDt0zN41BAl4O3TM3jUECXg7dMzeNQQJeDt0zN41BAl4O3TM3jUECXg7dMzeNQQJeDt0zN41BAl4O3TM3jUECXg7dMzeNQQJeDt0zN41BAl4O3TM3jUECXg7dMzeNQQJeDt0zN41BAl4O3TM3jUECXg7dMzeNQQJeDt0zN41BAl4O3TM3jUECXg7dMzeNQQJeDt0zN41BAl4O3TM3jUECXg7dMzeNQQJeDt0zN41BAl4O3TM3jUECXg7dMzeNQQJeDt0zN41BAl4O3TM3jUECXg7dMzeNQQJeDt0zN41BAl4O3TM3jUECXg7dMzeNQQJeDt0zN41BAl4O3TM3jUECXg7dMzeNQQJeDt0zN41BAl4O3TM3jUECXg7dMzeNQQJeDt0zN41BAl4O3TM3jUECXg7dMzeNQQJeDt0zN41BAl4O3TM3jUECXg7dMzeNQQJeDt0zN41BAl4O3TM3jUECXg7dMzeNQQJeDt0zN41BAl4O3TM3jUECXg7dMzeNQQJeDt0zN41BAl4O3TM3jUECXg7dMzeNQQJeDt0zN41BAl4O3TM3jUECXg7dMzeNQQJeDt0zN41BAl4O3TM3jUECXg7dMzeNQQJeDt0zN41BAl4O3TM3jUECXg7dMzeNQQJeDt0zN41BAl4O3TM3jUECXg7dMzeNQQJeDt0zN41BAl4O3TM3jUECXg7dMzeNQQJeDt0zN41BAl4O3TM3jUECXg7dMzeNQQJeDt0zN41BAl4O3TM3jUECXg7dMzeNQQJeDt0zN41BAl4O3TM3jUECXg7dMzeNQQJeDt0zN41BAl4O3TM3jUECXg7dMzeNQQJeDt0zN41BAl4O3TM3jUECXg7dMzeNQQJeDt0zN41BAl4O3TM3jUECXg7dMzeNQQJeDt0zN41BAl4O3TM3jUECXg7dMzeNQQJeDt0zN41BAl4O3TM3jUECXg7dMzeNQQJeDt0zN41BAl4O3TM3jUECXg7dMzeNQQJeDt0zN41BAl4O3TM3jUECXg7dMzeNQQJeDt0zN41BAl4O3TM3jUECXg7dMzeNQQJeDt0zN41BAl4O3TM3jUECXg7dMzeNQQJeDt0zN41BAl4O3TM3jUECXg7dMzeNQQJeDt0zN41BAl4O3TM3jUECXg7dMzeNQQJeDt0zN41BAl4O3TM3jUECXg7dMzeNQQJeDt0zN41BAl4O3TM3jUECXg7dMzeNQQJeDt0zN41BAl4O3TM3jUECXg7dMzeNQQJeDt0zN41BAl4O3TM3jUECXg7dMzeNQQJeDt0zN41BAl4O3TM3jUECXg7dMzeNQQJeDt0zN41BAl4O3TM3jUECXg7dMzeNQQJeDt0zN41BAl4O3TM3jUECXg7dMzeNQQJeDt0zN41BAl4O3TM3jUECXg7dMzeNQQJeDt0zN41BAl4O3TM3jUECXg7dMzeNQQJeDt0zN41BAl4O3TM3jUECXg7dMzeNQQJeDt0zN41BAl4O3TM3jUECXg7dMzeNQQJeDt0zN41BAl4O3TM3jUECXg7dMzeNQQJeDt0zN41BAl4O3TM3jUECXg7dMzeNQQJeDt0zN41BAl4O3TM3jUECXg7dMzeNQQJeDt0zN41BAl4O3TM3jUECXg7dMzeNQQJeDt0zN41BAl4O3TM3jUECXg7dMzeNQQJeDt0zN41BAl4O3TM3jUECXg7dMzeNQQJeDt0zN41BAl4O3TM3jUECXg7dMzeNQQJeDt0zN41BAl4O3TM3jUECXg7dMzeNQQJeDt0zN41BAl4O3TM3jUECXg7dMzeNQQJeDt0zN41BAl4O3TM3jUECXg7dMzeNQQJeDt0zN41BAl4O3TM3jUECXg7dMzeNQQJeDt0zN41BAl4O3TM3jUECXg7dMzeNQQJeDt0zN41BAl4O3TM3jUECXg7dMzeNQQJeDt0zN41BAl4O3TM3jUECXg7dMzeNQQJeDt0zN41BAl4O3TM3jUECXg7dMzeNQQJeDt0zN41BAl4O3TM3jUECXg7dMzeNQQJeDt0zN41BAl4O3TM3jUECXg7dMzeNQQJeDt0zN41BAl4O3TM3jUECXg7dMzeNQQJeDt0zN41BAl4O3TM3jUECXg7dMzeNQQJeDt0zN41BAl4O3TM3jUECXg7dMzeNQQJeDt0zN41BAl4O3TM3jUECXg7dMzeNQQJeDt0zN41BAl4O3TM3jUECXg7dMzeNQQJeDt0zN41BAl4O3TM3jUECXg7dMzeNQQJeDt0zN41BAl4O3TM3jUECXg7dMzeNQQJeDt0zN41BAl4O3TM3jUECXg7dMzeNQQJeDt0zN41BAl4O3TM3jUECXg7dMzeNQQJeDt0zN41BAl4O3TM3jUECXg7dMzeNQQJeDt0zN41BAl4O3TM3jUECXg7dMzeNQQJeDt0zN41BAl4O3TM3jUECXg7dMzeNQQJeDt0zN41BAl4O3TM3jUECXg7dMzeNQQJeDt0zN41BAl4O3TM3jUECXg7dMzeNQQJeDt0zN41BAl4O3TM3jUECXg7dMzeNQQJeDt0zN41BAl4O3TM3jUECXg7dMzeNQQJeDt0zN41BAl4O3TM3jUECXg7dMzeNQQJeDt0zN41BAl4O3TM3jUECXg7dMzeNQQJeDt0zN41BAl4O3TM3jUECXg7dMzeNQQJeDt0zN41BAl4O3TM3jUECXg7dMzeNQQJeDt0zN41BAl4O3TM3jUECXg7dMzeNQQJeDt0zN41BAl4O3TM3jUECXg7dMzeNQQJeDt0zN41BAl4O3TM3jUECXg7dMzeNQQJeDt0zN41BAl4O3TM3jUECXg7dMzeNQQJeDt0zN41BAl4O3TM3jUECXg7dMzeNQQJeDt0zN41BAl4O3TM3jUECXg7dMzeNQQJeDt0zN41BAl4O3TM3jUECXg7dMzeNQQJeDt0zN41BAl4O3TM3jUECXg7dMzeNQQJeDt0zN41BAl4O3TM3jUECXg7dMzeNQQJeDt0zN41BAl4O3TM3jUECXg7dMzeNQQJeDt0zN41BAl4O3TM3jUECXg7dMzeNQQJeDt0zN41BAl4O3TM3jUECXg7dMzeNQQJeDt0zN41BAl4O3TM3jUECXg7dMzeNQQJeDt0zN41BAl4O3TM3jUECXg7dMzeNQQJeDt0zN41BAl4O3TM3jUECXg7dMzeNQQJeDt0zN41BAl4O3TM3jUECXg7dMzeNQQJeDt0zN41BAl4O3TM3jUECXg7dMzeNQQJeDt0zN41BAl4O3TM3jUECXg7dMzeNQQJeDt0zN41BAl4O3TM3jUECXg7dMzeNQQJeDt0zN41BAl4O3TM3jUECXg7dMzeNQQJeDt0zN41BAl4O3TM3jUECXg7dMzeNQQJeDt0zN41BAl4O3TM3jUECXg7dMzeNQQJeDt0zN41BAl4O3TM3jUECXg7dMzeNQQJeDt0zN41BAl4O3TM3jUECXg7dMzeNQQJeDt0zN41BAl4O3TM3jUECXg7dMzeNQQJeDt0zN41BAl4O3TM3jUECXg7dMzeNQQJeDt0zN41BAl4O3TM3jUECXg7dMzeNQQJeDt0zN41BAl4O3TM3jUECXg7dMzeNQQJeDt0zN41BAl4O3TM3jUECXg7dMzeNQQJeDt0zN41BAl4O3TM3jUECXg7dMzeNQQJeDt0zN41BAl4O3TM3jUECXg7dMzeNQQJeDt0zN41BAl4O3TM3jUECXg7dMzeNQQJeDt0zN41BAl4O3TM3jUECXg7dMzeNQQJeDt0zN41BAl4O3TM3jUECXg7dMzeNQQJeDt0zN41BAl4O3TM3jUECXg7dMzeNQQJeDt0zN41BAl4O3TM3jUECXg7dMzeNQQJeDt0zN41BAl4O3TM3jUECXg7dMzeNQQJeDt0zN41BAl4O3TM3jUECXg7dMzeNQQJeDt0zN41BAl4O3TM3jUECXg7dMzeNQQJeDt0zN41BAl4O3TM3jUECXg7dMzeNQQJeDt0zN41BAl4O3TM3jUECXg7dMzeNQQJeDt0zN41BAl4O3TM3jUECXg7dMzeNQQJeDt0zN41BAl4O3TM3jUECXg7dMzeNQQJeDt0zN41BAl4O3TM3jUECXg7dMzeNQQJeDt0zN41BAl4O3TM3jUECXg7dMzeNQQJeDt0zN41BAl4O3TM3jUECXg7dMzeNQQJeDt0zN41BAl4O3TM3jUECXg7dMzeNQQJeDt0zN41BAl4O3TM3jUECXg7dMzeNQQJeDt0zN41BAl4O3TM3jUECXg7dMzeNQQJeDt0zN41BAl4O3TM3jUECXg7dMzeNQQJeDt0zN41BAl4O3TM3jUECXg7dMzeNQQJeDt0zN41BAl4O3TM3jUECXg7dMzeNQQJeDt0zN41BAl4O3TM3jUECXg7dMzeNQQJeDt0zN41BAl4O3TM3jUECXg7dMzeNQQJeDt0zN41BAl4O3TM3jUECXg7dMzeNQQJeDt0zN41BAl4O3TM3jUECXg7dMzeNQQJeDt0zN41BAl4O3TM3jUECXg7dMzeNQQJeDt0zN41BAl4O3TM3jUECXg7dMzeNQQJeDt0zN41BAl4O3TM3jUECXg7dMzeNQQJeDt0zN41BAl4O3TM3jUECXg7dMzeNQQJeDt0zN41BAl4O3TM3jUECXg7dMzeNQQJeDt0zN41BAl4O3TM3jUECXg7dMzeNQQJeDt0zN41BAl4O3TM3jUECXg7dMzeNQQJeDt0zN41BAl4O3TM3jUECXg7dMzeNQQJeDt0zN41BAl4O3TM3jUECXg7dMzeNQQJeDt0zN41BAl4O3TM3jUECXg7dMzeNQQJeDt0zN41BAl4O3TM3jUECXg7dMzeNQQJeDt0zN41BAl4O3TM3jUECXg7dMzeNQQJeDt0zN41BAl4O3TM3jUECXg7dMzeNQQJeDt0zN41BAl4O3TM3jUECXg7dMzeNQQJeDt0zN41BAl4O3TM3jUECXg7dMzeNQQJeDt0zN41BAl4O3TM3jUECXg7dMzeNQQJeDt0zN41BAl4O3TM3jUECXg7dMzeNQQJeDt0zN41BAl4O3TM3jUECXg7dMzeNQQJeDt0zN41BAl4O3TM3jUECXg7dMzeNQQJeDt0zN41BAl4O3TM3jUECXg7dMzeNQQJeDt0zN41BAl4O3TM3jUECXg7dMzeNQQJeDt0zN41BAl4O3TM3jUECXg7dMzeNQQJeDt0zN41BAl4O3TM3jUECXg7dMzeNQQJeDt0zN41BAl4O3TM3jUECXg7dMzeNQQJeDt0zN41BAl4O3TM3jUECXg7dMzeNQQJeDt0zN41BAl4O3TM3jUECXg7dMzeNQQJeDt0zN41BAl4O3TM3jUECXg7dMzeNQQJeDt0zN41BAl4O3TM3jUECXg7dMzeNQQJeDt0zN41BAl4O3TM3jUECXg7dMzeNQQJeDt0zN41BAl4O3TM3jUECXg7dMzeNQQJeDt0zN41BAl4O3TM3jUECXg7dMzeNQQJeDt0zN41BAl4O3TM3jUECXg7dMzeNQQJeDt0zN41BAl4O3TM3jUECXg7dMzeNQQJeDt0zN41BAl4O3TM3jUECXg7dMzeNQQJeDt0zN41BAl4O3TM3jUECXg7dMzeNQQJeDt0zN41BAl4O3TM3jUECXg7dMzeNQQJeDt0zN41BAl4O3TM3jUECXg7dMzeNQQJeDt0zN41BAl4O3TM3jUECXg7dMzeNQQJeDt0zN41BAl4O3TM3jUECXg7dMzeNQQJeDt0zN41BAl4O3TM3jUECXg7dMzeNQQJeDt0zN41BAl4O3TM3jUECXg7dMzeNQQJeDt0zN41BAl4O3TM3jUECXg7dMzeNQQJeDt0zN41BAl4O3TM3jUECXg7dMzeNQQJeDt0zN41BAl4O3TM3jUECXg7dMzeNQQJeDt0zN41BAl4O3TM3jUECXg7dMzeNQQJeDt0zN41BAl4O3TM3jUECXg7dMzeNQQJeDt0zN41BAl4O3TM3jUECXg7dMzeNQQJeDt0zN41BAl4O3TM3jUECXg7dMzeNQQJeDt0zN41BAl4O3TM3jUECXg7dMzeNQQJeDt0zN41BAl4O3TM3jUECXg7dMzeNQQJeDt0zN41BAl4O3TM3jUECXg7dMzeNQQJeDt0zN41BAl4O3TM3jUECXg7dMzeNQQJeDt0zN41BAl4O3TM3jUECXg7dMzeNQQJeDt0zN41BAl4O3TM3jUECXg7dMzeNQQJeDt0zN41BAl4O3TM3jUECXg7dMzeNQQJeDt0zN41BAl4O3TM3jUECXg7dMzeNQQJeDt0zN41BAl4O3TM3jUECXg7dMzeNQQJeDt0zN41BAl4O3TM3jUECXg7dMzeNQQJeDt0zN41BAl4O3TM3jUECXg7dMzeNQQJeDt0zN41BAl4O3TM3jUECXg7dMzeNQQJeDt0zN41BAl4O3TM3jUECXg7dMzeNQQJeDt0zN41BAl4O3TM3jUECXg7dMzeNQQJeDt0zN41BAl4O3TM3jUECXg7dMzeNQQJeDt0zN41BAl4O3TM3jUECXg7dMzeNQQJeDt0zN41BAl4O3TM3jUECXg7dMzeNQQJeDt0zN41BAl4O3TM3jUECXg7dMzeNQQJeDt0zN41BAl4O3TM3jUECXg7dMzeNQQJeDt0zN41BAl4O3TM3jUECXg7dMzeNQQJeDt0zN41BAl4O3TM3jUECXg7dMzeNQQJeDt0zN41BAl4O3TM3jUECXg7dMzeNQQJeDt0zN41BAl4O3TM3jUECXg7dMzeNQQJeDt0zN41BAl4O3TM3jUECXg7dMzeNQQJeDt0zN41BAl4O3TM3jUECXg7dMzeNQQJeDt0zN41BAl4O3TM3jUECXg7dMzeNQQJeDt0zN41BAl4O3TM3jUECXg7dMzeNQQJeDt0zN41BAl4O3TM3jUECXg7dMzeNQQJeDt0zN41BAl4O3TM3jUECXg7dMzeNQQJeDt0zN41BAl4O3TM3jUECXg7dMzeNQQJeDt0zN41BAl4O3TM3jUECXg7dMzeNQQJeDt0zN41BAl4O3TM3jUECXg7dMzeNQQJeDt0zN41BAl4O3TM3jUECXg7dMzeNQQJeDt0zN41BAl4O3TM3jUECXg7dMzeNQQJeDt0zN41BAl4O3TM3jUECXg7dMzeNQQJeDt0zN41BAl4O3TM3jUECXg7dMzeNQQJeDt0zN41BAl4O3TM3jUECXg7dMzeNQQJeDt0zN41BAl4O3TM3jUECXg7dMzeNQQJeDt0zN41BAl4O3TM3jUECXg7dMzeNQQJeDt0zN41BAl4O3TM3jUECXg7dMzeNQQJeDt0zN41BAl4O3TM3jUECXg7dMzeNQQJeDt0zN41BAl4O3TM3jUECXg7dMzeNQQJeDt0zN41BAl4O3TM3jUECXg7dMzeNQQJeDt0zN41BAl4O3TM3jUECXg7dMzeNQQJeDt0zN41BAl4O3TM3jUECXg7dMzeNQQJeDt0zN41BAl4O3TM3jUECXg7dMzeNQQJeDt0zN41BAl4O3TM3jUECXg7dMzeNQQJeDt0zN41BAl4O3TM3jUECXg7dMzeNQQJeDt0zN41BAl4O3TM3jUEBqomDqvlNFQGqiYOq+U0VAaqJg6r5TRUBqomDqvlNFQGqiYOq+U0VAaqJg6r5TRUBqomDqvlNFQGqiYOq+U0VAaqJg6r5TRUBqomDqvlNFQGqiYOq+U0VAaqJg6r5TRUBqomDqvlNFQGqiYOq+U0VAaqJg6r5TRUBqomDqvlNFQGqiYOq+U0VAaqJg6r5TRUBqomDqvlNFQGqiYOq+U0VAaqJg6r5TRUBqomDqvlNFQGqiYOq+U0VAaqJg6r5TRUBqomDqvlNFQGqiYOq+U0VAaqJg6r5TRUBqomDqvlNFQGqiYOq+U0VAaqJg6r5TRUBqomDqvlNFQGqiYOq+U0VAaqJg6r5TRUBqomDqvlNFQGqiYOq+U0VAaqJg6r5TRUBqomDqvlNFQGqiYOq+U0VAaqJg6r5TRUBqomDqvlNFQGqiYOq+U0VAaqJg6r5TRUBqomDqvlNFQGqiYOq+U0VAaqJg6r5TRUBqomDqvlNFQGqiYOq+U0VAaqJg6r5TRUBqomDqvlNFQGqiYOq+U0VAaqJg6r5TRUBqomDqvlNFQGqiYOq+U0VAaqJg6r5TRUBqomDqvlNFQGqiYOq+U0VAaqJg6r5TRUBqomDqvlNFQGqiYOq+U0VAaqJg6r5TRUBqomDqvlNFQGqiYOq+U0VAaqJg6r5TRUBqomDqvlNFQGqiYOq+U0VAaqJg6r5TRUBqomDqvlNFQGqiYOq+U0VAaqJg6r5TRUBqomDqvlNFQGqiYOq+U0VAaqJg6r5TRUBqomDqvlNFQGqiYOq+U0VAaqJg6r5TRUBqomDqvlNFQGqiYOq+U0VAaqJg6r5TRUBqomDqvlNFQGqiYOq+U0VAaqJg6r5TRUBqomDqvlNFQGqiYOq+U0VAaqJg6r5TRUBqomDqvlNFQGqiYOq+U0VAaqJg6r5TRUBqomDqvlNFQGqiYOq+U0VAaqJg6r5TRUBqomDqvlNFQGqiYOq+U0VAaqJg6r5TRUBqomDqvlNFQBDgsiWiMz5AEOCyJaIzPkAQ4LIlojM+QBDgsiWiMz5AEOCyJaIzPkAQ4LIlojM+QBDgsiWiMz5AEOCyJaIzPkAQ4LIlojM+QBDgsiWiMz5AEOCyJaIzPkAQ4LIlojM+QBDgsiWiMz5AEOCyJaIzPkAQ4LIlojM+QBDgsiWiMz5AEOCyJaIzPkAQ4LIlojM+QBDgsiWiMz5AEOCyJaIzPkAQ4LIlojM+QBDgsiWiMz5AEOCyJaIzPkAQ4LIlojM+QBDgsiWiMz5AEOCyJaIzPkAQ4LIlojM+QBDgsiWiMz5AEOCyJaIzPkAQ4LIlojM+QBDgsiWiMz5AEOCyJaIzPkAQ4LIlojM+QBDgsiWiMz5AEOCyJaIzPkAQ4LIlojM+QBDgsiWiMz5AEOCyJaIzPkAQ4LIlojM+QBDgsiWiMz5AEOCyJaIzPkAQ4LIlojM+QBDgsiWiMz5AEOCyJaIzPkAQ4LIlojM+QBDgsiWiMz5AEOCyJaIzPkAQ4LIlojM+QBDgsiWiMz5AEOCyJaIzPkAQ4LIlojM+QBDgsiWiMz5ATHukdsa/MUBMe6R2xr8xQEx7pHbGvzFATHukdsa/MUBMe6R2xr8xQEx7pHbGvzFATHukdsa/MUBMe6R2xr8xQEx7pHbGvzFATHukdsa/MUBMe6R2xr8xQEx7pHbGvzFATHukdsa/MUBMe6R2xr8xQEx7pHbGvzFATHukdsa/MUBMe6R2xr8xQEx7pHbGvzFATHukdsa/MUBMe6R2xr8xQEx7pHbGvzFATHukdsa/MUBMe6R2xr8xQEx7pHbGvzFATHukdsa/MUBMe6R2xr8xQEx7pHbGvzFATHukdsa/MUBMe6R2xr8xQEx7pHbGvzFATHukdsa/MUBMe6R2xr8xQEx7pHbGvzFATHukdsa/MUBMe6R2xr8xQEx7pHbGvzFATHukdsa/MUBMe6R2xr8xQEx7pHbGvzFATHukdsa/MUBMe6R2xr8xQEx7pHbGvzFATHukdsa/MUBMe6R2xr8xQEx7pHbGvzFATHukdsa/MUBMe6R2xr8xQEx7pHbGvzFATHukdsa/MUBMe6R2xr8xQEx7pHbGvzFATHukdsa/MUBMe6R2xr8xQEx7pHbGvzFATHukdsa/MUBMe6R2xr8xQEx7pHbGvzFATHukdsa/MUBMe6R2xr8xQEx7pHbGvzFATHukdsa/MUBMe6R2xr8xQEx7pHbGvzFATHukdsa/MUBMe6R2xr8xQEx7pHbGvzFATHukdsa/MUBMe6R2xr8xQEx7pHbGvzFATHukdsa/MUBMe6R2xr8xQEx7pHbGvzFATHukdsa/MUBMe6R2xr8xQEx7pHbGvzFATHukdsa/MUBMe6R2xr8xQEx7pHbGvzFATHukdsa/MUBMe6R2xr8xQEx7pHbGvzFATHukdsa/MUBMe6R2xr8xQEx7pHbGvzFATHukdsa/MUBMe6R2xr8xQEx7pHbGvzFATHukdsa/MUBMe6R2xr8xQEx7pHbGvzFATHukdsa/MUBMe6R2xr8xQEx7pHbGvzFATHukdsa/MUBMe6R2xr8xQEx7pHbGvzFATHukdsa/MUBMe6R2xr8xQEx7pHbGvzFATHukdsa/MUBMe6R2xr8xQEx7pHbGvzFATHukdsa/MUBMe6R2xr8xQEx7pHbGvzFATHukdsa/MUBMe6R2xr8xQEx7pHbGvzFATHukdsa/MUBMe6R2xr8xQEx7pHbGvzFATHukdsa/MUBMe6R2xr8xQEx7pHbGvzFATHukdsa/MUBMe6R2xr8xQEx7pHbGvzFATHukdsa/MUBMe6R2xr8xQEx7pHbGvzFATHukdsa/MUBMe6R2xr8xQEx7pHbGvzFATHukdsa/MUBMe6R2xr8xQEx7pHbGvzFATHukdsa/MUBMe6R2xr8xQEx7pHbGvzFATHukdsa/MUBMe6R2xr8xQEx7pHbGvzFATHukdsa/MUBMe6R2xr8xQEx7pHbGvzFATHukdsa/MUBMe6R2xr8xQEx7pHbGvzFATHukdsa/MUBMe6R2xr8xQEx7pHbGvzFATHukdsa/MUBMe6R2xr8xQEx7pHbGvzFATHukdsa/MUBMe6R2xr8xQEx7pHbGvzFATHukdsa/MUBMe6R2xr8xQEx7pHbGvzFATHukdsa/MUBMe6R2xr8xQEx7pHbGvzFATHukdsa/MUBMe6R2xr8xQEx7pHbGvzFATHukdsa/MUBMe6R2xr8xQEx7pHbGvzFATHukdsa/MUBMe6R2xr8xQEx7pHbGvzFATHukdsa/MUBMe6R2xr8xQEx7pHbGvzFATHukdsa/MUBMe6R2xr8xQEx7pHbGvzFATHukdsa/MUBMe6R2xr8xQEx7pHbGvzFATHukdsa/MUBMe6R2xr8xQEx7pHbGvzFATHukdsa/MUBMe6R2xr8xQEx7pHbGvzFATHukdsa/MUBMe6R2xr8xQEx7pHbGvzFATHukdsa/MUBMe6R2xr8xQEx7pHbGvzFATHukdsa/MUBMe6R2xr8xQEx7pHbGvzFATHukdsa/MUBMe6R2xr8xQEx7pHbGvzFATHukdsa/MUBMe6R2xr8xQEx7pHbGvzFATHukdsa/MUBMe6R2xr8xQEx7pHbGvzFATHukdsa/MUBMe6R2xr8xQEx7pHbGvzFATHukdsa/MUBMe6R2xr8xQEx7pHbGvzFATHukdsa/MUBMe6R2xr8xQEx7pHbGvzFATHukdsa/MUBMe6R2xr8xQEx7pHbGvzFATHukdsa/MUBMe6R2xr8xQEx7pHbGvzFATHukdsa/MUBMe6R2xr8xQEx7pHbGvzFATHukdsa/MUBMe6R2xr8xQEx7pHbGvzFATHukdsa/MUBMe6R2xr8xQEx7pHbGvzFATHukdsa/MUBMe6R2xr8xQEx7pHbGvzFATHukdsa/MUBMe6R2xr8xQEx7pHbGvzFATHukdsa/MUBMe6R2xr8xQEx7pHbGvzFATHukdsa/MUBMe6R2xr8xQEx7pHbGvzFATHukdsa/MUBMe6R2xr8xQEx7pHbGvzFATHukdsa/MUBMe6R2xr8xQEx7pHbGvzFATHukdsa/MUBMe6R2xr8xQEx7pHbGvzFATHukdsa/MUBMe6R2xr8xQEx7pHbGvzFATHukdsa/MUBMe6R2xr8xQEx7pHbGvzFATHukdsa/MUBMe6R2xr8xQEx7pHbGvzFATHukdsa/MUBMe6R2xr8xQEx7pHbGvzFATHukdsa/MUBMe6R2xr8xQEx7pHbGvzFATHukdsa/MUBMe6R2xr8xQEx7pHbGvzFATHukdsa/MUBMe6R2xr8xQEx7pHbGvzFATHukdsa/MUBMe6R2xr8xQEx7pHbGvzFATHukdsa/MUBMe6R2xr8xQEx7pHbGvzFATHukdsa/MUBMe6R2xr8xQEx7pHbGvzFATHukdsa/MUBMe6R2xr8xQEx7pHbGvzFATHukdsa/MUBMe6R2xr8xQEx7pHbGvzFATHukdsa/MUBMe6R2xr8xQEx7pHbGvzFATHukdsa/MUBMe6R2xr8xQEx7pHbGvzFATHukdsa/MUBMe6R2xr8xQEx7pHbGvzFATHukdsa/MUBMe6R2xr8xQEx7pHbGvzFATHukdsa/MUBMe6R2xr8xQEx7pHbGvzFATHukdsa/MUBMe6R2xr8xQEx7pHbGvzFATHukdsa/MUBMe6R2xr8xQEx7pHbGvzFATHukdsa/MUBMe6R2xr8xQEx7pHbGvzFATHukdsa/MUBMe6R2xr8xQEx7pHbGvzFATHukdsa/MUBMe6R2xr8xQEx7pHbGvzFATHukdsa/MUBMe6R2xr8xQEx7pHbGvzFATHukdsa/MUBMe6R2xr8xQEx7pHbGvzFATHukdsa/MUBMe6R2xr8xQEx7pHbGvzFATHukdsa/MUBMe6R2xr8xQEx7pHbGvzFATHukdsa/MUBMe6R2xr8xQEx7pHbGvzFATHukdsa/MUBMe6R2xr8xQEx7pHbGvzFATHukdsa/MUBMe6R2xr8xQEx7pHbGvzFATHukdsa/MUBMe6R2xr8xQEx7pHbGvzFATHukdsa/MUBMe6R2xr8xQEx7pHbGvzFATHukdsa/MUBMe6R2xr8xQEx7pHbGvzFATHukdsa/MUBMe6R2xr8xQEx7pHbGvzFATHukdsa/MUBMe6R2xr8xQEx7pHbGvzFATHukdsa/MUBMe6R2xr8xQEx7pHbGvzFATHukdsa/MUBMe6R2xr8xQEx7pHbGvzFATHukdsa/MUBMe6R2xr8xQEx7pHbGvzFATHukdsa/MUBMe6R2xr8xQEx7pHbGvzFATHukdsa/MUBMe6R2xr8xQEx7pHbGvzFATHukdsa/MUBMe6R2xr8xQEx7pHbGvzFATHukdsa/MUBMe6R2xr8xQEx7pHbGvzFATHukdsa/MUBMe6R2xr8xQEx7pHbGvzFATHukdsa/MUBMe6R2xr8xQEx7pHbGvzFATHukdsa/MUBMe6R2xr8xQEx7pHbGvzFATHukdsa/MUBMe6R2xr8xQEx7pHbGvzFATHukdsa/MUBMe6R2xr8xQEx7pHbGvzFATHukdsa/MUBMe6R2xr8xQEx7pHbGvzFATHukdsa/MUBMe6R2xr8xQEx7pHbGvzFATHukdsa/MUBMe6R2xr8xQEx7pHbGvzFATHukdsa/MUBMe6R2xr8xQEx7pHbGvzFATHukdsa/MUBMe6R2xr8xQEx7pHbGvzFATHukdsa/MUBMe6R2xr8xQEx7pHbGvzFATHukdsa/MUBMe6R2xr8xQEx7pHbGvzFATHukdsa/MUBMe6R2xr8xQEx7pHbGvzFATHukdsa/MUBMe6R2xr8xQEx7pHbGvzFATHukdsa/MUBMe6R2xr8xQEx7pHbGvzFATHukdsa/MUBMe6R2xr8xQEx7pHbGvzFATHukdsa/MUBMe6R2xr8xQEx7pHbGvzFATHukdsa/MUBMe6R2xr8xQEx7pHbGvzFATHukdsa/MUBMe6R2xr8xQEx7pHbGvzFATHukdsa/MUBMe6R2xr8xQEx7pHbGvzFATHukdsa/MUBMe6R2xr8xQEx7pHbGvzFATHukdsa/MUBMe6R2xr8xQEx7pHbGvzFATHukdsa/MUBMe6R2xr8xQEx7pHbGvzFATHukdsa/MUBMe6R2xr8xQEx7pHbGvzFATHukdsa/MUBMe6R2xr8xQEx7pHbGvzFATHukdsa/MUBMe6R2xr8xQEx7pHbGvzFATHukdsa/MUBMe6R2xr8xQEx7pHbGvzFATHukdsa/MUBMe6R2xr8xQEx7pHbGvzFATHukdsa/MUBMe6R2xr8xQEx7pHbGvzFATHukdsa/MUBMe6R2xr8xQEx7pHbGvzFATHukdsa/MUBMe6R2xr8xQEx7pHbGvzFATHukdsa/MUBMe6R2xr8xQEx7pHbGvzFATHukdsa/MUBMe6R2xr8xQEx7pHbGvzFATHukdsa/MUBMe6R2xr8xQEx7pHbGvzFATHukdsa/MUBMe6R2xr8xQEx7pHbGvzFATHukdsa/MUBMe6R2xr8xQEx7pHbGvzFATHukdsa/MUBMe6R2xr8xQEx7pHbGvzFATHukdsa/MUBMe6R2xr8xQEx7pHbGvzFATHukdsa/MUBMe6R2xr8xQEx7pHbGvzFATHukdsa/MUBMe6R2xr8xQEx7pHbGvzFATHukdsa/MUBMe6R2xr8xQEx7pHbGvzFATHukdsa/MUBMe6R2xr8xQEx7pHbGvzFATHukdsa/MUBMe6R2xr8xQEx7pHbGvzFATHukdsa/MUBMe6R2xr8xQEx7pHbGvzFATHukdsa/MUBMe6R2xr8xQEx7pHbGvzFATHukdsa/MUBMe6R2xr8xQEx7pHbGvzFATHukdsa/MUBMe6R2xr8xQEx7pHbGvzFATHukdsa/MUBMe6R2xr8xQEx7pHbGvzFATHukdsa/MUBMe6R2xr8xQEx7pHbGvzFATHukdsa/MUBMe6R2xr8xQEx7pHbGvzFATHukdsa/MUBMe6R2xr8xQEx7pHbGvzFATHukdsa/MUBMe6R2xr8xQEx7pHbGvzFATHukdsa/MUBMe6R2xr8xQEx7pHbGvzFATHukdsa/MUBMe6R2xr8xQEx7pHbGvzFATHukdsa/MUBMe6R2xr8xQEx7pHbGvzFATHukdsa/MUBMe6R2xr8xQEx7pHbGvzFATHukdsa/MUBMe6R2xr8xQEx7pHbGvzFATHukdsa/MUBMe6R2xr8xQEx7pHbGvzFATHukdsa/MUBMe6R2xr8xQEx7pHbGvzFATHukdsa/MUBMe6R2xr8xQEx7pHbGvzFATHukdsa/MUBMe6R2xr8xQEx7pHbGvzFATHukdsa/MUBMe6R2xr8xQEx7pHbGvzFATHukdsa/MUBMe6R2xr8xQEx7pHbGvzFATHukdsa/MUBMe6R2xr8xQEx7pHbGvzFATHukdsa/MUBMe6R2xr8xQEx7pHbGvzFATHukdsa/MUBMe6R2xr8xQEx7pHbGvzFATHukdsa/MUBMe6R2xr8xQEx7pHbGvzFATHukdsa/MUBMe6R2xr8xQEx7pHbGvzFATHukdsa/MUBMe6R2xr8xQEx7pHbGvzFATHukdsa/MUBMe6R2xr8xQEx7pHbGvzFATHukdsa/MUBMe6R2xr8xQEx7pHbGvzFATHukdsa/MUBMe6R2xr8xQEx7pHbGvzFATHukdsa/MUBMe6R2xr8xQEx7pHbGvzFATHukdsa/MUBMe6R2xr8xQEx7pHbGvzFATHukdsa/MUBMe6R2xr8xQEx7pHbGvzFATHukdsa/MUBMe6R2xr8xQEx7pHbGvzFATHukdsa/MUBMe6R2xr8xQEx7pHbGvzFATHukdsa/MUBMe6R2xr8xQEx7pHbGvzFATHukdsa/MUBMe6R2xr8xQEx7pHbGvzFATHukdsa/MUBMe6R2xr8xQEx7pHbGvzFATHukdsa/MUBMe6R2xr8xQEx7pHbGvzFATHukdsa/MUBMe6R2xr8xQEx7pHbGvzFATHukdsa/MUBMe6R2xr8xQEx7pHbGvzFATHukdsa/MUBMe6R2xr8xQEx7pHbGvzFATHukdsa/MUBMe6R2xr8xQEx7pHbGvzFATHukdsa/MUBMe6R2xr8xQEx7pHbGvzFATHukdsa/MUBMe6R2xr8xQEx7pHbGvzFATHukdsa/MUBMe6R2xr8xQEx7pHbGvzFATHukdsa/MUBMe6R2xr8xQEx7pHbGvzFATHukdsa/MUBMe6R2xr8xQEx7pHbGvzFATHukdsa/MUBMe6R2xr8xQEx7pHbGvzFATHukdsa/MUBMe6R2xr8xQEx7pHbGvzFATHukdsa/MUBMe6R2xr8xQEx7pHbGvzFATHukdsa/MUBMe6R2xr8xQEx7pHbGvzFATHukdsa/MUBMe6R2xr8xQEx7pHbGvzFATHukdsa/MUBMe6R2xr8xQEx7pHbGvzFATHukdsa/MUBMe6R2xr8xQEx7pHbGvzFATHukdsa/MUBMe6R2xr8xQEx7pHbGvzFATHukdsa/MUBMe6R2xr8xQEx7pHbGvzFATHukdsa/MUBMe6R2xr8xQEx7pHbGvzFATHukdsa/MUBMe6R2xr8xQEx7pHbGvzFATHukdsa/MUBMe6R2xr8xQEx7pHbGvzFATHukdsa/MUBMe6R2xr8xQEx7pHbGvzFATHukdsa/MUBMe6R2xr8xQEx7pHbGvzFATHukdsa/MUBMe6R2xr8xQEx7pHbGvzFATHukdsa/MUBMe6R2xr8xQEx7pHbGvzFATHukdsa/MUBMe6R2xr8xQEx7pHbGvzFATHukdsa/MUBMe6R2xr8xQEx7pHbGvzFATHukdsa/MUBMe6R2xr8xQEx7pHbGvzFATHukdsa/MUBMe6R2xr8xQEx7pHbGvzFATHukdsa/MUBMe6R2xr8xQEx7pHbGvzFATHukdsa/MUBMe6R2xr8xQEx7pHbGvzFATHukdsa/MUBMe6R2xr8xQEx7pHbGvzFATHukdsa/MUBMe6R2xr8xQEx7pHbGvzFATHukdsa/MUBMe6R2xr8xQEx7pHbGvzFATHukdsa/MUBMe6R2xr8xQEx7pHbGvzFATHukdsa/MUBMe6R2xr8xQEx7pHbGvzFATHukdsa/MUBMe6R2xr8xQEx7pHbGvzFATHukdsa/MUBMe6R2xr8xQEx7pHbGvzFATHukdsa/MUBMe6R2xr8xQEx7pHbGvzFATHukdsa/MUBMe6R2xr8xQEx7pHbGvzFATHukdsa/MUBMe6R2xr8xQEx7pHbGvzFATHukdsa/MUBMe6R2xr8xQEx7pHbGvzFATHukdsa/MUBMe6R2xr8xQEx7pHbGvzFATHukdsa/MUBMe6R2xr8xQEx7pHbGvzFATHukdsa/MUBMe6R2xr8xQEx7pHbGvzFATHukdsa/MUBMe6R2xr8xQEx7pHbGvzFATHukdsa/MUBMe6R2xr8xQEx7pHbGvzFATHukdsa/MUBMe6R2xr8xQEx7pHbGvzFATHukdsa/MUBMe6R2xr8xQEx7pHbGvzFATHukdsa/MUBMe6R2xr8xQEx7pHbGvzFATHukdsa/MUBMe6R2xr8xQEx7pHbGvzFATHukdsa/MUBMe6R2xr8xQEx7pHbGvzFATHukdsa/MUBMe6R2xr8xQEx7pHbGvzFATHukdsa/MUBMe6R2xr8xQEx7pHbGvzFATHukdsa/MUBMe6R2xr8xQEx7pHbGvzFATHukdsa/MUBMe6R2xr8xQEx7pHbGvzFATHukdsa/MUBMe6R2xr8xQEx7pHbGvzFATHukdsa/MUBMe6R2xr8xQEx7pHbGvzFATHukdsa/MUBMe6R2xr8xQEx7pHbGvzFATHukdsa/MUBMe6R2xr8xQEx7pHbGvzFATHukdsa/MUBMe6R2xr8xQEx7pHbGvzFATHukdsa/MUBMe6R2xr8xQEx7pHbGvzFATHukdsa/MUBMe6R2xr8xQEx7pHbGvzFATHukdsa/MUBMe6R2xr8xQEx7pHbGvzFATHukdsa/MUBMe6R2xr8xQEx7pHbGvzFATHukdsa/MUBMe6R2xr8xQEx7pHbGvzFATHukdsa/MUBMe6R2xr8xQEx7pHbGvzFATHukdsa/MUBMe6R2xr8xQEx7pHbGvzFATHukdsa/MUBMe6R2xr8xQEx7pHbGvzFATHukdsa/MUBMe6R2xr8xQEx7pHbGvzFATHukdsa/MUBMe6R2xr8xQEx7pHbGvzFATHukdsa/MUBMe6R2xr8xQEx7pHbGvzFATHukdsa/MUBMe6R2xr8xQEx7pHbGvzFATHukdsa/MUBMe6R2xr8xQEx7pHbGvzFATHukdsa/MUBMe6R2xr8xQEx7pHbGvzFATHukdsa/MUBMe6R2xr8xQEx7pHbGvzFATHukdsa/MUBMe6R2xr8xQEx7pHbGvzFATHukdsa/MUBMe6R2xr8xQEx7pHbGvzFATHukdsa/MUBMe6R2xr8xQEx7pHbGvzFATHukdsa/MUBMe6R2xr8xQEx7pHbGvzFATHukdsa/MUBMe6R2xr8xQEx7pHbGvzFATHukdsa/MUBMe6R2xr8xQEx7pHbGvzFATHukdsa/MUBMe6R2xr8xQEx7pHbGvzFATHukdsa/MUBMe6R2xr8xQEx7pHbGvzFATHukdsa/MUBMe6R2xr8xQEx7pHbGvzFATHukdsa/MUBMe6R2xr8xQEx7pHbGvzFATHukdsa/MUBMe6R2xr8xQEx7pHbGvzFATHukdsa/MUBMe6R2xr8xQEx7pHbGvzFATHukdsa/MUBMe6R2xr8xQEx7pHbGvzFATHukdsa/MUBMe6R2xr8xQEx7pHbGvzFATHukdsa/MUBMe6R2xr8xQEx7pHbGvzFATHukdsa/MUBMe6R2xr8xQEx7pHbGvzFATHukdsa/MUBMe6R2xr8xQEx7pHbGvzFATHukdsa/MUBMe6R2xr8xQEx7pHbGvzFATHukdsa/MUBMe6R2xr8xQEx7pHbGvzFATHukdsa/MUBMe6R2xr8xQEx7pHbGvzFATHukdsa/MUBMe6R2xr8xQEx7pHbGvzFATHukdsa/MUBMe6R2xr8xQEx7pHbGvzFATHukdsa/MUBMe6R2xr8xQEx7pHbGvzFATHukdsa/MUBMe6R2xr8xQEx7pHbGvzFATHukdsa/MUBMe6R2xr8xQEx7pHbGvzFATHukdsa/MUBMe6R2xr8xQEx7pHbGvzFATHukdsa/MUBMe6R2xr8xQEx7pHbGvzFATHukdsa/MUBMe6R2xr8xQEx7pHbGvzFATHukdsa/MUBMe6R2xr8xQEx7pHbGvzFATHukdsa/MUBMe6R2xr8xQEx7pHbGvzFATHukdsa/MUBMe6R2xr8xQEx7pHbGvzFATHukdsa/MUBMe6R2xr8xQEx7pHbGvzFATHukdsa/MUBMe6R2xr8xQEx7pHbGvzFATHukdsa/MUBMe6R2xr8xQEx7pHbGvzFATHukdsa/MUBMe6R2xr8xQEx7pHbGvzFATHukdsa/MUBMe6R2xr8xQEx7pHbGvzFATHukdsa/MUBMe6R2xr8xQEx7pHbGvzFATHukdsa/MUBMe6R2xr8xQEx7pHbGvzFATHukdsa/MUBMe6R2xr8xQEx7pHbGvzFATHukdsa/MUBMe6R2xr8xQEx7pHbGvzFATHukdsa/MUBMe6R2xr8xQEx7pHbGvzFATHukdsa/MUBMe6R2xr8xQEx7pHbGvzFATHukdsa/MUBMe6R2xr8xQEx7pHbGvzFATHukdsa/MUBMe6R2xr8xQEx7pHbGvzFATHukdsa/MUBMe6R2xr8xQEx7pHbGvzFATHukdsa/MUBMe6R2xr8xQEx7pHbGvzFATHukdsa/MUBMe6R2xr8xQEx7pHbGvzFATHukdsa/MUBMe6R2xr8xQEx7pHbGvzFATHukdsa/MUBMe6R2xr8xQEx7pHbGvzFATHukdsa/MUBMe6R2xr8xQEx7pHbGvzFATHukdsa/MUBMe6R2xr8xQEx7pHbGvzFATHukdsa/MUBMe6R2xr8xQEx7pHbGvzFATHukdsa/MUBMe6R2xr8xQEx7pHbGvzFATHukdsa/MUBMe6R2xr8xQEx7pHbGvzFATHukdsa/MUBMe6R2xr8xQEx7pHbGvzFATHukdsa/MUBMe6R2xr8xQEx7pHbGvzFATHukdsa/MUBMe6R2xr8xQEx7pHbGvzFATHukdsa/MUBMe6R2xr8xQEx7pHbGvzFATHukdsa/MUBMe6R2xr8xQEx7pHbGvzFATHukdsa/MUBMe6R2xr8xQEx7pHbGvzFATHukdsa/MUBMe6R2xr8xQEx7pHbGvzFATHukdsa/MUBMe6R2xr8xQEx7pHbGvzFATHukdsa/MUBMe6R2xr8xQEx7pHbGvzFATHukdsa/MUBMe6R2xr8xQEx7pHbGvzFATHukdsa/MUBMe6R2xr8xQEx7pHbGvzFATHukdsa/MUBMe6R2xr8xQEx7pHbGvzFATHukdsa/MUBMe6R2xr8xQEx7pHbGvzFATHukdsa/MUBMe6R2xr8xQEx7pHbGvzFATHukdsa/MUBMe6R2xr8xQEx7pHbGvzFATHukdsa/MUBMe6R2xr8xQEx7pHbGvzFATHukdsa/MUBMe6R2xr8xQEx7pHbGvzFATHukdsa/MUBMe6R2xr8xQEx7pHbGvzFATHukdsa/MUBMe6R2xr8xQEx7pHbGvzFATHukdsa/MUBMe6R2xr8xQEx7pHbGvzFATHukdsa/MUBMe6R2xr8xQEx7pHbGvzFATHukdsa/MUBMe6R2xr8xQEx7pHbGvzFATHukdsa/MUBMe6R2xr8xQEx7pHbGvzFATHukdsa/MUBMe6R2xr8xQEx7pHbGvzFATHukdsa/MUBMe6R2xr8xQEx7pHbGvzFATHukdsa/MUBMe6R2xr8xQEx7pHbGvzFATHukdsa/MUBMe6R2xr8xQEx7pHbGvzFATHukdsa/MUBMe6R2xr8xQEx7pHbGvzFATHukdsa/MUBMe6R2xr8xQEx7pHbGvzFATHukdsa/MUBMe6R2xr8xQEx7pHbGvzFATHukdsa/MUBMe6R2xr8xQEx7pHbGvzFATHukdsa/MUBMe6R2xr8xQEx7pHbGvzFATHukdsa/MUBMe6R2xr8xQEx7pHbGvzFATHukdsa/MUBMe6R2xr8xQEx7pHbGvzFATHukdsa/MUBMe6R2xr8xQEx7pHbGvzFATHukdsa/MUBMe6R2xr8xQEx7pHbGvzFATHukdsa/MUBMe6R2xr8xQEx7pHbGvzFATHukdsa/MUBMe6R2xr8xQEx7pHbGvzFATHukdsa/MUBMe6R2xr8xQEx7pHbGvzFATHukdsa/MUBMe6R2xr8xQEx7pHbGvzFATHukdsa/MUBMe6R2xr8xQEx7pHbGvzFATHukdsa/MUBMe6R2xr8xQEx7pHbGvzFATHukdsa/MUBMe6R2xr8xQEx7pHbGvzFATHukdsa/MUBMe6R2xr8xQEx7pHbGvzFATHukdsa/MUBMe6R2xr8xQEx7pHbGvzFATHukdsa/MUBMe6R2xr8xQEx7pHbGvzFATHukdsa/MUBMe6R2xr8xQEx7pHbGvzFATHukdsa/MUBMe6R2xr8xQEx7pHbGvzFATHukdsa/MUBMe6R2xr8xQEx7pHbGvzFATHukdsa/MUBMe6R2xr8xQEx7pHbGvzFATHukdsa/MUBMe6R2xr8xQEx7pHbGvzFATHukdsa/MUBMe6R2xr8xQEx7pHbGvzFATHukdsa/MUBMe6R2xr8xQEx7pHbGvzFATHukdsa/MUBMe6R2xr8xQEx7pHbGvzFATHukdsa/MUBMe6R2xr8xQEx7pHbGvzFATHukdsa/MUBMe6R2xr8xQEx7pHbGvzFATHukdsa/MUBMe6R2xr8xQEx7pHbGvzFATHukdsa/MUBMe6R2xr8xQEx7pHbGvzFATHukdsa/MUBMe6R2xr8xQEx7pHbGvzFATHukdsa/MUBMe6R2xr8xQEx7pHbGvzFATHukdsa/MUBMe6R2xr8xQEx7pHbGvzFATHukdsa/MUBMe6R2xr8xQEx7pHbGvzFATHukdsa/MUBMe6R2xr8xQEx7pHbGvzFATHukdsa/MUBMe6R2xr8xQEx7pHbGvzFATHukdsa/MUBMe6R2xr8xQEx7pHbGvzFATHukdsa/MUBMe6R2xr8xQEx7pHbGvzFATHukdsa/MUBMe6R2xr8xQEx7pHbGvzFATHukdsa/MUBMe6R2xr8xQEx7pHbGvzFATHukdsa/MUBMe6R2xr8xQEx7pHbGvzFATHukdsa/MUBMe6R2xr8xQEx7pHbGvzFATHukdsa/MUBMe6R2xr8xQEx7pHbGvzFATHukdsa/MUBMe6R2xr8xQEx7pHbGvzFATHukdsa/MUBMe6R2xr8xQEx7pHbGvzFATHukdsa/MUBMe6R2xr8xQEx7pHbGvzFATHukdsa/MUBMe6R2xr8xQEx7pHbGvzFATHukdsa/MUBMe6R2xr8xQEx7pHbGvzFATHukdsa/MUBMe6R2xr8xQEx7pHbGvzFATHukdsa/MUBMe6R2xr8xQEx7pHbGvzFATHukdsa/MUBMe6R2xr8xQEx7pHbGvzFATHukdsa/MUBMe6R2xr8xQEx7pHbGvzFATHukdsa/MUBMe6R2xr8xQEx7pHbGvzFATHukdsa/MUBMe6R2xr8xQEx7pHbGvzFATHukdsa/MUBMe6R2xr8xQEx7pHbGvzFATHukdsa/MUBMe6R2xr8xQEx7pHbGvzFATHukdsa/MUBMe6R2xr8xQEx7pHbGvzFATHukdsa/MUBMe6R2xr8xQEx7pHbGvzFATHukdsa/MUBMe6R2xr8xQEx7pHbGvzFATHukdsa/MUBMe6R2xr8xQEx7pHbGvzFATHukdsa/MUBMe6R2xr8xQEx7pHbGvzFATHukdsa/MUBMe6R2xr8xQEx7pHbGvzFATHukdsa/MUBMe6R2xr8xQEx7pHbGvzFATHukdsa/MUBMe6R2xr8xQEx7pHbGvzFATHukdsa/MUBMe6R2xr8xQEx7pHbGvzFATHukdsa/MUBMe6R2xr8xQEx7pHbGvzFATHukdsa/MUBMe6R2xr8xQEx7pHbGvzFATHukdsa/MUBMe6R2xr8xQEx7pHbGvzFATHukdsa/MUBMe6R2xr8xQEx7pHbGvzFATHukdsa/MUBMe6R2xr8xQEx7pHbGvzFATHukdsa/MUBMe6R2xr8xQEx7pHbGvzFATHukdsa/MUBMe6R2xr8xQEx7pHbGvzFATHukdsa/MUBMe6R2xr8xQEx7pHbGvzFATHukdsa/MUBMe6R2xr8xQEx7pHbGvzFATHukdsa/MUBMe6R2xr8xQEx7pHbGvzFATHukdsa/MUBMe6R2xr8xQEx7pHbGvzFATHukdsa/MUBMe6R2xr8xQEx7pHbGvzFATHukdsa/MUBMe6R2xr8xQEx7pHbGvzFATHukdsa/MUBMe6R2xr8xQEx7pHbGvzFATHukdsa/MUBMe6R2xr8xQEx7pHbGvzFATHukdsa/MUBMe6R2xr8xQEx7pHbGvzFATHukdsa/MUBMe6R2xr8xQEx7pHbGvzFATHukdsa/MUBMe6R2xr8xQEx7pHbGvzFATHukdsa/MUBMe6R2xr8xQEx7pHbGvzFATHukdsa/MUBMe6R2xr8xQEx7pHbGvzFATHukdsa/MUBMe6R2xr8xQEx7pHbGvzFATHukdsa/MUBMe6R2xr8xQEx7pHbGvzFATHukdsa/MUBMe6R2xr8xQEx7pHbGvzFATHukdsa/MUBMe6R2xr8xQEx7pHbGvzFATHukdsa/MUBMe6R2xr8xQEx7pHbGvzFATHukdsa/MUBMe6R2xr8xQEx7pHbGvzFATHukdsa/MUBMe6R2xr8xQEx7pHbGvzFATHukdsa/MUBMe6R2xr8xQEx7pHbGvzFATHukdsa/MUBMe6R2xr8xQEx7pHbGvzFATHukdsa/MUBMe6R2xr8xQEx7pHbGvzFATHukdsa/MUBMe6R2xr8xQEx7pHbGvzFATHukdsa/MUBMe6R2xr8xQEx7pHbGvzFATHukdsa/MUBMe6R2xr8xQEx7pHbGvzFATHukdsa/MUBMe6R2xr8xQEx7pHbGvzFATHukdsa/MUBMe6R2xr8xQEx7pHbGvzFATHukdsa/MUBMe6R2xr8xQEx7pHbGvzFATHukdsa/MUBMe6R2xr8xQEx7pHbGvzFATHukdsa/MUBMe6R2xr8xQEx7pHbGvzFATHukdsa/MUBMe6R2xr8xQEx7pHbGvzFATHukdsa/MUBMe6R2xr8xQEx7pHbGvzFATHukdsa/MUBMe6R2xr8xQEx7pHbGvzFATHukdsa/MUBMe6R2xr8xQEx7pHbGvzFATHukdsa/MUBMe6R2xr8xQEx7pHbGvzFATHukdsa/MUBMe6R2xr8xQEx7pHbGvzFATHukdsa/MUBMe6R2xr8xQEx7pHbGvzFATHukdsa/MUBMe6R2xr8xQEx7pHbGvzFATHukdsa/MUBMe6R2xr8xQEx7pHbGvzFATHukdsa/MUBMe6R2xr8xQEx7pHbGvzFATHukdsa/MUBMe6R2xr8xQEx7pHbGvzFATHukdsa/MUBMe6R2xr8xQEx7pHbGvzFATHukdsa/MUBMe6R2xr8xQEx7pHbGvzFATHukdsa/MUBMe6R2xr8xQEx7pHbGvzFATHukdsa/MUBMe6R2xr8xQEx7pHbGvzFATHukdsa/MUBMe6R2xr8xQEx7pHbGvzFATHukdsa/MUBMe6R2xr8xQEx7pHbGvzFATHukdsa/MUBMe6R2xr8xQEx7pHbGvzFATHukdsa/MUBMe6R2xr8xQEx7pHbGvzFATHukdsa/MUBMe6R2xr8xQEx7pHbGvzFATHukdsa/MUBMe6R2xr8xQEx7pHbGvzFATHukdsa/MUBMe6R2xr8xQEx7pHbGvzFATHukdsa/MUBMe6R2xr8xQEx7pHbGvzFATHukdsa/MUBMe6R2xr8xQEx7pHbGvzFATHukdsa/MUBMe6R2xr8xQEx7pHbGvzFATHukdsa/MUBMe6R2xr8xQEx7pHbGvzFATHukdsa/MUBMe6R2xr8xQEx7pHbGvzFATHukdsa/MUBMe6R2xr8xQEx7pHbGvzFATHukdsa/MUBMe6R2xr8xQEx7pHbGvzFATHukdsa/MUBMe6R2xr8xQEx7pHbGvzFATHukdsa/MUBMe6R2xr8xQEx7pHbGvzFATHukdsa/MUBMe6R2xr8xQEx7pHbGvzFATHukdsa/MUBMe6R2xr8xQEx7pHbGvzFATHukdsa/MUBMe6R2xr8xQEx7pHbGvzFATHukdsa/MUBMe6R2xr8xQEx7pHbGvzFATHukdsa/MUBMe6R2xr8xQEx7pHbGvzFATHukdsa/MUBMe6R2xr8xQEx7pHbGvzFATHukdsa/MUBMe6R2xr8xQEx7pHbGvzFATHukdsa/MUBMe6R2xr8xQEx7pHbGvzFATHukdsa/MUBMe6R2xr8xQEx7pHbGvzFATHukdsa/MUBMe6R2xr8xQEx7pHbGvzFATHukdsa/MUBMe6R2xr8xQEx7pHbGvzFATHukdsa/MUBMe6R2xr8xQEx7pHbGvzFATHukdsa/MUBMe6R2xr8xQEx7pHbGvzFATHukdsa/MUBMe6R2xr8xQEx7pHbGvzFATHukdsa/MUBMe6R2xr8xQEx7pHbGvzFATHukdsa/MUBMe6R2xr8xQEx7pHbGvzFATHukdsa/MUBMe6R2xr8xQEx7pHbGvzFATHukdsa/MUBMe6R2xr8xQEx7pHbGvzFATHukdsa/MUBMe6R2xr8xQEx7pHbGvzFATHukdsa/MUBMe6R2xr8xQEx7pHbGvzFATHukdsa/MUBMe6R2xr8xQEx7pHbGvzFATHukdsa/MUBMe6R2xr8xQEx7pHbGvzFATHukdsa/MUBMe6R2xr8xQEx7pHbGvzFATHukdsa/MUBMe6R2xr8xQEx7pHbGvzFATHukdsa/MUBMe6R2xr8xQEx7pHbGvzFATHukdsa/MUBMe6R2xr8xQEx7pHbGvzFATHukdsa/MUBMe6R2xr8xQEx7pHbGvzFATHukdsa/MUBMe6R2xr8xQEx7pHbGvzFATHukdsa/MUBMe6R2xr8xQEx7pHbGvzFATHukdsa/MUBMe6R2xr8xQEx7pHbGvzFATHukdsa/MUBMe6R2xr8xQEx7pHbGvzFATHukdsa/MUBMe6R2xr8xQEx7pHbGvzFATHukdsa/MUBMe6R2xr8xQEx7pHbGvzFATHukdsa/MUBMe6R2xr8xQEx7pHbGvzFATHukdsa/MUBMe6R2xr8xQEx7pHbGvzFATHukdsa/MUBMe6R2xr8xQEx7pHbGvzFATHukdsa/MUBMe6R2xr8xQEx7pHbGvzFATHukdsa/MUBMe6R2xr8xQEx7pHbGvzFATHukdsa/MUBMe6R2xr8xQEx7pHbGvzFATHukdsa/MUBMe6R2xr8xQEx7pHbGvzFATHukdsa/MUBMe6R2xr8xQEx7pHbGvzFATHukdsa/MUBMe6R2xr8xQEx7pHbGvzFATHukdsa/MUBMe6R2xr8xQEx7pHbGvzFATHukdsa/MUBMe6R2xr8xQEx7pHbGvzFATHukdsa/MUBMe6R2xr8xQEx7pHbGvzFATHukdsa/MUBMe6R2xr8xQEx7pHbGvzFATHukdsa/MUBMe6R2xr8xQEx7pHbGvzFATHukdsa/MUBMe6R2xr8xQEx7pHbGvzFATHukdsa/MUBMe6R2xr8xQEx7pHbGvzFATHukdsa/MUBMe6R2xr8xQEx7pHbGvzFATHukdsa/MUBMe6R2xr8xQEx7pHbGvzFATHukdsa/MUBMe6R2xr8xQEx7pHbGvzFATHukdsa/MUBMe6R2xr8xQEx7pHbGvzFATHukdsa/MUBMe6R2xr8xQEx7pHbGvzFATHukdsa/MUBMe6R2xr8xQEx7pHbGvzFATHukdsa/MUBMe6R2xr8xQEx7pHbGvzFATHukdsa/MUBMe6R2xr8xQEx7pHbGvzFATHukdsa/MUBMe6R2xr8xQEx7pHbGvzFATHukdsa/MUBMe6R2xr8xQEx7pHbGvzFATHukdsa/MUBMe6R2xr8xQEx7pHbGvzFATHukdsa/MUBMe6R2xr8xQEx7pHbGvzFATHukdsa/MUBMe6R2xr8xQEx7pHbGvzFATHukdsa/MUBMe6R2xr8xQEx7pHbGvzFATHukdsa/MUBMe6R2xr8xQEx7pHbGvzFATHukdsa/MUBMe6R2xr8xQEx7pHbGvzFATHukdsa/MUBMe6R2xr8xQEx7pHbGvzFATHukdsa/MUBMe6R2xr8xQEx7pHbGvzFATHukdsa/MUBMe6R2xr8xQEx7pHbGvzFATHukdsa/MUBMe6R2xr8xQEx7pHbGvzFATHukdsa/MUBMe6R2xr8xQEx7pHbGvzFATHukdsa/MUBMe6R2xr8xQEx7pHbGvzFATHukdsa/MUBMe6R2xr8xQEx7pHbGvzFATHukdsa/MUBMe6R2xr8xQEx7pHbGvzFATHukdsa/MUBMe6R2xr8xQEx7pHbGvzFATHukdsa/MUBMe6R2xr8xQEx7pHbGvzFATHukdsa/MUBMe6R2xr8xQEx7pHbGvzFATHukdsa/MUBMe6R2xr8xQEx7pHbGvzFATHukdsa/MUBMe6R2xr8xQEx7pHbGvzFATHukdsa/MUBMe6R2xr8xQEx7pHbGvzFATHukdsa/MUBMe6R2xr8xQEx7pHbGvzFATHukdsa/MUBMe6R2xr8xQEx7pHbGvzFATHukdsa/MUBMe6R2xr8xQEx7pHbGvzFATHukdsa/MUBMe6R2xr8xQEx7pHbGvzFATHukdsa/MUBMe6R2xr8xQEx7pHbGvzFATHukdsa/MUBMe6R2xr8xQEx7pHbGvzFATHukdsa/MUBMe6R2xr8xQEx7pHbGvzFATHukdsa/MUBMe6R2xr8xQEx7pHbGvzFATHukdsa/MUBMe6R2xr8xQEx7pHbGvzFATHukdsa/MUBMe6R2xr8xQEx7pHbGvzFATHukdsa/MUBMe6R2xr8xQEx7pHbGvzFATHukdsa/MUBMe6R2xr8xQEx7pHbGvzFATHukdsa/MUBMe6R2xr8xQEx7pHbGvzFATHukdsa/MUBMe6R2xr8xQEx7pHbGvzFATHukdsa/MUBMe6R2xr8xQEx7pHbGvzFATHukdsa/MUBMe6R2xr8xQEx7pHbGvzFATHukdsa/MUBMe6R2xr8xQEx7pHbGvzFATHukdsa/MUBMe6R2xr8xQEx7pHbGvzFATHukdsa/MUBMe6R2xr8xQEx7pHbGvzFATHukdsa/MUBMe6R2xr8xQEx7pHbGvzFATHukdsa/MUBMe6R2xr8xQEx7pHbGvzFATHukdsa/MUBMe6R2xr8xQEx7pHbGvzFATHukdsa/MUBMe6R2xr8xQEx7pHbGvzFATHukdsa/MUBMe6R2xr8xQEx7pHbGvzFATHukdsa/MUBMe6R2xr8xQEx7pHbGvzFATHukdsa/MUBMe6R2xr8xQEx7pHbGvzFATHukdsa/MUBMe6R2xr8xQEx7pHbGvzFATHukdsa/MUBMe6R2xr8xQEx7pHbGvzFATHukdsa/MUBMe6R2xr8xQEx7pHbGvzFATHukdsa/MUBMe6R2xr8xQEx7pHbGvzFATHukdsa/MUBMe6R2xr8xQEx7pHbGvzFATHukdsa/MUBMe6R2xr8xQEx7pHbGvzFATHukdsa/MUBMe6R2xr8xQEx7pHbGvzFATHukdsa/MUBMe6R2xr8xQEx7pHbGvzFATHukdsa/MUBMe6R2xr8xQEx7pHbGvzFATHukdsa/MUBMe6R2xr8xQEx7pHbGvzFATHukdsa/MUBMe6R2xr8xQEx7pHbGvzFATHukdsa/MUBMe6R2xr8xQEx7pHbGvzFATHukdsa/MUBMe6R2xr8xQEx7pHbGvzFATHukdsa/MUBMe6R2xr8xQEx7pHbGvzFATHukdsa/MUBMe6R2xr8xQEx7pHbGvzFATHukdsa/MUBMe6R2xr8xQEx7pHbGvzFATHukdsa/MUBMe6R2xr8xQEx7pHbGvzFATHukdsa/MUBMe6R2xr8xQEx7pHbGvzFATHukdsa/MUBMe6R2xr8xQEx7pHbGvzFATHukdsa/MUBMe6R2xr8xQEx7pHbGvzFATHukdsa/MUBMe6R2xr8xQEx7pHbGvzFATHukdsa/MUBMe6R2xr8xQEx7pHbGvzFATHukdsa/MUBMe6R2xr8xQEx7pHbGvzFATHukdsa/MUBMe6R2xr8xQEx7pHbGvzFATHukdsa/MUBMe6R2xr8xQEx7pHbGvzFATHukdsa/MUBMe6R2xr8xQEx7pHbGvzFATHukdsa/MUBMe6R2xr8xQEx7pHbGvzFATHukdsa/MUBMe6R2xr8xQEx7pHbGvzFATHukdsa/MUBMe6R2xr8xQEx7pHbGvzFATHukdsa/MUBMe6R2xr8xQEx7pHbGvzFATHukdsa/MUBMe6R2xr8xQEx7pHbGvzFATHukdsa/MUBMe6R2xr8xQEx7pHbGvzFATHukdsa/MUBMe6R2xr8xQEx7pHbGvzFATHukdsa/MUBMe6R2xr8xQEx7pHbGvzFATHukdsa/MUBMe6R2xr8xQEx7pHbGvzFATHukdsa/MUBMe6R2xr8xQEx7pHbGvzFATHukdsa/MUBMe6R2xr8xQEx7pHbGvzFATHukdsa/MUBMe6R2xr8xQEx7pHbGvzFATHukdsa/MUBMe6R2xr8xQEx7pHbGvzFATHukdsa/MUBMe6R2xr8xQEx7pHbGvzFATHukdsa/MUBMe6R2xr8xQEx7pHbGvzFATHukdsa/MUBMe6R2xr8xQEx7pHbGvzFATHukdsa/MUBMe6R2xr8xQEx7pHbGvzFATHukdsa/MUBMe6R2xr8xQEx7pHbGvzFATHukdsa/MUBMe6R2xr8xQEx7pHbGvzFATHukdsa/MUBMe6R2xr8xQEx7pHbGvzFATHukdsa/MUBMe6R2xr8xQEx7pHbGvzFATHukdsa/MUBMe6R2xr8xQEx7pHbGvzFATHukdsa/MUBMe6R2xr8xQEx7pHbGvzFATHukdsa/MUBMe6R2xr8xQEx7pHbGvzFATHukdsa/MUBMe6R2xr8xQEx7pHbGvzFATHukdsa/MUBMe6R2xr8xQEx7pHbGvzFATHukdsa/MUBMe6R2xr8xQEx7pHbGvzFATHukdsa/MUBMe6R2xr8xQEx7pHbGvzFATHukdsa/MUBMe6R2xr8xQEx7pHbGvzFATHukdsa/MUBMe6R2xr8xQEx7pHbGvzFATHukdsa/MUBMe6R2xr8xQEx7pHbGvzFATHukdsa/MUBMe6R2xr8xQEx7pHbGvzFATHukdsa/MUBMe6R2xr8xQEx7pHbGvzFATHukdsa/MUBMe6R2xr8xQEx7pHbGvzFATHukdsa/MUBMe6R2xr8xQEx7pHbGvzFATHukdsa/MUBMe6R2xr8xQEx7pHbGvzFATHukdsa/MUBMe6R2xr8xQEx7pHbGvzFATHukdsa/MUBMe6R2xr8xQEx7pHbGvzFATHukdsa/MUBMe6R2xr8xQEx7pHbGvzFATHukdsa/MUBMe6R2xr8xQEx7pHbGvzFATHukdsa/MUBMe6R2xr8xQEx7pHbGvzFATHukdsa/MUBMe6R2xr8xQEx7pHbGvzFATHukdsa/MUBMe6R2xr8xQEx7pHbGvzFATHukdsa/MUBMe6R2xr8xQEx7pHbGvzFATHukdsa/MUBMe6R2xr8xQEx7pHbGvzFATHukdsa/MUBMe6R2xr8xQEx7pHbGvzFATHukdsa/MUBMe6R2xr8xQEx7pHbGvzFATHukdsa/MUBMe6R2xr8xQEx7pHbGvzFATHukdsa/MUBMe6R2xr8xQEx7pHbGvzFATHukdsa/MUBMe6R2xr8xQEx7pHbGvzFATHukdsa/MUBMe6R2xr8xQEx7pHbGvzFATHukdsa/MUBMe6R2xr8xQEx7pHbGvzFATHukdsa/MUBMe6R2xr8xQEx7pHbGvzFATHukdsa/MUBMe6R2xr8xQEx7pHbGvzFATHukdsa/MUBMe6R2xr8xQEx7pHbGvzFATHukdsa/MUBMe6R2xr8xQEx7pHbGvzFATHukdsa/MUBMe6R2xr8xQEx7pHbGvzFATHukdsa/MUBMe6R2xr8xQEx7pHbGvzFATHukdsa/MUBMe6R2xr8xQEx7pHbGvzFATHukdsa/MUBMe6R2xr8xQEx7pHbGvzFATHukdsa/MUBMe6R2xr8xQEx7pHbGvzFATHukdsa/MUBMe6R2xr8xQEx7pHbGvzFATHukdsa/MUBMe6R2xr8xQEx7pHbGvzFATHukdsa/MUBMe6R2xr8xQEx7pHbGvzFATHukdsa/MUBMe6R2xr8xQEx7pHbGvzFATHukdsa/MUBMe6R2xr8xQEx7pHbGvzFATHukdsa/MUBMe6R2xr8xQEx7pHbGvzFATHukdsa/MUBMe6R2xr8xQEx7pHbGvzFATHukdsa/MUBMe6R2xr8xQEx7pHbGvzFATHukdsa/MUBMe6R2xr8xQEx7pHbGvzFATHukdsa/MUBMe6R2xr8xQEx7pHbGvzFATHukdsa/MUBMe6R2xr8xQEx7pHbGvzFATHukdsa/MUBMe6R2xr8xQEx7pHbGvzFATHukdsa/MUBMe6R2xr8xQEx7pHbGvzFATHukdsa/MUBMe6R2xr8xQEx7pHbGvzFATHukdsa/MUBMe6R2xr8xQEx7pHbGvzFATHukdsa/MUBMe6R2xr8xQEx7pHbGvzFATHukdsa/MUBMe6R2xr8xQEx7pHbGvzFATHukdsa/MUBMe6R2xr8xQEx7pHbGvzFATHukdsa/MUBMe6R2xr8xQEx7pHbGvzFATHukdsa/MUBMe6R2xr8xQEx7pHbGvzFATHukdsa/MUBMe6R2xr8xQEx7pHbGvzFATHukdsa/MUBMe6R2xr8xQEx7pHbGvzFATHukdsa/MUBMe6R2xr8xQEx7pHbGvzFATHukdsa/MUBMe6R2xr8xQEx7pHbGvzFATHukdsa/MUBMe6R2xr8xQEx7pHbGvzFATHukdsa/MUBMe6R2xr8xQEx7pHbGvzFATHukdsa/MUBMe6R2xr8xQEx7pHbGvzFATHukdsa/MUBMe6R2xr8xQEx7pHbGvzFATHukdsa/MUBMe6R2xr8xQEx7pHbGvzFATHukdsa/MUBMe6R2xr8xQEx7pHbGvzFATHukdsa/MUBMe6R2xr8xQEx7pHbGvzFATHukdsa/MUBMe6R2xr8xQEx7pHbGvzFATHukdsa/MUBMe6R2xr8xQEx7pHbGvzFATHukdsa/MUBMe6R2xr8xQEx7pHbGvzFATHukdsa/MUBMe6R2xr8xQEx7pHbGvzFATHukdsa/MUBMe6R2xr8xQEx7pHbGvzFATHukdsa/MUBMe6R2xr8xQEx7pHbGvzFATHukdsa/MUBMe6R2xr8xQEx7pHbGvzFATHukdsa/MUBMe6R2xr8xQEx7pHbGvzFATHukdsa/MUBMe6R2xr8xQEx7pHbGvzFATHukdsa/MUBMe6R2xr8xQEx7pHbGvzFATHukdsa/MUBMe6R2xr8xQEx7pHbGvzFATHukdsa/MUBMe6R2xr8xQEx7pHbGvzFATHukdsa/MUBMe6R2xr8xQEx7pHbGvzFATHukdsa/MUBMe6R2xr8xQEx7pHbGvzFATHukdsa/MUBMe6R2xr8xQEx7pHbGvzFATHukdsa/MUBMe6R2xr8xQEx7pHbGvzFATHukdsa/MUBMe6R2xr8xQEx7pHbGvzFATHukdsa/MUBMe6R2xr8xQEx7pHbGvzFATHukdsa/MUBMe6R2xr8xQEx7pHbGvzFATHukdsa/MUBMe6R2xr8xQEx7pHbGvzFATHukdsa/MUBMe6R2xr8xQEx7pHbGvzFATHukdsa/MUBMe6R2xr8xQEx7pHbGvzFATHukdsa/MUBMe6R2xr8xQEx7pHbGvzFATHukdsa/MUBMe6R2xr8xQEx7pHbGvzFATHukdsa/MUBMe6R2xr8xQEx7pHbGvzFATHukdsa/MUBMe6R2xr8xQEx7pHbGvzFATHukdsa/MUBMe6R2xr8xQEx7pHbGvzFATHukdsa/MUBMe6R2xr8xQEx7pHbGvzFATHukdsa/MUBMe6R2xr8xQEx7pHbGvzFATHukdsa/MUBMe6R2xr8xQEx7pHbGvzFATHukdsa/MUBMe6R2xr8xQEx7pHbGvzFATHukdsa/MUBMe6R2xr8xQEx7pHbGvzFATHukdsa/MUBMe6R2xr8xQEx7pHbGvzFATHukdsa/MUBMe6R2xr8xQEx7pHbGvzFATHukdsa/MUBMe6R2xr8xQEx7pHbGvzFATHukdsa/MUBMe6R2xr8xQEx7pHbGvzFATHukdsa/MUBMe6R2xr8xQEx7pHbGvzFATHukdsa/MUBMe6R2xr8xQEx7pHbGvzFATHukdsa/MUBMe6R2xr8xQEx7pHbGvzFATHukdsa/MUBMe6R2xr8xQEx7pHbGvzFATHukdsa/MUBMe6R2xr8xQEx7pHbGvzFATHukdsa/MUBMe6R2xr8xQEx7pHbGvzFATHukdsa/MUBMe6R2xr8xQEx7pHbGvzFATHukdsa/MUBMe6R2xr8xQEx7pHbGvzFATHukdsa/MUBMe6R2xr8xQEx7pHbGvzFATHukdsa/MUBMe6R2xr8xQEx7pHbGvzFATHukdsa/MUBMe6R2xr8xQEx7pHbGvzFATHukdsa/MUBMe6R2xr8xQEx7pHbGvzFATHukdsa/MUBMe6R2xr8xQEx7pHbGvzFATHukdsa/MUBMe6R2xr8xQEx7pHbGvzFATHukdsa/MUBMe6R2xr8xQEx7pHbGvzFATHukdsa/MUBMe6R2xr8xQEx7pHbGvzFATHukdsa/MUBMe6R2xr8xQEx7pHbGvzFATHukdsa/MUBMe6R2xr8xQEx7pHbGvzFATHukdsa/MUBMe6R2xr8xQEx7pHbGvzFATHukdsa/MUBMe6R2xr8xQEx7pHbGvzFATHukdsa/MUBMe6R2xr8xQEx7pHbGvzFATHukdsa/MUBMe6R2xr8xQEx7pHbGvzFATHukdsa/MUBMe6R2xr8xQEx7pHbGvzFATHukdsa/MUBMe6R2xr8xQEx7pHbGvzFATHukdsa/MUBMe6R2xr8xQEx7pHbGvzFATHukdsa/MUBMe6R2xr8xQEx7pHbGvzFATHukdsa/MUBMe6R2xr8xQEx7pHbGvzFATHukdsa/MUBMe6R2xr8xQEx7pHbGvzFATHukdsa/MUBMe6R2xr8xQEx7pHbGvzFATHukdsa/MUBMe6R2xr8xQEx7pHbGvzFATHukdsa/MUBMe6R2xr8xQEx7pHbGvzFATHukdsa/MUBMe6R2xr8xQEx7pHbGvzFATHukdsa/MUBMe6R2xr8xQEx7pHbGvzFATHukdsa/MUBMe6R2xr8xQEx7pHbGvzFATHukdsa/MUBMe6R2xr8xQEx7pHbGvzFATHukdsa/MUBMe6R2xr8xQEx7pHbGvzFATHukdsa/MUBMe6R2xr8xQEx7pHbGvzFATHukdsa/MUBMe6R2xr8xQEx7pHbGvzFATHukdsa/MUBMe6R2xr8xQEx7pHbGvzFATHukdsa/MUBMe6R2xr8xQEx7pHbGvzFATHukdsa/MUBMe6R2xr8xQEx7pHbGvzFATHukdsa/MUBMe6R2xr8xQEx7pHbGvzFATHukdsa/MUBMe6R2xr8xQEx7pHbGvzFATHukdsa/MUBMe6R2xr8xQEx7pHbGvzFATHukdsa/MUBMe6R2xr8xQEx7pHbGvzFATHukdsa/MUBMe6R2xr8xQEx7pHbGvzFATHukdsa/MUBMe6R2xr8xQEx7pHbGvzFATHukdsa/MUBMe6R2xr8xQEx7pHbGvzFATHukdsa/MUBMe6R2xr8xQEx7pHbGvzFATHukdsa/MUBMe6R2xr8xQEx7pHbGvzFATHukdsa/MUBMe6R2xr8xQEx7pHbGvzFATHukdsa/MUBMe6R2xr8xQEx7pHbGvzFATHukdsa/MUBMe6R2xr8xQEx7pHbGvzFATHukdsa/MUBMe6R2xr8xQEx7pHbGvzFATHukdsa/MUBMe6R2xr8xQEx7pHbGvzFATHukdsa/MUBMe6R2xr8xQEx7pHbGvzFATHukdsa/MUBMe6R2xr8xQEx7pHbGvzFATHukdsa/MUBMe6R2xr8xQEx7pHbGvzFATHukdsa/MUBMe6R2xr8xQEx7pHbGvzFATHukdsa/MUBMe6R2xr8xQEx7pHbGvzFATHukdsa/MUBMe6R2xr8xQEx7pHbGvzFATHukdsa/MUBMe6R2xr8xQEx7pHbGvzFATHukdsa/MUBMe6R2xr8xQEx7pHbGvzFATHukdsa/MUBMe6R2xr8xQEx7pHbGvzFATHukdsa/MUBMe6R2xr8xQEx7pHbGvzFATHukdsa/MUBMe6R2xr8xQEx7pHbGvzFATHukdsa/MUBMe6R2xr8xQEx7pHbGvzFATHukdsa/MUBMe6R2xr8xQEx7pHbGvzFATHukdsa/MUBMe6R2xr8xQEx7pHbGvzFATHukdsa/MUBMe6R2xr8xQEx7pHbGvzFATHukdsa/MUBMe6R2xr8xQEx7pHbGvzFATHukdsa/MUBMe6R2xr8xQEx7pHbGvzFATHukdsa/MUBMe6R2xr8xQEx7pHbGvzFATHukdsa/MUBMe6R2xr8xQEx7pHbGvzFATHukdsa/MUBMe6R2xr8xQEx7pHbGvzFATHukdsa/MUBMe6R2xr8xQEx7pHbGvzFATHukdsa/MUBMe6R2xr8xQEx7pHbGvzFATHukdsa/MUBMe6R2xr8xQEx7pHbGvzFATHukdsa/MUBMe6R2xr8xQEx7pHbGvzFATHukdsa/MUBMe6R2xr8xQEx7pHbGvzFATHukdsa/MUBMe6R2xr8xQEx7pHbGvzFATHukdsa/MUBMe6R2xr8xQEx7pHbGvzFATHukdsa/MUBMe6R2xr8xQEx7pHbGvzFATHukdsa/MUBMe6R2xr8xQEx7pHbGvzFATHukdsa/MUBMe6R2xr8xQEx7pHbGvzFATHukdsa/MUBMe6R2xr8xQEx7pHbGvzFATHukdsa/MUBMe6R2xr8xQEx7pHbGvzFATHukdsa/MUBMe6R2xr8xQEx7pHbGvzFATHukdsa/MUBMe6R2xr8xQEx7pHbGvzFATHukdsa/MUBMe6R2xr8xQEx7pHbGvzFATHukdsa/MUBMe6R2xr8xQEx7pHbGvzFATHukdsa/MUBMe6R2xr8xQEx7pHbGvzFATHukdsa/MUBMe6R2xr8xQEx7pHbGvzFATHukdsa/MUBMe6R2xr8xQEx7pHbGvzFATHukdsa/MUBMe6R2xr8xQEx7pHbGvzFATHukdsa/MUBMe6R2xr8xQEx7pHbGvzFATHukdsa/MUBMe6R2xr8xQEx7pHbGvzFATHukdsa/MUBMe6R2xr8xQEx7pHbGvzFATHukdsa/MUBMe6R2xr8xQEx7pHbGvzFATHukdsa/MUBMe6R2xr8xQEx7pHbGvzFATHukdsa/MUBMe6R2xr8xQEx7pHbGvzFATHukdsa/MUBMe6R2xr8xQEx7pHbGvzFATHukdsa/MUBMe6R2xr8xQEx7pHbGvzFATHukdsa/MUBMe6R2xr8xQEx7pHbGvzFATHukdsa/MUBMe6R2xr8xQEx7pHbGvzFATHukdsa/MUBMe6R2xr8xQEx7pHbGvzFATHukdsa/MUBMe6R2xr8xQEx7pHbGvzFATHukdsa/MUBMe6R2xr8xQEx7pHbGvzFATHukdsa/MUBMe6R2xr8xQEx7pHbGvzFATHukdsa/MUBMe6R2xr8xQEx7pHbGvzFATHukdsa/MUBMe6R2xr8xQEx7pHbGvzFATHukdsa/MUBMe6R2xr8xQEx7pHbGvzFATHukdsa/MUBMe6R2xr8xQEx7pHbGvzFATHukdsa/MUBMe6R2xr8xQEx7pHbGvzFATHukdsa/MUBMe6R2xr8xQEx7pHbGvzFATHukdsa/MUBMe6R2xr8xQEx7pHbGvzFATHukdsa/MUBMe6R2xr8xQEx7pHbGvzFATHukdsa/MUBMe6R2xr8xQEx7pHbGvzFATHukdsa/MUBMe6R2xr8xQEx7pHbGvzFATHukdsa/MUBMe6R2xr8xQEx7pHbGvzFATHukdsa/MUBMe6R2xr8xQEx7pHbGvzFATHukdsa/MUBMe6R2xr8xQEx7pHbGvzFATHukdsa/MUBMe6R2xr8xQEx7pHbGvzFATHukdsa/MUBMe6R2xr8xQEx7pHbGvzFATHukdsa/MUBMe6R2xr8xQEx7pHbGvzFATHukdsa/MUBMe6R2xr8xQEx7pHbGvzFATHukdsa/MUBMe6R2xr8xQEx7pHbGvzFATHukdsa/MUBMe6R2xr8xQEx7pHbGvzFATHukdsa/MUBMe6R2xr8xQEx7pHbGvzFATHukdsa/MUBMe6R2xr8xQEx7pHbGvzFATHukdsa/MUBMe6R2xr8xQEx7pHbGvzFATHukdsa/MUBMe6R2xr8xQEx7pHbGvzFATHukdsa/MUBMe6R2xr8xQEx7pHbGvzFATHukdsa/MUBMe6R2xr8xQEx7pHbGvzFATHukdsa/MUBMe6R2xr8xQEx7pHbGvzFATHukdsa/MUBMe6R2xr8xQEx7pHbGvzFATHukdsa/MUBMe6R2xr8xQEx7pHbGvzFATHukdsa/MUBMe6R2xr8xQEx7pHbGvzFATHukdsa/MUBMe6R2xr8xQEx7pHbGvzFATHukdsa/MUBMe6R2xr8xQEx7pHbGvzFATHukdsa/MUBMe6R2xr8xQEx7pHbGvzFATHukdsa/MUBMe6R2xr8xQEx7pHbGvzFATHukdsa/MUBMe6R2xr8xQEx7pHbGvzFATHukdsa/MUBMe6R2xr8xQEx7pHbGvzFATHukdsa/MUBMe6R2xr8xQEx7pHbGvzFATHukdsa/MUBMe6R2xr8xQEx7pHbGvzFATHukdsa/MUBMe6R2xr8xQEx7pHbGvzFATHukdsa/MUBMe6R2xr8xQEx7pHbGvzFATHukdsa/MUBMe6R2xr8xQEx7pHbGvzFATHukdsa/MUBMe6R2xr8xQEx7pHbGvzFATHukdsa/MUBMe6R2xr8xQEx7pHbGvzFATHukdsa/MUBMe6R2xr8xQEx7pHbGvzFATHukdsa/MUBMe6R2xr8xQEx7pHbGvzFATHukdsa/MUBMe6R2xr8xQEx7pHbGvzFATHukdsa/MUBMe6R2xr8xQEx7pHbGvzFATHukdsa/MUBMe6R2xr8xQEx7pHbGvzFATHukdsa/MUBMe6R2xr8xQEx7pHbGvzFATHukdsa/MUBMe6R2xr8xQEx7pHbGvzFATHukdsa/MUBMe6R2xr8xQEx7pHbGvzFATHukdsa/MUBMe6R2xr8xQEx7pHbGvzFATHukdsa/MUBMe6R2xr8xQEx7pHbGvzFATHukdsa/MUBMe6R2xr8xQEx7pHbGvzFATHukdsa/MUBMe6R2xr8xQEx7pHbGvzFATHukdsa/MUBMe6R2xr8xQEx7pHbGvzFATHukdsa/MUBMe6R2xr8xQEx7pHbGvzFATHukdsa/MUBMe6R2xr8xQEx7pHbGvzFATHukdsa/MUBMe6R2xr8xQEx7pHbGvzFATHukdsa/MUBMe6R2xr8xQEx7pHbGvzFATHukdsa/MUBMe6R2xr8xQEx7pHbGvzFATHukdsa/MUBMe6R2xr8xQEx7pHbGvzFATHukdsa/MUBMe6R2xr8xQEx7pHbGvzFATHukdsa/MUBMe6R2xr8xQEx7pHbGvzFATHukdsa/MUBMe6R2xr8xQEx7pHbGvzFATHukdsa/MUBMe6R2xr8xQEx7pHbGvzFATHukdsa/MUBMe6R2xr8xQEx7pHbGvzFATHukdsa/MUBMe6R2xr8xQEx7pHbGvzFATHukdsa/MUBMe6R2xr8xQEx7pHbGvzFATHukdsa/MUBMe6R2xr8xQEx7pHbGvzFATHukdsa/MUBMe6R2xr8xQEx7pHbGvzFATHukdsa/MUBMe6R2xr8xQEx7pHbGvzFATHukdsa/MUBMe6R2xr8xQEx7pHbGvzFATHukdsa/MUBMe6R2xr8xQEx7pHbGvzFATHukdsa/MUBMe6R2xr8xQEx7pHbGvzFATHukdsa/MUBMe6R2xr8xQEx7pHbGvzFATHukdsa/MUBMe6R2xr8xQEx7pHbGvzFATHukdsa/MUBMe6R2xr8xQEx7pHbGvzFATHukdsa/MUBMe6R2xr8xQEx7pHbGvzFATHukdsa/MUBMe6R2xr8xQEx7pHbGvzFATHukdsa/MUBMe6R2xr8xQEx7pHbGvzFATHukdsa/MUBMe6R2xr8xQEx7pHbGvzFATHukdsa/MUBMe6R2xr8xQEx7pHbGvzFATHukdsa/MUBMe6R2xr8xQEx7pHbGvzFATHukdsa/MUBMe6R2xr8xQEx7pHbGvzFATHukdsa/MUBMe6R2xr8xQEx7pHbGvzFATHukdsa/MUBMe6R2xr8xQEx7pHbGvzFATHukdsa/MUBMe6R2xr8xQEx7pHbGvzFATHukdsa/MUBMe6R2xr8xQEx7pHbGvzFATHukdsa/MUBMe6R2xr8xQEx7pHbGvzFATHukdsa/MUBMe6R2xr8xQEx7pHbGvzFATHukdsa/MUBMe6R2xr8xQEx7pHbGvzFATHukdsa/MUBMe6R2xr8xQEx7pHbGvzFATHukdsa/MUBMe6R2xr8xQEx7pHbGvzFATHukdsa/MUBMe6R2xr8xQEx7pHbGvzFATHukdsa/MUBMe6R2xr8xQEx7pHbGvzFATHukdsa/MUBMe6R2xr8xQEx7pHbGvzFATHukdsa/MUBMe6R2xr8xQEx7pHbGvzFATHukdsa/MUBMe6R2xr8xQEx7pHbGvzFATHukdsa/MUBMe6R2xr8xQEx7pHbGvzFATHukdsa/MUBMe6R2xr8xQEx7pHbGvzFATHukdsa/MUBMe6R2xr8xQEx7pHbGvzFATHukdsa/MUBMe6R2xr8xQEx7pHbGvzFATHukdsa/MUBMe6R2xr8xQEx7pHbGvzFATHukdsa/MUBMe6R2xr8xQEx7pHbGvzFATHukdsa/MUBMe6R2xr8xQEx7pHbGvzFATHukdsa/MUBMe6R2xr8xQEx7pHbGvzFATHukdsa/MUBMe6R2xr8xQEx7pHbGvzFATHukdsa/MUBMe6R2xr8xQEx7pHbGvzFATHukdsa/MUBMe6R2xr8xQEx7pHbGvzFATHukdsa/MUBMe6R2xr8xQEx7pHbGvzFATHukdsa/MUBMe6R2xr8xQEx7pHbGvzFATHukdsa/MUBMe6R2xr8xQEx7pHbGvzFATHukdsa/MUBMe6R2xr8xQEx7pHbGvzFATHukdsa/MUBMe6R2xr8xQEx7pHbGvzFATHukdsa/MUBMe6R2xr8xQEx7pHbGvzFATHukdsa/MUBMe6R2xr8xQEx7pHbGvzFATHukdsa/MUBMe6R2xr8xQEx7pHbGvzFATHukdsa/MUBMe6R2xr8xQEx7pHbGvzFATHukdsa/MUBMe6R2xr8xQEx7pHbGvzFATHukdsa/MUBMe6R2xr8xQEx7pHbGvzFATHukdsa/MUBMe6R2xr8xQEx7pHbGvzFATHukdsa/MUBMe6R2xr8xQEx7pHbGvzFATHukdsa/MUBMe6R2xr8xQEx7pHbGvzFATHukdsa/MUBMe6R2xr8xQEx7pHbGvzFATHukdsa/MUBMe6R2xr8xQEx7pHbGvzFATHukdsa/MUBMe6R2xr8xQEx7pHbGvzFATHukdsa/MUBMe6R2xr8xQEx7pHbGvzFATHukdsa/MUBMe6R2xr8xQEx7pHbGvzFATHukdsa/MUBMe6R2xr8xQEx7pHbGvzFATHukdsa/MUBMe6R2xr8xQEx7pHbGvzFATHukdsa/MUBMe6R2xr8xQEx7pHbGvzFATHukdsa/MUBMe6R2xr8xQEx7pHbGvzFATHukdsa/MUBMe6R2xr8xQEx7pHbGvzFATHukdsa/MUBMe6R2xr8xQEx7pHbGvzFATHukdsa/MUBMe6R2xr8xQEx7pHbGvzFATHukdsa/MUBMe6R2xr8xQEx7pHbGvzFATHukdsa/MUBMe6R2xr8xQEx7pHbGvzFATHukdsa/MUBMe6R2xr8xQEx7pHbGvzFATHukdsa/MUBMe6R2xr8xQEx7pHbGvzFATHukdsa/MUBMe6R2xr8xQEx7pHbGvzFATHukdsa/MUBMe6R2xr8xQEx7pHbGvzFATHukdsa/MUBMe6R2xr8xQEx7pHbGvzFATHukdsa/MUBMe6R2xr8xQEx7pHbGvzFATHukdsa/MUBMe6R2xr8xQEx7pHbGvzFATHukdsa/MUBMe6R2xr8xQEx7pHbGvzFATHukdsa/MUBMe6R2xr8xQEx7pHbGvzFATHukdsa/MUBMe6R2xr8xQEx7pHbGvzFATHukdsa/MUBMe6R2xr8xQEx7pHbGvzFATHukdsa/MUBMe6R2xr8xQEx7pHbGvzFATHukdsa/MUBMe6R2xr8xQEx7pHbGvzFATHukdsa/MUBMe6R2xr8xQEx7pHbGvzFATHukdsa/MUBMe6R2xr8xQEx7pHbGvzFATHukdsa/MUBMe6R2xr8xQEx7pHbGvzFATHukdsa/MUBMe6R2xr8xQEx7pHbGvzFATHukdsa/MUBMe6R2xr8xQEx7pHbGvzFATHukdsa/MUBMe6R2xr8xQEx7pHbGvzFATHukdsa/MUBMe6R2xr8xQEx7pHbGvzFATHukdsa/MUBMe6R2xr8xQEx7pHbGvzFATHukdsa/MUBMe6R2xr8xQEx7pHbGvzFATHukdsa/MUBMe6R2xr8xQEx7pHbGvzFATHukdsa/MUBMe6R2xr8xQEx7pHbGvzFATHukdsa/MUBMe6R2xr8xQEx7pHbGvzFATHukdsa/MUBMe6R2xr8xQEx7pHbGvzFATHukdsa/MUBMe6R2xr8xQEx7pHbGvzFATHukdsa/MUBMe6R2xr8xQEx7pHbGvzFATHukdsa/MUBMe6R2xr8xQEx7pHbGvzFATHukdsa/MUBMe6R2xr8xQEx7pHbGvzFATHukdsa/MUBMe6R2xr8xQEx7pHbGvzFATHukdsa/MUBMe6R2xr8xQEx7pHbGvzFATHukdsa/MUBMe6R2xr8xQEx7pHbGvzFATHukdsa/MUBMe6R2xr8xQEx7pHbGvzFATHukdsa/MUBMe6R2xr8xQEx7pHbGvzFATHukdsa/MUBMe6R2xr8xQEx7pHbGvzFATHukdsa/MUBMe6R2xr8xQEx7pHbGvzFATHukdsa/MUBMe6R2xr8xQEx7pHbGvzFATHukdsa/MUBMe6R2xr8xQEx7pHbGvzFATHukdsa/MUBMe6R2xr8xQEx7pHbGvzFATHukdsa/MUBMe6R2xr8xQEx7pHbGvzFATHukdsa/MUBMe6R2xr8xQEx7pHbGvzFATHukdsa/MUBMe6R2xr8xQEx7pHbGvzFATHukdsa/MUBMe6R2xr8xQEx7pHbGvzFATHukdsa/MUBMe6R2xr8xQEx7pHbGvzFATHukdsa/MUBMe6R2xr8xQEx7pHbGvzFATHukdsa/MUBMe6R2xr8xQEx7pHbGvzFATHukdsa/MUBMe6R2xr8xQEx7pHbGvzFATHukdsa/MUBMe6R2xr8xQEx7pHbGvzFATHukdsa/MUBMe6R2xr8xQEx7pHbGvzFATHukdsa/MUBMe6R2xr8xQEx7pHbGvzFATHukdsa/MUBMe6R2xr8xQEx7pHbGvzFATHukdsa/MUBMe6R2xr8xQEx7pHbGvzFATHukdsa/MUBMe6R2xr8xQEx7pHbGvzFATHukdsa/MUBMe6R2xr8xQEx7pHbGvzFATHukdsa/MUBMe6R2xr8xQEx7pHbGvzFATHukdsa/MUBMe6R2xr8xQEx7pHbGvzFATHukdsa/MUBMe6R2xr8xQEx7pHbGvzFATHukdsa/MUBMe6R2xr8xQEx7pHbGvzFATHukdsa/MUBMe6R2xr8xQEx7pHbGvzFATHukdsa/MUBMe6R2xr8xQEx7pHbGvzFATHukdsa/MUBMe6R2xr8xQEx7pHbGvzFATHukdsa/MUBMe6R2xr8xQEx7pHbGvzFATHukdsa/MUBMe6R2xr8xQEx7pHbGvzFATHukdsa/MUBMe6R2xr8xQEx7pHbGvzFATHukdsa/MUBMe6R2xr8xQEx7pHbGvzFATHukdsa/MUBMe6R2xr8xQEx7pHbGvzFATHukdsa/MUBMe6R2xr8xQEx7pHbGvzFATHukdsa/MUBMe6R2xr8xQEx7pHbGvzFATHukdsa/MUBMe6R2xr8xQEx7pHbGvzFATHukdsa/MUBMe6R2xr8xQEx7pHbGvzFATHukdsa/MUBMe6R2xr8xQEx7pHbGvzFATHukdsa/MUBMe6R2xr8xQEx7pHbGvzFATHukdsa/MUBMe6R2xr8xQEx7pHbGvzFATHukdsa/MUBMe6R2xr8xQEx7pHbGvzFATHukdsa/MUBMe6R2xr8xQEx7pHbGvzFATHukdsa/MUBMe6R2xr8xQEx7pHbGvzFATHukdsa/MUBMe6R2xr8xQEx7pHbGvzFATHukdsa/MUBMe6R2xr8xQEx7pHbGvzFATHukdsa/MUBMe6R2xr8xQEx7pHbGvzFATHukdsa/MUBMe6R2xr8xQEx7pHbGvzFATHukdsa/MUBMe6R2xr8xQEx7pHbGvzFATHukdsa/MUBMe6R2xr8xQEx7pHbGvzFATHukdsa/MUBMe6R2xr8xQEx7pHbGvzFATHukdsa/MUBMe6R2xr8xQEx7pHbGvzFATHukdsa/MUBMe6R2xr8xQEx7pHbGvzFATHukdsa/MUBMe6R2xr8xQEx7pHbGvzFATHukdsa/MUBMe6R2xr8xQEx7pHbGvzFATHukdsa/MUBMe6R2xr8xQEx7pHbGvzFATHukdsa/MUBMe6R2xr8xQEx7pHbGvzFATHukdsa/MUBMe6R2xr8xQEx7pHbGvzFATHukdsa/MUBMe6R2xr8xQEx7pHbGvzFATHukdsa/MUBMe6R2xr8xQEx7pHbGvzFATHukdsa/MUBMe6R2xr8xQEx7pHbGvzFATHukdsa/MUBMe6R2xr8xQEx7pHbGvzFATHukdsa/MUBMe6R2xr8xQEx7pHbGvzFATHukdsa/MUBMe6R2xr8xQEx7pHbGvzFATHukdsa/MUBMe6R2xr8xQEx7pHbGvzFATHukdsa/MUBMe6R2xr8xQEx7pHbGvzFATHukdsa/MUBMe6R2xr8xQEx7pHbGvzFATHukdsa/MUBMe6R2xr8xQEx7pHbGvzFATHukdsa/MUBMe6R2xr8xQEx7pHbGvzFATHukdsa/MUBMe6R2xr8xQEx7pHbGvzFATHukdsa/MUBMe6R2xr8xQEx7pHbGvzFATHukdsa/MUBMe6R2xr8xQEx7pHbGvzFATHukdsa/MUBMe6R2xr8xQEx7pHbGvzFATHukdsa/MUBMe6R2xr8xQEx7pHbGvzFATHukdsa/MUBMe6R2xr8xQEx7pHbGvzFATHukdsa/MUBMe6R2xr8xQEx7pHbGvzFATHukdsa/MUBMe6R2xr8xQEx7pHbGvzFATHukdsa/MUBMe6R2xr8xQEx7pHbGvzFATHukdsa/MUBMe6R2xr8xQEx7pHbGvzFATHukdsa/MUBMe6R2xr8xQEx7pHbGvzFATHukdsa/MUBMe6R2xr8xQEx7pHbGvzFATHukdsa/MUBMe6R2xr8xQEx7pHbGvzFATHukdsa/MUBMe6R2xr8xQEx7pHbGvzFATHukdsa/MUBMe6R2xr8xQEx7pHbGvzFATHukdsa/MUBMe6R2xr8xQEx7pHbGvzFATHukdsa/MUBMe6R2xr8xQEx7pHbGvzFATHukdsa/MUBMe6R2xr8xQEx7pHbGvzFATHukdsa/MUBMe6R2xr8xQEx7pHbGvzFATHukdsa/MUBMe6R2xr8xQEx7pHbGvzFATHukdsa/MUBMe6R2xr8xQEx7pHbGvzFATHukdsa/MUBMe6R2xr8xQEx7pHbGvzFATHukdsa/MUBMe6R2xr8xQEx7pHbGvzFATHukdsa/MUBMe6R2xr8xQEx7pHbGvzFATHukdsa/MUBMe6R2xr8xQEx7pHbGvzFATHukdsa/MUBMe6R2xr8xQEx7pHbGvzFATHukdsa/MUBMe6R2xr8xQEx7pHbGvzFATHukdsa/MUBMe6R2xr8xQEx7pHbGvzFATHukdsa/MUBMe6R2xr8xQEx7pHbGvzFATHukdsa/MUBMe6R2xr8xQEx7pHbGvzFATHukdsa/MUBMe6R2xr8xQEx7pHbGvzFATHukdsa/MUBMe6R2xr8xQEx7pHbGvzFATHukdsa/MUBMe6R2xr8xQEx7pHbGvzFATHukdsa/MUBMe6R2xr8xQEx7pHbGvzFATHukdsa/MUBMe6R2xr8xQEx7pHbGvzFATHukdsa/MUBMe6R2xr8xQEx7pHbGvzFATHukdsa/MUBMe6R2xr8xQEx7pHbGvzFATHukdsa/MUBMe6R2xr8xQEx7pHbGvzFATHukdsa/MUBMe6R2xr8xQEx7pHbGvzFATHukdsa/MUBMe6R2xr8xQEx7pHbGvzFATHukdsa/MUBMe6R2xr8xQEx7pHbGvzFATHukdsa/MUBMe6R2xr8xQEx7pHbGvzFATHukdsa/MUBMe6R2xr8xQEx7pHbGvzFATHukdsa/MUBMe6R2xr8xQEx7pHbGvzFATHukdsa/MUBMe6R2xr8xQEx7pHbGvzFATHukdsa/MUBMe6R2xr8xQEx7pHbGvzFATHukdsa/MUBMe6R2xr8xQEx7pHbGvzFATHukdsa/MUBMe6R2xr8xQEx7pHbGvzFATHukdsa/MUBMe6R2xr8xQEx7pHbGvzFATHukdsa/MUBMe6R2xr8xQEx7pHbGvzFATHukdsa/MUBMe6R2xr8xQEx7pHbGvzFATHukdsa/MUBMe6R2xr8xQEx7pHbGvzFATHukdsa/MUBMe6R2xr8xQEx7pHbGvzFATHukdsa/MUBMe6R2xr8xQEx7pHbGvzFATHukdsa/MUBMe6R2xr8xQEx7pHbGvzFATHukdsa/MUBMe6R2xr8xQEx7pHbGvzFATHukdsa/MUBMe6R2xr8xQEx7pHbGvzFATHukdsa/MUBMe6R2xr8xQEx7pHbGvzFATHukdsa/MUBMe6R2xr8xQEx7pHbGvzFATHukdsa/MUBMe6R2xr8xQEx7pHbGvzFATHukdsa/MUBMe6R2xr8xQEx7pHbGvzFATHukdsa/MUBMe6R2xr8xQEx7pHbGvzFATHukdsa/MUBMe6R2xr8xQEx7pHbGvzFATHukdsa/MUBMe6R2xr8xQEx7pHbGvzFATHukdsa/MUBMe6R2xr8xQEx7pHbGvzFATHukdsa/MUBMe6R2xr8xQEx7pHbGvzFATHukdsa/MUBMe6R2xr8xQEx7pHbGvzFATHukdsa/MUBMe6R2xr8xQEx7pHbGvzFATHukdsa/MUBMe6R2xr8xQEx7pHbGvzFATHukdsa/MUBMe6R2xr8xQEx7pHbGvzFATHukdsa/MUBMe6R2xr8xQEx7pHbGvzFATHukdsa/MUBMe6R2xr8xQEx7pHbGvzFATHukdsa/MUBMe6R2xr8xQEx7pHbGvzFATHukdsa/MUBMe6R2xr8xQEx7pHbGvzFATHukdsa/MUBMe6R2xr8xQEx7pHbGvzFATHukdsa/MUBMe6R2xr8xQEx7pHbGvzFATHukdsa/MUBMe6R2xr8xQEx7pHbGvzFATHukdsa/MUBMe6R2xr8xQEx7pHbGvzFATHukdsa/MUBMe6R2xr8xQEx7pHbGvzFATHukdsa/MUBMe6R2xr8xQEx7pHbGvzFATHukdsa/MUBMe6R2xr8xQEx7pHbGvzFATHukdsa/MUBMe6R2xr8xQEx7pHbGvzFATHukdsa/MUBMe6R2xr8xQEx7pHbGvzFATHukdsa/MUBMe6R2xr8xQEx7pHbGvzFATHukdsa/MUBMe6R2xr8xQEx7pHbGvzFATHukdsa/MUBMe6R2xr8xQEx7pHbGvzFATHukdsa/MUBMe6R2xr8xQEx7pHbGvzFATHukdsa/MUBMe6R2xr8xQEx7pHbGvzFATHukdsa/MUBMe6R2xr8xQEx7pHbGvzFATHukdsa/MUBMe6R2xr8xQEx7pHbGvzFATHukdsa/MUBMe6R2xr8xQEx7pHbGvzFATHukdsa/MUBMe6R2xr8xQEx7pHbGvzFATHukdsa/MUBMe6R2xr8xQEx7pHbGvzFATHukdsa/MUBMe6R2xr8xQEx7pHbGvzFATHukdsa/MUBMe6R2xr8xQEx7pHbGvzFATHukdsa/MUBMe6R2xr8xQEx7pHbGvzFATHukdsa/MUBMe6R2xr8xQEx7pHbGvzFATHukdsa/MUBMe6R2xr8xQEx7pHbGvzFATHukdsa/MUBMe6R2xr8xQEx7pHbGvzFATHukdsa/MUBMe6R2xr8xQEx7pHbGvzFATHukdsa/MUBMe6R2xr8xQEx7pHbGvzFATHukdsa/MUBMe6R2xr8xQEx7pHbGvzFATHukdsa/MUBMe6R2xr8xQEx7pHbGvzFATHukdsa/MUBMe6R2xr8xQEx7pHbGvzFATHukdsa/MUBMe6R2xr8xQEx7pHbGvzFATHukdsa/MUBMe6R2xr8xQEx7pHbGvzFATHukdsa/MUBMe6R2xr8xQEx7pHbGvzFATHukdsa/MUBMe6R2xr8xQEx7pHbGvzFATHukdsa/MUBMe6R2xr8xQEx7pHbGvzFATHukdsa/MUBMe6R2xr8xQEx7pHbGvzFATHukdsa/MUBMe6R2xr8xQEx7pHbGvzFATHukdsa/MUBMe6R2xr8xQEx7pHbGvzFATHukdsa/MUBMe6R2xr8xQEx7pHbGvzFATHukdsa/MUBMe6R2xr8xQEx7pHbGvzFATHukdsa/MUBMe6R2xr8xQEx7pHbGvzFATHukdsa/MUBMe6R2xr8xQEx7pHbGvzFATHukdsa/MUBMe6R2xr8xQEx7pHbGvzFATHukdsa/MUBMe6R2xr8xQEx7pHbGvzFA8DjhncOfHMDwOOGdw58cwPA44Z3DnxzA8DjhncOfHMDwOOGdw58cwPA44Z3DnxzA8DjhncOfHMDwOOGdw58cwPA44Z3DnxzA8DjhncOfHMDwOOGdw58cwPA44Z3DnxzA8DjhncOfHMDwOOGdw58cwPA44Z3DnxzA8DjhncOfHMDwOOGdw58cwPA44Z3DnxzA8DjhncOfHMDwOOGdw58cwPA44Z3DnxzA8DjhncOfHMDwOOGdw58cwPA44Z3DnxzA8DjhncOfHMDwOOGdw58cwPA44Z3DnxzA8DjhncOfHMDwOOGdw58cwPA44Z3DnxzA8DjhncOfHMDwOOGdw58cwPA44Z3DnxzA8DjhncOfHMDwOOGdw58cwPA44Z3DnxzA8DjhncOfHMDwOOGdw58cwPA44Z3DnxzA8DjhncOfHMDwOOGdw58cwPA44Z3DnxzA8DjhncOfHMDwOOGdw58cwPA44Z3DnxzA8DjhncOfHMDwOOGdw58cwPA44Z3DnxzA8DjhncOfHMDwOOGdw58cwPA44Z3DnxzA8DjhncOfHMDwOOGdw58cwPA44Z3DnxzA8DjhncOfHMDwOOGdw58cwPA44Z3DnxzA8DjhncOfHMDwOOGdw58cwPA44Z3DnxzA8DjhncOfHMDwOOGdw58cwPA44Z3DnxzA8DjhncOfHMDwOOGdw58cwPA44Z3DnxzA8DjhncOfHMDwOOGdw58cwPA44Z3DnxzA8DjhncOfHMDwOOGdw58cwPA44Z3DnxzA8DjhncOfHMDwOOGdw58cwPA44Z3DnxzA8DjhncOfHMDwOOGdw58cwPA44Z3DnxzA8DjhncOfHMDwOOGdw58cwPA44Z3DnxzA8DjhncOfHMDwOOGdw58cwPA44Z3DnxzA8DjhncOfHMDwOOGdw58cwPA44Z3DnxzA8DjhncOfHMDwOOGdw58cwPA44Z3DnxzA8DjhncOfHMDwOOGdw58cwPA44Z3DnxzA8DjhncOfHMDwOOGdw58cwPA44Z3DnxzA8DjhncOfHMDwOOGdw58cwPA44Z3DnxzA8DjhncOfHMDwOOGdw58cwPA44Z3DnxzA8DjhncOfHMDwOOGdw58cwPA44Z3DnxzA8DjhncOfHMDwOOGdw58cwPA44Z3DnxzA8DjhncOfHMDwOOGdw58cwPA44Z3DnxzA8DjhncOfHMDwOOGdw58cwPA44Z3DnxzA8DjhncOfHMDwOOGdw58cwPA44Z3DnxzA8DjhncOfHMDwOOGdw58cwPA44Z3DnxzA8DjhncOfHMDwOOGdw58cwPA44Z3DnxzA8DjhncOfHMDwOOGdw58cwPA44Z3DnxzA8DjhncOfHMDwOOGdw58cwPA44Z3DnxzA8DjhncOfHMDwOOGdw58cwPA44Z3DnxzA8DjhncOfHMDwOOGdw58cwPA44Z3DnxzA8DjhncOfHMDwOOGdw58cwPA44Z3DnxzA8DjhncOfHMDwOOGdw58cwPA44Z3DnxzA8DjhncOfHMDwOOGdw58cwPA44Z3DnxzA8DjhncOfHMDwOOGdw58cwPA44Z3DnxzA8DjhncOfHMDwOOGdw58cwPA44Z3DnxzA8DjhncOfHMDwOOGdw58cwPA44Z3DnxzA8DjhncOfHMDwOOGdw58cwPA44Z3DnxzA8DjhncOfHMDwOOGdw58cwPA44Z3DnxzA8DjhncOfHMDwOOGdw58cwPA44Z3DnxzA8DjhncOfHMDwOOGdw58cwPA44Z3DnxzA8DjhncOfHMDwOOGdw58cwPA44Z3DnxzA8DjhncOfHMDwOOGdw58cwPA44Z3DnxzA8DjhncOfHMDwOOGdw58cwPA44Z3DnxzA8DjhncOfHMDwOOGdw58cwPA44Z3DnxzA8DjhncOfHMDwOOGdw58cwPA44Z3DnxzA8DjhncOfHMDwOOGdw58cwPA44Z3DnxzA8DjhncOfHMDwOOGdw58cwPA44Z3DnxzA8DjhncOfHMDwOOGdw58cwPA44Z3DnxzA8DjhncOfHMDwOOGdw58cwPA44Z3DnxzA8DjhncOfHMDwOOGdw58cwPA44Z3DnxzA8DjhncOfHMDwOOGdw58cwPA44Z3DnxzA8DjhncOfHMDwOOGdw58cwPA44Z3DnxzA8DjhncOfHMDwOOGdw58cwPA44Z3DnxzA8DjhncOfHMDwOOGdw58cwPA44Z3DnxzA8DjhncOfHMDwOOGdw58cwPA44Z3DnxzA8DjhncOfHMDwOOGdw58cwPA44Z3DnxzA8DjhncOfHMDwOOGdw58cwPA44Z3DnxzA8DjhncOfHMDwOOGdw58cwPA44Z3DnxzA8DjhncOfHMDwOOGdw58cwPA44Z3DnxzA8DjhncOfHMDwOOGdw58cwPA44Z3DnxzA8DjhncOfHMDwOOGdw58cwBjtyCcrRijAGO3IJytGKMAY7cgnK0YowBjtyCcrRijAGO3IJytGKMAY7cgnK0YowBjtyCcrRijAGO3IJytGKMAY7cgnK0YowBjtyCcrRijAGO3IJytGKMAY7cgnK0YowBjtyCcrRijAGO3IJytGKMAY7cgnK0YowBjtyCcrRijAGO3IJytGKMAY7cgnK0YowBjtyCcrRijAGO3IJytGKMAY7cgnK0YowBjtyCcrRijAGO3IJytGKMAY7cgnK0YowBjtyCcrRijAGO3IJytGKMAY7cgnK0YowOKLyiLUB0DA4ovKItQHQMDii8oi1AdAwOKLyiLUB0DA4ovKItQHQMDii8oi1AdAwOKLyiLUB0DA4ovKItQHQMDii8oi1AdAwOKLyiLUB0DA4ovKItQHQMDii8oi1AdAwOKLyiLUB0DA4ovKItQHQMDii8oi1AdAwOKLyiLUB0DA4ovKItQHQMDii8oi1AdAwOKLyiLUB0DA4ovKItQHQMDii8oi1AdAwOKLyiLUB0DA4ovKItQHQMDii8oi1AdAwOKLyiLUB0DA4ovKItQHQMDii8oi1AdAwOKLyiLUB0DA4ovKItQHQMDii8oi1AdAwOKLyiLUB0DA4ovKItQHQMDii8oi1AdAwOKLyiLUB0DA4ovKItQHQMDii8oi1AdAwOKLyiLUB0DA4ovKItQHQMDii8oi1AdAwOKLyiLUB0DA4ovKItQHQMDii8oi1AdAwOKLyiLUB0DA4ovKItQHQMDii8oi1AdAwOKLyiLUB0DA4ovKItQHQMDii8oi1AdAwOKLyiLUB0DA4ovKItQHQMDii8oi1AdAwOKLyiLUB0DA4ovKItQHQMDii8oi1AdAwOKLyiLUB0DA4ovKItQHQMDii8oi1AdAwOKLyiLUB0DA4ovKItQHQMDii8oi1AdAwOKLyiLUB0DA4ovKItQHQMDii8oi1AdAwOKLyiLUB0DA4ovKItQHQMDii8oi1AdAwOKLyiLUB0DA4ovKItQHQMDii8oi1AdAwOKLyiLUB0DA4ovKItQHQMDii8oi1AdAwOKLyiLUB0DA4ovKItQHQMDii8oi1AdAwOKLyiLUB0DA4ovKItQHQMDii8oi1AdAwOKLyiLUB0DA4ovKItQHQMDii8oi1AdAwOKLyiLUB0DA4ovKItQHQMDii8oi1AdAwOKLyiLUB0DA4ovKItQHQMDii8oi1AdAwOKLyiLUB0DA4ovKItQHQMDii8oi1AdAwOKLyiLUB0DA4ovKItQHQMDii8oi1AdAwOKLyiLUB0DA4ovKItQHQMDii8oi1AdAwOKLyiLUB0DA4ovKItQHQMDii8oi1AdAwOKLyiLUB0DA4ovKItQHQMDii8oi1AdAwOKLyiLUB0DA4ovKItQHQMDii8oi1AdAwOKLyiLUB0DA4ovKItQHQMDii8oi1AdAwOKLyiLUB0DA4ovKItQHQMDii8oi1AdAwOKLyiLUB0DA4ovKItQHQMDii8oi1AdAwOKLyiLUB0DA4ovKItQHQMDii8oi1AdAwOKLyiLUB0DA4ovKItQHQMDii8oi1AdAwOKLyiLUB0DA4ovKItQHQMDii8oi1AdAwOKLyiLUB0DA4ovKItQHQMDii8oi1AdAwOKLyiLUB0DA4ovKItQHQMDii8oi1AdAwOKLyiLUB0DA4ovKItQHQMDii8oi1AdAwOKLyiLUB0DA4ovKItQHQMDii8oi1AdAwOKLyiLUB0DA4ovKItQHQMDii8oi1AdAwOKLyiLUB0DA4ovKItQHQMDii8oi1AdAwOKLyiLUB0DA4ovKItQHQMDii8oi1AdAwOKLyiLUB0DA4ovKItQHQMDii8oi1AdAwOKLyiLUB0DA4ovKItQHQMDii8oi1AdAwOKLyiLUB0DA4ovKItQHQMDii8oi1AdAwOKLyiLUB0DA4ovKItQHQMDii8oi1AdAwOKLyiLUB0DA4ovKItQHQMDii8oi1AdAwOKLyiLUB0DA4ovKItQHQMDii8oi1AdAwOKLyiLUB0DA4ovKItQHQMDii8oi1AdAwOKLyiLUB0DA4ovKItQHQMDii8oi1AdAwOKLyiLUB0DA4ovKItQHQMDii8oi1AdAwOKLyiLUB0DA4ovKItQHQMDii8oi1AdAwOKLyiLUB0DA4ovKItQHQMDii8oi1AdAwOKLyiLUB0DA4ovKItQHQMDii8oi1AdAwOKLyiLUB0DA4ovKItQHQMDii8oi1AdAwOKLyiLUB0DA4ovKItQHQMDii8oi1AdAwOKLyiLUB0DA4ovKItQHQMDii8oi1AdAwOKLyiLUB0DA4ovKItQHQMDii8oi1AdAwOKLyiLUB0DA4ovKItQHQMDii8oi1AdAwOKLyiLUB0DA4ovKItQHQMDii8oi1AdAwOKLyiLUB0DA4ovKItQHQMDii8oi1AdAwOKLyiLUB0DA4ovKItQHQMDii8oi1AdAwOKLyiLUB0DA4ovKItQHQMBEvlH6wUFGwES+UfrBQUbARL5R+sFBRsBEvlH6wUFGwES+UfrBQUbARL5R+sFBRsBEvlH6wUFGwES+UfrBQUbARL5R+sFBRsBEvlH6wUFGwES+UfrBQUbApvDY0a97TMCm8NjRr3tMwKbw2NGve0zApvDY0a97TMCm8NjRr3tMwKbw2NGve0zApvDY0a97TMCm8NjRr3tMwKbw2NGve0zApvDY0a97TMCm8NjRr3tMwKbw2NGve0zApvDY0a97TMCm8NjRr3tMwKbw2NGve0zApvDY0a97TMCm8NjRr3tMwKbw2NGve0zApvDY0a97TMCm8NjRr3tMwKbw2NGve0zApvDY0a97TMCm8NjRr3tMwKbw2NGve0zApvDY0a97TMCm8NjRr3tMwKbw2NGve0zApvDY0a97TMCm8NjRr3tMwKbw2NGve0zApvDY0a97TMCm8NjRr3tMwKbw2NGve0zApvDY0a97TMCm8NjRr3tMwKbw2NGve0zApvDY0a97TMCm8NjRr3tMwKbw2NGve0zApvDY0a97TMCm8NjRr3tMwKbw2NGve0zApvDY0a97TMCm8NjRr3tMwKbw2NGve0zApvDY0a97TMCm8NjRr3tMwKbw2NGve0zApvDY0a97TMCm8NjRr3tMwKbw2NGve0zApvDY0a97TMCm8NjRr3tMwKbw2NGve0zApvDY0a97TMCm8NjRr3tMwKbw2NGve0zApvDY0a97TMCm8NjRr3tMwKbw2NGve0zApvDY0a97TMCm8NjRr3tMwKbw2NGve0zApvDY0a97TMCm8NjRr3tMwKbw2NGve0zAtapzwMV3VMC1qnPAxXdUwLWqc8DFd1TAtapzwMV3VMC1qnPAxXdUwLWqc8DFd1TAtapzwMV3VMC1qnPAxXdUwLWqc8DFd1TAtapzwMV3VMC1qnPAxXdUwLWqc8DFd1TAtapzwMV3VMC1qnPAxXdUwLWqc8DFd1TAtapzwMV3VMC1qnPAxXdUwLWqc8DFd1TAtapzwMV3VMC1qnPAxXdUwLWqc8DFd1TAtapzwMV3VMC1qnPAxXdUwLWqc8DFd1TAtapzwMV3VMC1qnPAxXdUwLWqc8DFd1TAtapzwMV3VMC1qnPAxXdUwLWqc8DFd1TAtapzwMV3VMC1qnPAxXdUwLWqc8DFd1TAtapzwMV3VMC1qnPAxXdUwLWqc8DFd1TAtapzwMV3VMC1qnPAxXdUwLWqc8DFd1TAtapzwMV3VMC1qnPAxXdUwLWqc8DFd1TAtapzwMV3VMC1qnPAxXdUwLWqc8DFd1TAtapzwMV3VMC1qnPAxXdUwLWqc8DFd1TAtapzwMV3VMC1qnPAxXdUwLWqc8DFd1TAtapzwMV3VMC1qnPAxXdUwLWqc8DFd1TAtapzwMV3VMC1qnPAxXdUwLWqc8DFd1TAtapzwMV3VMC1qnPAxXdUwLWqc8DFd1TAtapzwMV3VMC1qnPAxXdUwLWqc8DFd1TAtapzwMV3VMC1qnPAxXdUwLWqc8DFd1TAtapzwMV3VMC1qnPAxXdUwLWqc8DFd1TAtapzwMV3VMC1qnPAxXdUwLWqc8DFd1TAtapzwMV3VMC1qnPAxXdUwLWqc8DFd1TAtapzwMV3VMC1qnPAxXdUwLWqc8DFd1TAtapzwMV3VMC1qnPAxXdUwLWqc8DFd1TAtapzwMV3VMC1qnPAxXdUwLWqc8DFd1TAtapzwMV3VMC1qnPAxXdUwLWqc8DFd1TAtapzwMV3VMC1qnPAxXdUwLWqc8DFd1TAtapzwMV3VMC1qnPAxXdUwLWqc8DFd1TAtapzwMV3VMC1qnPAxXdUwLWqc8DFd1TAtapzwMV3VMC1qnPAxXdUwLWqc8DFd1TAtapzwMV3VMC1qnPAxXdUwLWqc8DFd1TAtapzwMV3VMC1qnPAxXdUwLWqc8DFd1TAtapzwMV3VMC1qnPAxXdUwLWqc8DFd1TAtapzwMV3VMC1qnPAxXdUwLWqc8DFd1TAtapzwMV3VMC1qnPAxXdUwLWqc8DFd1TAtapzwMV3VMC1qnPAxXdUwLWqc8DFd1TAtapzwMV3VMC1qnPAxXdUwLWqc8DFd1TAtapzwMV3VMC1qnPAxXdUwLWqc8DFd1TAtapzwMV3VMC1qnPAxXdUwLWqc8DFd1TAtapzwMV3VMC1qnPAxXdUwLWqc8DFd1TAtapzwMV3VMC1qnPAxXdUwLWqc8DFd1TAtapzwMV3VMC1qnPAxXdUwLWqc8DFd1TAtapzwMV3VMC1qnPAxXdUwLWqc8DFd1TAF936l7OxWsAX3fqXs7FawBfd+pezsVrAF936l7OxWsAX3fqXs7FawBfd+pezsVrAF936l7OxWsAX3fqXs7FawBfd+pezsVrAF936l7OxWsAX3fqXs7FawBfd+pezsVrAF936l7OxWsAX3fqXs7FawBfd+pezsVrAF936l7OxWsAX3fqXs7FawBfd+pezsVrAF936l7OxWsAX3fqXs7FawBfd+pezsVrAF936l7OxWsAX3fqXs7FawBfd+pezsVrAF936l7OxWsAX3fqXs7FawBfd+pezsVrAF936l7OxWsAX3fqXs7FawBfd+pezsVrAF936l7OxWsAX3fqXs7FawBfd+pezsVrAF936l7OxWsAX3fqXs7FawBfd+pezsVrAF936l7OxWsAX3fqXs7FawBfd+pezsVrAF936l7OxWsAX3fqXs7FawBfd+pezsVrAF936l7OxWsAX3fqXs7FawBfd+pezsVrAF936l7OxWsAX3fqXs7FawBfd+pezsVrAF936l7OxWsAX3fqXs7FawBfd+pezsVrAF936l7OxWsAX3fqXs7FawBfd+pezsVrAF936l7OxWsAX3fqXs7FawBfd+pezsVrAF936l7OxWsAX3fqXs7FawBfd+pezsVrAF936l7OxWsAX3fqXs7FawBfd+pezsVrAF936l7OxWsAX3fqXs7FawBfd+pezsVrAF936l7OxWsAX3fqXs7FawBfd+pezsVrAF936l7OxWsAX3fqXs7FawBfd+pezsVrAF936l7OxWsAX3fqXs7FawBfd+pezsVrAF936l7OxWsAX3fqXs7FawBfd+pezsVrAF936l7OxWsAX3fqXs7FawBfd+pezsVrAF936l7OxWsAX3fqXs7FawBfd+pezsVrAF936l7OxWsAX3fqXs7FawBfd+pezsVrAF936l7OxWsAX3fqXs7FawBfd+pezsVrAF936l7OxWsAX3fqXs7FawBfd+pezsVrAF936l7OxWsAX3fqXs7FawBfd+pezsVrAF936l7OxWsAX3fqXs7FawBfd+pezsVrAF936l7OxWsAX3fqXs7FawBfd+pezsVrAF936l7OxWsAX3fqXs7FawBfd+pezsVrAF936l7OxWsAX3fqXs7FawBfd+pezsVrAF936l7OxWsAX3fqXs7FawBfd+pezsVrAF936l7OxWsAX3fqXs7FawBfd+pezsVrAF936l7OxWsAX3fqXs7FawBfd+pezsVrAF936l7OxWsAX3fqXs7FawBfd+pezsVrAF936l7OxWsAX3fqXs7FawBfd+pezsVrAF936l7OxWsAX3fqXs7FawBfd+pezsVrAF936l7OxWsAX3fqXs7FawBfd+pezsVrAF936l7OxWsAX3fqXs7FawBfd+pezsVrAF936l7OxWsAX3fqXs7FawBfd+pezsVrAF936l7OxWsAX3fqXs7FawBfd+pezsVrAF936l7OxWsAX3fqXs7FawBfd+pezsVrAF936l7OxWsAX3fqXs7FawBfd+pezsVrAF936l7OxWsAX3fqXs7FawBfd+pezsVrAF936l7OxWsAX3fqXs7FawBfd+pezsVrAF936l7OxWsAX3fqXs7FawBfd+pezsVrAF936l7OxWsAX3fqXs7FawBfd+pezsVrAF936l7OxWsAX3fqXs7FawBfd+pezsVrAF936l7OxWsAX3fqXs7FawBfd+pezsVrAF936l7OxWsAX3fqXs7FawBfd+pezsVrAF936l7OxWsAX3fqXs7FawBfd+pezsVrAF936l7OxWsAX3fqXs7FawBfd+pezsVrAF936l7OxWsAX3fqXs7FawBfd+pezsVrAF936l7OxWsAX3fqXs7FawBfd+pezsVrAF936l7OxWsAX3fqXs7FawBfd+pezsVrAF936l7OxWsAX3fqXs7FawBfd+pezsVrAF936l7OxWsAX3fqXs7FawBfd+pezsVrAF936l7OxWsAX3fqXs7FawBfd+pezsVrAF936l7OxWsAX3fqXs7FawBfd+pezsVrAF936l7OxWsAX3fqXs7FawBfd+pezsVrAF936l7OxWsAX3fqXs7FawBfd+pezsVrAF936l7OxWsAX3fqXs7FawBfd+pezsVrAF936l7OxWsAX3fqXs7FawBfd+pezsVrAF936l7OxWsAX3fqXs7FawBfd+pezsVrAF936l7OxWsAX3fqXs7FawBfd+pezsVrAF936l7OxWsAX3fqXs7FawBfd+pezsVrAF936l7OxWsAX3fqXs7FawBfd+pezsVrAF936l7OxWsAX3fqXs7FawBfd+pezsVrAF936l7OxWsAX3fqXs7FawBfd+pezsVrAF936l7OxWsAX3fqXs7FawBfd+pezsVrAF936l7OxWsAX3fqXs7FawBfd+pezsVrAF936l7OxWsAX3fqXs7FawBfd+pezsVrAF936l7OxWsAX3fqXs7FawBfd+pezsVrAF936l7OxWsAX3fqXs7FawBfd+pezsVrAF936l7OxWsAX3fqXs7FawBfd+pezsVrAF936l7OxWsAX3fqXs7FawBfd+pezsVrAF936l7OxWsAX3fqXs7FawBfd+pezsVrAF936l7OxWsAX3fqXs7FawBfd+pezsVrAF936l7OxWsAX3fqXs7FawBfd+pezsVrAF936l7OxWsAX3fqXs7FawBfd+pezsVrAF936l7OxWsAX3fqXs7FawBfd+pezsVrAF936l7OxWsAX3fqXs7FawBfd+pezsVrAF936l7OxWsAX3fqXs7FawBfd+pezsVrAF936l7OxWsAX3fqXs7FawBfd+pezsVrAF936l7OxWsAX3fqXs7FawBfd+pezsVrAF936l7OxWsAX3fqXs7FawBfd+pezsVrAF936l7OxWsAX3fqXs7FawBfd+pezsVrAF936l7OxWsAX3fqXs7FawBfd+pezsVrAF936l7OxWsAX3fqXs7FawBfd+pezsVrAF936l7OxWsAX3fqXs7FawBfd+pezsVrAF936l7OxWsAX3fqXs7FawBfd+pezsVrAF936l7OxWsAX3fqXs7FawBfd+pezsVrAF936l7OxWsAX3fqXs7FawBfd+pezsVrAF936l7OxWsAX3fqXs7FawBfd+pezsVrAF936l7OxWsAX3fqXs7FawBfd+pezsVrAF936l7OxWsAX3fqXs7FawBfd+pezsVrAF936l7OxWsAX3fqXs7FawBfd+pezsVrAF936l7OxWsAX3fqXs7FawBfd+pezsVrAF936l7OxWsAX3fqXs7FawBfd+pezsVrAF936l7OxWsAX3fqXs7FawBfd+pezsVrAF936l7OxWsAX3fqXs7FawBfd+pezsVrAF936l7OxWsAX3fqXs7FawBfd+pezsVrAF936l7OxWsAX3fqXs7FawBfd+pezsVrAF936l7OxWsAX3fqXs7FawBfd+pezsVrAF936l7OxWsAX3fqXs7FawBfd+pezsVrAF936l7OxWsAX3fqXs7FawBfd+pezsVrAF936l7OxWsAX3fqXs7FawBfd+pezsVrAF936l7OxWsAX3fqXs7FawBfd+pezsVrAF936l7OxWsAX3fqXs7FawBfd+pezsVrAF936l7OxWsAX3fqXs7FawBfd+pezsVrAF936l7OxWsAX3fqXs7FawBfd+pezsVrAF936l7OxWsAX3fqXs7FawBfd+pezsVrAF936l7OxWsAX3fqXs7FawBfd+pezsVrAF936l7OxWsAX3fqXs7FawBfd+pezsVrAF936l7OxWsAX3fqXs7FawBfd+pezsVrAF936l7OxWsAX3fqXs7FawBfd+pezsVrAF936l7OxWsAX3fqXs7FawBfd+pezsVrAF936l7OxWsAX3fqXs7FawBfd+pezsVrAF936l7OxWsAX3fqXs7FawBfd+pezsVrAF936l7OxWsAX3fqXs7FawBfd+pezsVrAF936l7OxWsAX3fqXs7FawBfd+pezsVrAF936l7OxWsAX3fqXs7FawBfd+pezsVrAF936l7OxWsAX3fqXs7FawBfd+pezsVrAF936l7OxWsAX3fqXs7FawBfd+pezsVrAF936l7OxWsAX3fqXs7FawBfd+pezsVrAF936l7OxWsAX3fqXs7FawBfd+pezsVrAF936l7OxWsAX3fqXs7FawBfd+pezsVrAF936l7OxWsAX3fqXs7FawBfd+pezsVrAF936l7OxWsAX3fqXs7FawBfd+pezsVrAF936l7OxWsAX3fqXs7FawBfd+pezsVrAF936l7OxWsAX3fqXs7FawBfd+pezsVrAF936l7OxWsAX3fqXs7FawBfd+pezsVrAF936l7OxWsAX3fqXs7FawBfd+pezsVrAF936l7OxWsAX3fqXs7FawBfd+pezsVrAF936l7OxWsC8B8G30HVgwLwHwbfQdWDAvAfBt9B1YMC8B8G30HVgwLwHwbfQdWDAvAfBt9B1YMC8B8G30HVgwLwHwbfQdWDAvAfBt9B1YMC8B8G30HVgwLwHwbfQdWDAvAfBt9B1YMC8B8G30HVgwLwHwbfQdWDAvAfBt9B1YMC8B8G30HVgwLwHwbfQdWDAvAfBt9B1YMC8B8G30HVgwLwHwbfQdWDAvAfBt9B1YMC8B8G30HVgwLwHwbfQdWDAvAfBt9B1YMC8B8G30HVgwLwHwbfQdWDAvAfBt9B1YMC8B8G30HVgwLwHwbfQdWDAvAfBt9B1YMC8B8G30HVgwLwHwbfQdWDAvAfBt9B1YMC8B8G30HVgwLwHwbfQdWDAvAfBt9B1YMC8B8G30HVgwLwHwbfQdWDAvAfBt9B1YMC8B8G30HVgwLwHwbfQdWDAvAfBt9B1YMC8B8G30HVgwLwHwbfQdWDAvAfBt9B1YMC8B8G30HVgwLwHwbfQdWDAvAfBt9B1YMC8B8G30HVgwLwHwbfQdWDAvAfBt9B1YMC8B8G30HVgwLwHwbfQdWDAvAfBt9B1YMC8B8G30HVgwLwHwbfQdWDAvAfBt9B1YMC8B8G30HVgwLwHwbfQdWDAvAfBt9B1YMC8B8G30HVgwLwHwbfQdWDAvAfBt9B1YMC8B8G30HVgwLwHwbfQdWDAvAfBt9B1YMC8B8G30HVgwLwHwbfQdWDAvAfBt9B1YMC8B8G30HVgwLwHwbfQdWDAvAfBt9B1YMC8B8G30HVgwLwHwbfQdWDAvAfBt9B1YMC8B8G30HVgwLwHwbfQdWDAvAfBt9B1YMC8B8G30HVgwLwHwbfQdWDAvAfBt9B1YMC8B8G30HVgwLwHwbfQdWDAvAfBt9B1YMC8B8G30HVgwLwHwbfQdWDAvAfBt9B1YMC8B8G30HVgwLwHwbfQdWDAvAfBt9B1YMC8B8G30HVgwLwHwbfQdWDAvAfBt9B1YMC8B8G30HVgwLwHwbfQdWDAvAfBt9B1YMC8B8G30HVgwLwHwbfQdWDAvAfBt9B1YMC8B8G30HVgwLwHwbfQdWDAvAfBt9B1YMC8B8G30HVgwLwHwbfQdWDAvAfBt9B1YMC8B8G30HVgwLwHwbfQdWDAvAfBt9B1YMC8B8G30HVgwLwHwbfQdWDAvAfBt9B1YMC8B8G30HVgwLwHwbfQdWDAvAfBt9B1YMC8B8G30HVgwLwHwbfQdWDAvAfBt9B1YMC8B8G30HVgwLwHwbfQdWDAvAfBt9B1YMC8B8G30HVgwLwHwbfQdWDAvAfBt9B1YMC8B8G30HVgwLwHwbfQdWDAvAfBt9B1YMC8B8G30HVgwLwHwbfQdWDAvAfBt9B1YMC8B8G30HVgwLwHwbfQdWDAvAfBt9B1YMC8B8G30HVgwLwHwbfQdWDAvAfBt9B1YMC8B8G30HVgwLwHwbfQdWDAvAfBt9B1YMC8B8G30HVgwLwHwbfQdWDAvAfBt9B1YMC8B8G30HVgwLwHwbfQdWDAvAfBt9B1YMC8B8G30HVgwLwHwbfQdWDAvAfBt9B1YMC8B8G30HVgwLwHwbfQdWDAvAfBt9B1YMC8B8G30HVgwLwHwbfQdWDAvAfBt9B1YMC8B8G30HVgwLwHwbfQdWDAvAfBt9B1YMC8B8G30HVgwLwHwbfQdWDAvAfBt9B1YMC8B8G30HVgwLwHwbfQdWDAvAfBt9B1YMC8B8G30HVgwLwHwbfQdWDAvAfBt9B1YMC8B8G30HVgwLwHwbfQdWDAvAfBt9B1YMC8B8G30HVgwLwHwbfQdWDAvAfBt9B1YMC8B8G30HVgwLwHwbfQdWDAvAfBt9B1YMC8B8G30HVgwLwHwbfQdWDAvAfBt9B1YMC8B8G30HVgwLwHwbfQdWDAvAfBt9B1YMC8B8G30HVgwLwHwbfQdWDAvAfBt9B1YMC8B8G30HVgwLwHwbfQdWDAvAfBt9B1YMC8B8G30HVgwLwHwbfQdWDAvAfBt9B1YMC8B8G30HVgwLwHwbfQdWDAvAfBt9B1YMC8B8G30HVgwLwHwbfQdWDAvAfBt9B1YMC8B8G30HVgwLwHwbfQdWDAvAfBt9B1YMC8B8G30HVgwLwHwbfQdWDAvAfBt9B1YMC8B8G30HVgwLwHwbfQdWDAvAfBt9B1YMC8B8G30HVgwLwHwbfQdWDAvAfBt9B1YMC8B8G30HVgwLwHwbfQdWDAvAfBt9B1YMC8B8G30HVgwLwHwbfQdWDAvAfBt9B1YMC8B8G30HVgwLwHwbfQdWDAvAfBt9B1YMC8B8G30HVgwLwHwbfQdWDAvAfBt9B1YMC8B8G30HVgwLwHwbfQdWDAvAfBt9B1YMC8B8G30HVgwLwHwbfQdWDAvAfBt9B1YMC8B8G30HVgwLwHwbfQdWDAvAfBt9B1YMC8B8G30HVgwLwHwbfQdWDAvAfBt9B1YMC8B8G30HVgwLwHwbfQdWDAvAfBt9B1YMC8B8G30HVgwLwHwbfQdWDAvAfBt9B1YMC8B8G30HVgwLwHwbfQdWDAvAfBt9B1YMC8B8G30HVgwLwHwbfQdWDAvAfBt9B1YMC8B8G30HVgwLwHwbfQdWDAvAfBt9B1YMC8B8G30HVgwLwHwbfQdWDAvAfBt9B1YMC8B8G30HVgwLwHwbfQdWDAvAfBt9B1YMC8B8G30HVgwLwHwbfQdWDAvAfBt9B1YMC8B8G30HVgwLwHwbfQdWDAvAfBt9B1YMC8B8G30HVgwLwHwbfQdWDAvAfBt9B1YMC8B8G30HVgwLwHwbfQdWDAvAfBt9B1YMC8B8G30HVgwLwHwbfQdWDAvAfBt9B1YMC8B8G30HVgwLwHwbfQdWDAvAfBt9B1YMC8B8G30HVgwLwHwbfQdWDAvAfBt9B1YMC8B8G30HVgwLwHwbfQdWDAvAfBt9B1YMC8B8G30HVgwLwHwbfQdWDAvAfBt9B1YMC8B8G30HVgwLwHwbfQdWDAvAfBt9B1YMC8B8G30HVgwLwHwbfQdWDAvAfBt9B1YMC8B8G30HVgwLwHwbfQdWDAvAfBt9B1YMC8B8G30HVgwLwHwbfQdWDAvAfBt9B1YMC8B8G30HVgwLwHwbfQdWDAvAfBt9B1YMC8B8G30HVgwLwHwbfQdWDAvAfBt9B1YMC8B8G30HVgwLwHwbfQdWDAvAfBt9B1YMA=",
          "dtype": "f8"
         },
         "yaxis": "y"
        }
       ],
       "layout": {
        "legend": {
         "tracegroupgap": 0
        },
        "template": {
         "data": {
          "bar": [
           {
            "error_x": {
             "color": "#2a3f5f"
            },
            "error_y": {
             "color": "#2a3f5f"
            },
            "marker": {
             "line": {
              "color": "#E5ECF6",
              "width": 0.5
             },
             "pattern": {
              "fillmode": "overlay",
              "size": 10,
              "solidity": 0.2
             }
            },
            "type": "bar"
           }
          ],
          "barpolar": [
           {
            "marker": {
             "line": {
              "color": "#E5ECF6",
              "width": 0.5
             },
             "pattern": {
              "fillmode": "overlay",
              "size": 10,
              "solidity": 0.2
             }
            },
            "type": "barpolar"
           }
          ],
          "carpet": [
           {
            "aaxis": {
             "endlinecolor": "#2a3f5f",
             "gridcolor": "white",
             "linecolor": "white",
             "minorgridcolor": "white",
             "startlinecolor": "#2a3f5f"
            },
            "baxis": {
             "endlinecolor": "#2a3f5f",
             "gridcolor": "white",
             "linecolor": "white",
             "minorgridcolor": "white",
             "startlinecolor": "#2a3f5f"
            },
            "type": "carpet"
           }
          ],
          "choropleth": [
           {
            "colorbar": {
             "outlinewidth": 0,
             "ticks": ""
            },
            "type": "choropleth"
           }
          ],
          "contour": [
           {
            "colorbar": {
             "outlinewidth": 0,
             "ticks": ""
            },
            "colorscale": [
             [
              0,
              "#0d0887"
             ],
             [
              0.1111111111111111,
              "#46039f"
             ],
             [
              0.2222222222222222,
              "#7201a8"
             ],
             [
              0.3333333333333333,
              "#9c179e"
             ],
             [
              0.4444444444444444,
              "#bd3786"
             ],
             [
              0.5555555555555556,
              "#d8576b"
             ],
             [
              0.6666666666666666,
              "#ed7953"
             ],
             [
              0.7777777777777778,
              "#fb9f3a"
             ],
             [
              0.8888888888888888,
              "#fdca26"
             ],
             [
              1,
              "#f0f921"
             ]
            ],
            "type": "contour"
           }
          ],
          "contourcarpet": [
           {
            "colorbar": {
             "outlinewidth": 0,
             "ticks": ""
            },
            "type": "contourcarpet"
           }
          ],
          "heatmap": [
           {
            "colorbar": {
             "outlinewidth": 0,
             "ticks": ""
            },
            "colorscale": [
             [
              0,
              "#0d0887"
             ],
             [
              0.1111111111111111,
              "#46039f"
             ],
             [
              0.2222222222222222,
              "#7201a8"
             ],
             [
              0.3333333333333333,
              "#9c179e"
             ],
             [
              0.4444444444444444,
              "#bd3786"
             ],
             [
              0.5555555555555556,
              "#d8576b"
             ],
             [
              0.6666666666666666,
              "#ed7953"
             ],
             [
              0.7777777777777778,
              "#fb9f3a"
             ],
             [
              0.8888888888888888,
              "#fdca26"
             ],
             [
              1,
              "#f0f921"
             ]
            ],
            "type": "heatmap"
           }
          ],
          "histogram": [
           {
            "marker": {
             "pattern": {
              "fillmode": "overlay",
              "size": 10,
              "solidity": 0.2
             }
            },
            "type": "histogram"
           }
          ],
          "histogram2d": [
           {
            "colorbar": {
             "outlinewidth": 0,
             "ticks": ""
            },
            "colorscale": [
             [
              0,
              "#0d0887"
             ],
             [
              0.1111111111111111,
              "#46039f"
             ],
             [
              0.2222222222222222,
              "#7201a8"
             ],
             [
              0.3333333333333333,
              "#9c179e"
             ],
             [
              0.4444444444444444,
              "#bd3786"
             ],
             [
              0.5555555555555556,
              "#d8576b"
             ],
             [
              0.6666666666666666,
              "#ed7953"
             ],
             [
              0.7777777777777778,
              "#fb9f3a"
             ],
             [
              0.8888888888888888,
              "#fdca26"
             ],
             [
              1,
              "#f0f921"
             ]
            ],
            "type": "histogram2d"
           }
          ],
          "histogram2dcontour": [
           {
            "colorbar": {
             "outlinewidth": 0,
             "ticks": ""
            },
            "colorscale": [
             [
              0,
              "#0d0887"
             ],
             [
              0.1111111111111111,
              "#46039f"
             ],
             [
              0.2222222222222222,
              "#7201a8"
             ],
             [
              0.3333333333333333,
              "#9c179e"
             ],
             [
              0.4444444444444444,
              "#bd3786"
             ],
             [
              0.5555555555555556,
              "#d8576b"
             ],
             [
              0.6666666666666666,
              "#ed7953"
             ],
             [
              0.7777777777777778,
              "#fb9f3a"
             ],
             [
              0.8888888888888888,
              "#fdca26"
             ],
             [
              1,
              "#f0f921"
             ]
            ],
            "type": "histogram2dcontour"
           }
          ],
          "mesh3d": [
           {
            "colorbar": {
             "outlinewidth": 0,
             "ticks": ""
            },
            "type": "mesh3d"
           }
          ],
          "parcoords": [
           {
            "line": {
             "colorbar": {
              "outlinewidth": 0,
              "ticks": ""
             }
            },
            "type": "parcoords"
           }
          ],
          "pie": [
           {
            "automargin": true,
            "type": "pie"
           }
          ],
          "scatter": [
           {
            "fillpattern": {
             "fillmode": "overlay",
             "size": 10,
             "solidity": 0.2
            },
            "type": "scatter"
           }
          ],
          "scatter3d": [
           {
            "line": {
             "colorbar": {
              "outlinewidth": 0,
              "ticks": ""
             }
            },
            "marker": {
             "colorbar": {
              "outlinewidth": 0,
              "ticks": ""
             }
            },
            "type": "scatter3d"
           }
          ],
          "scattercarpet": [
           {
            "marker": {
             "colorbar": {
              "outlinewidth": 0,
              "ticks": ""
             }
            },
            "type": "scattercarpet"
           }
          ],
          "scattergeo": [
           {
            "marker": {
             "colorbar": {
              "outlinewidth": 0,
              "ticks": ""
             }
            },
            "type": "scattergeo"
           }
          ],
          "scattergl": [
           {
            "marker": {
             "colorbar": {
              "outlinewidth": 0,
              "ticks": ""
             }
            },
            "type": "scattergl"
           }
          ],
          "scattermap": [
           {
            "marker": {
             "colorbar": {
              "outlinewidth": 0,
              "ticks": ""
             }
            },
            "type": "scattermap"
           }
          ],
          "scattermapbox": [
           {
            "marker": {
             "colorbar": {
              "outlinewidth": 0,
              "ticks": ""
             }
            },
            "type": "scattermapbox"
           }
          ],
          "scatterpolar": [
           {
            "marker": {
             "colorbar": {
              "outlinewidth": 0,
              "ticks": ""
             }
            },
            "type": "scatterpolar"
           }
          ],
          "scatterpolargl": [
           {
            "marker": {
             "colorbar": {
              "outlinewidth": 0,
              "ticks": ""
             }
            },
            "type": "scatterpolargl"
           }
          ],
          "scatterternary": [
           {
            "marker": {
             "colorbar": {
              "outlinewidth": 0,
              "ticks": ""
             }
            },
            "type": "scatterternary"
           }
          ],
          "surface": [
           {
            "colorbar": {
             "outlinewidth": 0,
             "ticks": ""
            },
            "colorscale": [
             [
              0,
              "#0d0887"
             ],
             [
              0.1111111111111111,
              "#46039f"
             ],
             [
              0.2222222222222222,
              "#7201a8"
             ],
             [
              0.3333333333333333,
              "#9c179e"
             ],
             [
              0.4444444444444444,
              "#bd3786"
             ],
             [
              0.5555555555555556,
              "#d8576b"
             ],
             [
              0.6666666666666666,
              "#ed7953"
             ],
             [
              0.7777777777777778,
              "#fb9f3a"
             ],
             [
              0.8888888888888888,
              "#fdca26"
             ],
             [
              1,
              "#f0f921"
             ]
            ],
            "type": "surface"
           }
          ],
          "table": [
           {
            "cells": {
             "fill": {
              "color": "#EBF0F8"
             },
             "line": {
              "color": "white"
             }
            },
            "header": {
             "fill": {
              "color": "#C8D4E3"
             },
             "line": {
              "color": "white"
             }
            },
            "type": "table"
           }
          ]
         },
         "layout": {
          "annotationdefaults": {
           "arrowcolor": "#2a3f5f",
           "arrowhead": 0,
           "arrowwidth": 1
          },
          "autotypenumbers": "strict",
          "coloraxis": {
           "colorbar": {
            "outlinewidth": 0,
            "ticks": ""
           }
          },
          "colorscale": {
           "diverging": [
            [
             0,
             "#8e0152"
            ],
            [
             0.1,
             "#c51b7d"
            ],
            [
             0.2,
             "#de77ae"
            ],
            [
             0.3,
             "#f1b6da"
            ],
            [
             0.4,
             "#fde0ef"
            ],
            [
             0.5,
             "#f7f7f7"
            ],
            [
             0.6,
             "#e6f5d0"
            ],
            [
             0.7,
             "#b8e186"
            ],
            [
             0.8,
             "#7fbc41"
            ],
            [
             0.9,
             "#4d9221"
            ],
            [
             1,
             "#276419"
            ]
           ],
           "sequential": [
            [
             0,
             "#0d0887"
            ],
            [
             0.1111111111111111,
             "#46039f"
            ],
            [
             0.2222222222222222,
             "#7201a8"
            ],
            [
             0.3333333333333333,
             "#9c179e"
            ],
            [
             0.4444444444444444,
             "#bd3786"
            ],
            [
             0.5555555555555556,
             "#d8576b"
            ],
            [
             0.6666666666666666,
             "#ed7953"
            ],
            [
             0.7777777777777778,
             "#fb9f3a"
            ],
            [
             0.8888888888888888,
             "#fdca26"
            ],
            [
             1,
             "#f0f921"
            ]
           ],
           "sequentialminus": [
            [
             0,
             "#0d0887"
            ],
            [
             0.1111111111111111,
             "#46039f"
            ],
            [
             0.2222222222222222,
             "#7201a8"
            ],
            [
             0.3333333333333333,
             "#9c179e"
            ],
            [
             0.4444444444444444,
             "#bd3786"
            ],
            [
             0.5555555555555556,
             "#d8576b"
            ],
            [
             0.6666666666666666,
             "#ed7953"
            ],
            [
             0.7777777777777778,
             "#fb9f3a"
            ],
            [
             0.8888888888888888,
             "#fdca26"
            ],
            [
             1,
             "#f0f921"
            ]
           ]
          },
          "colorway": [
           "#636efa",
           "#EF553B",
           "#00cc96",
           "#ab63fa",
           "#FFA15A",
           "#19d3f3",
           "#FF6692",
           "#B6E880",
           "#FF97FF",
           "#FECB52"
          ],
          "font": {
           "color": "#2a3f5f"
          },
          "geo": {
           "bgcolor": "white",
           "lakecolor": "white",
           "landcolor": "#E5ECF6",
           "showlakes": true,
           "showland": true,
           "subunitcolor": "white"
          },
          "hoverlabel": {
           "align": "left"
          },
          "hovermode": "closest",
          "mapbox": {
           "style": "light"
          },
          "paper_bgcolor": "white",
          "plot_bgcolor": "#E5ECF6",
          "polar": {
           "angularaxis": {
            "gridcolor": "white",
            "linecolor": "white",
            "ticks": ""
           },
           "bgcolor": "#E5ECF6",
           "radialaxis": {
            "gridcolor": "white",
            "linecolor": "white",
            "ticks": ""
           }
          },
          "scene": {
           "xaxis": {
            "backgroundcolor": "#E5ECF6",
            "gridcolor": "white",
            "gridwidth": 2,
            "linecolor": "white",
            "showbackground": true,
            "ticks": "",
            "zerolinecolor": "white"
           },
           "yaxis": {
            "backgroundcolor": "#E5ECF6",
            "gridcolor": "white",
            "gridwidth": 2,
            "linecolor": "white",
            "showbackground": true,
            "ticks": "",
            "zerolinecolor": "white"
           },
           "zaxis": {
            "backgroundcolor": "#E5ECF6",
            "gridcolor": "white",
            "gridwidth": 2,
            "linecolor": "white",
            "showbackground": true,
            "ticks": "",
            "zerolinecolor": "white"
           }
          },
          "shapedefaults": {
           "line": {
            "color": "#2a3f5f"
           }
          },
          "ternary": {
           "aaxis": {
            "gridcolor": "white",
            "linecolor": "white",
            "ticks": ""
           },
           "baxis": {
            "gridcolor": "white",
            "linecolor": "white",
            "ticks": ""
           },
           "bgcolor": "#E5ECF6",
           "caxis": {
            "gridcolor": "white",
            "linecolor": "white",
            "ticks": ""
           }
          },
          "title": {
           "x": 0.05
          },
          "xaxis": {
           "automargin": true,
           "gridcolor": "white",
           "linecolor": "white",
           "ticks": "",
           "title": {
            "standoff": 15
           },
           "zerolinecolor": "white",
           "zerolinewidth": 2
          },
          "yaxis": {
           "automargin": true,
           "gridcolor": "white",
           "linecolor": "white",
           "ticks": "",
           "title": {
            "standoff": 15
           },
           "zerolinecolor": "white",
           "zerolinewidth": 2
          }
         }
        },
        "title": {
         "text": "📉 Impact of Discount on Profit"
        },
        "xaxis": {
         "anchor": "y",
         "domain": [
          0,
          1
         ],
         "title": {
          "text": "Discount Rate"
         }
        },
        "yaxis": {
         "anchor": "x",
         "domain": [
          0,
          1
         ],
         "title": {
          "text": "Profit"
         }
        }
       }
      }
     },
     "metadata": {},
     "output_type": "display_data"
    }
   ],
   "source": [
    "# Visualize Discount vs Profit using scatter plot\n",
    "import plotly.express as px\n",
    "\n",
    "fig_disc = px.scatter(\n",
    "    df, x='Discount', y='Profit',\n",
    "    title='📉 Impact of Discount on Profit',\n",
    "    trendline='ols',\n",
    "    opacity=0.6,\n",
    "    labels={'Discount': 'Discount Rate', 'Profit': 'Profit'}\n",
    ")\n",
    "\n",
    "fig_disc.show()"
   ]
  },
  {
   "cell_type": "markdown",
   "metadata": {},
   "source": [
    "## 🧩 Sales and Profit by Sub-Category\n",
    "\n",
    "Let’s drill down into the product hierarchy and analyze performance at the Sub-Category level.\n",
    "This can help businesses prioritize top-performing items and phase out loss-making ones."
   ]
  },
  {
   "cell_type": "code",
   "execution_count": 7,
   "metadata": {
    "execution": {
     "iopub.execute_input": "2025-07-16T00:12:06.120116Z",
     "iopub.status.busy": "2025-07-16T00:12:06.119555Z",
     "iopub.status.idle": "2025-07-16T00:12:06.174803Z",
     "shell.execute_reply": "2025-07-16T00:12:06.174059Z",
     "shell.execute_reply.started": "2025-07-16T00:12:06.120087Z"
    },
    "trusted": true
   },
   "outputs": [
    {
     "data": {
      "application/vnd.plotly.v1+json": {
       "config": {
        "plotlyServerURL": "https://plot.ly"
       },
       "data": [
        {
         "hovertemplate": "Sub-Category=%{x}<br>Total Sales=%{y}<br>Total Profit=%{marker.color}<extra></extra>",
         "legendgroup": "",
         "marker": {
          "color": {
           "bdata": "T0ATYXe85UBVwaikivfZQFvTvOO0x9RAh6dXyl5P0cBCPujZcIPdQK+UZYiDcapAwoanVxR65EBPr5RlOijrQCcxCKwcIavA2j15WIC20UDaG3xhkoHJQDSitDeyoOBAz/dT42WUksD0/dR4yX+5QDQRNjwtNLtAL90kBkGqtUBMpgpGJayNQA==",
           "dtype": "f8"
          },
          "coloraxis": "coloraxis",
          "pattern": {
           "shape": ""
          }
         },
         "name": "",
         "orientation": "v",
         "showlegend": false,
         "textposition": "auto",
         "type": "bar",
         "x": [
          "Phones",
          "Chairs",
          "Storage",
          "Tables",
          "Binders",
          "Machines",
          "Accessories",
          "Copiers",
          "Bookcases",
          "Appliances",
          "Furnishings",
          "Paper",
          "Supplies",
          "Art",
          "Envelopes",
          "Labels",
          "Fasteners"
         ],
         "xaxis": "x",
         "y": {
          "bdata": "qMZLN1wkFEH+1HhpBAwUQaAaL90cUwtBTDeJQaxDCUGgGi/dpdQIQV66SQy1GQdBgZVDi6JuBEHXo3A9wEACQdBE2PD/C/xAa7x0k8JA+kDJdr6fkmP2QPCnxkvzKPNAqMZLNzHK5kCcxCCwsnvaQD81XroZF9BALbKd7ydjyEDD9Shcj6CnQA==",
          "dtype": "f8"
         },
         "yaxis": "y"
        }
       ],
       "layout": {
        "barmode": "relative",
        "coloraxis": {
         "colorbar": {
          "title": {
           "text": "Total Profit"
          }
         },
         "colorscale": [
          [
           0,
           "rgb(0, 147, 146)"
          ],
          [
           0.16666666666666666,
           "rgb(114, 170, 161)"
          ],
          [
           0.3333333333333333,
           "rgb(177, 199, 179)"
          ],
          [
           0.5,
           "rgb(241, 234, 200)"
          ],
          [
           0.6666666666666666,
           "rgb(229, 185, 173)"
          ],
          [
           0.8333333333333334,
           "rgb(217, 137, 148)"
          ],
          [
           1,
           "rgb(208, 88, 126)"
          ]
         ]
        },
        "legend": {
         "tracegroupgap": 0
        },
        "template": {
         "data": {
          "bar": [
           {
            "error_x": {
             "color": "#2a3f5f"
            },
            "error_y": {
             "color": "#2a3f5f"
            },
            "marker": {
             "line": {
              "color": "#E5ECF6",
              "width": 0.5
             },
             "pattern": {
              "fillmode": "overlay",
              "size": 10,
              "solidity": 0.2
             }
            },
            "type": "bar"
           }
          ],
          "barpolar": [
           {
            "marker": {
             "line": {
              "color": "#E5ECF6",
              "width": 0.5
             },
             "pattern": {
              "fillmode": "overlay",
              "size": 10,
              "solidity": 0.2
             }
            },
            "type": "barpolar"
           }
          ],
          "carpet": [
           {
            "aaxis": {
             "endlinecolor": "#2a3f5f",
             "gridcolor": "white",
             "linecolor": "white",
             "minorgridcolor": "white",
             "startlinecolor": "#2a3f5f"
            },
            "baxis": {
             "endlinecolor": "#2a3f5f",
             "gridcolor": "white",
             "linecolor": "white",
             "minorgridcolor": "white",
             "startlinecolor": "#2a3f5f"
            },
            "type": "carpet"
           }
          ],
          "choropleth": [
           {
            "colorbar": {
             "outlinewidth": 0,
             "ticks": ""
            },
            "type": "choropleth"
           }
          ],
          "contour": [
           {
            "colorbar": {
             "outlinewidth": 0,
             "ticks": ""
            },
            "colorscale": [
             [
              0,
              "#0d0887"
             ],
             [
              0.1111111111111111,
              "#46039f"
             ],
             [
              0.2222222222222222,
              "#7201a8"
             ],
             [
              0.3333333333333333,
              "#9c179e"
             ],
             [
              0.4444444444444444,
              "#bd3786"
             ],
             [
              0.5555555555555556,
              "#d8576b"
             ],
             [
              0.6666666666666666,
              "#ed7953"
             ],
             [
              0.7777777777777778,
              "#fb9f3a"
             ],
             [
              0.8888888888888888,
              "#fdca26"
             ],
             [
              1,
              "#f0f921"
             ]
            ],
            "type": "contour"
           }
          ],
          "contourcarpet": [
           {
            "colorbar": {
             "outlinewidth": 0,
             "ticks": ""
            },
            "type": "contourcarpet"
           }
          ],
          "heatmap": [
           {
            "colorbar": {
             "outlinewidth": 0,
             "ticks": ""
            },
            "colorscale": [
             [
              0,
              "#0d0887"
             ],
             [
              0.1111111111111111,
              "#46039f"
             ],
             [
              0.2222222222222222,
              "#7201a8"
             ],
             [
              0.3333333333333333,
              "#9c179e"
             ],
             [
              0.4444444444444444,
              "#bd3786"
             ],
             [
              0.5555555555555556,
              "#d8576b"
             ],
             [
              0.6666666666666666,
              "#ed7953"
             ],
             [
              0.7777777777777778,
              "#fb9f3a"
             ],
             [
              0.8888888888888888,
              "#fdca26"
             ],
             [
              1,
              "#f0f921"
             ]
            ],
            "type": "heatmap"
           }
          ],
          "histogram": [
           {
            "marker": {
             "pattern": {
              "fillmode": "overlay",
              "size": 10,
              "solidity": 0.2
             }
            },
            "type": "histogram"
           }
          ],
          "histogram2d": [
           {
            "colorbar": {
             "outlinewidth": 0,
             "ticks": ""
            },
            "colorscale": [
             [
              0,
              "#0d0887"
             ],
             [
              0.1111111111111111,
              "#46039f"
             ],
             [
              0.2222222222222222,
              "#7201a8"
             ],
             [
              0.3333333333333333,
              "#9c179e"
             ],
             [
              0.4444444444444444,
              "#bd3786"
             ],
             [
              0.5555555555555556,
              "#d8576b"
             ],
             [
              0.6666666666666666,
              "#ed7953"
             ],
             [
              0.7777777777777778,
              "#fb9f3a"
             ],
             [
              0.8888888888888888,
              "#fdca26"
             ],
             [
              1,
              "#f0f921"
             ]
            ],
            "type": "histogram2d"
           }
          ],
          "histogram2dcontour": [
           {
            "colorbar": {
             "outlinewidth": 0,
             "ticks": ""
            },
            "colorscale": [
             [
              0,
              "#0d0887"
             ],
             [
              0.1111111111111111,
              "#46039f"
             ],
             [
              0.2222222222222222,
              "#7201a8"
             ],
             [
              0.3333333333333333,
              "#9c179e"
             ],
             [
              0.4444444444444444,
              "#bd3786"
             ],
             [
              0.5555555555555556,
              "#d8576b"
             ],
             [
              0.6666666666666666,
              "#ed7953"
             ],
             [
              0.7777777777777778,
              "#fb9f3a"
             ],
             [
              0.8888888888888888,
              "#fdca26"
             ],
             [
              1,
              "#f0f921"
             ]
            ],
            "type": "histogram2dcontour"
           }
          ],
          "mesh3d": [
           {
            "colorbar": {
             "outlinewidth": 0,
             "ticks": ""
            },
            "type": "mesh3d"
           }
          ],
          "parcoords": [
           {
            "line": {
             "colorbar": {
              "outlinewidth": 0,
              "ticks": ""
             }
            },
            "type": "parcoords"
           }
          ],
          "pie": [
           {
            "automargin": true,
            "type": "pie"
           }
          ],
          "scatter": [
           {
            "fillpattern": {
             "fillmode": "overlay",
             "size": 10,
             "solidity": 0.2
            },
            "type": "scatter"
           }
          ],
          "scatter3d": [
           {
            "line": {
             "colorbar": {
              "outlinewidth": 0,
              "ticks": ""
             }
            },
            "marker": {
             "colorbar": {
              "outlinewidth": 0,
              "ticks": ""
             }
            },
            "type": "scatter3d"
           }
          ],
          "scattercarpet": [
           {
            "marker": {
             "colorbar": {
              "outlinewidth": 0,
              "ticks": ""
             }
            },
            "type": "scattercarpet"
           }
          ],
          "scattergeo": [
           {
            "marker": {
             "colorbar": {
              "outlinewidth": 0,
              "ticks": ""
             }
            },
            "type": "scattergeo"
           }
          ],
          "scattergl": [
           {
            "marker": {
             "colorbar": {
              "outlinewidth": 0,
              "ticks": ""
             }
            },
            "type": "scattergl"
           }
          ],
          "scattermap": [
           {
            "marker": {
             "colorbar": {
              "outlinewidth": 0,
              "ticks": ""
             }
            },
            "type": "scattermap"
           }
          ],
          "scattermapbox": [
           {
            "marker": {
             "colorbar": {
              "outlinewidth": 0,
              "ticks": ""
             }
            },
            "type": "scattermapbox"
           }
          ],
          "scatterpolar": [
           {
            "marker": {
             "colorbar": {
              "outlinewidth": 0,
              "ticks": ""
             }
            },
            "type": "scatterpolar"
           }
          ],
          "scatterpolargl": [
           {
            "marker": {
             "colorbar": {
              "outlinewidth": 0,
              "ticks": ""
             }
            },
            "type": "scatterpolargl"
           }
          ],
          "scatterternary": [
           {
            "marker": {
             "colorbar": {
              "outlinewidth": 0,
              "ticks": ""
             }
            },
            "type": "scatterternary"
           }
          ],
          "surface": [
           {
            "colorbar": {
             "outlinewidth": 0,
             "ticks": ""
            },
            "colorscale": [
             [
              0,
              "#0d0887"
             ],
             [
              0.1111111111111111,
              "#46039f"
             ],
             [
              0.2222222222222222,
              "#7201a8"
             ],
             [
              0.3333333333333333,
              "#9c179e"
             ],
             [
              0.4444444444444444,
              "#bd3786"
             ],
             [
              0.5555555555555556,
              "#d8576b"
             ],
             [
              0.6666666666666666,
              "#ed7953"
             ],
             [
              0.7777777777777778,
              "#fb9f3a"
             ],
             [
              0.8888888888888888,
              "#fdca26"
             ],
             [
              1,
              "#f0f921"
             ]
            ],
            "type": "surface"
           }
          ],
          "table": [
           {
            "cells": {
             "fill": {
              "color": "#EBF0F8"
             },
             "line": {
              "color": "white"
             }
            },
            "header": {
             "fill": {
              "color": "#C8D4E3"
             },
             "line": {
              "color": "white"
             }
            },
            "type": "table"
           }
          ]
         },
         "layout": {
          "annotationdefaults": {
           "arrowcolor": "#2a3f5f",
           "arrowhead": 0,
           "arrowwidth": 1
          },
          "autotypenumbers": "strict",
          "coloraxis": {
           "colorbar": {
            "outlinewidth": 0,
            "ticks": ""
           }
          },
          "colorscale": {
           "diverging": [
            [
             0,
             "#8e0152"
            ],
            [
             0.1,
             "#c51b7d"
            ],
            [
             0.2,
             "#de77ae"
            ],
            [
             0.3,
             "#f1b6da"
            ],
            [
             0.4,
             "#fde0ef"
            ],
            [
             0.5,
             "#f7f7f7"
            ],
            [
             0.6,
             "#e6f5d0"
            ],
            [
             0.7,
             "#b8e186"
            ],
            [
             0.8,
             "#7fbc41"
            ],
            [
             0.9,
             "#4d9221"
            ],
            [
             1,
             "#276419"
            ]
           ],
           "sequential": [
            [
             0,
             "#0d0887"
            ],
            [
             0.1111111111111111,
             "#46039f"
            ],
            [
             0.2222222222222222,
             "#7201a8"
            ],
            [
             0.3333333333333333,
             "#9c179e"
            ],
            [
             0.4444444444444444,
             "#bd3786"
            ],
            [
             0.5555555555555556,
             "#d8576b"
            ],
            [
             0.6666666666666666,
             "#ed7953"
            ],
            [
             0.7777777777777778,
             "#fb9f3a"
            ],
            [
             0.8888888888888888,
             "#fdca26"
            ],
            [
             1,
             "#f0f921"
            ]
           ],
           "sequentialminus": [
            [
             0,
             "#0d0887"
            ],
            [
             0.1111111111111111,
             "#46039f"
            ],
            [
             0.2222222222222222,
             "#7201a8"
            ],
            [
             0.3333333333333333,
             "#9c179e"
            ],
            [
             0.4444444444444444,
             "#bd3786"
            ],
            [
             0.5555555555555556,
             "#d8576b"
            ],
            [
             0.6666666666666666,
             "#ed7953"
            ],
            [
             0.7777777777777778,
             "#fb9f3a"
            ],
            [
             0.8888888888888888,
             "#fdca26"
            ],
            [
             1,
             "#f0f921"
            ]
           ]
          },
          "colorway": [
           "#636efa",
           "#EF553B",
           "#00cc96",
           "#ab63fa",
           "#FFA15A",
           "#19d3f3",
           "#FF6692",
           "#B6E880",
           "#FF97FF",
           "#FECB52"
          ],
          "font": {
           "color": "#2a3f5f"
          },
          "geo": {
           "bgcolor": "white",
           "lakecolor": "white",
           "landcolor": "#E5ECF6",
           "showlakes": true,
           "showland": true,
           "subunitcolor": "white"
          },
          "hoverlabel": {
           "align": "left"
          },
          "hovermode": "closest",
          "mapbox": {
           "style": "light"
          },
          "paper_bgcolor": "white",
          "plot_bgcolor": "#E5ECF6",
          "polar": {
           "angularaxis": {
            "gridcolor": "white",
            "linecolor": "white",
            "ticks": ""
           },
           "bgcolor": "#E5ECF6",
           "radialaxis": {
            "gridcolor": "white",
            "linecolor": "white",
            "ticks": ""
           }
          },
          "scene": {
           "xaxis": {
            "backgroundcolor": "#E5ECF6",
            "gridcolor": "white",
            "gridwidth": 2,
            "linecolor": "white",
            "showbackground": true,
            "ticks": "",
            "zerolinecolor": "white"
           },
           "yaxis": {
            "backgroundcolor": "#E5ECF6",
            "gridcolor": "white",
            "gridwidth": 2,
            "linecolor": "white",
            "showbackground": true,
            "ticks": "",
            "zerolinecolor": "white"
           },
           "zaxis": {
            "backgroundcolor": "#E5ECF6",
            "gridcolor": "white",
            "gridwidth": 2,
            "linecolor": "white",
            "showbackground": true,
            "ticks": "",
            "zerolinecolor": "white"
           }
          },
          "shapedefaults": {
           "line": {
            "color": "#2a3f5f"
           }
          },
          "ternary": {
           "aaxis": {
            "gridcolor": "white",
            "linecolor": "white",
            "ticks": ""
           },
           "baxis": {
            "gridcolor": "white",
            "linecolor": "white",
            "ticks": ""
           },
           "bgcolor": "#E5ECF6",
           "caxis": {
            "gridcolor": "white",
            "linecolor": "white",
            "ticks": ""
           }
          },
          "title": {
           "x": 0.05
          },
          "xaxis": {
           "automargin": true,
           "gridcolor": "white",
           "linecolor": "white",
           "ticks": "",
           "title": {
            "standoff": 15
           },
           "zerolinecolor": "white",
           "zerolinewidth": 2
          },
          "yaxis": {
           "automargin": true,
           "gridcolor": "white",
           "linecolor": "white",
           "ticks": "",
           "title": {
            "standoff": 15
           },
           "zerolinecolor": "white",
           "zerolinewidth": 2
          }
         }
        },
        "title": {
         "text": "🧩 Sales & Profit by Sub-Category"
        },
        "xaxis": {
         "anchor": "y",
         "domain": [
          0,
          1
         ],
         "tickangle": -45,
         "title": {
          "text": "Sub-Category"
         }
        },
        "yaxis": {
         "anchor": "x",
         "domain": [
          0,
          1
         ],
         "title": {
          "text": "Total Sales"
         }
        }
       }
      }
     },
     "metadata": {},
     "output_type": "display_data"
    }
   ],
   "source": [
    "# Group by Sub-Category\n",
    "subcat_perf = df.groupby('Sub-Category').agg(\n",
    "    total_sales=('Sales', 'sum'),\n",
    "    total_profit=('Profit', 'sum')\n",
    ").reset_index()\n",
    "\n",
    "# Sort by sales\n",
    "subcat_perf = subcat_perf.sort_values(by='total_sales', ascending=False)\n",
    "\n",
    "# Bar chart\n",
    "import plotly.express as px\n",
    "\n",
    "fig_subcat = px.bar(\n",
    "    subcat_perf,\n",
    "    x='Sub-Category',\n",
    "    y='total_sales',\n",
    "    color='total_profit',\n",
    "    color_continuous_scale='Tealrose',\n",
    "    title='🧩 Sales & Profit by Sub-Category',\n",
    "    labels={'total_sales': 'Total Sales', 'total_profit': 'Total Profit'}\n",
    ")\n",
    "\n",
    "fig_subcat.update_layout(xaxis_tickangle=-45)\n",
    "fig_subcat.show()"
   ]
  },
  {
   "cell_type": "markdown",
   "metadata": {},
   "source": [
    "## 🗺️ Sales Distribution by State (USA Map)\n",
    "\n",
    "This map shows how sales are distributed across different states in the US.  \n",
    "It helps visualize regional performance and identify high and low performing areas."
   ]
  },
  {
   "cell_type": "code",
   "execution_count": 8,
   "metadata": {
    "execution": {
     "iopub.execute_input": "2025-07-16T00:12:06.175791Z",
     "iopub.status.busy": "2025-07-16T00:12:06.175555Z",
     "iopub.status.idle": "2025-07-16T00:12:06.266583Z",
     "shell.execute_reply": "2025-07-16T00:12:06.265431Z",
     "shell.execute_reply.started": "2025-07-16T00:12:06.175772Z"
    },
    "trusted": true
   },
   "outputs": [
    {
     "data": {
      "application/vnd.plotly.v1+json": {
       "config": {
        "plotlyServerURL": "https://plot.ly"
       },
       "data": [
        {
         "coloraxis": "coloraxis",
         "geo": "geo",
         "hovertemplate": "State=%{location}<br>total_sales=%{z}<extra></extra>",
         "locationmode": "USA-states",
         "locations": [
          "Alabama",
          "Arizona",
          "Arkansas",
          "California",
          "Colorado",
          "Connecticut",
          "Delaware",
          "District of Columbia",
          "Florida",
          "Georgia",
          "Idaho",
          "Illinois",
          "Indiana",
          "Iowa",
          "Kansas",
          "Kentucky",
          "Louisiana",
          "Maine",
          "Maryland",
          "Massachusetts",
          "Michigan",
          "Minnesota",
          "Mississippi",
          "Missouri",
          "Montana",
          "Nebraska",
          "Nevada",
          "New Hampshire",
          "New Jersey",
          "New Mexico",
          "New York",
          "North Carolina",
          "North Dakota",
          "Ohio",
          "Oklahoma",
          "Oregon",
          "Pennsylvania",
          "Rhode Island",
          "South Carolina",
          "South Dakota",
          "Tennessee",
          "Texas",
          "Utah",
          "Vermont",
          "Virginia",
          "Washington",
          "West Virginia",
          "Wisconsin",
          "Wyoming"
         ],
         "name": "",
         "type": "choropleth",
         "z": {
          "bdata": "XI/C9agN00DpJjEIQDrhQD0K16MQz8ZAnu+nhl7vG0E730+NB1vfQFYOLbItJMpA2/l+asTO2kDXo3A9CmKmQNnO91Mb2PVAFK5H4fr450Db+X5qfB6xQA4tsp1hkvNAUrgehWsm6kD2KFyPwuOxQIXrUbiexKZAAAAAAPjd4UBxPQrXgwDCQIXrUbge2pNA9P3UeGEm10Ce76fGm/bbQPyp8dLZnvJAmpmZmckp3UBSuB6FqwnFQJqZmZlJr9VAMQisHFrVtUBI4XoU7ii9QAwCK4dGVtBAGy/dJIZ8vECLbOf7iXbhQIPAyqGFr7JAJQaBFXH5EkGR7Xw/ZSbrQOF6FK5Hv4xABFYOLSIb80Bcj8L12DjTQJqZmZnJBdFAyXa+n/5x/EC+nxov/RjWQBSuR+HakMBACtejcD2OlEBaZDvfd/HdQPFjzF1gxgRBSgwCKwfqxUDC9Shcr3DBQFK4HoXLPvFAj8L1KIrsAEGe76fGS+eSQKRwPQqnXN9ABoGVQ4sMmUA=",
          "dtype": "f8"
         }
        }
       ],
       "layout": {
        "coloraxis": {
         "colorbar": {
          "title": {
           "text": "total_sales"
          }
         },
         "colorscale": [
          [
           0,
           "#440154"
          ],
          [
           0.1111111111111111,
           "#482878"
          ],
          [
           0.2222222222222222,
           "#3e4989"
          ],
          [
           0.3333333333333333,
           "#31688e"
          ],
          [
           0.4444444444444444,
           "#26828e"
          ],
          [
           0.5555555555555556,
           "#1f9e89"
          ],
          [
           0.6666666666666666,
           "#35b779"
          ],
          [
           0.7777777777777778,
           "#6ece58"
          ],
          [
           0.8888888888888888,
           "#b5de2b"
          ],
          [
           1,
           "#fde725"
          ]
         ]
        },
        "geo": {
         "center": {},
         "domain": {
          "x": [
           0,
           1
          ],
          "y": [
           0,
           1
          ]
         },
         "scope": "usa"
        },
        "legend": {
         "tracegroupgap": 0
        },
        "template": {
         "data": {
          "bar": [
           {
            "error_x": {
             "color": "#2a3f5f"
            },
            "error_y": {
             "color": "#2a3f5f"
            },
            "marker": {
             "line": {
              "color": "#E5ECF6",
              "width": 0.5
             },
             "pattern": {
              "fillmode": "overlay",
              "size": 10,
              "solidity": 0.2
             }
            },
            "type": "bar"
           }
          ],
          "barpolar": [
           {
            "marker": {
             "line": {
              "color": "#E5ECF6",
              "width": 0.5
             },
             "pattern": {
              "fillmode": "overlay",
              "size": 10,
              "solidity": 0.2
             }
            },
            "type": "barpolar"
           }
          ],
          "carpet": [
           {
            "aaxis": {
             "endlinecolor": "#2a3f5f",
             "gridcolor": "white",
             "linecolor": "white",
             "minorgridcolor": "white",
             "startlinecolor": "#2a3f5f"
            },
            "baxis": {
             "endlinecolor": "#2a3f5f",
             "gridcolor": "white",
             "linecolor": "white",
             "minorgridcolor": "white",
             "startlinecolor": "#2a3f5f"
            },
            "type": "carpet"
           }
          ],
          "choropleth": [
           {
            "colorbar": {
             "outlinewidth": 0,
             "ticks": ""
            },
            "type": "choropleth"
           }
          ],
          "contour": [
           {
            "colorbar": {
             "outlinewidth": 0,
             "ticks": ""
            },
            "colorscale": [
             [
              0,
              "#0d0887"
             ],
             [
              0.1111111111111111,
              "#46039f"
             ],
             [
              0.2222222222222222,
              "#7201a8"
             ],
             [
              0.3333333333333333,
              "#9c179e"
             ],
             [
              0.4444444444444444,
              "#bd3786"
             ],
             [
              0.5555555555555556,
              "#d8576b"
             ],
             [
              0.6666666666666666,
              "#ed7953"
             ],
             [
              0.7777777777777778,
              "#fb9f3a"
             ],
             [
              0.8888888888888888,
              "#fdca26"
             ],
             [
              1,
              "#f0f921"
             ]
            ],
            "type": "contour"
           }
          ],
          "contourcarpet": [
           {
            "colorbar": {
             "outlinewidth": 0,
             "ticks": ""
            },
            "type": "contourcarpet"
           }
          ],
          "heatmap": [
           {
            "colorbar": {
             "outlinewidth": 0,
             "ticks": ""
            },
            "colorscale": [
             [
              0,
              "#0d0887"
             ],
             [
              0.1111111111111111,
              "#46039f"
             ],
             [
              0.2222222222222222,
              "#7201a8"
             ],
             [
              0.3333333333333333,
              "#9c179e"
             ],
             [
              0.4444444444444444,
              "#bd3786"
             ],
             [
              0.5555555555555556,
              "#d8576b"
             ],
             [
              0.6666666666666666,
              "#ed7953"
             ],
             [
              0.7777777777777778,
              "#fb9f3a"
             ],
             [
              0.8888888888888888,
              "#fdca26"
             ],
             [
              1,
              "#f0f921"
             ]
            ],
            "type": "heatmap"
           }
          ],
          "histogram": [
           {
            "marker": {
             "pattern": {
              "fillmode": "overlay",
              "size": 10,
              "solidity": 0.2
             }
            },
            "type": "histogram"
           }
          ],
          "histogram2d": [
           {
            "colorbar": {
             "outlinewidth": 0,
             "ticks": ""
            },
            "colorscale": [
             [
              0,
              "#0d0887"
             ],
             [
              0.1111111111111111,
              "#46039f"
             ],
             [
              0.2222222222222222,
              "#7201a8"
             ],
             [
              0.3333333333333333,
              "#9c179e"
             ],
             [
              0.4444444444444444,
              "#bd3786"
             ],
             [
              0.5555555555555556,
              "#d8576b"
             ],
             [
              0.6666666666666666,
              "#ed7953"
             ],
             [
              0.7777777777777778,
              "#fb9f3a"
             ],
             [
              0.8888888888888888,
              "#fdca26"
             ],
             [
              1,
              "#f0f921"
             ]
            ],
            "type": "histogram2d"
           }
          ],
          "histogram2dcontour": [
           {
            "colorbar": {
             "outlinewidth": 0,
             "ticks": ""
            },
            "colorscale": [
             [
              0,
              "#0d0887"
             ],
             [
              0.1111111111111111,
              "#46039f"
             ],
             [
              0.2222222222222222,
              "#7201a8"
             ],
             [
              0.3333333333333333,
              "#9c179e"
             ],
             [
              0.4444444444444444,
              "#bd3786"
             ],
             [
              0.5555555555555556,
              "#d8576b"
             ],
             [
              0.6666666666666666,
              "#ed7953"
             ],
             [
              0.7777777777777778,
              "#fb9f3a"
             ],
             [
              0.8888888888888888,
              "#fdca26"
             ],
             [
              1,
              "#f0f921"
             ]
            ],
            "type": "histogram2dcontour"
           }
          ],
          "mesh3d": [
           {
            "colorbar": {
             "outlinewidth": 0,
             "ticks": ""
            },
            "type": "mesh3d"
           }
          ],
          "parcoords": [
           {
            "line": {
             "colorbar": {
              "outlinewidth": 0,
              "ticks": ""
             }
            },
            "type": "parcoords"
           }
          ],
          "pie": [
           {
            "automargin": true,
            "type": "pie"
           }
          ],
          "scatter": [
           {
            "fillpattern": {
             "fillmode": "overlay",
             "size": 10,
             "solidity": 0.2
            },
            "type": "scatter"
           }
          ],
          "scatter3d": [
           {
            "line": {
             "colorbar": {
              "outlinewidth": 0,
              "ticks": ""
             }
            },
            "marker": {
             "colorbar": {
              "outlinewidth": 0,
              "ticks": ""
             }
            },
            "type": "scatter3d"
           }
          ],
          "scattercarpet": [
           {
            "marker": {
             "colorbar": {
              "outlinewidth": 0,
              "ticks": ""
             }
            },
            "type": "scattercarpet"
           }
          ],
          "scattergeo": [
           {
            "marker": {
             "colorbar": {
              "outlinewidth": 0,
              "ticks": ""
             }
            },
            "type": "scattergeo"
           }
          ],
          "scattergl": [
           {
            "marker": {
             "colorbar": {
              "outlinewidth": 0,
              "ticks": ""
             }
            },
            "type": "scattergl"
           }
          ],
          "scattermap": [
           {
            "marker": {
             "colorbar": {
              "outlinewidth": 0,
              "ticks": ""
             }
            },
            "type": "scattermap"
           }
          ],
          "scattermapbox": [
           {
            "marker": {
             "colorbar": {
              "outlinewidth": 0,
              "ticks": ""
             }
            },
            "type": "scattermapbox"
           }
          ],
          "scatterpolar": [
           {
            "marker": {
             "colorbar": {
              "outlinewidth": 0,
              "ticks": ""
             }
            },
            "type": "scatterpolar"
           }
          ],
          "scatterpolargl": [
           {
            "marker": {
             "colorbar": {
              "outlinewidth": 0,
              "ticks": ""
             }
            },
            "type": "scatterpolargl"
           }
          ],
          "scatterternary": [
           {
            "marker": {
             "colorbar": {
              "outlinewidth": 0,
              "ticks": ""
             }
            },
            "type": "scatterternary"
           }
          ],
          "surface": [
           {
            "colorbar": {
             "outlinewidth": 0,
             "ticks": ""
            },
            "colorscale": [
             [
              0,
              "#0d0887"
             ],
             [
              0.1111111111111111,
              "#46039f"
             ],
             [
              0.2222222222222222,
              "#7201a8"
             ],
             [
              0.3333333333333333,
              "#9c179e"
             ],
             [
              0.4444444444444444,
              "#bd3786"
             ],
             [
              0.5555555555555556,
              "#d8576b"
             ],
             [
              0.6666666666666666,
              "#ed7953"
             ],
             [
              0.7777777777777778,
              "#fb9f3a"
             ],
             [
              0.8888888888888888,
              "#fdca26"
             ],
             [
              1,
              "#f0f921"
             ]
            ],
            "type": "surface"
           }
          ],
          "table": [
           {
            "cells": {
             "fill": {
              "color": "#EBF0F8"
             },
             "line": {
              "color": "white"
             }
            },
            "header": {
             "fill": {
              "color": "#C8D4E3"
             },
             "line": {
              "color": "white"
             }
            },
            "type": "table"
           }
          ]
         },
         "layout": {
          "annotationdefaults": {
           "arrowcolor": "#2a3f5f",
           "arrowhead": 0,
           "arrowwidth": 1
          },
          "autotypenumbers": "strict",
          "coloraxis": {
           "colorbar": {
            "outlinewidth": 0,
            "ticks": ""
           }
          },
          "colorscale": {
           "diverging": [
            [
             0,
             "#8e0152"
            ],
            [
             0.1,
             "#c51b7d"
            ],
            [
             0.2,
             "#de77ae"
            ],
            [
             0.3,
             "#f1b6da"
            ],
            [
             0.4,
             "#fde0ef"
            ],
            [
             0.5,
             "#f7f7f7"
            ],
            [
             0.6,
             "#e6f5d0"
            ],
            [
             0.7,
             "#b8e186"
            ],
            [
             0.8,
             "#7fbc41"
            ],
            [
             0.9,
             "#4d9221"
            ],
            [
             1,
             "#276419"
            ]
           ],
           "sequential": [
            [
             0,
             "#0d0887"
            ],
            [
             0.1111111111111111,
             "#46039f"
            ],
            [
             0.2222222222222222,
             "#7201a8"
            ],
            [
             0.3333333333333333,
             "#9c179e"
            ],
            [
             0.4444444444444444,
             "#bd3786"
            ],
            [
             0.5555555555555556,
             "#d8576b"
            ],
            [
             0.6666666666666666,
             "#ed7953"
            ],
            [
             0.7777777777777778,
             "#fb9f3a"
            ],
            [
             0.8888888888888888,
             "#fdca26"
            ],
            [
             1,
             "#f0f921"
            ]
           ],
           "sequentialminus": [
            [
             0,
             "#0d0887"
            ],
            [
             0.1111111111111111,
             "#46039f"
            ],
            [
             0.2222222222222222,
             "#7201a8"
            ],
            [
             0.3333333333333333,
             "#9c179e"
            ],
            [
             0.4444444444444444,
             "#bd3786"
            ],
            [
             0.5555555555555556,
             "#d8576b"
            ],
            [
             0.6666666666666666,
             "#ed7953"
            ],
            [
             0.7777777777777778,
             "#fb9f3a"
            ],
            [
             0.8888888888888888,
             "#fdca26"
            ],
            [
             1,
             "#f0f921"
            ]
           ]
          },
          "colorway": [
           "#636efa",
           "#EF553B",
           "#00cc96",
           "#ab63fa",
           "#FFA15A",
           "#19d3f3",
           "#FF6692",
           "#B6E880",
           "#FF97FF",
           "#FECB52"
          ],
          "font": {
           "color": "#2a3f5f"
          },
          "geo": {
           "bgcolor": "white",
           "lakecolor": "white",
           "landcolor": "#E5ECF6",
           "showlakes": true,
           "showland": true,
           "subunitcolor": "white"
          },
          "hoverlabel": {
           "align": "left"
          },
          "hovermode": "closest",
          "mapbox": {
           "style": "light"
          },
          "paper_bgcolor": "white",
          "plot_bgcolor": "#E5ECF6",
          "polar": {
           "angularaxis": {
            "gridcolor": "white",
            "linecolor": "white",
            "ticks": ""
           },
           "bgcolor": "#E5ECF6",
           "radialaxis": {
            "gridcolor": "white",
            "linecolor": "white",
            "ticks": ""
           }
          },
          "scene": {
           "xaxis": {
            "backgroundcolor": "#E5ECF6",
            "gridcolor": "white",
            "gridwidth": 2,
            "linecolor": "white",
            "showbackground": true,
            "ticks": "",
            "zerolinecolor": "white"
           },
           "yaxis": {
            "backgroundcolor": "#E5ECF6",
            "gridcolor": "white",
            "gridwidth": 2,
            "linecolor": "white",
            "showbackground": true,
            "ticks": "",
            "zerolinecolor": "white"
           },
           "zaxis": {
            "backgroundcolor": "#E5ECF6",
            "gridcolor": "white",
            "gridwidth": 2,
            "linecolor": "white",
            "showbackground": true,
            "ticks": "",
            "zerolinecolor": "white"
           }
          },
          "shapedefaults": {
           "line": {
            "color": "#2a3f5f"
           }
          },
          "ternary": {
           "aaxis": {
            "gridcolor": "white",
            "linecolor": "white",
            "ticks": ""
           },
           "baxis": {
            "gridcolor": "white",
            "linecolor": "white",
            "ticks": ""
           },
           "bgcolor": "#E5ECF6",
           "caxis": {
            "gridcolor": "white",
            "linecolor": "white",
            "ticks": ""
           }
          },
          "title": {
           "x": 0.05
          },
          "xaxis": {
           "automargin": true,
           "gridcolor": "white",
           "linecolor": "white",
           "ticks": "",
           "title": {
            "standoff": 15
           },
           "zerolinecolor": "white",
           "zerolinewidth": 2
          },
          "yaxis": {
           "automargin": true,
           "gridcolor": "white",
           "linecolor": "white",
           "ticks": "",
           "title": {
            "standoff": 15
           },
           "zerolinecolor": "white",
           "zerolinewidth": 2
          }
         }
        },
        "title": {
         "text": "🗺️ Total Sales by US State"
        }
       }
      }
     },
     "metadata": {},
     "output_type": "display_data"
    }
   ],
   "source": [
    "# Aggregate sales per state\n",
    "state_sales = df.groupby('State').agg(\n",
    "    total_sales=('Sales', 'sum')\n",
    ").reset_index()\n",
    "\n",
    "# Load built-in Plotly US states map\n",
    "import plotly.express as px\n",
    "\n",
    "fig_map = px.choropleth(\n",
    "    state_sales,\n",
    "    locations='State',\n",
    "    locationmode='USA-states',\n",
    "    color='total_sales',\n",
    "    scope='usa',\n",
    "    color_continuous_scale='Viridis',\n",
    "    title='🗺️ Total Sales by US State'\n",
    ")\n",
    "\n",
    "fig_map.show()"
   ]
  },
  {
   "cell_type": "markdown",
   "metadata": {},
   "source": [
    "## 🚚 Shipping Delay Analysis\n",
    "\n",
    "We calculate how many days it takes for each order to ship.  \n",
    "This analysis helps us detect delays and monitor shipping efficiency across different regions or modes."
   ]
  },
  {
   "cell_type": "code",
   "execution_count": 9,
   "metadata": {
    "execution": {
     "iopub.execute_input": "2025-07-16T00:12:06.267673Z",
     "iopub.status.busy": "2025-07-16T00:12:06.267420Z",
     "iopub.status.idle": "2025-07-16T00:12:06.284018Z",
     "shell.execute_reply": "2025-07-16T00:12:06.283157Z",
     "shell.execute_reply.started": "2025-07-16T00:12:06.267655Z"
    },
    "trusted": true
   },
   "outputs": [
    {
     "data": {
      "text/plain": [
       "count    9994.000000\n",
       "mean        3.958175\n",
       "std         1.747567\n",
       "min         0.000000\n",
       "25%         3.000000\n",
       "50%         4.000000\n",
       "75%         5.000000\n",
       "max         7.000000\n",
       "Name: Shipping Delay, dtype: float64"
      ]
     },
     "execution_count": 9,
     "metadata": {},
     "output_type": "execute_result"
    }
   ],
   "source": [
    "# Calculate shipping delay in days\n",
    "df['Shipping Delay'] = (df['Ship Date'] - df['Order Date']).dt.days\n",
    "\n",
    "# Check for negative or invalid values (just in case)\n",
    "df = df[df['Shipping Delay'] >= 0]\n",
    "\n",
    "# Summary statistics\n",
    "df['Shipping Delay'].describe()\n"
   ]
  },
  {
   "cell_type": "markdown",
   "metadata": {},
   "source": [
    "## 🚢 Performance by Ship Mode\n",
    "\n",
    "Let’s compare how different shipping modes perform in terms of sales, profit, and shipping delay.  \n",
    "This helps identify the most efficient and cost-effective shipping strategies."
   ]
  },
  {
   "cell_type": "code",
   "execution_count": 10,
   "metadata": {
    "execution": {
     "iopub.execute_input": "2025-07-16T00:12:06.285247Z",
     "iopub.status.busy": "2025-07-16T00:12:06.284916Z",
     "iopub.status.idle": "2025-07-16T00:12:06.306026Z",
     "shell.execute_reply": "2025-07-16T00:12:06.305057Z",
     "shell.execute_reply.started": "2025-07-16T00:12:06.285224Z"
    },
    "trusted": true
   },
   "outputs": [],
   "source": [
    "# Group by Ship Mode\n",
    "ship_mode_perf = df.groupby('Ship Mode').agg(\n",
    "    avg_delay=('Shipping Delay', 'mean'),\n",
    "    total_sales=('Sales', 'sum'),\n",
    "    total_profit=('Profit', 'sum'),\n",
    "    count_orders=('Order ID', 'count')\n",
    ").reset_index()\n"
   ]
  },
  {
   "cell_type": "markdown",
   "metadata": {},
   "source": [
    "### 📊 Compare Ship Modes (Bar Chart)"
   ]
  },
  {
   "cell_type": "code",
   "execution_count": 11,
   "metadata": {
    "execution": {
     "iopub.execute_input": "2025-07-16T00:12:06.307359Z",
     "iopub.status.busy": "2025-07-16T00:12:06.307006Z",
     "iopub.status.idle": "2025-07-16T00:12:06.362283Z",
     "shell.execute_reply": "2025-07-16T00:12:06.361503Z",
     "shell.execute_reply.started": "2025-07-16T00:12:06.307328Z"
    },
    "trusted": true
   },
   "outputs": [
    {
     "data": {
      "application/vnd.plotly.v1+json": {
       "config": {
        "plotlyServerURL": "https://plot.ly"
       },
       "data": [
        {
         "hovertemplate": "Ship Mode=%{x}<br>Avg Shipping Delay (Days)=%{y}<br>Number of Orders=%{text}<br>Total Profit=%{marker.color}<extra></extra>",
         "legendgroup": "",
         "marker": {
          "color": {
           "bdata": "/fZ14Drp50B4nKIj4QnPQHxhMlXUDOxAzczMTMYHBEE=",
           "dtype": "f8"
          },
          "coloraxis": "coloraxis",
          "pattern": {
           "shape": ""
          }
         },
         "name": "",
         "orientation": "v",
         "showlegend": false,
         "text": {
          "bdata": "AAAAAAAImEAAAAAAAPiAQAAAAAAAZJ5AAAAAAABQt0A=",
          "dtype": "f8"
         },
         "textposition": "outside",
         "type": "bar",
         "x": [
          "First Class",
          "Same Day",
          "Second Class",
          "Standard Class"
         ],
         "xaxis": "x",
         "y": {
          "bdata": "acWv8C12AUCQclPRPKGmP1hb2s2E5wlAjOSHErEGFEA=",
          "dtype": "f8"
         },
         "yaxis": "y"
        }
       ],
       "layout": {
        "barmode": "relative",
        "coloraxis": {
         "colorbar": {
          "title": {
           "text": "Total Profit"
          }
         },
         "colorscale": [
          [
           0,
           "#0d0887"
          ],
          [
           0.1111111111111111,
           "#46039f"
          ],
          [
           0.2222222222222222,
           "#7201a8"
          ],
          [
           0.3333333333333333,
           "#9c179e"
          ],
          [
           0.4444444444444444,
           "#bd3786"
          ],
          [
           0.5555555555555556,
           "#d8576b"
          ],
          [
           0.6666666666666666,
           "#ed7953"
          ],
          [
           0.7777777777777778,
           "#fb9f3a"
          ],
          [
           0.8888888888888888,
           "#fdca26"
          ],
          [
           1,
           "#f0f921"
          ]
         ]
        },
        "legend": {
         "tracegroupgap": 0
        },
        "template": {
         "data": {
          "bar": [
           {
            "error_x": {
             "color": "#2a3f5f"
            },
            "error_y": {
             "color": "#2a3f5f"
            },
            "marker": {
             "line": {
              "color": "#E5ECF6",
              "width": 0.5
             },
             "pattern": {
              "fillmode": "overlay",
              "size": 10,
              "solidity": 0.2
             }
            },
            "type": "bar"
           }
          ],
          "barpolar": [
           {
            "marker": {
             "line": {
              "color": "#E5ECF6",
              "width": 0.5
             },
             "pattern": {
              "fillmode": "overlay",
              "size": 10,
              "solidity": 0.2
             }
            },
            "type": "barpolar"
           }
          ],
          "carpet": [
           {
            "aaxis": {
             "endlinecolor": "#2a3f5f",
             "gridcolor": "white",
             "linecolor": "white",
             "minorgridcolor": "white",
             "startlinecolor": "#2a3f5f"
            },
            "baxis": {
             "endlinecolor": "#2a3f5f",
             "gridcolor": "white",
             "linecolor": "white",
             "minorgridcolor": "white",
             "startlinecolor": "#2a3f5f"
            },
            "type": "carpet"
           }
          ],
          "choropleth": [
           {
            "colorbar": {
             "outlinewidth": 0,
             "ticks": ""
            },
            "type": "choropleth"
           }
          ],
          "contour": [
           {
            "colorbar": {
             "outlinewidth": 0,
             "ticks": ""
            },
            "colorscale": [
             [
              0,
              "#0d0887"
             ],
             [
              0.1111111111111111,
              "#46039f"
             ],
             [
              0.2222222222222222,
              "#7201a8"
             ],
             [
              0.3333333333333333,
              "#9c179e"
             ],
             [
              0.4444444444444444,
              "#bd3786"
             ],
             [
              0.5555555555555556,
              "#d8576b"
             ],
             [
              0.6666666666666666,
              "#ed7953"
             ],
             [
              0.7777777777777778,
              "#fb9f3a"
             ],
             [
              0.8888888888888888,
              "#fdca26"
             ],
             [
              1,
              "#f0f921"
             ]
            ],
            "type": "contour"
           }
          ],
          "contourcarpet": [
           {
            "colorbar": {
             "outlinewidth": 0,
             "ticks": ""
            },
            "type": "contourcarpet"
           }
          ],
          "heatmap": [
           {
            "colorbar": {
             "outlinewidth": 0,
             "ticks": ""
            },
            "colorscale": [
             [
              0,
              "#0d0887"
             ],
             [
              0.1111111111111111,
              "#46039f"
             ],
             [
              0.2222222222222222,
              "#7201a8"
             ],
             [
              0.3333333333333333,
              "#9c179e"
             ],
             [
              0.4444444444444444,
              "#bd3786"
             ],
             [
              0.5555555555555556,
              "#d8576b"
             ],
             [
              0.6666666666666666,
              "#ed7953"
             ],
             [
              0.7777777777777778,
              "#fb9f3a"
             ],
             [
              0.8888888888888888,
              "#fdca26"
             ],
             [
              1,
              "#f0f921"
             ]
            ],
            "type": "heatmap"
           }
          ],
          "histogram": [
           {
            "marker": {
             "pattern": {
              "fillmode": "overlay",
              "size": 10,
              "solidity": 0.2
             }
            },
            "type": "histogram"
           }
          ],
          "histogram2d": [
           {
            "colorbar": {
             "outlinewidth": 0,
             "ticks": ""
            },
            "colorscale": [
             [
              0,
              "#0d0887"
             ],
             [
              0.1111111111111111,
              "#46039f"
             ],
             [
              0.2222222222222222,
              "#7201a8"
             ],
             [
              0.3333333333333333,
              "#9c179e"
             ],
             [
              0.4444444444444444,
              "#bd3786"
             ],
             [
              0.5555555555555556,
              "#d8576b"
             ],
             [
              0.6666666666666666,
              "#ed7953"
             ],
             [
              0.7777777777777778,
              "#fb9f3a"
             ],
             [
              0.8888888888888888,
              "#fdca26"
             ],
             [
              1,
              "#f0f921"
             ]
            ],
            "type": "histogram2d"
           }
          ],
          "histogram2dcontour": [
           {
            "colorbar": {
             "outlinewidth": 0,
             "ticks": ""
            },
            "colorscale": [
             [
              0,
              "#0d0887"
             ],
             [
              0.1111111111111111,
              "#46039f"
             ],
             [
              0.2222222222222222,
              "#7201a8"
             ],
             [
              0.3333333333333333,
              "#9c179e"
             ],
             [
              0.4444444444444444,
              "#bd3786"
             ],
             [
              0.5555555555555556,
              "#d8576b"
             ],
             [
              0.6666666666666666,
              "#ed7953"
             ],
             [
              0.7777777777777778,
              "#fb9f3a"
             ],
             [
              0.8888888888888888,
              "#fdca26"
             ],
             [
              1,
              "#f0f921"
             ]
            ],
            "type": "histogram2dcontour"
           }
          ],
          "mesh3d": [
           {
            "colorbar": {
             "outlinewidth": 0,
             "ticks": ""
            },
            "type": "mesh3d"
           }
          ],
          "parcoords": [
           {
            "line": {
             "colorbar": {
              "outlinewidth": 0,
              "ticks": ""
             }
            },
            "type": "parcoords"
           }
          ],
          "pie": [
           {
            "automargin": true,
            "type": "pie"
           }
          ],
          "scatter": [
           {
            "fillpattern": {
             "fillmode": "overlay",
             "size": 10,
             "solidity": 0.2
            },
            "type": "scatter"
           }
          ],
          "scatter3d": [
           {
            "line": {
             "colorbar": {
              "outlinewidth": 0,
              "ticks": ""
             }
            },
            "marker": {
             "colorbar": {
              "outlinewidth": 0,
              "ticks": ""
             }
            },
            "type": "scatter3d"
           }
          ],
          "scattercarpet": [
           {
            "marker": {
             "colorbar": {
              "outlinewidth": 0,
              "ticks": ""
             }
            },
            "type": "scattercarpet"
           }
          ],
          "scattergeo": [
           {
            "marker": {
             "colorbar": {
              "outlinewidth": 0,
              "ticks": ""
             }
            },
            "type": "scattergeo"
           }
          ],
          "scattergl": [
           {
            "marker": {
             "colorbar": {
              "outlinewidth": 0,
              "ticks": ""
             }
            },
            "type": "scattergl"
           }
          ],
          "scattermap": [
           {
            "marker": {
             "colorbar": {
              "outlinewidth": 0,
              "ticks": ""
             }
            },
            "type": "scattermap"
           }
          ],
          "scattermapbox": [
           {
            "marker": {
             "colorbar": {
              "outlinewidth": 0,
              "ticks": ""
             }
            },
            "type": "scattermapbox"
           }
          ],
          "scatterpolar": [
           {
            "marker": {
             "colorbar": {
              "outlinewidth": 0,
              "ticks": ""
             }
            },
            "type": "scatterpolar"
           }
          ],
          "scatterpolargl": [
           {
            "marker": {
             "colorbar": {
              "outlinewidth": 0,
              "ticks": ""
             }
            },
            "type": "scatterpolargl"
           }
          ],
          "scatterternary": [
           {
            "marker": {
             "colorbar": {
              "outlinewidth": 0,
              "ticks": ""
             }
            },
            "type": "scatterternary"
           }
          ],
          "surface": [
           {
            "colorbar": {
             "outlinewidth": 0,
             "ticks": ""
            },
            "colorscale": [
             [
              0,
              "#0d0887"
             ],
             [
              0.1111111111111111,
              "#46039f"
             ],
             [
              0.2222222222222222,
              "#7201a8"
             ],
             [
              0.3333333333333333,
              "#9c179e"
             ],
             [
              0.4444444444444444,
              "#bd3786"
             ],
             [
              0.5555555555555556,
              "#d8576b"
             ],
             [
              0.6666666666666666,
              "#ed7953"
             ],
             [
              0.7777777777777778,
              "#fb9f3a"
             ],
             [
              0.8888888888888888,
              "#fdca26"
             ],
             [
              1,
              "#f0f921"
             ]
            ],
            "type": "surface"
           }
          ],
          "table": [
           {
            "cells": {
             "fill": {
              "color": "#EBF0F8"
             },
             "line": {
              "color": "white"
             }
            },
            "header": {
             "fill": {
              "color": "#C8D4E3"
             },
             "line": {
              "color": "white"
             }
            },
            "type": "table"
           }
          ]
         },
         "layout": {
          "annotationdefaults": {
           "arrowcolor": "#2a3f5f",
           "arrowhead": 0,
           "arrowwidth": 1
          },
          "autotypenumbers": "strict",
          "coloraxis": {
           "colorbar": {
            "outlinewidth": 0,
            "ticks": ""
           }
          },
          "colorscale": {
           "diverging": [
            [
             0,
             "#8e0152"
            ],
            [
             0.1,
             "#c51b7d"
            ],
            [
             0.2,
             "#de77ae"
            ],
            [
             0.3,
             "#f1b6da"
            ],
            [
             0.4,
             "#fde0ef"
            ],
            [
             0.5,
             "#f7f7f7"
            ],
            [
             0.6,
             "#e6f5d0"
            ],
            [
             0.7,
             "#b8e186"
            ],
            [
             0.8,
             "#7fbc41"
            ],
            [
             0.9,
             "#4d9221"
            ],
            [
             1,
             "#276419"
            ]
           ],
           "sequential": [
            [
             0,
             "#0d0887"
            ],
            [
             0.1111111111111111,
             "#46039f"
            ],
            [
             0.2222222222222222,
             "#7201a8"
            ],
            [
             0.3333333333333333,
             "#9c179e"
            ],
            [
             0.4444444444444444,
             "#bd3786"
            ],
            [
             0.5555555555555556,
             "#d8576b"
            ],
            [
             0.6666666666666666,
             "#ed7953"
            ],
            [
             0.7777777777777778,
             "#fb9f3a"
            ],
            [
             0.8888888888888888,
             "#fdca26"
            ],
            [
             1,
             "#f0f921"
            ]
           ],
           "sequentialminus": [
            [
             0,
             "#0d0887"
            ],
            [
             0.1111111111111111,
             "#46039f"
            ],
            [
             0.2222222222222222,
             "#7201a8"
            ],
            [
             0.3333333333333333,
             "#9c179e"
            ],
            [
             0.4444444444444444,
             "#bd3786"
            ],
            [
             0.5555555555555556,
             "#d8576b"
            ],
            [
             0.6666666666666666,
             "#ed7953"
            ],
            [
             0.7777777777777778,
             "#fb9f3a"
            ],
            [
             0.8888888888888888,
             "#fdca26"
            ],
            [
             1,
             "#f0f921"
            ]
           ]
          },
          "colorway": [
           "#636efa",
           "#EF553B",
           "#00cc96",
           "#ab63fa",
           "#FFA15A",
           "#19d3f3",
           "#FF6692",
           "#B6E880",
           "#FF97FF",
           "#FECB52"
          ],
          "font": {
           "color": "#2a3f5f"
          },
          "geo": {
           "bgcolor": "white",
           "lakecolor": "white",
           "landcolor": "#E5ECF6",
           "showlakes": true,
           "showland": true,
           "subunitcolor": "white"
          },
          "hoverlabel": {
           "align": "left"
          },
          "hovermode": "closest",
          "mapbox": {
           "style": "light"
          },
          "paper_bgcolor": "white",
          "plot_bgcolor": "#E5ECF6",
          "polar": {
           "angularaxis": {
            "gridcolor": "white",
            "linecolor": "white",
            "ticks": ""
           },
           "bgcolor": "#E5ECF6",
           "radialaxis": {
            "gridcolor": "white",
            "linecolor": "white",
            "ticks": ""
           }
          },
          "scene": {
           "xaxis": {
            "backgroundcolor": "#E5ECF6",
            "gridcolor": "white",
            "gridwidth": 2,
            "linecolor": "white",
            "showbackground": true,
            "ticks": "",
            "zerolinecolor": "white"
           },
           "yaxis": {
            "backgroundcolor": "#E5ECF6",
            "gridcolor": "white",
            "gridwidth": 2,
            "linecolor": "white",
            "showbackground": true,
            "ticks": "",
            "zerolinecolor": "white"
           },
           "zaxis": {
            "backgroundcolor": "#E5ECF6",
            "gridcolor": "white",
            "gridwidth": 2,
            "linecolor": "white",
            "showbackground": true,
            "ticks": "",
            "zerolinecolor": "white"
           }
          },
          "shapedefaults": {
           "line": {
            "color": "#2a3f5f"
           }
          },
          "ternary": {
           "aaxis": {
            "gridcolor": "white",
            "linecolor": "white",
            "ticks": ""
           },
           "baxis": {
            "gridcolor": "white",
            "linecolor": "white",
            "ticks": ""
           },
           "bgcolor": "#E5ECF6",
           "caxis": {
            "gridcolor": "white",
            "linecolor": "white",
            "ticks": ""
           }
          },
          "title": {
           "x": 0.05
          },
          "xaxis": {
           "automargin": true,
           "gridcolor": "white",
           "linecolor": "white",
           "ticks": "",
           "title": {
            "standoff": 15
           },
           "zerolinecolor": "white",
           "zerolinewidth": 2
          },
          "yaxis": {
           "automargin": true,
           "gridcolor": "white",
           "linecolor": "white",
           "ticks": "",
           "title": {
            "standoff": 15
           },
           "zerolinecolor": "white",
           "zerolinewidth": 2
          }
         }
        },
        "title": {
         "text": "🚚 Average Shipping Delay by Ship Mode"
        },
        "xaxis": {
         "anchor": "y",
         "domain": [
          0,
          1
         ],
         "title": {
          "text": "Ship Mode"
         }
        },
        "yaxis": {
         "anchor": "x",
         "domain": [
          0,
          1
         ],
         "title": {
          "text": "Avg Shipping Delay (Days)"
         }
        }
       }
      }
     },
     "metadata": {},
     "output_type": "display_data"
    }
   ],
   "source": [
    "import plotly.express as px\n",
    "\n",
    "fig_ship = px.bar(\n",
    "    ship_mode_perf,\n",
    "    x='Ship Mode',\n",
    "    y='avg_delay',\n",
    "    color='total_profit',\n",
    "    text='count_orders',\n",
    "    title='🚚 Average Shipping Delay by Ship Mode',\n",
    "    labels={\n",
    "        'avg_delay': 'Avg Shipping Delay (Days)',\n",
    "        'total_profit': 'Total Profit',\n",
    "        'count_orders': 'Number of Orders'\n",
    "    }\n",
    ")\n",
    "\n",
    "fig_ship.update_traces(textposition='outside')\n",
    "fig_ship.show()\n"
   ]
  },
  {
   "cell_type": "markdown",
   "metadata": {},
   "source": [
    "## 🧠 Correlation Heatmap\n",
    "\n",
    "Let’s examine the correlation between numerical features such as Sales, Profit, Discount, Quantity, and Shipping Delay.  \n",
    "This will help detect strong or weak linear relationships that may affect modeling or business decisions."
   ]
  },
  {
   "cell_type": "code",
   "execution_count": 12,
   "metadata": {
    "execution": {
     "iopub.execute_input": "2025-07-16T00:12:06.363446Z",
     "iopub.status.busy": "2025-07-16T00:12:06.363196Z",
     "iopub.status.idle": "2025-07-16T00:12:06.371198Z",
     "shell.execute_reply": "2025-07-16T00:12:06.370441Z",
     "shell.execute_reply.started": "2025-07-16T00:12:06.363426Z"
    },
    "trusted": true
   },
   "outputs": [],
   "source": [
    "# Select numerical features only\n",
    "num_cols = ['Sales', 'Quantity', 'Discount', 'Profit', 'Shipping Delay']\n",
    "corr_matrix = df[num_cols].corr()"
   ]
  },
  {
   "cell_type": "markdown",
   "metadata": {},
   "source": [
    "### 🔥 Visualize the Correlation Matrix"
   ]
  },
  {
   "cell_type": "code",
   "execution_count": 13,
   "metadata": {
    "execution": {
     "iopub.execute_input": "2025-07-16T00:12:06.372419Z",
     "iopub.status.busy": "2025-07-16T00:12:06.372132Z",
     "iopub.status.idle": "2025-07-16T00:12:07.078704Z",
     "shell.execute_reply": "2025-07-16T00:12:07.077863Z",
     "shell.execute_reply.started": "2025-07-16T00:12:06.372394Z"
    },
    "trusted": true
   },
   "outputs": [
    {
     "name": "stderr",
     "output_type": "stream",
     "text": [
      "C:\\Users\\andia\\AppData\\Local\\Temp\\ipykernel_9308\\3452942739.py:17: UserWarning:\n",
      "\n",
      "Glyph 128208 (\\N{TRIANGULAR RULER}) missing from font(s) DejaVu Sans.\n",
      "\n",
      "c:\\Users\\andia\\AppData\\Local\\Programs\\Python\\Python310\\lib\\site-packages\\IPython\\core\\pylabtools.py:170: UserWarning:\n",
      "\n",
      "Glyph 128208 (\\N{TRIANGULAR RULER}) missing from font(s) DejaVu Sans.\n",
      "\n"
     ]
    },
    {
     "data": {
      "image/png": "[encoded data removed]",
      "text/plain": [
       "<Figure size 800x600 with 2 Axes>"
      ]
     },
     "metadata": {},
     "output_type": "display_data"
    }
   ],
   "source": [
    "import seaborn as sns\n",
    "import matplotlib.pyplot as plt\n",
    "\n",
    "# Set plot size\n",
    "plt.figure(figsize=(8, 6))\n",
    "\n",
    "# Create heatmap\n",
    "sns.heatmap(\n",
    "    corr_matrix,\n",
    "    annot=True,\n",
    "    cmap='coolwarm',\n",
    "    fmt=\".2f\",\n",
    "    linewidths=0.5\n",
    ")\n",
    "\n",
    "plt.title('📐 Correlation Between Numerical Features')\n",
    "plt.tight_layout()\n",
    "plt.show()"
   ]
  },
  {
   "cell_type": "markdown",
   "metadata": {},
   "source": [
    "## 💰 Profit Margin per Order\n",
    "\n",
    "Let’s calculate the **profit margin** of each order, defined as the percentage of profit over sales.  \n",
    "This metric helps identify which product lines or customer segments bring the highest value."
   ]
  },
  {
   "cell_type": "code",
   "execution_count": 14,
   "metadata": {
    "execution": {
     "iopub.execute_input": "2025-07-16T00:12:07.080264Z",
     "iopub.status.busy": "2025-07-16T00:12:07.079772Z",
     "iopub.status.idle": "2025-07-16T00:12:07.094635Z",
     "shell.execute_reply": "2025-07-16T00:12:07.093532Z",
     "shell.execute_reply.started": "2025-07-16T00:12:07.080244Z"
    },
    "trusted": true
   },
   "outputs": [],
   "source": [
    "# Create profit margin column\n",
    "df['Profit Margin (%)'] = (df['Profit'] / df['Sales']) * 100\n",
    "\n",
    "# Remove outliers for better visualization (optional)\n",
    "df_filtered = df[(df['Profit Margin (%)'] > -200) & (df['Profit Margin (%)'] < 200)]"
   ]
  },
  {
   "cell_type": "markdown",
   "metadata": {},
   "source": [
    "### 📊 Distribution of Profit Margin"
   ]
  },
  {
   "cell_type": "code",
   "execution_count": 15,
   "metadata": {
    "execution": {
     "iopub.execute_input": "2025-07-16T00:12:07.097059Z",
     "iopub.status.busy": "2025-07-16T00:12:07.096385Z",
     "iopub.status.idle": "2025-07-16T00:12:07.177844Z",
     "shell.execute_reply": "2025-07-16T00:12:07.177028Z",
     "shell.execute_reply.started": "2025-07-16T00:12:07.097031Z"
    },
    "trusted": true
   },
   "outputs": [
    {
     "data": {
      "application/vnd.plotly.v1+json": {
       "config": {
        "plotlyServerURL": "https://plot.ly"
       },
       "data": [
        {
         "bingroup": "x",
         "hovertemplate": "Profit Margin (%)=%{x}<br>count=%{y}<extra></extra>",
         "legendgroup": "",
         "marker": {
          "color": "#636efa",
          "pattern": {
           "shape": ""
          }
         },
         "name": "",
         "nbinsx": 50,
         "orientation": "v",
         "showlegend": false,
         "type": "histogram",
         "x": {
          "bdata": "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",
          "dtype": "f8"
         },
         "xaxis": "x",
         "yaxis": "y"
        }
       ],
       "layout": {
        "barmode": "relative",
        "legend": {
         "tracegroupgap": 0
        },
        "template": {
         "data": {
          "bar": [
           {
            "error_x": {
             "color": "#2a3f5f"
            },
            "error_y": {
             "color": "#2a3f5f"
            },
            "marker": {
             "line": {
              "color": "#E5ECF6",
              "width": 0.5
             },
             "pattern": {
              "fillmode": "overlay",
              "size": 10,
              "solidity": 0.2
             }
            },
            "type": "bar"
           }
          ],
          "barpolar": [
           {
            "marker": {
             "line": {
              "color": "#E5ECF6",
              "width": 0.5
             },
             "pattern": {
              "fillmode": "overlay",
              "size": 10,
              "solidity": 0.2
             }
            },
            "type": "barpolar"
           }
          ],
          "carpet": [
           {
            "aaxis": {
             "endlinecolor": "#2a3f5f",
             "gridcolor": "white",
             "linecolor": "white",
             "minorgridcolor": "white",
             "startlinecolor": "#2a3f5f"
            },
            "baxis": {
             "endlinecolor": "#2a3f5f",
             "gridcolor": "white",
             "linecolor": "white",
             "minorgridcolor": "white",
             "startlinecolor": "#2a3f5f"
            },
            "type": "carpet"
           }
          ],
          "choropleth": [
           {
            "colorbar": {
             "outlinewidth": 0,
             "ticks": ""
            },
            "type": "choropleth"
           }
          ],
          "contour": [
           {
            "colorbar": {
             "outlinewidth": 0,
             "ticks": ""
            },
            "colorscale": [
             [
              0,
              "#0d0887"
             ],
             [
              0.1111111111111111,
              "#46039f"
             ],
             [
              0.2222222222222222,
              "#7201a8"
             ],
             [
              0.3333333333333333,
              "#9c179e"
             ],
             [
              0.4444444444444444,
              "#bd3786"
             ],
             [
              0.5555555555555556,
              "#d8576b"
             ],
             [
              0.6666666666666666,
              "#ed7953"
             ],
             [
              0.7777777777777778,
              "#fb9f3a"
             ],
             [
              0.8888888888888888,
              "#fdca26"
             ],
             [
              1,
              "#f0f921"
             ]
            ],
            "type": "contour"
           }
          ],
          "contourcarpet": [
           {
            "colorbar": {
             "outlinewidth": 0,
             "ticks": ""
            },
            "type": "contourcarpet"
           }
          ],
          "heatmap": [
           {
            "colorbar": {
             "outlinewidth": 0,
             "ticks": ""
            },
            "colorscale": [
             [
              0,
              "#0d0887"
             ],
             [
              0.1111111111111111,
              "#46039f"
             ],
             [
              0.2222222222222222,
              "#7201a8"
             ],
             [
              0.3333333333333333,
              "#9c179e"
             ],
             [
              0.4444444444444444,
              "#bd3786"
             ],
             [
              0.5555555555555556,
              "#d8576b"
             ],
             [
              0.6666666666666666,
              "#ed7953"
             ],
             [
              0.7777777777777778,
              "#fb9f3a"
             ],
             [
              0.8888888888888888,
              "#fdca26"
             ],
             [
              1,
              "#f0f921"
             ]
            ],
            "type": "heatmap"
           }
          ],
          "histogram": [
           {
            "marker": {
             "pattern": {
              "fillmode": "overlay",
              "size": 10,
              "solidity": 0.2
             }
            },
            "type": "histogram"
           }
          ],
          "histogram2d": [
           {
            "colorbar": {
             "outlinewidth": 0,
             "ticks": ""
            },
            "colorscale": [
             [
              0,
              "#0d0887"
             ],
             [
              0.1111111111111111,
              "#46039f"
             ],
             [
              0.2222222222222222,
              "#7201a8"
             ],
             [
              0.3333333333333333,
              "#9c179e"
             ],
             [
              0.4444444444444444,
              "#bd3786"
             ],
             [
              0.5555555555555556,
              "#d8576b"
             ],
             [
              0.6666666666666666,
              "#ed7953"
             ],
             [
              0.7777777777777778,
              "#fb9f3a"
             ],
             [
              0.8888888888888888,
              "#fdca26"
             ],
             [
              1,
              "#f0f921"
             ]
            ],
            "type": "histogram2d"
           }
          ],
          "histogram2dcontour": [
           {
            "colorbar": {
             "outlinewidth": 0,
             "ticks": ""
            },
            "colorscale": [
             [
              0,
              "#0d0887"
             ],
             [
              0.1111111111111111,
              "#46039f"
             ],
             [
              0.2222222222222222,
              "#7201a8"
             ],
             [
              0.3333333333333333,
              "#9c179e"
             ],
             [
              0.4444444444444444,
              "#bd3786"
             ],
             [
              0.5555555555555556,
              "#d8576b"
             ],
             [
              0.6666666666666666,
              "#ed7953"
             ],
             [
              0.7777777777777778,
              "#fb9f3a"
             ],
             [
              0.8888888888888888,
              "#fdca26"
             ],
             [
              1,
              "#f0f921"
             ]
            ],
            "type": "histogram2dcontour"
           }
          ],
          "mesh3d": [
           {
            "colorbar": {
             "outlinewidth": 0,
             "ticks": ""
            },
            "type": "mesh3d"
           }
          ],
          "parcoords": [
           {
            "line": {
             "colorbar": {
              "outlinewidth": 0,
              "ticks": ""
             }
            },
            "type": "parcoords"
           }
          ],
          "pie": [
           {
            "automargin": true,
            "type": "pie"
           }
          ],
          "scatter": [
           {
            "fillpattern": {
             "fillmode": "overlay",
             "size": 10,
             "solidity": 0.2
            },
            "type": "scatter"
           }
          ],
          "scatter3d": [
           {
            "line": {
             "colorbar": {
              "outlinewidth": 0,
              "ticks": ""
             }
            },
            "marker": {
             "colorbar": {
              "outlinewidth": 0,
              "ticks": ""
             }
            },
            "type": "scatter3d"
           }
          ],
          "scattercarpet": [
           {
            "marker": {
             "colorbar": {
              "outlinewidth": 0,
              "ticks": ""
             }
            },
            "type": "scattercarpet"
           }
          ],
          "scattergeo": [
           {
            "marker": {
             "colorbar": {
              "outlinewidth": 0,
              "ticks": ""
             }
            },
            "type": "scattergeo"
           }
          ],
          "scattergl": [
           {
            "marker": {
             "colorbar": {
              "outlinewidth": 0,
              "ticks": ""
             }
            },
            "type": "scattergl"
           }
          ],
          "scattermap": [
           {
            "marker": {
             "colorbar": {
              "outlinewidth": 0,
              "ticks": ""
             }
            },
            "type": "scattermap"
           }
          ],
          "scattermapbox": [
           {
            "marker": {
             "colorbar": {
              "outlinewidth": 0,
              "ticks": ""
             }
            },
            "type": "scattermapbox"
           }
          ],
          "scatterpolar": [
           {
            "marker": {
             "colorbar": {
              "outlinewidth": 0,
              "ticks": ""
             }
            },
            "type": "scatterpolar"
           }
          ],
          "scatterpolargl": [
           {
            "marker": {
             "colorbar": {
              "outlinewidth": 0,
              "ticks": ""
             }
            },
            "type": "scatterpolargl"
           }
          ],
          "scatterternary": [
           {
            "marker": {
             "colorbar": {
              "outlinewidth": 0,
              "ticks": ""
             }
            },
            "type": "scatterternary"
           }
          ],
          "surface": [
           {
            "colorbar": {
             "outlinewidth": 0,
             "ticks": ""
            },
            "colorscale": [
             [
              0,
              "#0d0887"
             ],
             [
              0.1111111111111111,
              "#46039f"
             ],
             [
              0.2222222222222222,
              "#7201a8"
             ],
             [
              0.3333333333333333,
              "#9c179e"
             ],
             [
              0.4444444444444444,
              "#bd3786"
             ],
             [
              0.5555555555555556,
              "#d8576b"
             ],
             [
              0.6666666666666666,
              "#ed7953"
             ],
             [
              0.7777777777777778,
              "#fb9f3a"
             ],
             [
              0.8888888888888888,
              "#fdca26"
             ],
             [
              1,
              "#f0f921"
             ]
            ],
            "type": "surface"
           }
          ],
          "table": [
           {
            "cells": {
             "fill": {
              "color": "#EBF0F8"
             },
             "line": {
              "color": "white"
             }
            },
            "header": {
             "fill": {
              "color": "#C8D4E3"
             },
             "line": {
              "color": "white"
             }
            },
            "type": "table"
           }
          ]
         },
         "layout": {
          "annotationdefaults": {
           "arrowcolor": "#2a3f5f",
           "arrowhead": 0,
           "arrowwidth": 1
          },
          "autotypenumbers": "strict",
          "coloraxis": {
           "colorbar": {
            "outlinewidth": 0,
            "ticks": ""
           }
          },
          "colorscale": {
           "diverging": [
            [
             0,
             "#8e0152"
            ],
            [
             0.1,
             "#c51b7d"
            ],
            [
             0.2,
             "#de77ae"
            ],
            [
             0.3,
             "#f1b6da"
            ],
            [
             0.4,
             "#fde0ef"
            ],
            [
             0.5,
             "#f7f7f7"
            ],
            [
             0.6,
             "#e6f5d0"
            ],
            [
             0.7,
             "#b8e186"
            ],
            [
             0.8,
             "#7fbc41"
            ],
            [
             0.9,
             "#4d9221"
            ],
            [
             1,
             "#276419"
            ]
           ],
           "sequential": [
            [
             0,
             "#0d0887"
            ],
            [
             0.1111111111111111,
             "#46039f"
            ],
            [
             0.2222222222222222,
             "#7201a8"
            ],
            [
             0.3333333333333333,
             "#9c179e"
            ],
            [
             0.4444444444444444,
             "#bd3786"
            ],
            [
             0.5555555555555556,
             "#d8576b"
            ],
            [
             0.6666666666666666,
             "#ed7953"
            ],
            [
             0.7777777777777778,
             "#fb9f3a"
            ],
            [
             0.8888888888888888,
             "#fdca26"
            ],
            [
             1,
             "#f0f921"
            ]
           ],
           "sequentialminus": [
            [
             0,
             "#0d0887"
            ],
            [
             0.1111111111111111,
             "#46039f"
            ],
            [
             0.2222222222222222,
             "#7201a8"
            ],
            [
             0.3333333333333333,
             "#9c179e"
            ],
            [
             0.4444444444444444,
             "#bd3786"
            ],
            [
             0.5555555555555556,
             "#d8576b"
            ],
            [
             0.6666666666666666,
             "#ed7953"
            ],
            [
             0.7777777777777778,
             "#fb9f3a"
            ],
            [
             0.8888888888888888,
             "#fdca26"
            ],
            [
             1,
             "#f0f921"
            ]
           ]
          },
          "colorway": [
           "#636efa",
           "#EF553B",
           "#00cc96",
           "#ab63fa",
           "#FFA15A",
           "#19d3f3",
           "#FF6692",
           "#B6E880",
           "#FF97FF",
           "#FECB52"
          ],
          "font": {
           "color": "#2a3f5f"
          },
          "geo": {
           "bgcolor": "white",
           "lakecolor": "white",
           "landcolor": "#E5ECF6",
           "showlakes": true,
           "showland": true,
           "subunitcolor": "white"
          },
          "hoverlabel": {
           "align": "left"
          },
          "hovermode": "closest",
          "mapbox": {
           "style": "light"
          },
          "paper_bgcolor": "white",
          "plot_bgcolor": "#E5ECF6",
          "polar": {
           "angularaxis": {
            "gridcolor": "white",
            "linecolor": "white",
            "ticks": ""
           },
           "bgcolor": "#E5ECF6",
           "radialaxis": {
            "gridcolor": "white",
            "linecolor": "white",
            "ticks": ""
           }
          },
          "scene": {
           "xaxis": {
            "backgroundcolor": "#E5ECF6",
            "gridcolor": "white",
            "gridwidth": 2,
            "linecolor": "white",
            "showbackground": true,
            "ticks": "",
            "zerolinecolor": "white"
           },
           "yaxis": {
            "backgroundcolor": "#E5ECF6",
            "gridcolor": "white",
            "gridwidth": 2,
            "linecolor": "white",
            "showbackground": true,
            "ticks": "",
            "zerolinecolor": "white"
           },
           "zaxis": {
            "backgroundcolor": "#E5ECF6",
            "gridcolor": "white",
            "gridwidth": 2,
            "linecolor": "white",
            "showbackground": true,
            "ticks": "",
            "zerolinecolor": "white"
           }
          },
          "shapedefaults": {
           "line": {
            "color": "#2a3f5f"
           }
          },
          "ternary": {
           "aaxis": {
            "gridcolor": "white",
            "linecolor": "white",
            "ticks": ""
           },
           "baxis": {
            "gridcolor": "white",
            "linecolor": "white",
            "ticks": ""
           },
           "bgcolor": "#E5ECF6",
           "caxis": {
            "gridcolor": "white",
            "linecolor": "white",
            "ticks": ""
           }
          },
          "title": {
           "x": 0.05
          },
          "xaxis": {
           "automargin": true,
           "gridcolor": "white",
           "linecolor": "white",
           "ticks": "",
           "title": {
            "standoff": 15
           },
           "zerolinecolor": "white",
           "zerolinewidth": 2
          },
          "yaxis": {
           "automargin": true,
           "gridcolor": "white",
           "linecolor": "white",
           "ticks": "",
           "title": {
            "standoff": 15
           },
           "zerolinecolor": "white",
           "zerolinewidth": 2
          }
         }
        },
        "title": {
         "text": "📊 Distribution of Profit Margin per Order"
        },
        "xaxis": {
         "anchor": "y",
         "domain": [
          0,
          1
         ],
         "title": {
          "text": "Profit Margin (%)"
         }
        },
        "yaxis": {
         "anchor": "x",
         "domain": [
          0,
          1
         ],
         "title": {
          "text": "count"
         }
        }
       }
      }
     },
     "metadata": {},
     "output_type": "display_data"
    }
   ],
   "source": [
    "import plotly.express as px\n",
    "\n",
    "fig_margin = px.histogram(\n",
    "    df_filtered,\n",
    "    x='Profit Margin (%)',\n",
    "    nbins=50,\n",
    "    title='📊 Distribution of Profit Margin per Order',\n",
    "    labels={'Profit Margin (%)': 'Profit Margin (%)'}\n",
    ")\n",
    "\n",
    "fig_margin.show()\n"
   ]
  },
  {
   "cell_type": "markdown",
   "metadata": {},
   "source": [
    "## 🔻 Identifying Loss-Making Orders and Products\n",
    "\n",
    "This analysis highlights the orders and sub-categories that caused negative profit.  \n",
    "It helps identify which products or strategies are harming profitability."
   ]
  },
  {
   "cell_type": "code",
   "execution_count": 16,
   "metadata": {
    "execution": {
     "iopub.execute_input": "2025-07-16T00:12:07.179185Z",
     "iopub.status.busy": "2025-07-16T00:12:07.178836Z",
     "iopub.status.idle": "2025-07-16T00:12:07.193877Z",
     "shell.execute_reply": "2025-07-16T00:12:07.192943Z",
     "shell.execute_reply.started": "2025-07-16T00:12:07.179156Z"
    },
    "trusted": true
   },
   "outputs": [],
   "source": [
    "# Filter for loss-making records\n",
    "loss_df = df[df['Profit'] < 0]\n",
    "\n",
    "# Group by Sub-Category to see which ones lose most money\n",
    "loss_by_subcat = loss_df.groupby('Sub-Category').agg(\n",
    "    total_loss=('Profit', 'sum'),\n",
    "    loss_orders=('Order ID', 'count')\n",
    ").reset_index().sort_values(by='total_loss')"
   ]
  },
  {
   "cell_type": "markdown",
   "metadata": {},
   "source": [
    "### 📊 Visualize Sub-Categories with Most Loss"
   ]
  },
  {
   "cell_type": "code",
   "execution_count": 17,
   "metadata": {
    "execution": {
     "iopub.execute_input": "2025-07-16T00:12:07.195000Z",
     "iopub.status.busy": "2025-07-16T00:12:07.194771Z",
     "iopub.status.idle": "2025-07-16T00:12:07.250011Z",
     "shell.execute_reply": "2025-07-16T00:12:07.248890Z",
     "shell.execute_reply.started": "2025-07-16T00:12:07.194983Z"
    },
    "trusted": true
   },
   "outputs": [
    {
     "data": {
      "application/vnd.plotly.v1+json": {
       "config": {
        "plotlyServerURL": "https://plot.ly"
       },
       "data": [
        {
         "hovertemplate": "Sub-Category=%{x}<br>Total Loss=%{marker.color}<br>Number of Loss Orders=%{text}<extra></extra>",
         "legendgroup": "",
         "marker": {
          "color": {
           "bdata": "uECC4s/N4sCASL99CaffwMzuycOqad3AfT81Xhq8x8AQ6beva0zDwBlz1xLS2sDADi2ynZ9qvcAqGJXU6Vq5wIY41sVNGrnAxEKtaT6Pp8CNl24SAxWNwPAWSFD8mEDA",
           "dtype": "f8"
          },
          "coloraxis": "coloraxis",
          "pattern": {
           "shape": ""
          }
         },
         "name": "",
         "orientation": "v",
         "showlegend": false,
         "text": {
          "bdata": "AAAAAAAog0AAAAAAAGBpQAAAAAAAAEZAAAAAAABAW0AAAAAAAGBtQAAAAAAAwFBAAAAAAAAAYUAAAAAAAOBkQAAAAAAAIGRAAAAAAACAQEAAAAAAAMBWQAAAAAAAAChA",
          "dtype": "f8"
         },
         "textposition": "outside",
         "type": "bar",
         "x": [
          "Binders",
          "Tables",
          "Machines",
          "Bookcases",
          "Chairs",
          "Appliances",
          "Phones",
          "Furnishings",
          "Storage",
          "Supplies",
          "Accessories",
          "Fasteners"
         ],
         "xaxis": "x",
         "y": {
          "bdata": "uECC4s/N4sCASL99CaffwMzuycOqad3AfT81Xhq8x8AQ6beva0zDwBlz1xLS2sDADi2ynZ9qvcAqGJXU6Vq5wIY41sVNGrnAxEKtaT6Pp8CNl24SAxWNwPAWSFD8mEDA",
          "dtype": "f8"
         },
         "yaxis": "y"
        }
       ],
       "layout": {
        "barmode": "relative",
        "coloraxis": {
         "colorbar": {
          "title": {
           "text": "Total Loss"
          }
         },
         "colorscale": [
          [
           0,
           "rgb(255,245,240)"
          ],
          [
           0.125,
           "rgb(254,224,210)"
          ],
          [
           0.25,
           "rgb(252,187,161)"
          ],
          [
           0.375,
           "rgb(252,146,114)"
          ],
          [
           0.5,
           "rgb(251,106,74)"
          ],
          [
           0.625,
           "rgb(239,59,44)"
          ],
          [
           0.75,
           "rgb(203,24,29)"
          ],
          [
           0.875,
           "rgb(165,15,21)"
          ],
          [
           1,
           "rgb(103,0,13)"
          ]
         ]
        },
        "legend": {
         "tracegroupgap": 0
        },
        "template": {
         "data": {
          "bar": [
           {
            "error_x": {
             "color": "#2a3f5f"
            },
            "error_y": {
             "color": "#2a3f5f"
            },
            "marker": {
             "line": {
              "color": "#E5ECF6",
              "width": 0.5
             },
             "pattern": {
              "fillmode": "overlay",
              "size": 10,
              "solidity": 0.2
             }
            },
            "type": "bar"
           }
          ],
          "barpolar": [
           {
            "marker": {
             "line": {
              "color": "#E5ECF6",
              "width": 0.5
             },
             "pattern": {
              "fillmode": "overlay",
              "size": 10,
              "solidity": 0.2
             }
            },
            "type": "barpolar"
           }
          ],
          "carpet": [
           {
            "aaxis": {
             "endlinecolor": "#2a3f5f",
             "gridcolor": "white",
             "linecolor": "white",
             "minorgridcolor": "white",
             "startlinecolor": "#2a3f5f"
            },
            "baxis": {
             "endlinecolor": "#2a3f5f",
             "gridcolor": "white",
             "linecolor": "white",
             "minorgridcolor": "white",
             "startlinecolor": "#2a3f5f"
            },
            "type": "carpet"
           }
          ],
          "choropleth": [
           {
            "colorbar": {
             "outlinewidth": 0,
             "ticks": ""
            },
            "type": "choropleth"
           }
          ],
          "contour": [
           {
            "colorbar": {
             "outlinewidth": 0,
             "ticks": ""
            },
            "colorscale": [
             [
              0,
              "#0d0887"
             ],
             [
              0.1111111111111111,
              "#46039f"
             ],
             [
              0.2222222222222222,
              "#7201a8"
             ],
             [
              0.3333333333333333,
              "#9c179e"
             ],
             [
              0.4444444444444444,
              "#bd3786"
             ],
             [
              0.5555555555555556,
              "#d8576b"
             ],
             [
              0.6666666666666666,
              "#ed7953"
             ],
             [
              0.7777777777777778,
              "#fb9f3a"
             ],
             [
              0.8888888888888888,
              "#fdca26"
             ],
             [
              1,
              "#f0f921"
             ]
            ],
            "type": "contour"
           }
          ],
          "contourcarpet": [
           {
            "colorbar": {
             "outlinewidth": 0,
             "ticks": ""
            },
            "type": "contourcarpet"
           }
          ],
          "heatmap": [
           {
            "colorbar": {
             "outlinewidth": 0,
             "ticks": ""
            },
            "colorscale": [
             [
              0,
              "#0d0887"
             ],
             [
              0.1111111111111111,
              "#46039f"
             ],
             [
              0.2222222222222222,
              "#7201a8"
             ],
             [
              0.3333333333333333,
              "#9c179e"
             ],
             [
              0.4444444444444444,
              "#bd3786"
             ],
             [
              0.5555555555555556,
              "#d8576b"
             ],
             [
              0.6666666666666666,
              "#ed7953"
             ],
             [
              0.7777777777777778,
              "#fb9f3a"
             ],
             [
              0.8888888888888888,
              "#fdca26"
             ],
             [
              1,
              "#f0f921"
             ]
            ],
            "type": "heatmap"
           }
          ],
          "histogram": [
           {
            "marker": {
             "pattern": {
              "fillmode": "overlay",
              "size": 10,
              "solidity": 0.2
             }
            },
            "type": "histogram"
           }
          ],
          "histogram2d": [
           {
            "colorbar": {
             "outlinewidth": 0,
             "ticks": ""
            },
            "colorscale": [
             [
              0,
              "#0d0887"
             ],
             [
              0.1111111111111111,
              "#46039f"
             ],
             [
              0.2222222222222222,
              "#7201a8"
             ],
             [
              0.3333333333333333,
              "#9c179e"
             ],
             [
              0.4444444444444444,
              "#bd3786"
             ],
             [
              0.5555555555555556,
              "#d8576b"
             ],
             [
              0.6666666666666666,
              "#ed7953"
             ],
             [
              0.7777777777777778,
              "#fb9f3a"
             ],
             [
              0.8888888888888888,
              "#fdca26"
             ],
             [
              1,
              "#f0f921"
             ]
            ],
            "type": "histogram2d"
           }
          ],
          "histogram2dcontour": [
           {
            "colorbar": {
             "outlinewidth": 0,
             "ticks": ""
            },
            "colorscale": [
             [
              0,
              "#0d0887"
             ],
             [
              0.1111111111111111,
              "#46039f"
             ],
             [
              0.2222222222222222,
              "#7201a8"
             ],
             [
              0.3333333333333333,
              "#9c179e"
             ],
             [
              0.4444444444444444,
              "#bd3786"
             ],
             [
              0.5555555555555556,
              "#d8576b"
             ],
             [
              0.6666666666666666,
              "#ed7953"
             ],
             [
              0.7777777777777778,
              "#fb9f3a"
             ],
             [
              0.8888888888888888,
              "#fdca26"
             ],
             [
              1,
              "#f0f921"
             ]
            ],
            "type": "histogram2dcontour"
           }
          ],
          "mesh3d": [
           {
            "colorbar": {
             "outlinewidth": 0,
             "ticks": ""
            },
            "type": "mesh3d"
           }
          ],
          "parcoords": [
           {
            "line": {
             "colorbar": {
              "outlinewidth": 0,
              "ticks": ""
             }
            },
            "type": "parcoords"
           }
          ],
          "pie": [
           {
            "automargin": true,
            "type": "pie"
           }
          ],
          "scatter": [
           {
            "fillpattern": {
             "fillmode": "overlay",
             "size": 10,
             "solidity": 0.2
            },
            "type": "scatter"
           }
          ],
          "scatter3d": [
           {
            "line": {
             "colorbar": {
              "outlinewidth": 0,
              "ticks": ""
             }
            },
            "marker": {
             "colorbar": {
              "outlinewidth": 0,
              "ticks": ""
             }
            },
            "type": "scatter3d"
           }
          ],
          "scattercarpet": [
           {
            "marker": {
             "colorbar": {
              "outlinewidth": 0,
              "ticks": ""
             }
            },
            "type": "scattercarpet"
           }
          ],
          "scattergeo": [
           {
            "marker": {
             "colorbar": {
              "outlinewidth": 0,
              "ticks": ""
             }
            },
            "type": "scattergeo"
           }
          ],
          "scattergl": [
           {
            "marker": {
             "colorbar": {
              "outlinewidth": 0,
              "ticks": ""
             }
            },
            "type": "scattergl"
           }
          ],
          "scattermap": [
           {
            "marker": {
             "colorbar": {
              "outlinewidth": 0,
              "ticks": ""
             }
            },
            "type": "scattermap"
           }
          ],
          "scattermapbox": [
           {
            "marker": {
             "colorbar": {
              "outlinewidth": 0,
              "ticks": ""
             }
            },
            "type": "scattermapbox"
           }
          ],
          "scatterpolar": [
           {
            "marker": {
             "colorbar": {
              "outlinewidth": 0,
              "ticks": ""
             }
            },
            "type": "scatterpolar"
           }
          ],
          "scatterpolargl": [
           {
            "marker": {
             "colorbar": {
              "outlinewidth": 0,
              "ticks": ""
             }
            },
            "type": "scatterpolargl"
           }
          ],
          "scatterternary": [
           {
            "marker": {
             "colorbar": {
              "outlinewidth": 0,
              "ticks": ""
             }
            },
            "type": "scatterternary"
           }
          ],
          "surface": [
           {
            "colorbar": {
             "outlinewidth": 0,
             "ticks": ""
            },
            "colorscale": [
             [
              0,
              "#0d0887"
             ],
             [
              0.1111111111111111,
              "#46039f"
             ],
             [
              0.2222222222222222,
              "#7201a8"
             ],
             [
              0.3333333333333333,
              "#9c179e"
             ],
             [
              0.4444444444444444,
              "#bd3786"
             ],
             [
              0.5555555555555556,
              "#d8576b"
             ],
             [
              0.6666666666666666,
              "#ed7953"
             ],
             [
              0.7777777777777778,
              "#fb9f3a"
             ],
             [
              0.8888888888888888,
              "#fdca26"
             ],
             [
              1,
              "#f0f921"
             ]
            ],
            "type": "surface"
           }
          ],
          "table": [
           {
            "cells": {
             "fill": {
              "color": "#EBF0F8"
             },
             "line": {
              "color": "white"
             }
            },
            "header": {
             "fill": {
              "color": "#C8D4E3"
             },
             "line": {
              "color": "white"
             }
            },
            "type": "table"
           }
          ]
         },
         "layout": {
          "annotationdefaults": {
           "arrowcolor": "#2a3f5f",
           "arrowhead": 0,
           "arrowwidth": 1
          },
          "autotypenumbers": "strict",
          "coloraxis": {
           "colorbar": {
            "outlinewidth": 0,
            "ticks": ""
           }
          },
          "colorscale": {
           "diverging": [
            [
             0,
             "#8e0152"
            ],
            [
             0.1,
             "#c51b7d"
            ],
            [
             0.2,
             "#de77ae"
            ],
            [
             0.3,
             "#f1b6da"
            ],
            [
             0.4,
             "#fde0ef"
            ],
            [
             0.5,
             "#f7f7f7"
            ],
            [
             0.6,
             "#e6f5d0"
            ],
            [
             0.7,
             "#b8e186"
            ],
            [
             0.8,
             "#7fbc41"
            ],
            [
             0.9,
             "#4d9221"
            ],
            [
             1,
             "#276419"
            ]
           ],
           "sequential": [
            [
             0,
             "#0d0887"
            ],
            [
             0.1111111111111111,
             "#46039f"
            ],
            [
             0.2222222222222222,
             "#7201a8"
            ],
            [
             0.3333333333333333,
             "#9c179e"
            ],
            [
             0.4444444444444444,
             "#bd3786"
            ],
            [
             0.5555555555555556,
             "#d8576b"
            ],
            [
             0.6666666666666666,
             "#ed7953"
            ],
            [
             0.7777777777777778,
             "#fb9f3a"
            ],
            [
             0.8888888888888888,
             "#fdca26"
            ],
            [
             1,
             "#f0f921"
            ]
           ],
           "sequentialminus": [
            [
             0,
             "#0d0887"
            ],
            [
             0.1111111111111111,
             "#46039f"
            ],
            [
             0.2222222222222222,
             "#7201a8"
            ],
            [
             0.3333333333333333,
             "#9c179e"
            ],
            [
             0.4444444444444444,
             "#bd3786"
            ],
            [
             0.5555555555555556,
             "#d8576b"
            ],
            [
             0.6666666666666666,
             "#ed7953"
            ],
            [
             0.7777777777777778,
             "#fb9f3a"
            ],
            [
             0.8888888888888888,
             "#fdca26"
            ],
            [
             1,
             "#f0f921"
            ]
           ]
          },
          "colorway": [
           "#636efa",
           "#EF553B",
           "#00cc96",
           "#ab63fa",
           "#FFA15A",
           "#19d3f3",
           "#FF6692",
           "#B6E880",
           "#FF97FF",
           "#FECB52"
          ],
          "font": {
           "color": "#2a3f5f"
          },
          "geo": {
           "bgcolor": "white",
           "lakecolor": "white",
           "landcolor": "#E5ECF6",
           "showlakes": true,
           "showland": true,
           "subunitcolor": "white"
          },
          "hoverlabel": {
           "align": "left"
          },
          "hovermode": "closest",
          "mapbox": {
           "style": "light"
          },
          "paper_bgcolor": "white",
          "plot_bgcolor": "#E5ECF6",
          "polar": {
           "angularaxis": {
            "gridcolor": "white",
            "linecolor": "white",
            "ticks": ""
           },
           "bgcolor": "#E5ECF6",
           "radialaxis": {
            "gridcolor": "white",
            "linecolor": "white",
            "ticks": ""
           }
          },
          "scene": {
           "xaxis": {
            "backgroundcolor": "#E5ECF6",
            "gridcolor": "white",
            "gridwidth": 2,
            "linecolor": "white",
            "showbackground": true,
            "ticks": "",
            "zerolinecolor": "white"
           },
           "yaxis": {
            "backgroundcolor": "#E5ECF6",
            "gridcolor": "white",
            "gridwidth": 2,
            "linecolor": "white",
            "showbackground": true,
            "ticks": "",
            "zerolinecolor": "white"
           },
           "zaxis": {
            "backgroundcolor": "#E5ECF6",
            "gridcolor": "white",
            "gridwidth": 2,
            "linecolor": "white",
            "showbackground": true,
            "ticks": "",
            "zerolinecolor": "white"
           }
          },
          "shapedefaults": {
           "line": {
            "color": "#2a3f5f"
           }
          },
          "ternary": {
           "aaxis": {
            "gridcolor": "white",
            "linecolor": "white",
            "ticks": ""
           },
           "baxis": {
            "gridcolor": "white",
            "linecolor": "white",
            "ticks": ""
           },
           "bgcolor": "#E5ECF6",
           "caxis": {
            "gridcolor": "white",
            "linecolor": "white",
            "ticks": ""
           }
          },
          "title": {
           "x": 0.05
          },
          "xaxis": {
           "automargin": true,
           "gridcolor": "white",
           "linecolor": "white",
           "ticks": "",
           "title": {
            "standoff": 15
           },
           "zerolinecolor": "white",
           "zerolinewidth": 2
          },
          "yaxis": {
           "automargin": true,
           "gridcolor": "white",
           "linecolor": "white",
           "ticks": "",
           "title": {
            "standoff": 15
           },
           "zerolinecolor": "white",
           "zerolinewidth": 2
          }
         }
        },
        "title": {
         "text": "❌ Loss-Making Sub-Categories (Negative Profit)"
        },
        "xaxis": {
         "anchor": "y",
         "domain": [
          0,
          1
         ],
         "tickangle": -45,
         "title": {
          "text": "Sub-Category"
         }
        },
        "yaxis": {
         "anchor": "x",
         "domain": [
          0,
          1
         ],
         "title": {
          "text": "Total Loss"
         }
        }
       }
      }
     },
     "metadata": {},
     "output_type": "display_data"
    }
   ],
   "source": [
    "import plotly.express as px\n",
    "\n",
    "fig_loss = px.bar(\n",
    "    loss_by_subcat,\n",
    "    x='Sub-Category',\n",
    "    y='total_loss',\n",
    "    text='loss_orders',\n",
    "    color='total_loss',\n",
    "    color_continuous_scale='Reds',\n",
    "    title='❌ Loss-Making Sub-Categories (Negative Profit)',\n",
    "    labels={'total_loss': 'Total Loss', 'loss_orders': 'Number of Loss Orders'}\n",
    ")\n",
    "\n",
    "fig_loss.update_traces(textposition='outside')\n",
    "fig_loss.update_layout(xaxis_tickangle=-45)\n",
    "fig_loss.show()\n"
   ]
  },
  {
   "cell_type": "markdown",
   "metadata": {},
   "source": [
    "## 📈 Cumulative Sales Growth\n",
    "\n",
    "We calculate the cumulative sales over time to visualize business growth.  \n",
    "This helps stakeholders understand long-term revenue trends and performance milestones."
   ]
  },
  {
   "cell_type": "code",
   "execution_count": 18,
   "metadata": {
    "execution": {
     "iopub.execute_input": "2025-07-16T00:12:07.251196Z",
     "iopub.status.busy": "2025-07-16T00:12:07.250922Z",
     "iopub.status.idle": "2025-07-16T00:12:07.272041Z",
     "shell.execute_reply": "2025-07-16T00:12:07.270980Z",
     "shell.execute_reply.started": "2025-07-16T00:12:07.251170Z"
    },
    "trusted": true
   },
   "outputs": [],
   "source": [
    "# Sort dataset by date\n",
    "df_sorted = df.sort_values('Order Date')\n",
    "\n",
    "# Group by date and sum sales\n",
    "daily_sales = df_sorted.groupby('Order Date').agg(\n",
    "    daily_sales=('Sales', 'sum')\n",
    ").reset_index()\n",
    "\n",
    "# Calculate cumulative sales\n",
    "daily_sales['Cumulative Sales'] = daily_sales['daily_sales'].cumsum()"
   ]
  },
  {
   "cell_type": "markdown",
   "metadata": {},
   "source": [
    "### 📊 Visualize Cumulative Sales Over Time"
   ]
  },
  {
   "cell_type": "code",
   "execution_count": 19,
   "metadata": {
    "execution": {
     "iopub.execute_input": "2025-07-16T00:12:07.273303Z",
     "iopub.status.busy": "2025-07-16T00:12:07.273017Z",
     "iopub.status.idle": "2025-07-16T00:12:07.339613Z",
     "shell.execute_reply": "2025-07-16T00:12:07.338753Z",
     "shell.execute_reply.started": "2025-07-16T00:12:07.273276Z"
    },
    "trusted": true
   },
   "outputs": [
    {
     "data": {
      "application/vnd.plotly.v1+json": {
       "config": {
        "plotlyServerURL": "https://plot.ly"
       },
       "data": [
        {
         "hovertemplate": "Date=%{x}<br>Total Sales (Cumulative)=%{y}<extra></extra>",
         "legendgroup": "",
         "line": {
          "color": "#636efa",
          "dash": "solid"
         },
         "marker": {
          "symbol": "circle"
         },
         "mode": "lines",
         "name": "",
         "showlegend": false,
         "type": "scattergl",
         "x": [
          "2014-01-03T00:00:00.000000000",
          "2014-01-04T00:00:00.000000000",
          "2014-01-05T00:00:00.000000000",
          "2014-01-06T00:00:00.000000000",
          "2014-01-07T00:00:00.000000000",
          "2014-01-09T00:00:00.000000000",
          "2014-01-10T00:00:00.000000000",
          "2014-01-11T00:00:00.000000000",
          "2014-01-13T00:00:00.000000000",
          "2014-01-14T00:00:00.000000000",
          "2014-01-15T00:00:00.000000000",
          "2014-01-16T00:00:00.000000000",
          "2014-01-18T00:00:00.000000000",
          "2014-01-19T00:00:00.000000000",
          "2014-01-20T00:00:00.000000000",
          "2014-01-21T00:00:00.000000000",
          "2014-01-23T00:00:00.000000000",
          "2014-01-26T00:00:00.000000000",
          "2014-01-27T00:00:00.000000000",
          "2014-01-28T00:00:00.000000000",
          "2014-01-30T00:00:00.000000000",
          "2014-01-31T00:00:00.000000000",
          "2014-02-01T00:00:00.000000000",
          "2014-02-02T00:00:00.000000000",
          "2014-02-03T00:00:00.000000000",
          "2014-02-04T00:00:00.000000000",
          "2014-02-06T00:00:00.000000000",
          "2014-02-07T00:00:00.000000000",
          "2014-02-08T00:00:00.000000000",
          "2014-02-11T00:00:00.000000000",
          "2014-02-12T00:00:00.000000000",
          "2014-02-14T00:00:00.000000000",
          "2014-02-15T00:00:00.000000000",
          "2014-02-16T00:00:00.000000000",
          "2014-02-17T00:00:00.000000000",
          "2014-02-18T00:00:00.000000000",
          "2014-02-20T00:00:00.000000000",
          "2014-02-21T00:00:00.000000000",
          "2014-02-22T00:00:00.000000000",
          "2014-02-23T00:00:00.000000000",
          "2014-02-24T00:00:00.000000000",
          "2014-02-27T00:00:00.000000000",
          "2014-03-01T00:00:00.000000000",
          "2014-03-02T00:00:00.000000000",
          "2014-03-03T00:00:00.000000000",
          "2014-03-04T00:00:00.000000000",
          "2014-03-05T00:00:00.000000000",
          "2014-03-07T00:00:00.000000000",
          "2014-03-10T00:00:00.000000000",
          "2014-03-11T00:00:00.000000000",
          "2014-03-14T00:00:00.000000000",
          "2014-03-15T00:00:00.000000000",
          "2014-03-16T00:00:00.000000000",
          "2014-03-17T00:00:00.000000000",
          "2014-03-18T00:00:00.000000000",
          "2014-03-19T00:00:00.000000000",
          "2014-03-21T00:00:00.000000000",
          "2014-03-22T00:00:00.000000000",
          "2014-03-23T00:00:00.000000000",
          "2014-03-24T00:00:00.000000000",
          "2014-03-25T00:00:00.000000000",
          "2014-03-26T00:00:00.000000000",
          "2014-03-28T00:00:00.000000000",
          "2014-03-29T00:00:00.000000000",
          "2014-03-30T00:00:00.000000000",
          "2014-03-31T00:00:00.000000000",
          "2014-04-01T00:00:00.000000000",
          "2014-04-02T00:00:00.000000000",
          "2014-04-03T00:00:00.000000000",
          "2014-04-04T00:00:00.000000000",
          "2014-04-05T00:00:00.000000000",
          "2014-04-06T00:00:00.000000000",
          "2014-04-07T00:00:00.000000000",
          "2014-04-08T00:00:00.000000000",
          "2014-04-11T00:00:00.000000000",
          "2014-04-12T00:00:00.000000000",
          "2014-04-13T00:00:00.000000000",
          "2014-04-15T00:00:00.000000000",
          "2014-04-16T00:00:00.000000000",
          "2014-04-18T00:00:00.000000000",
          "2014-04-19T00:00:00.000000000",
          "2014-04-20T00:00:00.000000000",
          "2014-04-21T00:00:00.000000000",
          "2014-04-22T00:00:00.000000000",
          "2014-04-23T00:00:00.000000000",
          "2014-04-25T00:00:00.000000000",
          "2014-04-26T00:00:00.000000000",
          "2014-04-28T00:00:00.000000000",
          "2014-04-29T00:00:00.000000000",
          "2014-04-30T00:00:00.000000000",
          "2014-05-02T00:00:00.000000000",
          "2014-05-03T00:00:00.000000000",
          "2014-05-04T00:00:00.000000000",
          "2014-05-05T00:00:00.000000000",
          "2014-05-06T00:00:00.000000000",
          "2014-05-07T00:00:00.000000000",
          "2014-05-08T00:00:00.000000000",
          "2014-05-09T00:00:00.000000000",
          "2014-05-10T00:00:00.000000000",
          "2014-05-11T00:00:00.000000000",
          "2014-05-12T00:00:00.000000000",
          "2014-05-13T00:00:00.000000000",
          "2014-05-14T00:00:00.000000000",
          "2014-05-16T00:00:00.000000000",
          "2014-05-17T00:00:00.000000000",
          "2014-05-18T00:00:00.000000000",
          "2014-05-19T00:00:00.000000000",
          "2014-05-20T00:00:00.000000000",
          "2014-05-21T00:00:00.000000000",
          "2014-05-22T00:00:00.000000000",
          "2014-05-23T00:00:00.000000000",
          "2014-05-24T00:00:00.000000000",
          "2014-05-25T00:00:00.000000000",
          "2014-05-26T00:00:00.000000000",
          "2014-05-27T00:00:00.000000000",
          "2014-05-28T00:00:00.000000000",
          "2014-05-30T00:00:00.000000000",
          "2014-05-31T00:00:00.000000000",
          "2014-06-01T00:00:00.000000000",
          "2014-06-02T00:00:00.000000000",
          "2014-06-03T00:00:00.000000000",
          "2014-06-04T00:00:00.000000000",
          "2014-06-06T00:00:00.000000000",
          "2014-06-07T00:00:00.000000000",
          "2014-06-08T00:00:00.000000000",
          "2014-06-09T00:00:00.000000000",
          "2014-06-10T00:00:00.000000000",
          "2014-06-13T00:00:00.000000000",
          "2014-06-14T00:00:00.000000000",
          "2014-06-15T00:00:00.000000000",
          "2014-06-16T00:00:00.000000000",
          "2014-06-17T00:00:00.000000000",
          "2014-06-18T00:00:00.000000000",
          "2014-06-20T00:00:00.000000000",
          "2014-06-21T00:00:00.000000000",
          "2014-06-22T00:00:00.000000000",
          "2014-06-23T00:00:00.000000000",
          "2014-06-24T00:00:00.000000000",
          "2014-06-25T00:00:00.000000000",
          "2014-06-27T00:00:00.000000000",
          "2014-06-28T00:00:00.000000000",
          "2014-06-29T00:00:00.000000000",
          "2014-06-30T00:00:00.000000000",
          "2014-07-01T00:00:00.000000000",
          "2014-07-02T00:00:00.000000000",
          "2014-07-04T00:00:00.000000000",
          "2014-07-05T00:00:00.000000000",
          "2014-07-06T00:00:00.000000000",
          "2014-07-07T00:00:00.000000000",
          "2014-07-08T00:00:00.000000000",
          "2014-07-09T00:00:00.000000000",
          "2014-07-11T00:00:00.000000000",
          "2014-07-12T00:00:00.000000000",
          "2014-07-13T00:00:00.000000000",
          "2014-07-14T00:00:00.000000000",
          "2014-07-15T00:00:00.000000000",
          "2014-07-18T00:00:00.000000000",
          "2014-07-19T00:00:00.000000000",
          "2014-07-20T00:00:00.000000000",
          "2014-07-21T00:00:00.000000000",
          "2014-07-22T00:00:00.000000000",
          "2014-07-23T00:00:00.000000000",
          "2014-07-25T00:00:00.000000000",
          "2014-07-26T00:00:00.000000000",
          "2014-07-27T00:00:00.000000000",
          "2014-07-28T00:00:00.000000000",
          "2014-07-30T00:00:00.000000000",
          "2014-08-01T00:00:00.000000000",
          "2014-08-02T00:00:00.000000000",
          "2014-08-03T00:00:00.000000000",
          "2014-08-04T00:00:00.000000000",
          "2014-08-05T00:00:00.000000000",
          "2014-08-06T00:00:00.000000000",
          "2014-08-08T00:00:00.000000000",
          "2014-08-09T00:00:00.000000000",
          "2014-08-11T00:00:00.000000000",
          "2014-08-12T00:00:00.000000000",
          "2014-08-15T00:00:00.000000000",
          "2014-08-16T00:00:00.000000000",
          "2014-08-17T00:00:00.000000000",
          "2014-08-19T00:00:00.000000000",
          "2014-08-20T00:00:00.000000000",
          "2014-08-22T00:00:00.000000000",
          "2014-08-23T00:00:00.000000000",
          "2014-08-24T00:00:00.000000000",
          "2014-08-25T00:00:00.000000000",
          "2014-08-26T00:00:00.000000000",
          "2014-08-27T00:00:00.000000000",
          "2014-08-29T00:00:00.000000000",
          "2014-08-30T00:00:00.000000000",
          "2014-08-31T00:00:00.000000000",
          "2014-09-01T00:00:00.000000000",
          "2014-09-02T00:00:00.000000000",
          "2014-09-03T00:00:00.000000000",
          "2014-09-05T00:00:00.000000000",
          "2014-09-06T00:00:00.000000000",
          "2014-09-07T00:00:00.000000000",
          "2014-09-08T00:00:00.000000000",
          "2014-09-09T00:00:00.000000000",
          "2014-09-10T00:00:00.000000000",
          "2014-09-11T00:00:00.000000000",
          "2014-09-12T00:00:00.000000000",
          "2014-09-13T00:00:00.000000000",
          "2014-09-14T00:00:00.000000000",
          "2014-09-15T00:00:00.000000000",
          "2014-09-16T00:00:00.000000000",
          "2014-09-17T00:00:00.000000000",
          "2014-09-19T00:00:00.000000000",
          "2014-09-20T00:00:00.000000000",
          "2014-09-21T00:00:00.000000000",
          "2014-09-22T00:00:00.000000000",
          "2014-09-23T00:00:00.000000000",
          "2014-09-24T00:00:00.000000000",
          "2014-09-25T00:00:00.000000000",
          "2014-09-26T00:00:00.000000000",
          "2014-09-27T00:00:00.000000000",
          "2014-09-28T00:00:00.000000000",
          "2014-09-29T00:00:00.000000000",
          "2014-09-30T00:00:00.000000000",
          "2014-10-01T00:00:00.000000000",
          "2014-10-02T00:00:00.000000000",
          "2014-10-03T00:00:00.000000000",
          "2014-10-04T00:00:00.000000000",
          "2014-10-05T00:00:00.000000000",
          "2014-10-06T00:00:00.000000000",
          "2014-10-07T00:00:00.000000000",
          "2014-10-08T00:00:00.000000000",
          "2014-10-09T00:00:00.000000000",
          "2014-10-10T00:00:00.000000000",
          "2014-10-11T00:00:00.000000000",
          "2014-10-12T00:00:00.000000000",
          "2014-10-13T00:00:00.000000000",
          "2014-10-14T00:00:00.000000000",
          "2014-10-15T00:00:00.000000000",
          "2014-10-16T00:00:00.000000000",
          "2014-10-17T00:00:00.000000000",
          "2014-10-18T00:00:00.000000000",
          "2014-10-19T00:00:00.000000000",
          "2014-10-20T00:00:00.000000000",
          "2014-10-21T00:00:00.000000000",
          "2014-10-22T00:00:00.000000000",
          "2014-10-24T00:00:00.000000000",
          "2014-10-25T00:00:00.000000000",
          "2014-10-26T00:00:00.000000000",
          "2014-10-27T00:00:00.000000000",
          "2014-10-28T00:00:00.000000000",
          "2014-10-29T00:00:00.000000000",
          "2014-10-31T00:00:00.000000000",
          "2014-11-01T00:00:00.000000000",
          "2014-11-02T00:00:00.000000000",
          "2014-11-03T00:00:00.000000000",
          "2014-11-04T00:00:00.000000000",
          "2014-11-05T00:00:00.000000000",
          "2014-11-06T00:00:00.000000000",
          "2014-11-07T00:00:00.000000000",
          "2014-11-08T00:00:00.000000000",
          "2014-11-09T00:00:00.000000000",
          "2014-11-10T00:00:00.000000000",
          "2014-11-11T00:00:00.000000000",
          "2014-11-12T00:00:00.000000000",
          "2014-11-14T00:00:00.000000000",
          "2014-11-15T00:00:00.000000000",
          "2014-11-16T00:00:00.000000000",
          "2014-11-17T00:00:00.000000000",
          "2014-11-18T00:00:00.000000000",
          "2014-11-19T00:00:00.000000000",
          "2014-11-20T00:00:00.000000000",
          "2014-11-21T00:00:00.000000000",
          "2014-11-22T00:00:00.000000000",
          "2014-11-23T00:00:00.000000000",
          "2014-11-24T00:00:00.000000000",
          "2014-11-25T00:00:00.000000000",
          "2014-11-26T00:00:00.000000000",
          "2014-11-27T00:00:00.000000000",
          "2014-11-28T00:00:00.000000000",
          "2014-11-29T00:00:00.000000000",
          "2014-11-30T00:00:00.000000000",
          "2014-12-01T00:00:00.000000000",
          "2014-12-02T00:00:00.000000000",
          "2014-12-03T00:00:00.000000000",
          "2014-12-04T00:00:00.000000000",
          "2014-12-05T00:00:00.000000000",
          "2014-12-06T00:00:00.000000000",
          "2014-12-07T00:00:00.000000000",
          "2014-12-08T00:00:00.000000000",
          "2014-12-09T00:00:00.000000000",
          "2014-12-10T00:00:00.000000000",
          "2014-12-12T00:00:00.000000000",
          "2014-12-13T00:00:00.000000000",
          "2014-12-14T00:00:00.000000000",
          "2014-12-15T00:00:00.000000000",
          "2014-12-16T00:00:00.000000000",
          "2014-12-17T00:00:00.000000000",
          "2014-12-19T00:00:00.000000000",
          "2014-12-20T00:00:00.000000000",
          "2014-12-21T00:00:00.000000000",
          "2014-12-22T00:00:00.000000000",
          "2014-12-23T00:00:00.000000000",
          "2014-12-24T00:00:00.000000000",
          "2014-12-26T00:00:00.000000000",
          "2014-12-27T00:00:00.000000000",
          "2014-12-28T00:00:00.000000000",
          "2014-12-29T00:00:00.000000000",
          "2014-12-30T00:00:00.000000000",
          "2014-12-31T00:00:00.000000000",
          "2015-01-02T00:00:00.000000000",
          "2015-01-03T00:00:00.000000000",
          "2015-01-04T00:00:00.000000000",
          "2015-01-05T00:00:00.000000000",
          "2015-01-06T00:00:00.000000000",
          "2015-01-09T00:00:00.000000000",
          "2015-01-10T00:00:00.000000000",
          "2015-01-12T00:00:00.000000000",
          "2015-01-13T00:00:00.000000000",
          "2015-01-17T00:00:00.000000000",
          "2015-01-19T00:00:00.000000000",
          "2015-01-23T00:00:00.000000000",
          "2015-01-24T00:00:00.000000000",
          "2015-01-26T00:00:00.000000000",
          "2015-01-27T00:00:00.000000000",
          "2015-01-28T00:00:00.000000000",
          "2015-01-30T00:00:00.000000000",
          "2015-01-31T00:00:00.000000000",
          "2015-02-03T00:00:00.000000000",
          "2015-02-06T00:00:00.000000000",
          "2015-02-07T00:00:00.000000000",
          "2015-02-08T00:00:00.000000000",
          "2015-02-09T00:00:00.000000000",
          "2015-02-10T00:00:00.000000000",
          "2015-02-14T00:00:00.000000000",
          "2015-02-15T00:00:00.000000000",
          "2015-02-16T00:00:00.000000000",
          "2015-02-18T00:00:00.000000000",
          "2015-02-20T00:00:00.000000000",
          "2015-02-21T00:00:00.000000000",
          "2015-02-22T00:00:00.000000000",
          "2015-02-23T00:00:00.000000000",
          "2015-02-25T00:00:00.000000000",
          "2015-02-27T00:00:00.000000000",
          "2015-02-28T00:00:00.000000000",
          "2015-03-01T00:00:00.000000000",
          "2015-03-02T00:00:00.000000000",
          "2015-03-05T00:00:00.000000000",
          "2015-03-06T00:00:00.000000000",
          "2015-03-07T00:00:00.000000000",
          "2015-03-08T00:00:00.000000000",
          "2015-03-09T00:00:00.000000000",
          "2015-03-10T00:00:00.000000000",
          "2015-03-12T00:00:00.000000000",
          "2015-03-13T00:00:00.000000000",
          "2015-03-14T00:00:00.000000000",
          "2015-03-15T00:00:00.000000000",
          "2015-03-16T00:00:00.000000000",
          "2015-03-17T00:00:00.000000000",
          "2015-03-19T00:00:00.000000000",
          "2015-03-20T00:00:00.000000000",
          "2015-03-21T00:00:00.000000000",
          "2015-03-22T00:00:00.000000000",
          "2015-03-23T00:00:00.000000000",
          "2015-03-24T00:00:00.000000000",
          "2015-03-26T00:00:00.000000000",
          "2015-03-27T00:00:00.000000000",
          "2015-03-28T00:00:00.000000000",
          "2015-03-29T00:00:00.000000000",
          "2015-03-30T00:00:00.000000000",
          "2015-03-31T00:00:00.000000000",
          "2015-04-02T00:00:00.000000000",
          "2015-04-04T00:00:00.000000000",
          "2015-04-05T00:00:00.000000000",
          "2015-04-06T00:00:00.000000000",
          "2015-04-07T00:00:00.000000000",
          "2015-04-09T00:00:00.000000000",
          "2015-04-10T00:00:00.000000000",
          "2015-04-11T00:00:00.000000000",
          "2015-04-12T00:00:00.000000000",
          "2015-04-13T00:00:00.000000000",
          "2015-04-14T00:00:00.000000000",
          "2015-04-16T00:00:00.000000000",
          "2015-04-17T00:00:00.000000000",
          "2015-04-18T00:00:00.000000000",
          "2015-04-19T00:00:00.000000000",
          "2015-04-20T00:00:00.000000000",
          "2015-04-21T00:00:00.000000000",
          "2015-04-22T00:00:00.000000000",
          "2015-04-24T00:00:00.000000000",
          "2015-04-25T00:00:00.000000000",
          "2015-04-26T00:00:00.000000000",
          "2015-04-27T00:00:00.000000000",
          "2015-04-28T00:00:00.000000000",
          "2015-04-29T00:00:00.000000000",
          "2015-04-30T00:00:00.000000000",
          "2015-05-01T00:00:00.000000000",
          "2015-05-02T00:00:00.000000000",
          "2015-05-03T00:00:00.000000000",
          "2015-05-04T00:00:00.000000000",
          "2015-05-07T00:00:00.000000000",
          "2015-05-08T00:00:00.000000000",
          "2015-05-09T00:00:00.000000000",
          "2015-05-10T00:00:00.000000000",
          "2015-05-11T00:00:00.000000000",
          "2015-05-12T00:00:00.000000000",
          "2015-05-13T00:00:00.000000000",
          "2015-05-14T00:00:00.000000000",
          "2015-05-15T00:00:00.000000000",
          "2015-05-16T00:00:00.000000000",
          "2015-05-17T00:00:00.000000000",
          "2015-05-18T00:00:00.000000000",
          "2015-05-20T00:00:00.000000000",
          "2015-05-21T00:00:00.000000000",
          "2015-05-22T00:00:00.000000000",
          "2015-05-23T00:00:00.000000000",
          "2015-05-24T00:00:00.000000000",
          "2015-05-25T00:00:00.000000000",
          "2015-05-26T00:00:00.000000000",
          "2015-05-28T00:00:00.000000000",
          "2015-05-29T00:00:00.000000000",
          "2015-05-30T00:00:00.000000000",
          "2015-05-31T00:00:00.000000000",
          "2015-06-01T00:00:00.000000000",
          "2015-06-04T00:00:00.000000000",
          "2015-06-05T00:00:00.000000000",
          "2015-06-07T00:00:00.000000000",
          "2015-06-08T00:00:00.000000000",
          "2015-06-09T00:00:00.000000000",
          "2015-06-11T00:00:00.000000000",
          "2015-06-12T00:00:00.000000000",
          "2015-06-13T00:00:00.000000000",
          "2015-06-14T00:00:00.000000000",
          "2015-06-15T00:00:00.000000000",
          "2015-06-16T00:00:00.000000000",
          "2015-06-18T00:00:00.000000000",
          "2015-06-19T00:00:00.000000000",
          "2015-06-20T00:00:00.000000000",
          "2015-06-21T00:00:00.000000000",
          "2015-06-22T00:00:00.000000000",
          "2015-06-23T00:00:00.000000000",
          "2015-06-25T00:00:00.000000000",
          "2015-06-26T00:00:00.000000000",
          "2015-06-28T00:00:00.000000000",
          "2015-06-29T00:00:00.000000000",
          "2015-07-02T00:00:00.000000000",
          "2015-07-03T00:00:00.000000000",
          "2015-07-04T00:00:00.000000000",
          "2015-07-05T00:00:00.000000000",
          "2015-07-06T00:00:00.000000000",
          "2015-07-08T00:00:00.000000000",
          "2015-07-09T00:00:00.000000000",
          "2015-07-10T00:00:00.000000000",
          "2015-07-11T00:00:00.000000000",
          "2015-07-12T00:00:00.000000000",
          "2015-07-13T00:00:00.000000000",
          "2015-07-14T00:00:00.000000000",
          "2015-07-16T00:00:00.000000000",
          "2015-07-17T00:00:00.000000000",
          "2015-07-18T00:00:00.000000000",
          "2015-07-19T00:00:00.000000000",
          "2015-07-20T00:00:00.000000000",
          "2015-07-23T00:00:00.000000000",
          "2015-07-24T00:00:00.000000000",
          "2015-07-25T00:00:00.000000000",
          "2015-07-26T00:00:00.000000000",
          "2015-07-27T00:00:00.000000000",
          "2015-07-30T00:00:00.000000000",
          "2015-07-31T00:00:00.000000000",
          "2015-08-01T00:00:00.000000000",
          "2015-08-02T00:00:00.000000000",
          "2015-08-05T00:00:00.000000000",
          "2015-08-06T00:00:00.000000000",
          "2015-08-07T00:00:00.000000000",
          "2015-08-08T00:00:00.000000000",
          "2015-08-09T00:00:00.000000000",
          "2015-08-10T00:00:00.000000000",
          "2015-08-11T00:00:00.000000000",
          "2015-08-13T00:00:00.000000000",
          "2015-08-15T00:00:00.000000000",
          "2015-08-16T00:00:00.000000000",
          "2015-08-17T00:00:00.000000000",
          "2015-08-21T00:00:00.000000000",
          "2015-08-22T00:00:00.000000000",
          "2015-08-23T00:00:00.000000000",
          "2015-08-24T00:00:00.000000000",
          "2015-08-25T00:00:00.000000000",
          "2015-08-27T00:00:00.000000000",
          "2015-08-28T00:00:00.000000000",
          "2015-08-29T00:00:00.000000000",
          "2015-08-31T00:00:00.000000000",
          "2015-09-01T00:00:00.000000000",
          "2015-09-03T00:00:00.000000000",
          "2015-09-04T00:00:00.000000000",
          "2015-09-05T00:00:00.000000000",
          "2015-09-06T00:00:00.000000000",
          "2015-09-07T00:00:00.000000000",
          "2015-09-08T00:00:00.000000000",
          "2015-09-10T00:00:00.000000000",
          "2015-09-11T00:00:00.000000000",
          "2015-09-12T00:00:00.000000000",
          "2015-09-13T00:00:00.000000000",
          "2015-09-14T00:00:00.000000000",
          "2015-09-15T00:00:00.000000000",
          "2015-09-16T00:00:00.000000000",
          "2015-09-17T00:00:00.000000000",
          "2015-09-18T00:00:00.000000000",
          "2015-09-19T00:00:00.000000000",
          "2015-09-20T00:00:00.000000000",
          "2015-09-21T00:00:00.000000000",
          "2015-09-22T00:00:00.000000000",
          "2015-09-24T00:00:00.000000000",
          "2015-09-25T00:00:00.000000000",
          "2015-09-26T00:00:00.000000000",
          "2015-09-27T00:00:00.000000000",
          "2015-09-28T00:00:00.000000000",
          "2015-10-01T00:00:00.000000000",
          "2015-10-02T00:00:00.000000000",
          "2015-10-03T00:00:00.000000000",
          "2015-10-04T00:00:00.000000000",
          "2015-10-05T00:00:00.000000000",
          "2015-10-08T00:00:00.000000000",
          "2015-10-09T00:00:00.000000000",
          "2015-10-10T00:00:00.000000000",
          "2015-10-11T00:00:00.000000000",
          "2015-10-12T00:00:00.000000000",
          "2015-10-13T00:00:00.000000000",
          "2015-10-15T00:00:00.000000000",
          "2015-10-16T00:00:00.000000000",
          "2015-10-17T00:00:00.000000000",
          "2015-10-18T00:00:00.000000000",
          "2015-10-19T00:00:00.000000000",
          "2015-10-20T00:00:00.000000000",
          "2015-10-22T00:00:00.000000000",
          "2015-10-23T00:00:00.000000000",
          "2015-10-24T00:00:00.000000000",
          "2015-10-25T00:00:00.000000000",
          "2015-10-26T00:00:00.000000000",
          "2015-10-28T00:00:00.000000000",
          "2015-10-29T00:00:00.000000000",
          "2015-10-30T00:00:00.000000000",
          "2015-10-31T00:00:00.000000000",
          "2015-11-01T00:00:00.000000000",
          "2015-11-02T00:00:00.000000000",
          "2015-11-03T00:00:00.000000000",
          "2015-11-05T00:00:00.000000000",
          "2015-11-06T00:00:00.000000000",
          "2015-11-07T00:00:00.000000000",
          "2015-11-08T00:00:00.000000000",
          "2015-11-09T00:00:00.000000000",
          "2015-11-10T00:00:00.000000000",
          "2015-11-11T00:00:00.000000000",
          "2015-11-12T00:00:00.000000000",
          "2015-11-13T00:00:00.000000000",
          "2015-11-14T00:00:00.000000000",
          "2015-11-15T00:00:00.000000000",
          "2015-11-16T00:00:00.000000000",
          "2015-11-17T00:00:00.000000000",
          "2015-11-19T00:00:00.000000000",
          "2015-11-20T00:00:00.000000000",
          "2015-11-21T00:00:00.000000000",
          "2015-11-22T00:00:00.000000000",
          "2015-11-23T00:00:00.000000000",
          "2015-11-24T00:00:00.000000000",
          "2015-11-25T00:00:00.000000000",
          "2015-11-26T00:00:00.000000000",
          "2015-11-27T00:00:00.000000000",
          "2015-11-28T00:00:00.000000000",
          "2015-11-29T00:00:00.000000000",
          "2015-11-30T00:00:00.000000000",
          "2015-12-01T00:00:00.000000000",
          "2015-12-03T00:00:00.000000000",
          "2015-12-04T00:00:00.000000000",
          "2015-12-05T00:00:00.000000000",
          "2015-12-06T00:00:00.000000000",
          "2015-12-07T00:00:00.000000000",
          "2015-12-08T00:00:00.000000000",
          "2015-12-09T00:00:00.000000000",
          "2015-12-10T00:00:00.000000000",
          "2015-12-11T00:00:00.000000000",
          "2015-12-12T00:00:00.000000000",
          "2015-12-13T00:00:00.000000000",
          "2015-12-14T00:00:00.000000000",
          "2015-12-15T00:00:00.000000000",
          "2015-12-16T00:00:00.000000000",
          "2015-12-17T00:00:00.000000000",
          "2015-12-18T00:00:00.000000000",
          "2015-12-19T00:00:00.000000000",
          "2015-12-20T00:00:00.000000000",
          "2015-12-21T00:00:00.000000000",
          "2015-12-22T00:00:00.000000000",
          "2015-12-23T00:00:00.000000000",
          "2015-12-24T00:00:00.000000000",
          "2015-12-25T00:00:00.000000000",
          "2015-12-26T00:00:00.000000000",
          "2015-12-27T00:00:00.000000000",
          "2015-12-28T00:00:00.000000000",
          "2015-12-29T00:00:00.000000000",
          "2015-12-30T00:00:00.000000000",
          "2015-12-31T00:00:00.000000000",
          "2016-01-02T00:00:00.000000000",
          "2016-01-03T00:00:00.000000000",
          "2016-01-04T00:00:00.000000000",
          "2016-01-05T00:00:00.000000000",
          "2016-01-07T00:00:00.000000000",
          "2016-01-08T00:00:00.000000000",
          "2016-01-09T00:00:00.000000000",
          "2016-01-10T00:00:00.000000000",
          "2016-01-11T00:00:00.000000000",
          "2016-01-14T00:00:00.000000000",
          "2016-01-15T00:00:00.000000000",
          "2016-01-16T00:00:00.000000000",
          "2016-01-17T00:00:00.000000000",
          "2016-01-21T00:00:00.000000000",
          "2016-01-22T00:00:00.000000000",
          "2016-01-23T00:00:00.000000000",
          "2016-01-24T00:00:00.000000000",
          "2016-01-25T00:00:00.000000000",
          "2016-01-28T00:00:00.000000000",
          "2016-01-30T00:00:00.000000000",
          "2016-01-31T00:00:00.000000000",
          "2016-02-01T00:00:00.000000000",
          "2016-02-02T00:00:00.000000000",
          "2016-02-03T00:00:00.000000000",
          "2016-02-04T00:00:00.000000000",
          "2016-02-05T00:00:00.000000000",
          "2016-02-06T00:00:00.000000000",
          "2016-02-07T00:00:00.000000000",
          "2016-02-08T00:00:00.000000000",
          "2016-02-09T00:00:00.000000000",
          "2016-02-11T00:00:00.000000000",
          "2016-02-12T00:00:00.000000000",
          "2016-02-13T00:00:00.000000000",
          "2016-02-14T00:00:00.000000000",
          "2016-02-15T00:00:00.000000000",
          "2016-02-16T00:00:00.000000000",
          "2016-02-19T00:00:00.000000000",
          "2016-02-20T00:00:00.000000000",
          "2016-02-21T00:00:00.000000000",
          "2016-02-22T00:00:00.000000000",
          "2016-02-23T00:00:00.000000000",
          "2016-02-25T00:00:00.000000000",
          "2016-02-27T00:00:00.000000000",
          "2016-02-28T00:00:00.000000000",
          "2016-02-29T00:00:00.000000000",
          "2016-03-01T00:00:00.000000000",
          "2016-03-03T00:00:00.000000000",
          "2016-03-04T00:00:00.000000000",
          "2016-03-05T00:00:00.000000000",
          "2016-03-06T00:00:00.000000000",
          "2016-03-07T00:00:00.000000000",
          "2016-03-08T00:00:00.000000000",
          "2016-03-09T00:00:00.000000000",
          "2016-03-10T00:00:00.000000000",
          "2016-03-11T00:00:00.000000000",
          "2016-03-12T00:00:00.000000000",
          "2016-03-13T00:00:00.000000000",
          "2016-03-14T00:00:00.000000000",
          "2016-03-15T00:00:00.000000000",
          "2016-03-17T00:00:00.000000000",
          "2016-03-18T00:00:00.000000000",
          "2016-03-19T00:00:00.000000000",
          "2016-03-20T00:00:00.000000000",
          "2016-03-21T00:00:00.000000000",
          "2016-03-22T00:00:00.000000000",
          "2016-03-24T00:00:00.000000000",
          "2016-03-25T00:00:00.000000000",
          "2016-03-26T00:00:00.000000000",
          "2016-03-27T00:00:00.000000000",
          "2016-03-28T00:00:00.000000000",
          "2016-03-29T00:00:00.000000000",
          "2016-03-30T00:00:00.000000000",
          "2016-03-31T00:00:00.000000000",
          "2016-04-01T00:00:00.000000000",
          "2016-04-02T00:00:00.000000000",
          "2016-04-03T00:00:00.000000000",
          "2016-04-04T00:00:00.000000000",
          "2016-04-05T00:00:00.000000000",
          "2016-04-06T00:00:00.000000000",
          "2016-04-07T00:00:00.000000000",
          "2016-04-08T00:00:00.000000000",
          "2016-04-09T00:00:00.000000000",
          "2016-04-10T00:00:00.000000000",
          "2016-04-12T00:00:00.000000000",
          "2016-04-13T00:00:00.000000000",
          "2016-04-14T00:00:00.000000000",
          "2016-04-15T00:00:00.000000000",
          "2016-04-16T00:00:00.000000000",
          "2016-04-17T00:00:00.000000000",
          "2016-04-18T00:00:00.000000000",
          "2016-04-19T00:00:00.000000000",
          "2016-04-21T00:00:00.000000000",
          "2016-04-22T00:00:00.000000000",
          "2016-04-23T00:00:00.000000000",
          "2016-04-24T00:00:00.000000000",
          "2016-04-25T00:00:00.000000000",
          "2016-04-26T00:00:00.000000000",
          "2016-04-28T00:00:00.000000000",
          "2016-04-30T00:00:00.000000000",
          "2016-05-01T00:00:00.000000000",
          "2016-05-02T00:00:00.000000000",
          "2016-05-03T00:00:00.000000000",
          "2016-05-05T00:00:00.000000000",
          "2016-05-06T00:00:00.000000000",
          "2016-05-07T00:00:00.000000000",
          "2016-05-08T00:00:00.000000000",
          "2016-05-09T00:00:00.000000000",
          "2016-05-10T00:00:00.000000000",
          "2016-05-11T00:00:00.000000000",
          "2016-05-12T00:00:00.000000000",
          "2016-05-14T00:00:00.000000000",
          "2016-05-15T00:00:00.000000000",
          "2016-05-16T00:00:00.000000000",
          "2016-05-17T00:00:00.000000000",
          "2016-05-18T00:00:00.000000000",
          "2016-05-19T00:00:00.000000000",
          "2016-05-20T00:00:00.000000000",
          "2016-05-21T00:00:00.000000000",
          "2016-05-22T00:00:00.000000000",
          "2016-05-23T00:00:00.000000000",
          "2016-05-24T00:00:00.000000000",
          "2016-05-25T00:00:00.000000000",
          "2016-05-26T00:00:00.000000000",
          "2016-05-27T00:00:00.000000000",
          "2016-05-28T00:00:00.000000000",
          "2016-05-29T00:00:00.000000000",
          "2016-05-30T00:00:00.000000000",
          "2016-05-31T00:00:00.000000000",
          "2016-06-02T00:00:00.000000000",
          "2016-06-03T00:00:00.000000000",
          "2016-06-04T00:00:00.000000000",
          "2016-06-05T00:00:00.000000000",
          "2016-06-06T00:00:00.000000000",
          "2016-06-07T00:00:00.000000000",
          "2016-06-09T00:00:00.000000000",
          "2016-06-10T00:00:00.000000000",
          "2016-06-11T00:00:00.000000000",
          "2016-06-12T00:00:00.000000000",
          "2016-06-13T00:00:00.000000000",
          "2016-06-14T00:00:00.000000000",
          "2016-06-15T00:00:00.000000000",
          "2016-06-16T00:00:00.000000000",
          "2016-06-17T00:00:00.000000000",
          "2016-06-18T00:00:00.000000000",
          "2016-06-19T00:00:00.000000000",
          "2016-06-20T00:00:00.000000000",
          "2016-06-21T00:00:00.000000000",
          "2016-06-23T00:00:00.000000000",
          "2016-06-24T00:00:00.000000000",
          "2016-06-25T00:00:00.000000000",
          "2016-06-26T00:00:00.000000000",
          "2016-06-27T00:00:00.000000000",
          "2016-06-28T00:00:00.000000000",
          "2016-06-29T00:00:00.000000000",
          "2016-06-30T00:00:00.000000000",
          "2016-07-01T00:00:00.000000000",
          "2016-07-02T00:00:00.000000000",
          "2016-07-03T00:00:00.000000000",
          "2016-07-04T00:00:00.000000000",
          "2016-07-07T00:00:00.000000000",
          "2016-07-08T00:00:00.000000000",
          "2016-07-09T00:00:00.000000000",
          "2016-07-10T00:00:00.000000000",
          "2016-07-12T00:00:00.000000000",
          "2016-07-14T00:00:00.000000000",
          "2016-07-15T00:00:00.000000000",
          "2016-07-16T00:00:00.000000000",
          "2016-07-17T00:00:00.000000000",
          "2016-07-18T00:00:00.000000000",
          "2016-07-19T00:00:00.000000000",
          "2016-07-20T00:00:00.000000000",
          "2016-07-21T00:00:00.000000000",
          "2016-07-22T00:00:00.000000000",
          "2016-07-23T00:00:00.000000000",
          "2016-07-24T00:00:00.000000000",
          "2016-07-25T00:00:00.000000000",
          "2016-07-28T00:00:00.000000000",
          "2016-07-29T00:00:00.000000000",
          "2016-07-30T00:00:00.000000000",
          "2016-07-31T00:00:00.000000000",
          "2016-08-01T00:00:00.000000000",
          "2016-08-02T00:00:00.000000000",
          "2016-08-03T00:00:00.000000000",
          "2016-08-04T00:00:00.000000000",
          "2016-08-05T00:00:00.000000000",
          "2016-08-06T00:00:00.000000000",
          "2016-08-07T00:00:00.000000000",
          "2016-08-08T00:00:00.000000000",
          "2016-08-09T00:00:00.000000000",
          "2016-08-11T00:00:00.000000000",
          "2016-08-12T00:00:00.000000000",
          "2016-08-13T00:00:00.000000000",
          "2016-08-14T00:00:00.000000000",
          "2016-08-15T00:00:00.000000000",
          "2016-08-16T00:00:00.000000000",
          "2016-08-17T00:00:00.000000000",
          "2016-08-18T00:00:00.000000000",
          "2016-08-19T00:00:00.000000000",
          "2016-08-20T00:00:00.000000000",
          "2016-08-21T00:00:00.000000000",
          "2016-08-22T00:00:00.000000000",
          "2016-08-23T00:00:00.000000000",
          "2016-08-26T00:00:00.000000000",
          "2016-08-27T00:00:00.000000000",
          "2016-08-28T00:00:00.000000000",
          "2016-08-29T00:00:00.000000000",
          "2016-08-30T00:00:00.000000000",
          "2016-08-31T00:00:00.000000000",
          "2016-09-01T00:00:00.000000000",
          "2016-09-02T00:00:00.000000000",
          "2016-09-03T00:00:00.000000000",
          "2016-09-04T00:00:00.000000000",
          "2016-09-05T00:00:00.000000000",
          "2016-09-06T00:00:00.000000000",
          "2016-09-08T00:00:00.000000000",
          "2016-09-09T00:00:00.000000000",
          "2016-09-10T00:00:00.000000000",
          "2016-09-11T00:00:00.000000000",
          "2016-09-12T00:00:00.000000000",
          "2016-09-13T00:00:00.000000000",
          "2016-09-14T00:00:00.000000000",
          "2016-09-15T00:00:00.000000000",
          "2016-09-16T00:00:00.000000000",
          "2016-09-17T00:00:00.000000000",
          "2016-09-18T00:00:00.000000000",
          "2016-09-19T00:00:00.000000000",
          "2016-09-20T00:00:00.000000000",
          "2016-09-22T00:00:00.000000000",
          "2016-09-23T00:00:00.000000000",
          "2016-09-24T00:00:00.000000000",
          "2016-09-25T00:00:00.000000000",
          "2016-09-26T00:00:00.000000000",
          "2016-09-27T00:00:00.000000000",
          "2016-09-28T00:00:00.000000000",
          "2016-09-29T00:00:00.000000000",
          "2016-09-30T00:00:00.000000000",
          "2016-10-01T00:00:00.000000000",
          "2016-10-02T00:00:00.000000000",
          "2016-10-03T00:00:00.000000000",
          "2016-10-04T00:00:00.000000000",
          "2016-10-06T00:00:00.000000000",
          "2016-10-07T00:00:00.000000000",
          "2016-10-08T00:00:00.000000000",
          "2016-10-09T00:00:00.000000000",
          "2016-10-10T00:00:00.000000000",
          "2016-10-11T00:00:00.000000000",
          "2016-10-13T00:00:00.000000000",
          "2016-10-14T00:00:00.000000000",
          "2016-10-15T00:00:00.000000000",
          "2016-10-16T00:00:00.000000000",
          "2016-10-17T00:00:00.000000000",
          "2016-10-18T00:00:00.000000000",
          "2016-10-20T00:00:00.000000000",
          "2016-10-21T00:00:00.000000000",
          "2016-10-22T00:00:00.000000000",
          "2016-10-23T00:00:00.000000000",
          "2016-10-24T00:00:00.000000000",
          "2016-10-25T00:00:00.000000000",
          "2016-10-27T00:00:00.000000000",
          "2016-10-28T00:00:00.000000000",
          "2016-10-29T00:00:00.000000000",
          "2016-10-30T00:00:00.000000000",
          "2016-10-31T00:00:00.000000000",
          "2016-11-01T00:00:00.000000000",
          "2016-11-03T00:00:00.000000000",
          "2016-11-04T00:00:00.000000000",
          "2016-11-05T00:00:00.000000000",
          "2016-11-06T00:00:00.000000000",
          "2016-11-07T00:00:00.000000000",
          "2016-11-08T00:00:00.000000000",
          "2016-11-09T00:00:00.000000000",
          "2016-11-10T00:00:00.000000000",
          "2016-11-11T00:00:00.000000000",
          "2016-11-12T00:00:00.000000000",
          "2016-11-13T00:00:00.000000000",
          "2016-11-14T00:00:00.000000000",
          "2016-11-15T00:00:00.000000000",
          "2016-11-16T00:00:00.000000000",
          "2016-11-17T00:00:00.000000000",
          "2016-11-18T00:00:00.000000000",
          "2016-11-19T00:00:00.000000000",
          "2016-11-20T00:00:00.000000000",
          "2016-11-21T00:00:00.000000000",
          "2016-11-22T00:00:00.000000000",
          "2016-11-23T00:00:00.000000000",
          "2016-11-24T00:00:00.000000000",
          "2016-11-25T00:00:00.000000000",
          "2016-11-26T00:00:00.000000000",
          "2016-11-27T00:00:00.000000000",
          "2016-11-28T00:00:00.000000000",
          "2016-11-29T00:00:00.000000000",
          "2016-11-30T00:00:00.000000000",
          "2016-12-01T00:00:00.000000000",
          "2016-12-02T00:00:00.000000000",
          "2016-12-03T00:00:00.000000000",
          "2016-12-04T00:00:00.000000000",
          "2016-12-05T00:00:00.000000000",
          "2016-12-06T00:00:00.000000000",
          "2016-12-08T00:00:00.000000000",
          "2016-12-09T00:00:00.000000000",
          "2016-12-10T00:00:00.000000000",
          "2016-12-11T00:00:00.000000000",
          "2016-12-12T00:00:00.000000000",
          "2016-12-13T00:00:00.000000000",
          "2016-12-14T00:00:00.000000000",
          "2016-12-15T00:00:00.000000000",
          "2016-12-16T00:00:00.000000000",
          "2016-12-17T00:00:00.000000000",
          "2016-12-18T00:00:00.000000000",
          "2016-12-19T00:00:00.000000000",
          "2016-12-20T00:00:00.000000000",
          "2016-12-22T00:00:00.000000000",
          "2016-12-23T00:00:00.000000000",
          "2016-12-24T00:00:00.000000000",
          "2016-12-25T00:00:00.000000000",
          "2016-12-26T00:00:00.000000000",
          "2016-12-27T00:00:00.000000000",
          "2016-12-29T00:00:00.000000000",
          "2016-12-30T00:00:00.000000000",
          "2016-12-31T00:00:00.000000000",
          "2017-01-01T00:00:00.000000000",
          "2017-01-02T00:00:00.000000000",
          "2017-01-03T00:00:00.000000000",
          "2017-01-06T00:00:00.000000000",
          "2017-01-07T00:00:00.000000000",
          "2017-01-08T00:00:00.000000000",
          "2017-01-09T00:00:00.000000000",
          "2017-01-12T00:00:00.000000000",
          "2017-01-13T00:00:00.000000000",
          "2017-01-14T00:00:00.000000000",
          "2017-01-15T00:00:00.000000000",
          "2017-01-16T00:00:00.000000000",
          "2017-01-19T00:00:00.000000000",
          "2017-01-20T00:00:00.000000000",
          "2017-01-21T00:00:00.000000000",
          "2017-01-22T00:00:00.000000000",
          "2017-01-23T00:00:00.000000000",
          "2017-01-24T00:00:00.000000000",
          "2017-01-26T00:00:00.000000000",
          "2017-01-27T00:00:00.000000000",
          "2017-01-28T00:00:00.000000000",
          "2017-01-29T00:00:00.000000000",
          "2017-01-30T00:00:00.000000000",
          "2017-02-02T00:00:00.000000000",
          "2017-02-03T00:00:00.000000000",
          "2017-02-04T00:00:00.000000000",
          "2017-02-05T00:00:00.000000000",
          "2017-02-06T00:00:00.000000000",
          "2017-02-09T00:00:00.000000000",
          "2017-02-10T00:00:00.000000000",
          "2017-02-11T00:00:00.000000000",
          "2017-02-13T00:00:00.000000000",
          "2017-02-16T00:00:00.000000000",
          "2017-02-17T00:00:00.000000000",
          "2017-02-18T00:00:00.000000000",
          "2017-02-19T00:00:00.000000000",
          "2017-02-20T00:00:00.000000000",
          "2017-02-21T00:00:00.000000000",
          "2017-02-23T00:00:00.000000000",
          "2017-02-24T00:00:00.000000000",
          "2017-02-25T00:00:00.000000000",
          "2017-02-26T00:00:00.000000000",
          "2017-02-28T00:00:00.000000000",
          "2017-03-02T00:00:00.000000000",
          "2017-03-03T00:00:00.000000000",
          "2017-03-04T00:00:00.000000000",
          "2017-03-05T00:00:00.000000000",
          "2017-03-06T00:00:00.000000000",
          "2017-03-07T00:00:00.000000000",
          "2017-03-08T00:00:00.000000000",
          "2017-03-09T00:00:00.000000000",
          "2017-03-10T00:00:00.000000000",
          "2017-03-11T00:00:00.000000000",
          "2017-03-12T00:00:00.000000000",
          "2017-03-13T00:00:00.000000000",
          "2017-03-14T00:00:00.000000000",
          "2017-03-16T00:00:00.000000000",
          "2017-03-17T00:00:00.000000000",
          "2017-03-18T00:00:00.000000000",
          "2017-03-19T00:00:00.000000000",
          "2017-03-20T00:00:00.000000000",
          "2017-03-21T00:00:00.000000000",
          "2017-03-23T00:00:00.000000000",
          "2017-03-24T00:00:00.000000000",
          "2017-03-25T00:00:00.000000000",
          "2017-03-26T00:00:00.000000000",
          "2017-03-27T00:00:00.000000000",
          "2017-03-28T00:00:00.000000000",
          "2017-03-29T00:00:00.000000000",
          "2017-03-30T00:00:00.000000000",
          "2017-03-31T00:00:00.000000000",
          "2017-04-01T00:00:00.000000000",
          "2017-04-02T00:00:00.000000000",
          "2017-04-03T00:00:00.000000000",
          "2017-04-04T00:00:00.000000000",
          "2017-04-06T00:00:00.000000000",
          "2017-04-07T00:00:00.000000000",
          "2017-04-08T00:00:00.000000000",
          "2017-04-09T00:00:00.000000000",
          "2017-04-10T00:00:00.000000000",
          "2017-04-11T00:00:00.000000000",
          "2017-04-12T00:00:00.000000000",
          "2017-04-13T00:00:00.000000000",
          "2017-04-14T00:00:00.000000000",
          "2017-04-15T00:00:00.000000000",
          "2017-04-16T00:00:00.000000000",
          "2017-04-17T00:00:00.000000000",
          "2017-04-20T00:00:00.000000000",
          "2017-04-21T00:00:00.000000000",
          "2017-04-22T00:00:00.000000000",
          "2017-04-23T00:00:00.000000000",
          "2017-04-24T00:00:00.000000000",
          "2017-04-25T00:00:00.000000000",
          "2017-04-26T00:00:00.000000000",
          "2017-04-27T00:00:00.000000000",
          "2017-04-28T00:00:00.000000000",
          "2017-04-29T00:00:00.000000000",
          "2017-04-30T00:00:00.000000000",
          "2017-05-01T00:00:00.000000000",
          "2017-05-02T00:00:00.000000000",
          "2017-05-03T00:00:00.000000000",
          "2017-05-04T00:00:00.000000000",
          "2017-05-05T00:00:00.000000000",
          "2017-05-06T00:00:00.000000000",
          "2017-05-07T00:00:00.000000000",
          "2017-05-08T00:00:00.000000000",
          "2017-05-09T00:00:00.000000000",
          "2017-05-11T00:00:00.000000000",
          "2017-05-12T00:00:00.000000000",
          "2017-05-13T00:00:00.000000000",
          "2017-05-14T00:00:00.000000000",
          "2017-05-15T00:00:00.000000000",
          "2017-05-16T00:00:00.000000000",
          "2017-05-18T00:00:00.000000000",
          "2017-05-19T00:00:00.000000000",
          "2017-05-20T00:00:00.000000000",
          "2017-05-21T00:00:00.000000000",
          "2017-05-22T00:00:00.000000000",
          "2017-05-23T00:00:00.000000000",
          "2017-05-25T00:00:00.000000000",
          "2017-05-26T00:00:00.000000000",
          "2017-05-27T00:00:00.000000000",
          "2017-05-28T00:00:00.000000000",
          "2017-05-29T00:00:00.000000000",
          "2017-05-30T00:00:00.000000000",
          "2017-06-01T00:00:00.000000000",
          "2017-06-02T00:00:00.000000000",
          "2017-06-03T00:00:00.000000000",
          "2017-06-04T00:00:00.000000000",
          "2017-06-05T00:00:00.000000000",
          "2017-06-06T00:00:00.000000000",
          "2017-06-08T00:00:00.000000000",
          "2017-06-09T00:00:00.000000000",
          "2017-06-10T00:00:00.000000000",
          "2017-06-11T00:00:00.000000000",
          "2017-06-12T00:00:00.000000000",
          "2017-06-13T00:00:00.000000000",
          "2017-06-15T00:00:00.000000000",
          "2017-06-16T00:00:00.000000000",
          "2017-06-17T00:00:00.000000000",
          "2017-06-18T00:00:00.000000000",
          "2017-06-19T00:00:00.000000000",
          "2017-06-20T00:00:00.000000000",
          "2017-06-21T00:00:00.000000000",
          "2017-06-22T00:00:00.000000000",
          "2017-06-24T00:00:00.000000000",
          "2017-06-25T00:00:00.000000000",
          "2017-06-26T00:00:00.000000000",
          "2017-06-27T00:00:00.000000000",
          "2017-06-29T00:00:00.000000000",
          "2017-06-30T00:00:00.000000000",
          "2017-07-01T00:00:00.000000000",
          "2017-07-02T00:00:00.000000000",
          "2017-07-03T00:00:00.000000000",
          "2017-07-05T00:00:00.000000000",
          "2017-07-06T00:00:00.000000000",
          "2017-07-07T00:00:00.000000000",
          "2017-07-08T00:00:00.000000000",
          "2017-07-09T00:00:00.000000000",
          "2017-07-10T00:00:00.000000000",
          "2017-07-11T00:00:00.000000000",
          "2017-07-12T00:00:00.000000000",
          "2017-07-13T00:00:00.000000000",
          "2017-07-14T00:00:00.000000000",
          "2017-07-15T00:00:00.000000000",
          "2017-07-16T00:00:00.000000000",
          "2017-07-17T00:00:00.000000000",
          "2017-07-18T00:00:00.000000000",
          "2017-07-20T00:00:00.000000000",
          "2017-07-21T00:00:00.000000000",
          "2017-07-22T00:00:00.000000000",
          "2017-07-23T00:00:00.000000000",
          "2017-07-24T00:00:00.000000000",
          "2017-07-25T00:00:00.000000000",
          "2017-07-26T00:00:00.000000000",
          "2017-07-27T00:00:00.000000000",
          "2017-07-28T00:00:00.000000000",
          "2017-07-29T00:00:00.000000000",
          "2017-07-30T00:00:00.000000000",
          "2017-07-31T00:00:00.000000000",
          "2017-08-01T00:00:00.000000000",
          "2017-08-03T00:00:00.000000000",
          "2017-08-04T00:00:00.000000000",
          "2017-08-05T00:00:00.000000000",
          "2017-08-06T00:00:00.000000000",
          "2017-08-07T00:00:00.000000000",
          "2017-08-10T00:00:00.000000000",
          "2017-08-11T00:00:00.000000000",
          "2017-08-12T00:00:00.000000000",
          "2017-08-13T00:00:00.000000000",
          "2017-08-14T00:00:00.000000000",
          "2017-08-15T00:00:00.000000000",
          "2017-08-16T00:00:00.000000000",
          "2017-08-17T00:00:00.000000000",
          "2017-08-18T00:00:00.000000000",
          "2017-08-19T00:00:00.000000000",
          "2017-08-20T00:00:00.000000000",
          "2017-08-21T00:00:00.000000000",
          "2017-08-22T00:00:00.000000000",
          "2017-08-23T00:00:00.000000000",
          "2017-08-24T00:00:00.000000000",
          "2017-08-25T00:00:00.000000000",
          "2017-08-26T00:00:00.000000000",
          "2017-08-27T00:00:00.000000000",
          "2017-08-28T00:00:00.000000000",
          "2017-08-29T00:00:00.000000000",
          "2017-08-31T00:00:00.000000000",
          "2017-09-01T00:00:00.000000000",
          "2017-09-02T00:00:00.000000000",
          "2017-09-03T00:00:00.000000000",
          "2017-09-04T00:00:00.000000000",
          "2017-09-05T00:00:00.000000000",
          "2017-09-07T00:00:00.000000000",
          "2017-09-08T00:00:00.000000000",
          "2017-09-09T00:00:00.000000000",
          "2017-09-10T00:00:00.000000000",
          "2017-09-11T00:00:00.000000000",
          "2017-09-12T00:00:00.000000000",
          "2017-09-13T00:00:00.000000000",
          "2017-09-14T00:00:00.000000000",
          "2017-09-15T00:00:00.000000000",
          "2017-09-16T00:00:00.000000000",
          "2017-09-17T00:00:00.000000000",
          "2017-09-18T00:00:00.000000000",
          "2017-09-19T00:00:00.000000000",
          "2017-09-20T00:00:00.000000000",
          "2017-09-21T00:00:00.000000000",
          "2017-09-22T00:00:00.000000000",
          "2017-09-23T00:00:00.000000000",
          "2017-09-24T00:00:00.000000000",
          "2017-09-25T00:00:00.000000000",
          "2017-09-26T00:00:00.000000000",
          "2017-09-28T00:00:00.000000000",
          "2017-09-29T00:00:00.000000000",
          "2017-09-30T00:00:00.000000000",
          "2017-10-01T00:00:00.000000000",
          "2017-10-02T00:00:00.000000000",
          "2017-10-03T00:00:00.000000000",
          "2017-10-04T00:00:00.000000000",
          "2017-10-05T00:00:00.000000000",
          "2017-10-06T00:00:00.000000000",
          "2017-10-07T00:00:00.000000000",
          "2017-10-08T00:00:00.000000000",
          "2017-10-09T00:00:00.000000000",
          "2017-10-10T00:00:00.000000000",
          "2017-10-12T00:00:00.000000000",
          "2017-10-13T00:00:00.000000000",
          "2017-10-14T00:00:00.000000000",
          "2017-10-15T00:00:00.000000000",
          "2017-10-16T00:00:00.000000000",
          "2017-10-17T00:00:00.000000000",
          "2017-10-19T00:00:00.000000000",
          "2017-10-20T00:00:00.000000000",
          "2017-10-21T00:00:00.000000000",
          "2017-10-22T00:00:00.000000000",
          "2017-10-23T00:00:00.000000000",
          "2017-10-24T00:00:00.000000000",
          "2017-10-26T00:00:00.000000000",
          "2017-10-27T00:00:00.000000000",
          "2017-10-28T00:00:00.000000000",
          "2017-10-29T00:00:00.000000000",
          "2017-10-30T00:00:00.000000000",
          "2017-10-31T00:00:00.000000000",
          "2017-11-01T00:00:00.000000000",
          "2017-11-02T00:00:00.000000000",
          "2017-11-03T00:00:00.000000000",
          "2017-11-04T00:00:00.000000000",
          "2017-11-05T00:00:00.000000000",
          "2017-11-06T00:00:00.000000000",
          "2017-11-07T00:00:00.000000000",
          "2017-11-08T00:00:00.000000000",
          "2017-11-09T00:00:00.000000000",
          "2017-11-10T00:00:00.000000000",
          "2017-11-11T00:00:00.000000000",
          "2017-11-12T00:00:00.000000000",
          "2017-11-13T00:00:00.000000000",
          "2017-11-14T00:00:00.000000000",
          "2017-11-15T00:00:00.000000000",
          "2017-11-16T00:00:00.000000000",
          "2017-11-17T00:00:00.000000000",
          "2017-11-18T00:00:00.000000000",
          "2017-11-19T00:00:00.000000000",
          "2017-11-20T00:00:00.000000000",
          "2017-11-21T00:00:00.000000000",
          "2017-11-22T00:00:00.000000000",
          "2017-11-23T00:00:00.000000000",
          "2017-11-24T00:00:00.000000000",
          "2017-11-25T00:00:00.000000000",
          "2017-11-26T00:00:00.000000000",
          "2017-11-27T00:00:00.000000000",
          "2017-11-28T00:00:00.000000000",
          "2017-11-29T00:00:00.000000000",
          "2017-11-30T00:00:00.000000000",
          "2017-12-01T00:00:00.000000000",
          "2017-12-02T00:00:00.000000000",
          "2017-12-03T00:00:00.000000000",
          "2017-12-04T00:00:00.000000000",
          "2017-12-05T00:00:00.000000000",
          "2017-12-06T00:00:00.000000000",
          "2017-12-07T00:00:00.000000000",
          "2017-12-08T00:00:00.000000000",
          "2017-12-09T00:00:00.000000000",
          "2017-12-10T00:00:00.000000000",
          "2017-12-11T00:00:00.000000000",
          "2017-12-13T00:00:00.000000000",
          "2017-12-14T00:00:00.000000000",
          "2017-12-15T00:00:00.000000000",
          "2017-12-16T00:00:00.000000000",
          "2017-12-17T00:00:00.000000000",
          "2017-12-18T00:00:00.000000000",
          "2017-12-19T00:00:00.000000000",
          "2017-12-20T00:00:00.000000000",
          "2017-12-21T00:00:00.000000000",
          "2017-12-22T00:00:00.000000000",
          "2017-12-23T00:00:00.000000000",
          "2017-12-24T00:00:00.000000000",
          "2017-12-25T00:00:00.000000000",
          "2017-12-26T00:00:00.000000000",
          "2017-12-27T00:00:00.000000000",
          "2017-12-28T00:00:00.000000000",
          "2017-12-29T00:00:00.000000000",
          "2017-12-30T00:00:00.000000000"
         ],
         "xaxis": "x",
         "y": {
          "bdata": "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",
          "dtype": "f8"
         },
         "yaxis": "y"
        }
       ],
       "layout": {
        "legend": {
         "tracegroupgap": 0
        },
        "template": {
         "data": {
          "bar": [
           {
            "error_x": {
             "color": "#2a3f5f"
            },
            "error_y": {
             "color": "#2a3f5f"
            },
            "marker": {
             "line": {
              "color": "#E5ECF6",
              "width": 0.5
             },
             "pattern": {
              "fillmode": "overlay",
              "size": 10,
              "solidity": 0.2
             }
            },
            "type": "bar"
           }
          ],
          "barpolar": [
           {
            "marker": {
             "line": {
              "color": "#E5ECF6",
              "width": 0.5
             },
             "pattern": {
              "fillmode": "overlay",
              "size": 10,
              "solidity": 0.2
             }
            },
            "type": "barpolar"
           }
          ],
          "carpet": [
           {
            "aaxis": {
             "endlinecolor": "#2a3f5f",
             "gridcolor": "white",
             "linecolor": "white",
             "minorgridcolor": "white",
             "startlinecolor": "#2a3f5f"
            },
            "baxis": {
             "endlinecolor": "#2a3f5f",
             "gridcolor": "white",
             "linecolor": "white",
             "minorgridcolor": "white",
             "startlinecolor": "#2a3f5f"
            },
            "type": "carpet"
           }
          ],
          "choropleth": [
           {
            "colorbar": {
             "outlinewidth": 0,
             "ticks": ""
            },
            "type": "choropleth"
           }
          ],
          "contour": [
           {
            "colorbar": {
             "outlinewidth": 0,
             "ticks": ""
            },
            "colorscale": [
             [
              0,
              "#0d0887"
             ],
             [
              0.1111111111111111,
              "#46039f"
             ],
             [
              0.2222222222222222,
              "#7201a8"
             ],
             [
              0.3333333333333333,
              "#9c179e"
             ],
             [
              0.4444444444444444,
              "#bd3786"
             ],
             [
              0.5555555555555556,
              "#d8576b"
             ],
             [
              0.6666666666666666,
              "#ed7953"
             ],
             [
              0.7777777777777778,
              "#fb9f3a"
             ],
             [
              0.8888888888888888,
              "#fdca26"
             ],
             [
              1,
              "#f0f921"
             ]
            ],
            "type": "contour"
           }
          ],
          "contourcarpet": [
           {
            "colorbar": {
             "outlinewidth": 0,
             "ticks": ""
            },
            "type": "contourcarpet"
           }
          ],
          "heatmap": [
           {
            "colorbar": {
             "outlinewidth": 0,
             "ticks": ""
            },
            "colorscale": [
             [
              0,
              "#0d0887"
             ],
             [
              0.1111111111111111,
              "#46039f"
             ],
             [
              0.2222222222222222,
              "#7201a8"
             ],
             [
              0.3333333333333333,
              "#9c179e"
             ],
             [
              0.4444444444444444,
              "#bd3786"
             ],
             [
              0.5555555555555556,
              "#d8576b"
             ],
             [
              0.6666666666666666,
              "#ed7953"
             ],
             [
              0.7777777777777778,
              "#fb9f3a"
             ],
             [
              0.8888888888888888,
              "#fdca26"
             ],
             [
              1,
              "#f0f921"
             ]
            ],
            "type": "heatmap"
           }
          ],
          "histogram": [
           {
            "marker": {
             "pattern": {
              "fillmode": "overlay",
              "size": 10,
              "solidity": 0.2
             }
            },
            "type": "histogram"
           }
          ],
          "histogram2d": [
           {
            "colorbar": {
             "outlinewidth": 0,
             "ticks": ""
            },
            "colorscale": [
             [
              0,
              "#0d0887"
             ],
             [
              0.1111111111111111,
              "#46039f"
             ],
             [
              0.2222222222222222,
              "#7201a8"
             ],
             [
              0.3333333333333333,
              "#9c179e"
             ],
             [
              0.4444444444444444,
              "#bd3786"
             ],
             [
              0.5555555555555556,
              "#d8576b"
             ],
             [
              0.6666666666666666,
              "#ed7953"
             ],
             [
              0.7777777777777778,
              "#fb9f3a"
             ],
             [
              0.8888888888888888,
              "#fdca26"
             ],
             [
              1,
              "#f0f921"
             ]
            ],
            "type": "histogram2d"
           }
          ],
          "histogram2dcontour": [
           {
            "colorbar": {
             "outlinewidth": 0,
             "ticks": ""
            },
            "colorscale": [
             [
              0,
              "#0d0887"
             ],
             [
              0.1111111111111111,
              "#46039f"
             ],
             [
              0.2222222222222222,
              "#7201a8"
             ],
             [
              0.3333333333333333,
              "#9c179e"
             ],
             [
              0.4444444444444444,
              "#bd3786"
             ],
             [
              0.5555555555555556,
              "#d8576b"
             ],
             [
              0.6666666666666666,
              "#ed7953"
             ],
             [
              0.7777777777777778,
              "#fb9f3a"
             ],
             [
              0.8888888888888888,
              "#fdca26"
             ],
             [
              1,
              "#f0f921"
             ]
            ],
            "type": "histogram2dcontour"
           }
          ],
          "mesh3d": [
           {
            "colorbar": {
             "outlinewidth": 0,
             "ticks": ""
            },
            "type": "mesh3d"
           }
          ],
          "parcoords": [
           {
            "line": {
             "colorbar": {
              "outlinewidth": 0,
              "ticks": ""
             }
            },
            "type": "parcoords"
           }
          ],
          "pie": [
           {
            "automargin": true,
            "type": "pie"
           }
          ],
          "scatter": [
           {
            "fillpattern": {
             "fillmode": "overlay",
             "size": 10,
             "solidity": 0.2
            },
            "type": "scatter"
           }
          ],
          "scatter3d": [
           {
            "line": {
             "colorbar": {
              "outlinewidth": 0,
              "ticks": ""
             }
            },
            "marker": {
             "colorbar": {
              "outlinewidth": 0,
              "ticks": ""
             }
            },
            "type": "scatter3d"
           }
          ],
          "scattercarpet": [
           {
            "marker": {
             "colorbar": {
              "outlinewidth": 0,
              "ticks": ""
             }
            },
            "type": "scattercarpet"
           }
          ],
          "scattergeo": [
           {
            "marker": {
             "colorbar": {
              "outlinewidth": 0,
              "ticks": ""
             }
            },
            "type": "scattergeo"
           }
          ],
          "scattergl": [
           {
            "marker": {
             "colorbar": {
              "outlinewidth": 0,
              "ticks": ""
             }
            },
            "type": "scattergl"
           }
          ],
          "scattermap": [
           {
            "marker": {
             "colorbar": {
              "outlinewidth": 0,
              "ticks": ""
             }
            },
            "type": "scattermap"
           }
          ],
          "scattermapbox": [
           {
            "marker": {
             "colorbar": {
              "outlinewidth": 0,
              "ticks": ""
             }
            },
            "type": "scattermapbox"
           }
          ],
          "scatterpolar": [
           {
            "marker": {
             "colorbar": {
              "outlinewidth": 0,
              "ticks": ""
             }
            },
            "type": "scatterpolar"
           }
          ],
          "scatterpolargl": [
           {
            "marker": {
             "colorbar": {
              "outlinewidth": 0,
              "ticks": ""
             }
            },
            "type": "scatterpolargl"
           }
          ],
          "scatterternary": [
           {
            "marker": {
             "colorbar": {
              "outlinewidth": 0,
              "ticks": ""
             }
            },
            "type": "scatterternary"
           }
          ],
          "surface": [
           {
            "colorbar": {
             "outlinewidth": 0,
             "ticks": ""
            },
            "colorscale": [
             [
              0,
              "#0d0887"
             ],
             [
              0.1111111111111111,
              "#46039f"
             ],
             [
              0.2222222222222222,
              "#7201a8"
             ],
             [
              0.3333333333333333,
              "#9c179e"
             ],
             [
              0.4444444444444444,
              "#bd3786"
             ],
             [
              0.5555555555555556,
              "#d8576b"
             ],
             [
              0.6666666666666666,
              "#ed7953"
             ],
             [
              0.7777777777777778,
              "#fb9f3a"
             ],
             [
              0.8888888888888888,
              "#fdca26"
             ],
             [
              1,
              "#f0f921"
             ]
            ],
            "type": "surface"
           }
          ],
          "table": [
           {
            "cells": {
             "fill": {
              "color": "#EBF0F8"
             },
             "line": {
              "color": "white"
             }
            },
            "header": {
             "fill": {
              "color": "#C8D4E3"
             },
             "line": {
              "color": "white"
             }
            },
            "type": "table"
           }
          ]
         },
         "layout": {
          "annotationdefaults": {
           "arrowcolor": "#2a3f5f",
           "arrowhead": 0,
           "arrowwidth": 1
          },
          "autotypenumbers": "strict",
          "coloraxis": {
           "colorbar": {
            "outlinewidth": 0,
            "ticks": ""
           }
          },
          "colorscale": {
           "diverging": [
            [
             0,
             "#8e0152"
            ],
            [
             0.1,
             "#c51b7d"
            ],
            [
             0.2,
             "#de77ae"
            ],
            [
             0.3,
             "#f1b6da"
            ],
            [
             0.4,
             "#fde0ef"
            ],
            [
             0.5,
             "#f7f7f7"
            ],
            [
             0.6,
             "#e6f5d0"
            ],
            [
             0.7,
             "#b8e186"
            ],
            [
             0.8,
             "#7fbc41"
            ],
            [
             0.9,
             "#4d9221"
            ],
            [
             1,
             "#276419"
            ]
           ],
           "sequential": [
            [
             0,
             "#0d0887"
            ],
            [
             0.1111111111111111,
             "#46039f"
            ],
            [
             0.2222222222222222,
             "#7201a8"
            ],
            [
             0.3333333333333333,
             "#9c179e"
            ],
            [
             0.4444444444444444,
             "#bd3786"
            ],
            [
             0.5555555555555556,
             "#d8576b"
            ],
            [
             0.6666666666666666,
             "#ed7953"
            ],
            [
             0.7777777777777778,
             "#fb9f3a"
            ],
            [
             0.8888888888888888,
             "#fdca26"
            ],
            [
             1,
             "#f0f921"
            ]
           ],
           "sequentialminus": [
            [
             0,
             "#0d0887"
            ],
            [
             0.1111111111111111,
             "#46039f"
            ],
            [
             0.2222222222222222,
             "#7201a8"
            ],
            [
             0.3333333333333333,
             "#9c179e"
            ],
            [
             0.4444444444444444,
             "#bd3786"
            ],
            [
             0.5555555555555556,
             "#d8576b"
            ],
            [
             0.6666666666666666,
             "#ed7953"
            ],
            [
             0.7777777777777778,
             "#fb9f3a"
            ],
            [
             0.8888888888888888,
             "#fdca26"
            ],
            [
             1,
             "#f0f921"
            ]
           ]
          },
          "colorway": [
           "#636efa",
           "#EF553B",
           "#00cc96",
           "#ab63fa",
           "#FFA15A",
           "#19d3f3",
           "#FF6692",
           "#B6E880",
           "#FF97FF",
           "#FECB52"
          ],
          "font": {
           "color": "#2a3f5f"
          },
          "geo": {
           "bgcolor": "white",
           "lakecolor": "white",
           "landcolor": "#E5ECF6",
           "showlakes": true,
           "showland": true,
           "subunitcolor": "white"
          },
          "hoverlabel": {
           "align": "left"
          },
          "hovermode": "closest",
          "mapbox": {
           "style": "light"
          },
          "paper_bgcolor": "white",
          "plot_bgcolor": "#E5ECF6",
          "polar": {
           "angularaxis": {
            "gridcolor": "white",
            "linecolor": "white",
            "ticks": ""
           },
           "bgcolor": "#E5ECF6",
           "radialaxis": {
            "gridcolor": "white",
            "linecolor": "white",
            "ticks": ""
           }
          },
          "scene": {
           "xaxis": {
            "backgroundcolor": "#E5ECF6",
            "gridcolor": "white",
            "gridwidth": 2,
            "linecolor": "white",
            "showbackground": true,
            "ticks": "",
            "zerolinecolor": "white"
           },
           "yaxis": {
            "backgroundcolor": "#E5ECF6",
            "gridcolor": "white",
            "gridwidth": 2,
            "linecolor": "white",
            "showbackground": true,
            "ticks": "",
            "zerolinecolor": "white"
           },
           "zaxis": {
            "backgroundcolor": "#E5ECF6",
            "gridcolor": "white",
            "gridwidth": 2,
            "linecolor": "white",
            "showbackground": true,
            "ticks": "",
            "zerolinecolor": "white"
           }
          },
          "shapedefaults": {
           "line": {
            "color": "#2a3f5f"
           }
          },
          "ternary": {
           "aaxis": {
            "gridcolor": "white",
            "linecolor": "white",
            "ticks": ""
           },
           "baxis": {
            "gridcolor": "white",
            "linecolor": "white",
            "ticks": ""
           },
           "bgcolor": "#E5ECF6",
           "caxis": {
            "gridcolor": "white",
            "linecolor": "white",
            "ticks": ""
           }
          },
          "title": {
           "x": 0.05
          },
          "xaxis": {
           "automargin": true,
           "gridcolor": "white",
           "linecolor": "white",
           "ticks": "",
           "title": {
            "standoff": 15
           },
           "zerolinecolor": "white",
           "zerolinewidth": 2
          },
          "yaxis": {
           "automargin": true,
           "gridcolor": "white",
           "linecolor": "white",
           "ticks": "",
           "title": {
            "standoff": 15
           },
           "zerolinecolor": "white",
           "zerolinewidth": 2
          }
         }
        },
        "title": {
         "text": "📈 Cumulative Sales Over Time"
        },
        "xaxis": {
         "anchor": "y",
         "domain": [
          0,
          1
         ],
         "title": {
          "text": "Date"
         }
        },
        "yaxis": {
         "anchor": "x",
         "domain": [
          0,
          1
         ],
         "title": {
          "text": "Total Sales (Cumulative)"
         }
        }
       }
      }
     },
     "metadata": {},
     "output_type": "display_data"
    }
   ],
   "source": [
    "import plotly.express as px\n",
    "\n",
    "fig_cum = px.line(\n",
    "    daily_sales,\n",
    "    x='Order Date',\n",
    "    y='Cumulative Sales',\n",
    "    title='📈 Cumulative Sales Over Time',\n",
    "    labels={'Order Date': 'Date', 'Cumulative Sales': 'Total Sales (Cumulative)'}\n",
    ")\n",
    "\n",
    "fig_cum.show()\n"
   ]
  },
  {
   "cell_type": "markdown",
   "metadata": {},
   "source": [
    "## 👥 Average Order Value (AOV) by Customer Segment\n",
    "\n",
    "We calculate the average order value for each customer segment.  \n",
    "This shows which segment spends the most per order and helps guide targeting strategies."
   ]
  },
  {
   "cell_type": "code",
   "execution_count": 20,
   "metadata": {
    "execution": {
     "iopub.execute_input": "2025-07-16T00:12:07.341336Z",
     "iopub.status.busy": "2025-07-16T00:12:07.340628Z",
     "iopub.status.idle": "2025-07-16T00:12:07.357205Z",
     "shell.execute_reply": "2025-07-16T00:12:07.356172Z",
     "shell.execute_reply.started": "2025-07-16T00:12:07.341303Z"
    },
    "trusted": true
   },
   "outputs": [],
   "source": [
    "# Group by Segment and calculate AOV\n",
    "aov_segment = df.groupby('Segment').agg(\n",
    "    total_sales=('Sales', 'sum'),\n",
    "    order_count=('Order ID', 'nunique')\n",
    ").reset_index()\n",
    "\n",
    "# Calculate AOV\n",
    "aov_segment['Average Order Value'] = aov_segment['total_sales'] / aov_segment['order_count']"
   ]
  },
  {
   "cell_type": "markdown",
   "metadata": {},
   "source": [
    "### 📊 Visualize AOV by Segment"
   ]
  },
  {
   "cell_type": "code",
   "execution_count": 21,
   "metadata": {
    "execution": {
     "iopub.execute_input": "2025-07-16T00:12:07.358375Z",
     "iopub.status.busy": "2025-07-16T00:12:07.358087Z",
     "iopub.status.idle": "2025-07-16T00:12:07.403314Z",
     "shell.execute_reply": "2025-07-16T00:12:07.402556Z",
     "shell.execute_reply.started": "2025-07-16T00:12:07.358354Z"
    },
    "trusted": true
   },
   "outputs": [
    {
     "data": {
      "application/vnd.plotly.v1+json": {
       "config": {
        "plotlyServerURL": "https://plot.ly"
       },
       "data": [
        {
         "hovertemplate": "Segment=%{x}<br>AOV ($)=%{marker.color}<extra></extra>",
         "legendgroup": "",
         "marker": {
          "color": {
           "bdata": "HNEsIccRfEA9GdzCkyZ9QIdza9Smin1A",
           "dtype": "f8"
          },
          "coloraxis": "coloraxis",
          "pattern": {
           "shape": ""
          }
         },
         "name": "",
         "orientation": "v",
         "showlegend": false,
         "textposition": "auto",
         "type": "bar",
         "x": [
          "Consumer",
          "Corporate",
          "Home Office"
         ],
         "xaxis": "x",
         "y": {
          "bdata": "HNEsIccRfEA9GdzCkyZ9QIdza9Smin1A",
          "dtype": "f8"
         },
         "yaxis": "y"
        }
       ],
       "layout": {
        "barmode": "relative",
        "coloraxis": {
         "colorbar": {
          "title": {
           "text": "AOV ($)"
          }
         },
         "colorscale": [
          [
           0,
           "rgb(252,251,253)"
          ],
          [
           0.125,
           "rgb(239,237,245)"
          ],
          [
           0.25,
           "rgb(218,218,235)"
          ],
          [
           0.375,
           "rgb(188,189,220)"
          ],
          [
           0.5,
           "rgb(158,154,200)"
          ],
          [
           0.625,
           "rgb(128,125,186)"
          ],
          [
           0.75,
           "rgb(106,81,163)"
          ],
          [
           0.875,
           "rgb(84,39,143)"
          ],
          [
           1,
           "rgb(63,0,125)"
          ]
         ]
        },
        "legend": {
         "tracegroupgap": 0
        },
        "template": {
         "data": {
          "bar": [
           {
            "error_x": {
             "color": "#2a3f5f"
            },
            "error_y": {
             "color": "#2a3f5f"
            },
            "marker": {
             "line": {
              "color": "#E5ECF6",
              "width": 0.5
             },
             "pattern": {
              "fillmode": "overlay",
              "size": 10,
              "solidity": 0.2
             }
            },
            "type": "bar"
           }
          ],
          "barpolar": [
           {
            "marker": {
             "line": {
              "color": "#E5ECF6",
              "width": 0.5
             },
             "pattern": {
              "fillmode": "overlay",
              "size": 10,
              "solidity": 0.2
             }
            },
            "type": "barpolar"
           }
          ],
          "carpet": [
           {
            "aaxis": {
             "endlinecolor": "#2a3f5f",
             "gridcolor": "white",
             "linecolor": "white",
             "minorgridcolor": "white",
             "startlinecolor": "#2a3f5f"
            },
            "baxis": {
             "endlinecolor": "#2a3f5f",
             "gridcolor": "white",
             "linecolor": "white",
             "minorgridcolor": "white",
             "startlinecolor": "#2a3f5f"
            },
            "type": "carpet"
           }
          ],
          "choropleth": [
           {
            "colorbar": {
             "outlinewidth": 0,
             "ticks": ""
            },
            "type": "choropleth"
           }
          ],
          "contour": [
           {
            "colorbar": {
             "outlinewidth": 0,
             "ticks": ""
            },
            "colorscale": [
             [
              0,
              "#0d0887"
             ],
             [
              0.1111111111111111,
              "#46039f"
             ],
             [
              0.2222222222222222,
              "#7201a8"
             ],
             [
              0.3333333333333333,
              "#9c179e"
             ],
             [
              0.4444444444444444,
              "#bd3786"
             ],
             [
              0.5555555555555556,
              "#d8576b"
             ],
             [
              0.6666666666666666,
              "#ed7953"
             ],
             [
              0.7777777777777778,
              "#fb9f3a"
             ],
             [
              0.8888888888888888,
              "#fdca26"
             ],
             [
              1,
              "#f0f921"
             ]
            ],
            "type": "contour"
           }
          ],
          "contourcarpet": [
           {
            "colorbar": {
             "outlinewidth": 0,
             "ticks": ""
            },
            "type": "contourcarpet"
           }
          ],
          "heatmap": [
           {
            "colorbar": {
             "outlinewidth": 0,
             "ticks": ""
            },
            "colorscale": [
             [
              0,
              "#0d0887"
             ],
             [
              0.1111111111111111,
              "#46039f"
             ],
             [
              0.2222222222222222,
              "#7201a8"
             ],
             [
              0.3333333333333333,
              "#9c179e"
             ],
             [
              0.4444444444444444,
              "#bd3786"
             ],
             [
              0.5555555555555556,
              "#d8576b"
             ],
             [
              0.6666666666666666,
              "#ed7953"
             ],
             [
              0.7777777777777778,
              "#fb9f3a"
             ],
             [
              0.8888888888888888,
              "#fdca26"
             ],
             [
              1,
              "#f0f921"
             ]
            ],
            "type": "heatmap"
           }
          ],
          "histogram": [
           {
            "marker": {
             "pattern": {
              "fillmode": "overlay",
              "size": 10,
              "solidity": 0.2
             }
            },
            "type": "histogram"
           }
          ],
          "histogram2d": [
           {
            "colorbar": {
             "outlinewidth": 0,
             "ticks": ""
            },
            "colorscale": [
             [
              0,
              "#0d0887"
             ],
             [
              0.1111111111111111,
              "#46039f"
             ],
             [
              0.2222222222222222,
              "#7201a8"
             ],
             [
              0.3333333333333333,
              "#9c179e"
             ],
             [
              0.4444444444444444,
              "#bd3786"
             ],
             [
              0.5555555555555556,
              "#d8576b"
             ],
             [
              0.6666666666666666,
              "#ed7953"
             ],
             [
              0.7777777777777778,
              "#fb9f3a"
             ],
             [
              0.8888888888888888,
              "#fdca26"
             ],
             [
              1,
              "#f0f921"
             ]
            ],
            "type": "histogram2d"
           }
          ],
          "histogram2dcontour": [
           {
            "colorbar": {
             "outlinewidth": 0,
             "ticks": ""
            },
            "colorscale": [
             [
              0,
              "#0d0887"
             ],
             [
              0.1111111111111111,
              "#46039f"
             ],
             [
              0.2222222222222222,
              "#7201a8"
             ],
             [
              0.3333333333333333,
              "#9c179e"
             ],
             [
              0.4444444444444444,
              "#bd3786"
             ],
             [
              0.5555555555555556,
              "#d8576b"
             ],
             [
              0.6666666666666666,
              "#ed7953"
             ],
             [
              0.7777777777777778,
              "#fb9f3a"
             ],
             [
              0.8888888888888888,
              "#fdca26"
             ],
             [
              1,
              "#f0f921"
             ]
            ],
            "type": "histogram2dcontour"
           }
          ],
          "mesh3d": [
           {
            "colorbar": {
             "outlinewidth": 0,
             "ticks": ""
            },
            "type": "mesh3d"
           }
          ],
          "parcoords": [
           {
            "line": {
             "colorbar": {
              "outlinewidth": 0,
              "ticks": ""
             }
            },
            "type": "parcoords"
           }
          ],
          "pie": [
           {
            "automargin": true,
            "type": "pie"
           }
          ],
          "scatter": [
           {
            "fillpattern": {
             "fillmode": "overlay",
             "size": 10,
             "solidity": 0.2
            },
            "type": "scatter"
           }
          ],
          "scatter3d": [
           {
            "line": {
             "colorbar": {
              "outlinewidth": 0,
              "ticks": ""
             }
            },
            "marker": {
             "colorbar": {
              "outlinewidth": 0,
              "ticks": ""
             }
            },
            "type": "scatter3d"
           }
          ],
          "scattercarpet": [
           {
            "marker": {
             "colorbar": {
              "outlinewidth": 0,
              "ticks": ""
             }
            },
            "type": "scattercarpet"
           }
          ],
          "scattergeo": [
           {
            "marker": {
             "colorbar": {
              "outlinewidth": 0,
              "ticks": ""
             }
            },
            "type": "scattergeo"
           }
          ],
          "scattergl": [
           {
            "marker": {
             "colorbar": {
              "outlinewidth": 0,
              "ticks": ""
             }
            },
            "type": "scattergl"
           }
          ],
          "scattermap": [
           {
            "marker": {
             "colorbar": {
              "outlinewidth": 0,
              "ticks": ""
             }
            },
            "type": "scattermap"
           }
          ],
          "scattermapbox": [
           {
            "marker": {
             "colorbar": {
              "outlinewidth": 0,
              "ticks": ""
             }
            },
            "type": "scattermapbox"
           }
          ],
          "scatterpolar": [
           {
            "marker": {
             "colorbar": {
              "outlinewidth": 0,
              "ticks": ""
             }
            },
            "type": "scatterpolar"
           }
          ],
          "scatterpolargl": [
           {
            "marker": {
             "colorbar": {
              "outlinewidth": 0,
              "ticks": ""
             }
            },
            "type": "scatterpolargl"
           }
          ],
          "scatterternary": [
           {
            "marker": {
             "colorbar": {
              "outlinewidth": 0,
              "ticks": ""
             }
            },
            "type": "scatterternary"
           }
          ],
          "surface": [
           {
            "colorbar": {
             "outlinewidth": 0,
             "ticks": ""
            },
            "colorscale": [
             [
              0,
              "#0d0887"
             ],
             [
              0.1111111111111111,
              "#46039f"
             ],
             [
              0.2222222222222222,
              "#7201a8"
             ],
             [
              0.3333333333333333,
              "#9c179e"
             ],
             [
              0.4444444444444444,
              "#bd3786"
             ],
             [
              0.5555555555555556,
              "#d8576b"
             ],
             [
              0.6666666666666666,
              "#ed7953"
             ],
             [
              0.7777777777777778,
              "#fb9f3a"
             ],
             [
              0.8888888888888888,
              "#fdca26"
             ],
             [
              1,
              "#f0f921"
             ]
            ],
            "type": "surface"
           }
          ],
          "table": [
           {
            "cells": {
             "fill": {
              "color": "#EBF0F8"
             },
             "line": {
              "color": "white"
             }
            },
            "header": {
             "fill": {
              "color": "#C8D4E3"
             },
             "line": {
              "color": "white"
             }
            },
            "type": "table"
           }
          ]
         },
         "layout": {
          "annotationdefaults": {
           "arrowcolor": "#2a3f5f",
           "arrowhead": 0,
           "arrowwidth": 1
          },
          "autotypenumbers": "strict",
          "coloraxis": {
           "colorbar": {
            "outlinewidth": 0,
            "ticks": ""
           }
          },
          "colorscale": {
           "diverging": [
            [
             0,
             "#8e0152"
            ],
            [
             0.1,
             "#c51b7d"
            ],
            [
             0.2,
             "#de77ae"
            ],
            [
             0.3,
             "#f1b6da"
            ],
            [
             0.4,
             "#fde0ef"
            ],
            [
             0.5,
             "#f7f7f7"
            ],
            [
             0.6,
             "#e6f5d0"
            ],
            [
             0.7,
             "#b8e186"
            ],
            [
             0.8,
             "#7fbc41"
            ],
            [
             0.9,
             "#4d9221"
            ],
            [
             1,
             "#276419"
            ]
           ],
           "sequential": [
            [
             0,
             "#0d0887"
            ],
            [
             0.1111111111111111,
             "#46039f"
            ],
            [
             0.2222222222222222,
             "#7201a8"
            ],
            [
             0.3333333333333333,
             "#9c179e"
            ],
            [
             0.4444444444444444,
             "#bd3786"
            ],
            [
             0.5555555555555556,
             "#d8576b"
            ],
            [
             0.6666666666666666,
             "#ed7953"
            ],
            [
             0.7777777777777778,
             "#fb9f3a"
            ],
            [
             0.8888888888888888,
             "#fdca26"
            ],
            [
             1,
             "#f0f921"
            ]
           ],
           "sequentialminus": [
            [
             0,
             "#0d0887"
            ],
            [
             0.1111111111111111,
             "#46039f"
            ],
            [
             0.2222222222222222,
             "#7201a8"
            ],
            [
             0.3333333333333333,
             "#9c179e"
            ],
            [
             0.4444444444444444,
             "#bd3786"
            ],
            [
             0.5555555555555556,
             "#d8576b"
            ],
            [
             0.6666666666666666,
             "#ed7953"
            ],
            [
             0.7777777777777778,
             "#fb9f3a"
            ],
            [
             0.8888888888888888,
             "#fdca26"
            ],
            [
             1,
             "#f0f921"
            ]
           ]
          },
          "colorway": [
           "#636efa",
           "#EF553B",
           "#00cc96",
           "#ab63fa",
           "#FFA15A",
           "#19d3f3",
           "#FF6692",
           "#B6E880",
           "#FF97FF",
           "#FECB52"
          ],
          "font": {
           "color": "#2a3f5f"
          },
          "geo": {
           "bgcolor": "white",
           "lakecolor": "white",
           "landcolor": "#E5ECF6",
           "showlakes": true,
           "showland": true,
           "subunitcolor": "white"
          },
          "hoverlabel": {
           "align": "left"
          },
          "hovermode": "closest",
          "mapbox": {
           "style": "light"
          },
          "paper_bgcolor": "white",
          "plot_bgcolor": "#E5ECF6",
          "polar": {
           "angularaxis": {
            "gridcolor": "white",
            "linecolor": "white",
            "ticks": ""
           },
           "bgcolor": "#E5ECF6",
           "radialaxis": {
            "gridcolor": "white",
            "linecolor": "white",
            "ticks": ""
           }
          },
          "scene": {
           "xaxis": {
            "backgroundcolor": "#E5ECF6",
            "gridcolor": "white",
            "gridwidth": 2,
            "linecolor": "white",
            "showbackground": true,
            "ticks": "",
            "zerolinecolor": "white"
           },
           "yaxis": {
            "backgroundcolor": "#E5ECF6",
            "gridcolor": "white",
            "gridwidth": 2,
            "linecolor": "white",
            "showbackground": true,
            "ticks": "",
            "zerolinecolor": "white"
           },
           "zaxis": {
            "backgroundcolor": "#E5ECF6",
            "gridcolor": "white",
            "gridwidth": 2,
            "linecolor": "white",
            "showbackground": true,
            "ticks": "",
            "zerolinecolor": "white"
           }
          },
          "shapedefaults": {
           "line": {
            "color": "#2a3f5f"
           }
          },
          "ternary": {
           "aaxis": {
            "gridcolor": "white",
            "linecolor": "white",
            "ticks": ""
           },
           "baxis": {
            "gridcolor": "white",
            "linecolor": "white",
            "ticks": ""
           },
           "bgcolor": "#E5ECF6",
           "caxis": {
            "gridcolor": "white",
            "linecolor": "white",
            "ticks": ""
           }
          },
          "title": {
           "x": 0.05
          },
          "xaxis": {
           "automargin": true,
           "gridcolor": "white",
           "linecolor": "white",
           "ticks": "",
           "title": {
            "standoff": 15
           },
           "zerolinecolor": "white",
           "zerolinewidth": 2
          },
          "yaxis": {
           "automargin": true,
           "gridcolor": "white",
           "linecolor": "white",
           "ticks": "",
           "title": {
            "standoff": 15
           },
           "zerolinecolor": "white",
           "zerolinewidth": 2
          }
         }
        },
        "title": {
         "text": "📋 Average Order Value by Customer Segment"
        },
        "xaxis": {
         "anchor": "y",
         "domain": [
          0,
          1
         ],
         "title": {
          "text": "Segment"
         }
        },
        "yaxis": {
         "anchor": "x",
         "domain": [
          0,
          1
         ],
         "title": {
          "text": "AOV ($)"
         }
        }
       }
      }
     },
     "metadata": {},
     "output_type": "display_data"
    }
   ],
   "source": [
    "import plotly.express as px\n",
    "\n",
    "fig_aov = px.bar(\n",
    "    aov_segment,\n",
    "    x='Segment',\n",
    "    y='Average Order Value',\n",
    "    color='Average Order Value',\n",
    "    color_continuous_scale='Purples',\n",
    "    title='📋 Average Order Value by Customer Segment',\n",
    "    labels={'Average Order Value': 'AOV ($)'}\n",
    ")\n",
    "\n",
    "fig_aov.show()"
   ]
  },
  {
   "cell_type": "markdown",
   "metadata": {},
   "source": [
    "## 🏆 Top 10 Customers by Total Spend\n",
    "\n",
    "Let’s identify the top 10 customers who spent the most money.  \n",
    "This is crucial for relationship management, loyalty programs, and targeted VIP marketing."
   ]
  },
  {
   "cell_type": "code",
   "execution_count": 22,
   "metadata": {
    "execution": {
     "iopub.execute_input": "2025-07-16T00:12:07.406372Z",
     "iopub.status.busy": "2025-07-16T00:12:07.406136Z",
     "iopub.status.idle": "2025-07-16T00:12:07.425985Z",
     "shell.execute_reply": "2025-07-16T00:12:07.424916Z",
     "shell.execute_reply.started": "2025-07-16T00:12:07.406356Z"
    },
    "trusted": true
   },
   "outputs": [],
   "source": [
    "# Group by Customer and calculate total spend\n",
    "top_customers = df.groupby(['Customer ID', 'Customer Name']).agg(\n",
    "    total_sales=('Sales', 'sum'),\n",
    "    total_orders=('Order ID', 'nunique'),\n",
    "    total_profit=('Profit', 'sum')\n",
    ").reset_index()\n",
    "\n",
    "# Sort by total sales\n",
    "top_customers = top_customers.sort_values(by='total_sales', ascending=False).head(10)"
   ]
  },
  {
   "cell_type": "markdown",
   "metadata": {},
   "source": [
    "### 📊 Visualize Top 10 Customers"
   ]
  },
  {
   "cell_type": "code",
   "execution_count": 23,
   "metadata": {
    "execution": {
     "iopub.execute_input": "2025-07-16T00:12:07.427168Z",
     "iopub.status.busy": "2025-07-16T00:12:07.426903Z",
     "iopub.status.idle": "2025-07-16T00:12:07.476029Z",
     "shell.execute_reply": "2025-07-16T00:12:07.475142Z",
     "shell.execute_reply.started": "2025-07-16T00:12:07.427146Z"
    },
    "trusted": true
   },
   "outputs": [
    {
     "data": {
      "application/vnd.plotly.v1+json": {
       "config": {
        "plotlyServerURL": "https://plot.ly"
       },
       "data": [
        {
         "hovertemplate": "Customer Name=%{x}<br>Total Sales=%{y}<br>Order Count=%{text}<br>Profit=%{marker.color}<extra></extra>",
         "legendgroup": "",
         "marker": {
          "color": {
           "bdata": "uycPC/XynsCXIY51qYrBQLAD54wYQLtAcF8HzslfskDufD81zkS1QKRwPQrXNolAOEVHcml9tkByGw3gbfa1QFMFo5JataRAY3/ZPRkCoUA=",
           "dtype": "f8"
          },
          "coloraxis": "coloraxis",
          "pattern": {
           "shape": ""
          }
         },
         "name": "",
         "orientation": "v",
         "showlegend": false,
         "text": {
          "bdata": "AAAAAAAAFEAAAAAAAAAUQAAAAAAAABhAAAAAAAAAEEAAAAAAAAAkQAAAAAAAAChAAAAAAAAAIkAAAAAAAAAYQAAAAAAAACZAAAAAAAAAFEA=",
          "dtype": "f8"
         },
         "textposition": "outside",
         "type": "bar",
         "x": [
          "Sean Miller",
          "Tamara Chand",
          "Raymond Buch",
          "Tom Ashbrook",
          "Adrian Barton",
          "Ken Lonsdale",
          "Sanjit Chand",
          "Hunter Lopez",
          "Sanjit Engle",
          "Christopher Conant"
         ],
         "xaxis": "x",
         "y": {
          "bdata": "MzMzM8N02ECiRbbzDZvSQKwcWmSrhs1Aw/UoXM+BzEABK4cWyUTMQGU730+dr8tAbhKDwCqfy0AaL90kpiTJQNRNYhC42MdAqcZLN4mwx0A=",
          "dtype": "f8"
         },
         "yaxis": "y"
        }
       ],
       "layout": {
        "barmode": "relative",
        "coloraxis": {
         "colorbar": {
          "title": {
           "text": "Profit"
          }
         },
         "colorscale": [
          [
           0,
           "#00224e"
          ],
          [
           0.1111111111111111,
           "#123570"
          ],
          [
           0.2222222222222222,
           "#3b496c"
          ],
          [
           0.3333333333333333,
           "#575d6d"
          ],
          [
           0.4444444444444444,
           "#707173"
          ],
          [
           0.5555555555555556,
           "#8a8678"
          ],
          [
           0.6666666666666666,
           "#a59c74"
          ],
          [
           0.7777777777777778,
           "#c3b369"
          ],
          [
           0.8888888888888888,
           "#e1cc55"
          ],
          [
           1,
           "#fee838"
          ]
         ]
        },
        "legend": {
         "tracegroupgap": 0
        },
        "template": {
         "data": {
          "bar": [
           {
            "error_x": {
             "color": "#2a3f5f"
            },
            "error_y": {
             "color": "#2a3f5f"
            },
            "marker": {
             "line": {
              "color": "#E5ECF6",
              "width": 0.5
             },
             "pattern": {
              "fillmode": "overlay",
              "size": 10,
              "solidity": 0.2
             }
            },
            "type": "bar"
           }
          ],
          "barpolar": [
           {
            "marker": {
             "line": {
              "color": "#E5ECF6",
              "width": 0.5
             },
             "pattern": {
              "fillmode": "overlay",
              "size": 10,
              "solidity": 0.2
             }
            },
            "type": "barpolar"
           }
          ],
          "carpet": [
           {
            "aaxis": {
             "endlinecolor": "#2a3f5f",
             "gridcolor": "white",
             "linecolor": "white",
             "minorgridcolor": "white",
             "startlinecolor": "#2a3f5f"
            },
            "baxis": {
             "endlinecolor": "#2a3f5f",
             "gridcolor": "white",
             "linecolor": "white",
             "minorgridcolor": "white",
             "startlinecolor": "#2a3f5f"
            },
            "type": "carpet"
           }
          ],
          "choropleth": [
           {
            "colorbar": {
             "outlinewidth": 0,
             "ticks": ""
            },
            "type": "choropleth"
           }
          ],
          "contour": [
           {
            "colorbar": {
             "outlinewidth": 0,
             "ticks": ""
            },
            "colorscale": [
             [
              0,
              "#0d0887"
             ],
             [
              0.1111111111111111,
              "#46039f"
             ],
             [
              0.2222222222222222,
              "#7201a8"
             ],
             [
              0.3333333333333333,
              "#9c179e"
             ],
             [
              0.4444444444444444,
              "#bd3786"
             ],
             [
              0.5555555555555556,
              "#d8576b"
             ],
             [
              0.6666666666666666,
              "#ed7953"
             ],
             [
              0.7777777777777778,
              "#fb9f3a"
             ],
             [
              0.8888888888888888,
              "#fdca26"
             ],
             [
              1,
              "#f0f921"
             ]
            ],
            "type": "contour"
           }
          ],
          "contourcarpet": [
           {
            "colorbar": {
             "outlinewidth": 0,
             "ticks": ""
            },
            "type": "contourcarpet"
           }
          ],
          "heatmap": [
           {
            "colorbar": {
             "outlinewidth": 0,
             "ticks": ""
            },
            "colorscale": [
             [
              0,
              "#0d0887"
             ],
             [
              0.1111111111111111,
              "#46039f"
             ],
             [
              0.2222222222222222,
              "#7201a8"
             ],
             [
              0.3333333333333333,
              "#9c179e"
             ],
             [
              0.4444444444444444,
              "#bd3786"
             ],
             [
              0.5555555555555556,
              "#d8576b"
             ],
             [
              0.6666666666666666,
              "#ed7953"
             ],
             [
              0.7777777777777778,
              "#fb9f3a"
             ],
             [
              0.8888888888888888,
              "#fdca26"
             ],
             [
              1,
              "#f0f921"
             ]
            ],
            "type": "heatmap"
           }
          ],
          "histogram": [
           {
            "marker": {
             "pattern": {
              "fillmode": "overlay",
              "size": 10,
              "solidity": 0.2
             }
            },
            "type": "histogram"
           }
          ],
          "histogram2d": [
           {
            "colorbar": {
             "outlinewidth": 0,
             "ticks": ""
            },
            "colorscale": [
             [
              0,
              "#0d0887"
             ],
             [
              0.1111111111111111,
              "#46039f"
             ],
             [
              0.2222222222222222,
              "#7201a8"
             ],
             [
              0.3333333333333333,
              "#9c179e"
             ],
             [
              0.4444444444444444,
              "#bd3786"
             ],
             [
              0.5555555555555556,
              "#d8576b"
             ],
             [
              0.6666666666666666,
              "#ed7953"
             ],
             [
              0.7777777777777778,
              "#fb9f3a"
             ],
             [
              0.8888888888888888,
              "#fdca26"
             ],
             [
              1,
              "#f0f921"
             ]
            ],
            "type": "histogram2d"
           }
          ],
          "histogram2dcontour": [
           {
            "colorbar": {
             "outlinewidth": 0,
             "ticks": ""
            },
            "colorscale": [
             [
              0,
              "#0d0887"
             ],
             [
              0.1111111111111111,
              "#46039f"
             ],
             [
              0.2222222222222222,
              "#7201a8"
             ],
             [
              0.3333333333333333,
              "#9c179e"
             ],
             [
              0.4444444444444444,
              "#bd3786"
             ],
             [
              0.5555555555555556,
              "#d8576b"
             ],
             [
              0.6666666666666666,
              "#ed7953"
             ],
             [
              0.7777777777777778,
              "#fb9f3a"
             ],
             [
              0.8888888888888888,
              "#fdca26"
             ],
             [
              1,
              "#f0f921"
             ]
            ],
            "type": "histogram2dcontour"
           }
          ],
          "mesh3d": [
           {
            "colorbar": {
             "outlinewidth": 0,
             "ticks": ""
            },
            "type": "mesh3d"
           }
          ],
          "parcoords": [
           {
            "line": {
             "colorbar": {
              "outlinewidth": 0,
              "ticks": ""
             }
            },
            "type": "parcoords"
           }
          ],
          "pie": [
           {
            "automargin": true,
            "type": "pie"
           }
          ],
          "scatter": [
           {
            "fillpattern": {
             "fillmode": "overlay",
             "size": 10,
             "solidity": 0.2
            },
            "type": "scatter"
           }
          ],
          "scatter3d": [
           {
            "line": {
             "colorbar": {
              "outlinewidth": 0,
              "ticks": ""
             }
            },
            "marker": {
             "colorbar": {
              "outlinewidth": 0,
              "ticks": ""
             }
            },
            "type": "scatter3d"
           }
          ],
          "scattercarpet": [
           {
            "marker": {
             "colorbar": {
              "outlinewidth": 0,
              "ticks": ""
             }
            },
            "type": "scattercarpet"
           }
          ],
          "scattergeo": [
           {
            "marker": {
             "colorbar": {
              "outlinewidth": 0,
              "ticks": ""
             }
            },
            "type": "scattergeo"
           }
          ],
          "scattergl": [
           {
            "marker": {
             "colorbar": {
              "outlinewidth": 0,
              "ticks": ""
             }
            },
            "type": "scattergl"
           }
          ],
          "scattermap": [
           {
            "marker": {
             "colorbar": {
              "outlinewidth": 0,
              "ticks": ""
             }
            },
            "type": "scattermap"
           }
          ],
          "scattermapbox": [
           {
            "marker": {
             "colorbar": {
              "outlinewidth": 0,
              "ticks": ""
             }
            },
            "type": "scattermapbox"
           }
          ],
          "scatterpolar": [
           {
            "marker": {
             "colorbar": {
              "outlinewidth": 0,
              "ticks": ""
             }
            },
            "type": "scatterpolar"
           }
          ],
          "scatterpolargl": [
           {
            "marker": {
             "colorbar": {
              "outlinewidth": 0,
              "ticks": ""
             }
            },
            "type": "scatterpolargl"
           }
          ],
          "scatterternary": [
           {
            "marker": {
             "colorbar": {
              "outlinewidth": 0,
              "ticks": ""
             }
            },
            "type": "scatterternary"
           }
          ],
          "surface": [
           {
            "colorbar": {
             "outlinewidth": 0,
             "ticks": ""
            },
            "colorscale": [
             [
              0,
              "#0d0887"
             ],
             [
              0.1111111111111111,
              "#46039f"
             ],
             [
              0.2222222222222222,
              "#7201a8"
             ],
             [
              0.3333333333333333,
              "#9c179e"
             ],
             [
              0.4444444444444444,
              "#bd3786"
             ],
             [
              0.5555555555555556,
              "#d8576b"
             ],
             [
              0.6666666666666666,
              "#ed7953"
             ],
             [
              0.7777777777777778,
              "#fb9f3a"
             ],
             [
              0.8888888888888888,
              "#fdca26"
             ],
             [
              1,
              "#f0f921"
             ]
            ],
            "type": "surface"
           }
          ],
          "table": [
           {
            "cells": {
             "fill": {
              "color": "#EBF0F8"
             },
             "line": {
              "color": "white"
             }
            },
            "header": {
             "fill": {
              "color": "#C8D4E3"
             },
             "line": {
              "color": "white"
             }
            },
            "type": "table"
           }
          ]
         },
         "layout": {
          "annotationdefaults": {
           "arrowcolor": "#2a3f5f",
           "arrowhead": 0,
           "arrowwidth": 1
          },
          "autotypenumbers": "strict",
          "coloraxis": {
           "colorbar": {
            "outlinewidth": 0,
            "ticks": ""
           }
          },
          "colorscale": {
           "diverging": [
            [
             0,
             "#8e0152"
            ],
            [
             0.1,
             "#c51b7d"
            ],
            [
             0.2,
             "#de77ae"
            ],
            [
             0.3,
             "#f1b6da"
            ],
            [
             0.4,
             "#fde0ef"
            ],
            [
             0.5,
             "#f7f7f7"
            ],
            [
             0.6,
             "#e6f5d0"
            ],
            [
             0.7,
             "#b8e186"
            ],
            [
             0.8,
             "#7fbc41"
            ],
            [
             0.9,
             "#4d9221"
            ],
            [
             1,
             "#276419"
            ]
           ],
           "sequential": [
            [
             0,
             "#0d0887"
            ],
            [
             0.1111111111111111,
             "#46039f"
            ],
            [
             0.2222222222222222,
             "#7201a8"
            ],
            [
             0.3333333333333333,
             "#9c179e"
            ],
            [
             0.4444444444444444,
             "#bd3786"
            ],
            [
             0.5555555555555556,
             "#d8576b"
            ],
            [
             0.6666666666666666,
             "#ed7953"
            ],
            [
             0.7777777777777778,
             "#fb9f3a"
            ],
            [
             0.8888888888888888,
             "#fdca26"
            ],
            [
             1,
             "#f0f921"
            ]
           ],
           "sequentialminus": [
            [
             0,
             "#0d0887"
            ],
            [
             0.1111111111111111,
             "#46039f"
            ],
            [
             0.2222222222222222,
             "#7201a8"
            ],
            [
             0.3333333333333333,
             "#9c179e"
            ],
            [
             0.4444444444444444,
             "#bd3786"
            ],
            [
             0.5555555555555556,
             "#d8576b"
            ],
            [
             0.6666666666666666,
             "#ed7953"
            ],
            [
             0.7777777777777778,
             "#fb9f3a"
            ],
            [
             0.8888888888888888,
             "#fdca26"
            ],
            [
             1,
             "#f0f921"
            ]
           ]
          },
          "colorway": [
           "#636efa",
           "#EF553B",
           "#00cc96",
           "#ab63fa",
           "#FFA15A",
           "#19d3f3",
           "#FF6692",
           "#B6E880",
           "#FF97FF",
           "#FECB52"
          ],
          "font": {
           "color": "#2a3f5f"
          },
          "geo": {
           "bgcolor": "white",
           "lakecolor": "white",
           "landcolor": "#E5ECF6",
           "showlakes": true,
           "showland": true,
           "subunitcolor": "white"
          },
          "hoverlabel": {
           "align": "left"
          },
          "hovermode": "closest",
          "mapbox": {
           "style": "light"
          },
          "paper_bgcolor": "white",
          "plot_bgcolor": "#E5ECF6",
          "polar": {
           "angularaxis": {
            "gridcolor": "white",
            "linecolor": "white",
            "ticks": ""
           },
           "bgcolor": "#E5ECF6",
           "radialaxis": {
            "gridcolor": "white",
            "linecolor": "white",
            "ticks": ""
           }
          },
          "scene": {
           "xaxis": {
            "backgroundcolor": "#E5ECF6",
            "gridcolor": "white",
            "gridwidth": 2,
            "linecolor": "white",
            "showbackground": true,
            "ticks": "",
            "zerolinecolor": "white"
           },
           "yaxis": {
            "backgroundcolor": "#E5ECF6",
            "gridcolor": "white",
            "gridwidth": 2,
            "linecolor": "white",
            "showbackground": true,
            "ticks": "",
            "zerolinecolor": "white"
           },
           "zaxis": {
            "backgroundcolor": "#E5ECF6",
            "gridcolor": "white",
            "gridwidth": 2,
            "linecolor": "white",
            "showbackground": true,
            "ticks": "",
            "zerolinecolor": "white"
           }
          },
          "shapedefaults": {
           "line": {
            "color": "#2a3f5f"
           }
          },
          "ternary": {
           "aaxis": {
            "gridcolor": "white",
            "linecolor": "white",
            "ticks": ""
           },
           "baxis": {
            "gridcolor": "white",
            "linecolor": "white",
            "ticks": ""
           },
           "bgcolor": "#E5ECF6",
           "caxis": {
            "gridcolor": "white",
            "linecolor": "white",
            "ticks": ""
           }
          },
          "title": {
           "x": 0.05
          },
          "xaxis": {
           "automargin": true,
           "gridcolor": "white",
           "linecolor": "white",
           "ticks": "",
           "title": {
            "standoff": 15
           },
           "zerolinecolor": "white",
           "zerolinewidth": 2
          },
          "yaxis": {
           "automargin": true,
           "gridcolor": "white",
           "linecolor": "white",
           "ticks": "",
           "title": {
            "standoff": 15
           },
           "zerolinecolor": "white",
           "zerolinewidth": 2
          }
         }
        },
        "title": {
         "text": "💎 Top 10 Customers by Sales"
        },
        "xaxis": {
         "anchor": "y",
         "domain": [
          0,
          1
         ],
         "tickangle": -45,
         "title": {
          "text": "Customer Name"
         }
        },
        "yaxis": {
         "anchor": "x",
         "domain": [
          0,
          1
         ],
         "title": {
          "text": "Total Sales"
         }
        }
       }
      }
     },
     "metadata": {},
     "output_type": "display_data"
    }
   ],
   "source": [
    "import plotly.express as px\n",
    "\n",
    "fig_topcust = px.bar(\n",
    "    top_customers,\n",
    "    x='Customer Name',\n",
    "    y='total_sales',\n",
    "    text='total_orders',\n",
    "    color='total_profit',\n",
    "    color_continuous_scale='Cividis',\n",
    "    title='💎 Top 10 Customers by Sales',\n",
    "    labels={'total_sales': 'Total Sales', 'total_orders': 'Order Count', 'total_profit': 'Profit'}\n",
    ")\n",
    "\n",
    "fig_topcust.update_traces(textposition='outside')\n",
    "fig_topcust.update_layout(xaxis_tickangle=-45)\n",
    "fig_topcust.show()"
   ]
  }
 ],
 "metadata": {
  "kaggle": {
   "accelerator": "none",
   "dataSources": [
    {
     "datasetId": 1940216,
     "sourceId": 3196104,
     "sourceType": "datasetVersion"
    }
   ],
   "dockerImageVersionId": 31089,
   "isGpuEnabled": false,
   "isInternetEnabled": true,
   "language": "python",
   "sourceType": "notebook"
  },
  "kernelspec": {
   "display_name": "Python 3",
   "language": "python",
   "name": "python3"
  },
  "language_info": {
   "codemirror_mode": {
    "name": "ipython",
    "version": 3
   },
   "file_extension": ".py",
   "mimetype": "text/x-python",
   "name": "python",
   "nbconvert_exporter": "python",
   "pygments_lexer": "ipython3",
   "version": "3.10.11"
  }
 },
 "nbformat": 4,
 "nbformat_minor": 4
}
